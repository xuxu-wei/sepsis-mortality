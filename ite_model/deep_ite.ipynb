{
 "cells": [
  {
   "cell_type": "code",
   "execution_count": null,
   "metadata": {},
   "outputs": [],
   "source": [
    "import os, sys\n",
    "from datetime import datetime\n",
    "import argparse\n",
    "import pandas as pd\n",
    "import torch\n",
    "import optuna\n",
    "from sklearn.model_selection import KFold\n",
    "import plotly.graph_objects as go\n",
    "import json\n",
    "import pickle\n",
    "# 检测运行环境\n",
    "def in_notebook():\n",
    "    return 'IPKernelApp' in getattr(globals().get('get_ipython', lambda: None)(), 'config', {})\n",
    "\n",
    "if in_notebook():\n",
    "    from IPython.display import clear_output, display\n",
    "    notebook_dir = os.getcwd()\n",
    "    src_path = os.path.abspath(os.path.join(notebook_dir, '..'))\n",
    "    RUN_MODE = 'eval'\n",
    "    N_TRIAL = 50\n",
    "    OUTCOME_IX = 0\n",
    "else:\n",
    "    src_path = os.path.abspath(os.path.dirname(os.path.dirname(__file__)))\n",
    "    parser = argparse.ArgumentParser(description='')\n",
    "    parser.add_argument('-n',metavar= 50, type=int, default=50,help='''optuna优化尝试次数''')\n",
    "    parser.add_argument('-outcome_ix',metavar= 0, type=int, default=0,help='''选择预测结局, 为 `get_ite_features()`返回的预设 outcomes 列表的索引''')\n",
    "    sys_args = parser.parse_args()\n",
    "    N_TRIAL = sys_args.n\n",
    "    OUTCOME_IX = sys_args.outcome_ix\n",
    "\n",
    "sys.path.append(src_path) if src_path not in sys.path else None\n",
    "\n",
    "from src.utils import *\n",
    "from src.model_utils import *\n",
    "from src.setup import *\n",
    "from ite_setup import *\n",
    "from ganite_mod import Ganite, GaniteRegressor\n",
    "from ganite_mod.utils.metrics import *\n",
    "\n",
    "DEVICE = torch.device(\"cuda\" if torch.cuda.is_available() else \"cpu\")\n",
    "print(f'current device: {DEVICE}')"
   ]
  },
  {
   "cell_type": "code",
   "execution_count": null,
   "metadata": {},
   "outputs": [],
   "source": [
    "df = pd.read_csv(f'{DATA}/imputed/EXIT_SEP_clean_imputed.tsv.gz', sep='\\t', index_col='ID')\n",
    "features, _, _, treatment, outcomes = get_ite_features()\n",
    "current_outcome = outcomes[OUTCOME_IX] # 设置预测目标\n",
    "\n",
    "df_train = df.sample(frac=0.7, random_state=19960816)\n",
    "df_test = df[~df.index.isin(df_train.index)].copy()\n",
    "X, W, y = load_data(df)\n",
    "\n",
    "X = np.array(X)\n",
    "W = np.array(W)\n",
    "y = np.array(y)"
   ]
  },
  {
   "cell_type": "markdown",
   "metadata": {},
   "source": [
    "# 随机搜索"
   ]
  },
  {
   "cell_type": "code",
   "execution_count": null,
   "metadata": {},
   "outputs": [],
   "source": [
    "# 建立文件输出路径\n",
    "current_time = datetime.now()\n",
    "formatted_time = current_time.strftime(\"%Y-%m-%d_%H-%M\")\n",
    "\n",
    "optuna_result_path = f'{MODELS}/GANITE_optuna-{current_outcome}-{formatted_time}-{sys.platform}/'\n",
    "optuna_fig_path = f'{FIGS}/GANITE_optuna-{current_outcome}-{formatted_time}-{sys.platform}/'\n",
    "\n",
    "os.makedirs(optuna_fig_path, exist_ok=True)\n",
    "os.makedirs(optuna_result_path, exist_ok=True)"
   ]
  },
  {
   "cell_type": "code",
   "execution_count": 3,
   "metadata": {},
   "outputs": [
    {
     "data": {
      "text/html": [
       "<div>\n",
       "<style scoped>\n",
       "    .dataframe tbody tr th:only-of-type {\n",
       "        vertical-align: middle;\n",
       "    }\n",
       "\n",
       "    .dataframe tbody tr th {\n",
       "        vertical-align: top;\n",
       "    }\n",
       "\n",
       "    .dataframe thead th {\n",
       "        text-align: right;\n",
       "    }\n",
       "</style>\n",
       "<table border=\"1\" class=\"dataframe\">\n",
       "  <thead>\n",
       "    <tr style=\"text-align: right;\">\n",
       "      <th></th>\n",
       "      <th>number</th>\n",
       "      <th>values_0</th>\n",
       "      <th>values_1</th>\n",
       "      <th>datetime_start</th>\n",
       "      <th>datetime_complete</th>\n",
       "      <th>duration</th>\n",
       "      <th>params_alpha</th>\n",
       "      <th>params_beta</th>\n",
       "      <th>params_depth</th>\n",
       "      <th>params_dim_hidden</th>\n",
       "      <th>params_num_discr_iterations</th>\n",
       "      <th>params_num_iterations</th>\n",
       "      <th>system_attrs_nsga2:generation</th>\n",
       "      <th>state</th>\n",
       "    </tr>\n",
       "  </thead>\n",
       "  <tbody>\n",
       "    <tr>\n",
       "      <th>0</th>\n",
       "      <td>0</td>\n",
       "      <td>-0.113741</td>\n",
       "      <td>-0.065741</td>\n",
       "      <td>2024-11-28 11:00:31.918742</td>\n",
       "      <td>2024-11-28 11:07:46.851473</td>\n",
       "      <td>0 days 00:07:14.932731</td>\n",
       "      <td>0.70</td>\n",
       "      <td>1.90</td>\n",
       "      <td>1</td>\n",
       "      <td>300</td>\n",
       "      <td>2</td>\n",
       "      <td>2000</td>\n",
       "      <td>0</td>\n",
       "      <td>COMPLETE</td>\n",
       "    </tr>\n",
       "    <tr>\n",
       "      <th>1</th>\n",
       "      <td>1</td>\n",
       "      <td>-0.129925</td>\n",
       "      <td>-0.053338</td>\n",
       "      <td>2024-11-28 11:07:46.865091</td>\n",
       "      <td>2024-11-28 11:22:15.092558</td>\n",
       "      <td>0 days 00:14:28.227467</td>\n",
       "      <td>0.50</td>\n",
       "      <td>0.05</td>\n",
       "      <td>5</td>\n",
       "      <td>300</td>\n",
       "      <td>2</td>\n",
       "      <td>2500</td>\n",
       "      <td>0</td>\n",
       "      <td>COMPLETE</td>\n",
       "    </tr>\n",
       "    <tr>\n",
       "      <th>2</th>\n",
       "      <td>2</td>\n",
       "      <td>-0.126131</td>\n",
       "      <td>-0.062812</td>\n",
       "      <td>2024-11-28 11:22:15.107295</td>\n",
       "      <td>2024-11-28 11:30:02.647075</td>\n",
       "      <td>0 days 00:07:47.539780</td>\n",
       "      <td>0.75</td>\n",
       "      <td>0.50</td>\n",
       "      <td>1</td>\n",
       "      <td>50</td>\n",
       "      <td>2</td>\n",
       "      <td>2000</td>\n",
       "      <td>0</td>\n",
       "      <td>COMPLETE</td>\n",
       "    </tr>\n",
       "    <tr>\n",
       "      <th>3</th>\n",
       "      <td>3</td>\n",
       "      <td>-0.124767</td>\n",
       "      <td>-0.047002</td>\n",
       "      <td>2024-11-28 11:30:02.664784</td>\n",
       "      <td>2024-11-28 11:39:45.164165</td>\n",
       "      <td>0 days 00:09:42.499381</td>\n",
       "      <td>0.85</td>\n",
       "      <td>0.20</td>\n",
       "      <td>4</td>\n",
       "      <td>300</td>\n",
       "      <td>3</td>\n",
       "      <td>1500</td>\n",
       "      <td>0</td>\n",
       "      <td>COMPLETE</td>\n",
       "    </tr>\n",
       "    <tr>\n",
       "      <th>4</th>\n",
       "      <td>4</td>\n",
       "      <td>-0.135823</td>\n",
       "      <td>-0.074558</td>\n",
       "      <td>2024-11-28 11:39:45.178164</td>\n",
       "      <td>2024-11-28 11:44:11.499246</td>\n",
       "      <td>0 days 00:04:26.321082</td>\n",
       "      <td>0.80</td>\n",
       "      <td>0.00</td>\n",
       "      <td>3</td>\n",
       "      <td>50</td>\n",
       "      <td>2</td>\n",
       "      <td>1000</td>\n",
       "      <td>0</td>\n",
       "      <td>COMPLETE</td>\n",
       "    </tr>\n",
       "    <tr>\n",
       "      <th>...</th>\n",
       "      <td>...</td>\n",
       "      <td>...</td>\n",
       "      <td>...</td>\n",
       "      <td>...</td>\n",
       "      <td>...</td>\n",
       "      <td>...</td>\n",
       "      <td>...</td>\n",
       "      <td>...</td>\n",
       "      <td>...</td>\n",
       "      <td>...</td>\n",
       "      <td>...</td>\n",
       "      <td>...</td>\n",
       "      <td>...</td>\n",
       "      <td>...</td>\n",
       "    </tr>\n",
       "    <tr>\n",
       "      <th>95</th>\n",
       "      <td>95</td>\n",
       "      <td>-0.155663</td>\n",
       "      <td>-0.052440</td>\n",
       "      <td>2024-11-29 00:31:49.039754</td>\n",
       "      <td>2024-11-29 00:36:46.255617</td>\n",
       "      <td>0 days 00:04:57.215863</td>\n",
       "      <td>0.25</td>\n",
       "      <td>1.80</td>\n",
       "      <td>0</td>\n",
       "      <td>100</td>\n",
       "      <td>3</td>\n",
       "      <td>1500</td>\n",
       "      <td>1</td>\n",
       "      <td>COMPLETE</td>\n",
       "    </tr>\n",
       "    <tr>\n",
       "      <th>96</th>\n",
       "      <td>96</td>\n",
       "      <td>-0.090526</td>\n",
       "      <td>-0.039002</td>\n",
       "      <td>2024-11-29 00:36:46.277615</td>\n",
       "      <td>2024-11-29 00:44:29.951708</td>\n",
       "      <td>0 days 00:07:43.674093</td>\n",
       "      <td>0.55</td>\n",
       "      <td>1.15</td>\n",
       "      <td>2</td>\n",
       "      <td>75</td>\n",
       "      <td>1</td>\n",
       "      <td>2500</td>\n",
       "      <td>1</td>\n",
       "      <td>COMPLETE</td>\n",
       "    </tr>\n",
       "    <tr>\n",
       "      <th>97</th>\n",
       "      <td>97</td>\n",
       "      <td>-0.079980</td>\n",
       "      <td>-0.047037</td>\n",
       "      <td>2024-11-29 00:44:29.991677</td>\n",
       "      <td>2024-11-29 00:48:43.575455</td>\n",
       "      <td>0 days 00:04:13.583778</td>\n",
       "      <td>0.50</td>\n",
       "      <td>1.95</td>\n",
       "      <td>4</td>\n",
       "      <td>200</td>\n",
       "      <td>1</td>\n",
       "      <td>1000</td>\n",
       "      <td>1</td>\n",
       "      <td>COMPLETE</td>\n",
       "    </tr>\n",
       "    <tr>\n",
       "      <th>98</th>\n",
       "      <td>98</td>\n",
       "      <td>-0.112690</td>\n",
       "      <td>-0.053302</td>\n",
       "      <td>2024-11-29 00:48:43.608456</td>\n",
       "      <td>2024-11-29 00:55:48.398160</td>\n",
       "      <td>0 days 00:07:04.789704</td>\n",
       "      <td>0.40</td>\n",
       "      <td>0.90</td>\n",
       "      <td>1</td>\n",
       "      <td>200</td>\n",
       "      <td>1</td>\n",
       "      <td>2500</td>\n",
       "      <td>1</td>\n",
       "      <td>COMPLETE</td>\n",
       "    </tr>\n",
       "    <tr>\n",
       "      <th>99</th>\n",
       "      <td>99</td>\n",
       "      <td>-0.097437</td>\n",
       "      <td>-0.046488</td>\n",
       "      <td>2024-11-29 00:55:48.415161</td>\n",
       "      <td>2024-11-29 01:04:30.052828</td>\n",
       "      <td>0 days 00:08:41.637667</td>\n",
       "      <td>0.45</td>\n",
       "      <td>0.35</td>\n",
       "      <td>4</td>\n",
       "      <td>100</td>\n",
       "      <td>1</td>\n",
       "      <td>2500</td>\n",
       "      <td>1</td>\n",
       "      <td>COMPLETE</td>\n",
       "    </tr>\n",
       "  </tbody>\n",
       "</table>\n",
       "<p>100 rows × 14 columns</p>\n",
       "</div>"
      ],
      "text/plain": [
       "    number  values_0  values_1             datetime_start  \\\n",
       "0        0 -0.113741 -0.065741 2024-11-28 11:00:31.918742   \n",
       "1        1 -0.129925 -0.053338 2024-11-28 11:07:46.865091   \n",
       "2        2 -0.126131 -0.062812 2024-11-28 11:22:15.107295   \n",
       "3        3 -0.124767 -0.047002 2024-11-28 11:30:02.664784   \n",
       "4        4 -0.135823 -0.074558 2024-11-28 11:39:45.178164   \n",
       "..     ...       ...       ...                        ...   \n",
       "95      95 -0.155663 -0.052440 2024-11-29 00:31:49.039754   \n",
       "96      96 -0.090526 -0.039002 2024-11-29 00:36:46.277615   \n",
       "97      97 -0.079980 -0.047037 2024-11-29 00:44:29.991677   \n",
       "98      98 -0.112690 -0.053302 2024-11-29 00:48:43.608456   \n",
       "99      99 -0.097437 -0.046488 2024-11-29 00:55:48.415161   \n",
       "\n",
       "            datetime_complete               duration  params_alpha  \\\n",
       "0  2024-11-28 11:07:46.851473 0 days 00:07:14.932731          0.70   \n",
       "1  2024-11-28 11:22:15.092558 0 days 00:14:28.227467          0.50   \n",
       "2  2024-11-28 11:30:02.647075 0 days 00:07:47.539780          0.75   \n",
       "3  2024-11-28 11:39:45.164165 0 days 00:09:42.499381          0.85   \n",
       "4  2024-11-28 11:44:11.499246 0 days 00:04:26.321082          0.80   \n",
       "..                        ...                    ...           ...   \n",
       "95 2024-11-29 00:36:46.255617 0 days 00:04:57.215863          0.25   \n",
       "96 2024-11-29 00:44:29.951708 0 days 00:07:43.674093          0.55   \n",
       "97 2024-11-29 00:48:43.575455 0 days 00:04:13.583778          0.50   \n",
       "98 2024-11-29 00:55:48.398160 0 days 00:07:04.789704          0.40   \n",
       "99 2024-11-29 01:04:30.052828 0 days 00:08:41.637667          0.45   \n",
       "\n",
       "    params_beta  params_depth  params_dim_hidden  params_num_discr_iterations  \\\n",
       "0          1.90             1                300                            2   \n",
       "1          0.05             5                300                            2   \n",
       "2          0.50             1                 50                            2   \n",
       "3          0.20             4                300                            3   \n",
       "4          0.00             3                 50                            2   \n",
       "..          ...           ...                ...                          ...   \n",
       "95         1.80             0                100                            3   \n",
       "96         1.15             2                 75                            1   \n",
       "97         1.95             4                200                            1   \n",
       "98         0.90             1                200                            1   \n",
       "99         0.35             4                100                            1   \n",
       "\n",
       "    params_num_iterations  system_attrs_nsga2:generation     state  \n",
       "0                    2000                              0  COMPLETE  \n",
       "1                    2500                              0  COMPLETE  \n",
       "2                    2000                              0  COMPLETE  \n",
       "3                    1500                              0  COMPLETE  \n",
       "4                    1000                              0  COMPLETE  \n",
       "..                    ...                            ...       ...  \n",
       "95                   1500                              1  COMPLETE  \n",
       "96                   2500                              1  COMPLETE  \n",
       "97                   1000                              1  COMPLETE  \n",
       "98                   2500                              1  COMPLETE  \n",
       "99                   2500                              1  COMPLETE  \n",
       "\n",
       "[100 rows x 14 columns]"
      ]
     },
     "metadata": {},
     "output_type": "display_data"
    },
    {
     "name": "stdout",
     "output_type": "stream",
     "text": [
      "Number of Pareto optimal solutions: 3\n",
      "Pareto solution 0: Values [-0.07429691441361344, -0.032233974517432686], Params {'dim_hidden': 100, 'alpha': 0.4, 'beta': 1.35, 'depth': 4, 'num_iterations': 1500, 'num_discr_iterations': 2}\n",
      "Pareto solution 1: Values [-0.07429691441361344, -0.032233974517432686], Params {'dim_hidden': 100, 'alpha': 0.4, 'beta': 1.35, 'depth': 4, 'num_iterations': 1500, 'num_discr_iterations': 2}\n",
      "Pareto solution 2: Values [-0.08240040067008436, -0.031022671495251463], Params {'dim_hidden': 300, 'alpha': 0.25, 'beta': 1.75, 'depth': 2, 'num_iterations': 2500, 'num_discr_iterations': 3}\n",
      "Pareto Front Solutions:\n",
      "Trial 18: Values [-0.07429691441361344, -0.032233974517432686], Params {'dim_hidden': 100, 'alpha': 0.4, 'beta': 1.35, 'depth': 4, 'num_iterations': 1500, 'num_discr_iterations': 2}\n",
      "Trial 65: Values [-0.07429691441361344, -0.032233974517432686], Params {'dim_hidden': 100, 'alpha': 0.4, 'beta': 1.35, 'depth': 4, 'num_iterations': 1500, 'num_discr_iterations': 2}\n",
      "Trial 92: Values [-0.08240040067008436, -0.031022671495251463], Params {'dim_hidden': 300, 'alpha': 0.25, 'beta': 1.75, 'depth': 2, 'num_iterations': 2500, 'num_discr_iterations': 3}\n"
     ]
    }
   ],
   "source": [
    "def objective(trial):\n",
    "    # 定义需要调优的超参数范围\n",
    "    dim_hidden = trial.suggest_int(\"dim_hidden\", 50, 500, step=10)\n",
    "    alpha = trial.suggest_float(\"alpha\", 0.0, 2.0, step=0.05)\n",
    "    beta = trial.suggest_float(\"beta\", 0.0, 2.0, step=0.05)\n",
    "    depth = trial.suggest_int(\"depth\", 0, 5, step=1)\n",
    "    minibatch_size = trial.suggest_int(\"minibatch_size\", 50, 400, step=10)\n",
    "    num_iterations = trial.suggest_int(\"num_iterations\", 1000, 2500, step=500)\n",
    "    num_discr_iterations = trial.suggest_categorical(\"num_discr_iterations\", [1, 2, 3])\n",
    "\n",
    "    # 初始化模型\n",
    "    model = GaniteRegressor(\n",
    "        dim_in=X.shape[1],\n",
    "        binary_y=True,\n",
    "        dim_hidden=dim_hidden,\n",
    "        alpha=alpha,\n",
    "        beta=beta,\n",
    "        depth=depth,\n",
    "        minibatch_size=minibatch_size,\n",
    "        num_iterations=num_iterations,\n",
    "        num_discr_iterations=num_discr_iterations,\n",
    "    )\n",
    "\n",
    "    # 实现交叉验证\n",
    "    kf = KFold(n_splits=10, shuffle=True, random_state=19960816)\n",
    "    scores = []\n",
    "    ate_losses_ob = []\n",
    "    ate_losses = []\n",
    "\n",
    "    for train_index, val_index in kf.split(X):\n",
    "        # 划分训练集和验证集\n",
    "        X_train, X_val = X[train_index], X[val_index]\n",
    "        T_train, T_val = W[train_index], W[val_index]\n",
    "        y_train, y_val = y[train_index], y[val_index]\n",
    "        \n",
    "        # 训练模型\n",
    "        model.fit((X_train, T_train), y_train)\n",
    "        \n",
    "        # 验证模型并记录分数\n",
    "        score_temp = model.score((X_val, T_val), y_val)  # 默认负均方误差\n",
    "        neg_ate_l1_loss_ob_temp = model.ate_l1_loss((X_val, T_val), y_val, eval_strategy='observed_only')  # 负 ATE 误差, 仅比较观测组间误差\n",
    "        neg_ate_l1_loss_temp = model.ate_l1_loss((X_val, T_val), y_val, eval_strategy='mean_ITE')  # 负 ATE 误差\n",
    "        \n",
    "        scores.append(score_temp)\n",
    "        ate_losses_ob.append(neg_ate_l1_loss_ob_temp)\n",
    "        ate_losses.append(neg_ate_l1_loss_temp)\n",
    "\n",
    "    # 返回平均交叉验证分数（负均方误差）\n",
    "    return np.mean(scores), np.mean(ate_losses_ob), np.mean(ate_losses)\n",
    "\n",
    "# 日志功能：设置 Optuna 的日志级别\n",
    "# optuna.logging.set_verbosity(optuna.logging.INFO)\n",
    "\n",
    "# 实时打印当前最佳结果\n",
    "def trial_callback(study, trial):\n",
    "    if in_notebook():\n",
    "        clear_output(wait=True)  # 清除之前的输出\n",
    "        df_trials = study.trials_dataframe()  # 获取当前的试验数据\n",
    "        display(df_trials)  # 动态显示最新的 dataframe\n",
    "\n",
    "        # 多目标优化时 打印 Pareto 前沿解\n",
    "        if len(study.directions) > 1:\n",
    "            pareto_front = study.best_trials\n",
    "            print(f\"Number of Pareto optimal solutions: {len(pareto_front)}\")\n",
    "            for i, trial in enumerate(pareto_front):\n",
    "                print(f\"Pareto solution {i}: Values {trial.values}, Params {trial.params}\")\n",
    "        else:\n",
    "            print(f\"Current best value: {study.best_value}\")\n",
    "            print(f\"Current best parameters: {study.best_params}\")\n",
    "            print(f\"Current best trial: {study.best_trials}\")\n",
    "    else:\n",
    "        # 多目标优化时 打印首选 Pareto 前沿解的结果和参数\n",
    "        if len(study.directions) > 1:\n",
    "            pareto_front = study.best_trials\n",
    "            best_trial = pareto_front[0]\n",
    "            print(f\"Trial {trial.number}/{N_TRIAL} finished with value: {trial.values} and parameters: {trial.params} | crrent best value: {best_trial.values} and parameters: {best_trial.params} | Number of Pareto optimal solutions: {len(pareto_front)}\")\n",
    "        else:\n",
    "            print(f\"Trial {trial.number}/{N_TRIAL} finished with value: {trial.value} and parameters: {trial.params} | crrent best value: {study.best_value} and parameters: {study.best_params}\")\n",
    "\n",
    "\n",
    "# 使用 Optuna 优化\n",
    "study = optuna.create_study(directions=[\"maximize\", \"maximize\", \"maximize\"])  # 或 \"minimize\"，取决于评分标准\n",
    "study.optimize(objective, n_trials=N_TRIAL, callbacks=[trial_callback])\n",
    "\n",
    "# 保存实验结果\n",
    "with open(f\"{optuna_result_path}/optuna_study.pkl\", \"wb\") as f:\n",
    "    print('调参结束，正在保存optuna调参试验结果')\n",
    "    pickle.dump(study, f)\n",
    "\n",
    "# 获取 Pareto 前沿解\n",
    "pareto_front = study.best_trials\n",
    "print(\"Pareto Front Solutions:\")\n",
    "for trial in pareto_front:\n",
    "    print(f\"Trial {trial.number}: Values {trial.values}, Params {trial.params}\")\n",
    "\n",
    "# 保存 Pareto 解到文件\n",
    "pareto_data = [\n",
    "    {\"trial_number\": trial.number, \"values\": trial.values, \"params\": trial.params}\n",
    "    for trial in pareto_front\n",
    "]\n",
    "with open(f\"{optuna_result_path}/pareto_solutions.json\", \"w\") as f:\n",
    "    json.dump(pareto_data, f)\n",
    "\n",
    "\n",
    "# 保存完整调参历史为 xlsx 文件\n",
    "df_trials = study.trials_dataframe()\n",
    "df_trials.to_excel(f\"{optuna_result_path}/tuning_history.xlsx\", index=False)\n",
    "\n",
    "# 使用一个 Pareto 最优解重新初始化模型\n",
    "best_trial = pareto_front[0] # 选择第一个 Pareto 解\n",
    "best_params = best_trial.params\n",
    "# 使用最佳参数重新初始化模型\n",
    "best_model = GaniteRegressor(\n",
    "    dim_in=X.shape[1],\n",
    "    binary_y=True,\n",
    "    dim_hidden=best_params[\"dim_hidden\"],\n",
    "    alpha=best_params[\"alpha\"],\n",
    "    beta=best_params[\"beta\"],\n",
    "    depth=best_params[\"depth\"],\n",
    "    num_iterations=best_params[\"num_iterations\"],\n",
    "    num_discr_iterations=best_params[\"num_discr_iterations\"],\n",
    ")\n",
    "\n",
    "# 训练最佳模型\n",
    "print('使用最佳参数在全集上模型')\n",
    "best_model.fit((X, W), y)\n",
    "\n",
    "# 保存最佳模型\n",
    "print('训练完成，保存模型参数')\n",
    "torch.save(best_model.state_dict(), f\"{optuna_result_path}/GANITE_weights.pth\")"
   ]
  },
  {
   "cell_type": "code",
   "execution_count": 10,
   "metadata": {},
   "outputs": [
    {
     "name": "stdout",
     "output_type": "stream",
     "text": [
      "重新加载 optuna study 并进行调参过程可视化\n"
     ]
    },
    {
     "data": {
      "application/vnd.plotly.v1+json": {
       "config": {
        "plotlyServerURL": "https://plot.ly"
       },
       "data": [
        {
         "dimensions": [
          {
           "label": "Berier Score",
           "range": [
            0.07429691441361344,
            0.2369807454766893
           ],
           "values": [
            0.10385922859827153,
            0.12079189141515675,
            0.15071192595553887,
            0.08669849054724672,
            0.09193441977084502,
            0.10495411774125105,
            0.12613100275301461,
            0.13582287369088647,
            0.12452237557520125,
            0.09186867087093704,
            0.09075300360053928,
            0.08458545703907237,
            0.10557201172855095,
            0.09097776703461047,
            0.09677264998232762,
            0.12119162051271111,
            0.12534585938395798,
            0.07862022171714446,
            0.10465319794205401,
            0.10619306014189815,
            0.0836072897455778,
            0.08810746397632263,
            0.11009726952327215,
            0.2369807454766893,
            0.08230788006895152,
            0.08291639449112218,
            0.07874699433279553,
            0.09630764743635435,
            0.090526184516903,
            0.11424583702496427,
            0.10994848109172935,
            0.1951916374994696,
            0.17905252683594775,
            0.11687315580070105,
            0.11593370407858314,
            0.12425988214115509,
            0.08551682345574677,
            0.09620781129141195,
            0.09470330662696716,
            0.16169208233499582,
            0.10713833385975295,
            0.09359666887990507,
            0.08808402754005422,
            0.09195111899670967,
            0.08422036547833249,
            0.08765653387512147,
            0.1020634166852071,
            0.10717288048547842,
            0.09743743397870283,
            0.07429691441361344,
            0.0808865219980063,
            0.07429691441361344,
            0.14614989099909512,
            0.12356977261243836,
            0.0909245619872217,
            0.1276137827395981,
            0.08652642977032801,
            0.1556628005923667,
            0.1643310120573122,
            0.08240570659304877,
            0.13047691572373177,
            0.11468496825386745,
            0.10515735639853782,
            0.13047691572373177,
            0.07998033569640853,
            0.11268986958912172,
            0.08004448622840796,
            0.09028557500841652,
            0.09044456828003454,
            0.11268271472843099,
            0.09895767464819924,
            0.17848323203310007,
            0.11975742246849856,
            0.09450510927144531,
            0.13285484935163142,
            0.09214562387095178,
            0.11288949318759711,
            0.11374112480295542,
            0.12992490211940821,
            0.13124124590441927,
            0.08612475105006775,
            0.09347149989815676,
            0.10665968153327306,
            0.12992490211940821,
            0.12251303824145901,
            0.13615008340706194,
            0.11402384536999355,
            0.12032983628101128,
            0.11851280323592236,
            0.10013072057549566,
            0.12476681686446404,
            0.19331547085265885,
            0.10161461785105619,
            0.09220850323728155,
            0.09952103049081085,
            0.08948891853060222,
            0.09574528693736387,
            0.08658539101108456,
            0.10019436382486731,
            0.08240040067008436
           ]
          },
          {
           "label": "alpha",
           "range": [
            0.1,
            1
           ],
           "values": [
            0.45000000000000007,
            1,
            0.1,
            1,
            0.4,
            0.30000000000000004,
            0.75,
            0.8,
            0.85,
            0.4,
            0.30000000000000004,
            0.6,
            0.30000000000000004,
            0.8,
            0.85,
            0.4,
            0.9500000000000001,
            0.55,
            0.25,
            1,
            0.4,
            0.6,
            0.2,
            0.35,
            0.5,
            0.6,
            0.45000000000000007,
            0.25,
            0.55,
            0.30000000000000004,
            0.9500000000000001,
            1,
            0.65,
            0.85,
            0.75,
            0.75,
            0.9500000000000001,
            0.75,
            0.9500000000000001,
            0.45000000000000007,
            0.8,
            0.9500000000000001,
            0.6,
            0.9500000000000001,
            0.4,
            0.2,
            0.9500000000000001,
            0.9500000000000001,
            0.45000000000000007,
            0.4,
            0.45000000000000007,
            0.4,
            0.9500000000000001,
            1,
            0.8,
            0.65,
            0.6,
            0.25,
            0.25,
            0.2,
            0.15000000000000002,
            0.7000000000000001,
            0.7000000000000001,
            0.15000000000000002,
            0.5,
            0.4,
            0.4,
            1,
            0.85,
            0.55,
            0.4,
            0.35,
            0.9500000000000001,
            0.4,
            0.6,
            0.2,
            0.85,
            0.7000000000000001,
            0.5,
            1,
            0.2,
            0.6,
            0.85,
            0.5,
            0.25,
            0.15000000000000002,
            0.7000000000000001,
            0.85,
            0.2,
            0.4,
            0.85,
            0.5,
            0.25,
            0.75,
            0.35,
            0.85,
            0.9500000000000001,
            0.85,
            0.2,
            0.25
           ]
          },
          {
           "label": "beta",
           "range": [
            0,
            2
           ],
           "values": [
            0.5,
            1.6500000000000001,
            1.4000000000000001,
            0.9500000000000001,
            1.1500000000000001,
            0.5,
            0.5,
            0,
            0.45,
            0.8500000000000001,
            1.1500000000000001,
            2,
            0.30000000000000004,
            0.5,
            0.8500000000000001,
            0.8500000000000001,
            0.5,
            1.1500000000000001,
            0.5,
            1.55,
            1.05,
            1.35,
            0.2,
            0,
            0.9500000000000001,
            1.05,
            1.05,
            0.6000000000000001,
            1.1500000000000001,
            0.5,
            0.25,
            0.6000000000000001,
            1.4000000000000001,
            0.6000000000000001,
            0.6000000000000001,
            0.25,
            1.75,
            0.7000000000000001,
            0.65,
            0.15000000000000002,
            0.65,
            1.4500000000000002,
            1.6,
            0.6000000000000001,
            1.05,
            1.6,
            1.4500000000000002,
            0.30000000000000004,
            0.35000000000000003,
            1.35,
            1.8,
            1.35,
            1.4500000000000002,
            0.1,
            1.6,
            0.30000000000000004,
            1.75,
            1.8,
            1.9500000000000002,
            1.2000000000000002,
            0.5,
            0.2,
            0.35000000000000003,
            0.5,
            1.9500000000000002,
            0.9,
            1.6500000000000001,
            0.9,
            0.9,
            0.45,
            0.6000000000000001,
            0.05,
            0.6000000000000001,
            0.6000000000000001,
            1.9000000000000001,
            1.35,
            0.45,
            1.9000000000000001,
            0.05,
            0.05,
            1.6500000000000001,
            1.75,
            0.35000000000000003,
            0.05,
            0.45,
            0.05,
            0.2,
            0.2,
            1.6500000000000001,
            0.6000000000000001,
            0.2,
            0.6000000000000001,
            0.6000000000000001,
            0.7000000000000001,
            0.4,
            1.25,
            0.9,
            1.75,
            0.9,
            1.75
           ]
          },
          {
           "label": "depth",
           "range": [
            0,
            5
           ],
           "values": [
            2,
            1,
            0,
            4,
            2,
            2,
            1,
            3,
            1,
            5,
            2,
            5,
            2,
            3,
            2,
            1,
            1,
            3,
            2,
            1,
            3,
            4,
            2,
            1,
            4,
            3,
            3,
            4,
            2,
            1,
            3,
            0,
            0,
            1,
            1,
            1,
            2,
            2,
            2,
            0,
            1,
            2,
            2,
            4,
            3,
            2,
            1,
            2,
            4,
            4,
            3,
            4,
            0,
            2,
            2,
            1,
            2,
            0,
            0,
            4,
            1,
            3,
            4,
            1,
            4,
            1,
            4,
            4,
            4,
            5,
            5,
            0,
            2,
            4,
            1,
            2,
            2,
            1,
            5,
            5,
            5,
            2,
            4,
            5,
            1,
            2,
            2,
            4,
            1,
            4,
            4,
            0,
            4,
            2,
            3,
            4,
            4,
            2,
            5,
            2
           ]
          },
          {
           "label": "dim_hidden",
           "range": [
            0,
            4
           ],
           "ticktext": [
            "50",
            "75",
            "100",
            "200",
            "300"
           ],
           "tickvals": [
            0,
            1,
            2,
            3,
            4
           ],
           "values": [
            0,
            0,
            0,
            0,
            0,
            0,
            0,
            0,
            0,
            0,
            0,
            0,
            0,
            0,
            0,
            0,
            0,
            1,
            1,
            1,
            1,
            1,
            1,
            1,
            1,
            1,
            1,
            1,
            1,
            1,
            1,
            1,
            1,
            1,
            1,
            1,
            1,
            1,
            1,
            2,
            2,
            2,
            2,
            2,
            2,
            2,
            2,
            2,
            2,
            2,
            2,
            2,
            2,
            2,
            2,
            2,
            2,
            2,
            3,
            3,
            3,
            3,
            3,
            3,
            3,
            3,
            3,
            3,
            3,
            4,
            4,
            4,
            4,
            4,
            4,
            4,
            4,
            4,
            4,
            4,
            4,
            4,
            4,
            4,
            4,
            4,
            4,
            4,
            4,
            4,
            4,
            4,
            4,
            4,
            4,
            4,
            4,
            4,
            4,
            4
           ]
          },
          {
           "label": "num_discr_iterati...",
           "range": [
            0,
            2
           ],
           "ticktext": [
            "1",
            "2",
            "3"
           ],
           "tickvals": [
            0,
            1,
            2
           ],
           "values": [
            0,
            0,
            0,
            0,
            0,
            0,
            1,
            1,
            1,
            1,
            1,
            1,
            1,
            1,
            1,
            1,
            1,
            0,
            0,
            0,
            0,
            0,
            0,
            0,
            0,
            0,
            0,
            0,
            0,
            1,
            1,
            1,
            1,
            1,
            1,
            1,
            2,
            2,
            2,
            0,
            0,
            0,
            0,
            0,
            0,
            0,
            0,
            0,
            0,
            1,
            1,
            1,
            1,
            1,
            1,
            2,
            2,
            2,
            0,
            0,
            0,
            0,
            0,
            0,
            0,
            0,
            1,
            2,
            2,
            0,
            0,
            0,
            0,
            0,
            0,
            0,
            0,
            1,
            1,
            1,
            1,
            1,
            1,
            1,
            1,
            1,
            1,
            1,
            1,
            1,
            2,
            2,
            2,
            2,
            2,
            2,
            2,
            2,
            2,
            2
           ]
          },
          {
           "label": "num_iterations",
           "range": [
            1000,
            2500
           ],
           "values": [
            2000,
            2000,
            2000,
            2500,
            2500,
            2000,
            2000,
            1000,
            2000,
            2500,
            2000,
            2500,
            2000,
            2000,
            2500,
            1500,
            2000,
            1500,
            2500,
            2000,
            2500,
            2000,
            2500,
            2500,
            2500,
            2000,
            2000,
            1500,
            2500,
            2000,
            1500,
            1500,
            1000,
            1000,
            1000,
            1500,
            2500,
            2500,
            2500,
            2500,
            2500,
            2500,
            2000,
            1500,
            2500,
            2500,
            1500,
            2500,
            2500,
            1500,
            2500,
            1500,
            2500,
            2500,
            2000,
            1000,
            2000,
            1500,
            1500,
            1000,
            1500,
            2500,
            1000,
            1500,
            1000,
            2500,
            1500,
            1000,
            1000,
            1000,
            1500,
            1500,
            1500,
            1500,
            2000,
            2500,
            1000,
            2000,
            2500,
            2000,
            1500,
            2000,
            2500,
            2500,
            1000,
            2500,
            2500,
            2000,
            2500,
            1500,
            1500,
            1000,
            1500,
            2500,
            2500,
            1500,
            1000,
            1500,
            1000,
            2500
           ]
          }
         ],
         "labelangle": 30,
         "labelside": "bottom",
         "line": {
          "color": [
           0.10385922859827153,
           0.12079189141515675,
           0.15071192595553887,
           0.08669849054724672,
           0.09193441977084502,
           0.10495411774125105,
           0.12613100275301461,
           0.13582287369088647,
           0.12452237557520125,
           0.09186867087093704,
           0.09075300360053928,
           0.08458545703907237,
           0.10557201172855095,
           0.09097776703461047,
           0.09677264998232762,
           0.12119162051271111,
           0.12534585938395798,
           0.07862022171714446,
           0.10465319794205401,
           0.10619306014189815,
           0.0836072897455778,
           0.08810746397632263,
           0.11009726952327215,
           0.2369807454766893,
           0.08230788006895152,
           0.08291639449112218,
           0.07874699433279553,
           0.09630764743635435,
           0.090526184516903,
           0.11424583702496427,
           0.10994848109172935,
           0.1951916374994696,
           0.17905252683594775,
           0.11687315580070105,
           0.11593370407858314,
           0.12425988214115509,
           0.08551682345574677,
           0.09620781129141195,
           0.09470330662696716,
           0.16169208233499582,
           0.10713833385975295,
           0.09359666887990507,
           0.08808402754005422,
           0.09195111899670967,
           0.08422036547833249,
           0.08765653387512147,
           0.1020634166852071,
           0.10717288048547842,
           0.09743743397870283,
           0.07429691441361344,
           0.0808865219980063,
           0.07429691441361344,
           0.14614989099909512,
           0.12356977261243836,
           0.0909245619872217,
           0.1276137827395981,
           0.08652642977032801,
           0.1556628005923667,
           0.1643310120573122,
           0.08240570659304877,
           0.13047691572373177,
           0.11468496825386745,
           0.10515735639853782,
           0.13047691572373177,
           0.07998033569640853,
           0.11268986958912172,
           0.08004448622840796,
           0.09028557500841652,
           0.09044456828003454,
           0.11268271472843099,
           0.09895767464819924,
           0.17848323203310007,
           0.11975742246849856,
           0.09450510927144531,
           0.13285484935163142,
           0.09214562387095178,
           0.11288949318759711,
           0.11374112480295542,
           0.12992490211940821,
           0.13124124590441927,
           0.08612475105006775,
           0.09347149989815676,
           0.10665968153327306,
           0.12992490211940821,
           0.12251303824145901,
           0.13615008340706194,
           0.11402384536999355,
           0.12032983628101128,
           0.11851280323592236,
           0.10013072057549566,
           0.12476681686446404,
           0.19331547085265885,
           0.10161461785105619,
           0.09220850323728155,
           0.09952103049081085,
           0.08948891853060222,
           0.09574528693736387,
           0.08658539101108456,
           0.10019436382486731,
           0.08240040067008436
          ],
          "colorbar": {
           "title": {
            "text": "Berier Score"
           }
          },
          "colorscale": [
           [
            0,
            "rgb(247,251,255)"
           ],
           [
            0.125,
            "rgb(222,235,247)"
           ],
           [
            0.25,
            "rgb(198,219,239)"
           ],
           [
            0.375,
            "rgb(158,202,225)"
           ],
           [
            0.5,
            "rgb(107,174,214)"
           ],
           [
            0.625,
            "rgb(66,146,198)"
           ],
           [
            0.75,
            "rgb(33,113,181)"
           ],
           [
            0.875,
            "rgb(8,81,156)"
           ],
           [
            1,
            "rgb(8,48,107)"
           ]
          ],
          "reversescale": true,
          "showscale": true
         },
         "type": "parcoords"
        }
       ],
       "layout": {
        "height": 600,
        "template": {
         "data": {
          "bar": [
           {
            "error_x": {
             "color": "#2a3f5f"
            },
            "error_y": {
             "color": "#2a3f5f"
            },
            "marker": {
             "line": {
              "color": "#E5ECF6",
              "width": 0.5
             },
             "pattern": {
              "fillmode": "overlay",
              "size": 10,
              "solidity": 0.2
             }
            },
            "type": "bar"
           }
          ],
          "barpolar": [
           {
            "marker": {
             "line": {
              "color": "#E5ECF6",
              "width": 0.5
             },
             "pattern": {
              "fillmode": "overlay",
              "size": 10,
              "solidity": 0.2
             }
            },
            "type": "barpolar"
           }
          ],
          "carpet": [
           {
            "aaxis": {
             "endlinecolor": "#2a3f5f",
             "gridcolor": "white",
             "linecolor": "white",
             "minorgridcolor": "white",
             "startlinecolor": "#2a3f5f"
            },
            "baxis": {
             "endlinecolor": "#2a3f5f",
             "gridcolor": "white",
             "linecolor": "white",
             "minorgridcolor": "white",
             "startlinecolor": "#2a3f5f"
            },
            "type": "carpet"
           }
          ],
          "choropleth": [
           {
            "colorbar": {
             "outlinewidth": 0,
             "ticks": ""
            },
            "type": "choropleth"
           }
          ],
          "contour": [
           {
            "colorbar": {
             "outlinewidth": 0,
             "ticks": ""
            },
            "colorscale": [
             [
              0,
              "#0d0887"
             ],
             [
              0.1111111111111111,
              "#46039f"
             ],
             [
              0.2222222222222222,
              "#7201a8"
             ],
             [
              0.3333333333333333,
              "#9c179e"
             ],
             [
              0.4444444444444444,
              "#bd3786"
             ],
             [
              0.5555555555555556,
              "#d8576b"
             ],
             [
              0.6666666666666666,
              "#ed7953"
             ],
             [
              0.7777777777777778,
              "#fb9f3a"
             ],
             [
              0.8888888888888888,
              "#fdca26"
             ],
             [
              1,
              "#f0f921"
             ]
            ],
            "type": "contour"
           }
          ],
          "contourcarpet": [
           {
            "colorbar": {
             "outlinewidth": 0,
             "ticks": ""
            },
            "type": "contourcarpet"
           }
          ],
          "heatmap": [
           {
            "colorbar": {
             "outlinewidth": 0,
             "ticks": ""
            },
            "colorscale": [
             [
              0,
              "#0d0887"
             ],
             [
              0.1111111111111111,
              "#46039f"
             ],
             [
              0.2222222222222222,
              "#7201a8"
             ],
             [
              0.3333333333333333,
              "#9c179e"
             ],
             [
              0.4444444444444444,
              "#bd3786"
             ],
             [
              0.5555555555555556,
              "#d8576b"
             ],
             [
              0.6666666666666666,
              "#ed7953"
             ],
             [
              0.7777777777777778,
              "#fb9f3a"
             ],
             [
              0.8888888888888888,
              "#fdca26"
             ],
             [
              1,
              "#f0f921"
             ]
            ],
            "type": "heatmap"
           }
          ],
          "heatmapgl": [
           {
            "colorbar": {
             "outlinewidth": 0,
             "ticks": ""
            },
            "colorscale": [
             [
              0,
              "#0d0887"
             ],
             [
              0.1111111111111111,
              "#46039f"
             ],
             [
              0.2222222222222222,
              "#7201a8"
             ],
             [
              0.3333333333333333,
              "#9c179e"
             ],
             [
              0.4444444444444444,
              "#bd3786"
             ],
             [
              0.5555555555555556,
              "#d8576b"
             ],
             [
              0.6666666666666666,
              "#ed7953"
             ],
             [
              0.7777777777777778,
              "#fb9f3a"
             ],
             [
              0.8888888888888888,
              "#fdca26"
             ],
             [
              1,
              "#f0f921"
             ]
            ],
            "type": "heatmapgl"
           }
          ],
          "histogram": [
           {
            "marker": {
             "pattern": {
              "fillmode": "overlay",
              "size": 10,
              "solidity": 0.2
             }
            },
            "type": "histogram"
           }
          ],
          "histogram2d": [
           {
            "colorbar": {
             "outlinewidth": 0,
             "ticks": ""
            },
            "colorscale": [
             [
              0,
              "#0d0887"
             ],
             [
              0.1111111111111111,
              "#46039f"
             ],
             [
              0.2222222222222222,
              "#7201a8"
             ],
             [
              0.3333333333333333,
              "#9c179e"
             ],
             [
              0.4444444444444444,
              "#bd3786"
             ],
             [
              0.5555555555555556,
              "#d8576b"
             ],
             [
              0.6666666666666666,
              "#ed7953"
             ],
             [
              0.7777777777777778,
              "#fb9f3a"
             ],
             [
              0.8888888888888888,
              "#fdca26"
             ],
             [
              1,
              "#f0f921"
             ]
            ],
            "type": "histogram2d"
           }
          ],
          "histogram2dcontour": [
           {
            "colorbar": {
             "outlinewidth": 0,
             "ticks": ""
            },
            "colorscale": [
             [
              0,
              "#0d0887"
             ],
             [
              0.1111111111111111,
              "#46039f"
             ],
             [
              0.2222222222222222,
              "#7201a8"
             ],
             [
              0.3333333333333333,
              "#9c179e"
             ],
             [
              0.4444444444444444,
              "#bd3786"
             ],
             [
              0.5555555555555556,
              "#d8576b"
             ],
             [
              0.6666666666666666,
              "#ed7953"
             ],
             [
              0.7777777777777778,
              "#fb9f3a"
             ],
             [
              0.8888888888888888,
              "#fdca26"
             ],
             [
              1,
              "#f0f921"
             ]
            ],
            "type": "histogram2dcontour"
           }
          ],
          "mesh3d": [
           {
            "colorbar": {
             "outlinewidth": 0,
             "ticks": ""
            },
            "type": "mesh3d"
           }
          ],
          "parcoords": [
           {
            "line": {
             "colorbar": {
              "outlinewidth": 0,
              "ticks": ""
             }
            },
            "type": "parcoords"
           }
          ],
          "pie": [
           {
            "automargin": true,
            "type": "pie"
           }
          ],
          "scatter": [
           {
            "fillpattern": {
             "fillmode": "overlay",
             "size": 10,
             "solidity": 0.2
            },
            "type": "scatter"
           }
          ],
          "scatter3d": [
           {
            "line": {
             "colorbar": {
              "outlinewidth": 0,
              "ticks": ""
             }
            },
            "marker": {
             "colorbar": {
              "outlinewidth": 0,
              "ticks": ""
             }
            },
            "type": "scatter3d"
           }
          ],
          "scattercarpet": [
           {
            "marker": {
             "colorbar": {
              "outlinewidth": 0,
              "ticks": ""
             }
            },
            "type": "scattercarpet"
           }
          ],
          "scattergeo": [
           {
            "marker": {
             "colorbar": {
              "outlinewidth": 0,
              "ticks": ""
             }
            },
            "type": "scattergeo"
           }
          ],
          "scattergl": [
           {
            "marker": {
             "colorbar": {
              "outlinewidth": 0,
              "ticks": ""
             }
            },
            "type": "scattergl"
           }
          ],
          "scattermapbox": [
           {
            "marker": {
             "colorbar": {
              "outlinewidth": 0,
              "ticks": ""
             }
            },
            "type": "scattermapbox"
           }
          ],
          "scatterpolar": [
           {
            "marker": {
             "colorbar": {
              "outlinewidth": 0,
              "ticks": ""
             }
            },
            "type": "scatterpolar"
           }
          ],
          "scatterpolargl": [
           {
            "marker": {
             "colorbar": {
              "outlinewidth": 0,
              "ticks": ""
             }
            },
            "type": "scatterpolargl"
           }
          ],
          "scatterternary": [
           {
            "marker": {
             "colorbar": {
              "outlinewidth": 0,
              "ticks": ""
             }
            },
            "type": "scatterternary"
           }
          ],
          "surface": [
           {
            "colorbar": {
             "outlinewidth": 0,
             "ticks": ""
            },
            "colorscale": [
             [
              0,
              "#0d0887"
             ],
             [
              0.1111111111111111,
              "#46039f"
             ],
             [
              0.2222222222222222,
              "#7201a8"
             ],
             [
              0.3333333333333333,
              "#9c179e"
             ],
             [
              0.4444444444444444,
              "#bd3786"
             ],
             [
              0.5555555555555556,
              "#d8576b"
             ],
             [
              0.6666666666666666,
              "#ed7953"
             ],
             [
              0.7777777777777778,
              "#fb9f3a"
             ],
             [
              0.8888888888888888,
              "#fdca26"
             ],
             [
              1,
              "#f0f921"
             ]
            ],
            "type": "surface"
           }
          ],
          "table": [
           {
            "cells": {
             "fill": {
              "color": "#EBF0F8"
             },
             "line": {
              "color": "white"
             }
            },
            "header": {
             "fill": {
              "color": "#C8D4E3"
             },
             "line": {
              "color": "white"
             }
            },
            "type": "table"
           }
          ]
         },
         "layout": {
          "annotationdefaults": {
           "arrowcolor": "#2a3f5f",
           "arrowhead": 0,
           "arrowwidth": 1
          },
          "autotypenumbers": "strict",
          "coloraxis": {
           "colorbar": {
            "outlinewidth": 0,
            "ticks": ""
           }
          },
          "colorscale": {
           "diverging": [
            [
             0,
             "#8e0152"
            ],
            [
             0.1,
             "#c51b7d"
            ],
            [
             0.2,
             "#de77ae"
            ],
            [
             0.3,
             "#f1b6da"
            ],
            [
             0.4,
             "#fde0ef"
            ],
            [
             0.5,
             "#f7f7f7"
            ],
            [
             0.6,
             "#e6f5d0"
            ],
            [
             0.7,
             "#b8e186"
            ],
            [
             0.8,
             "#7fbc41"
            ],
            [
             0.9,
             "#4d9221"
            ],
            [
             1,
             "#276419"
            ]
           ],
           "sequential": [
            [
             0,
             "#0d0887"
            ],
            [
             0.1111111111111111,
             "#46039f"
            ],
            [
             0.2222222222222222,
             "#7201a8"
            ],
            [
             0.3333333333333333,
             "#9c179e"
            ],
            [
             0.4444444444444444,
             "#bd3786"
            ],
            [
             0.5555555555555556,
             "#d8576b"
            ],
            [
             0.6666666666666666,
             "#ed7953"
            ],
            [
             0.7777777777777778,
             "#fb9f3a"
            ],
            [
             0.8888888888888888,
             "#fdca26"
            ],
            [
             1,
             "#f0f921"
            ]
           ],
           "sequentialminus": [
            [
             0,
             "#0d0887"
            ],
            [
             0.1111111111111111,
             "#46039f"
            ],
            [
             0.2222222222222222,
             "#7201a8"
            ],
            [
             0.3333333333333333,
             "#9c179e"
            ],
            [
             0.4444444444444444,
             "#bd3786"
            ],
            [
             0.5555555555555556,
             "#d8576b"
            ],
            [
             0.6666666666666666,
             "#ed7953"
            ],
            [
             0.7777777777777778,
             "#fb9f3a"
            ],
            [
             0.8888888888888888,
             "#fdca26"
            ],
            [
             1,
             "#f0f921"
            ]
           ]
          },
          "colorway": [
           "#636efa",
           "#EF553B",
           "#00cc96",
           "#ab63fa",
           "#FFA15A",
           "#19d3f3",
           "#FF6692",
           "#B6E880",
           "#FF97FF",
           "#FECB52"
          ],
          "font": {
           "color": "#2a3f5f"
          },
          "geo": {
           "bgcolor": "white",
           "lakecolor": "white",
           "landcolor": "#E5ECF6",
           "showlakes": true,
           "showland": true,
           "subunitcolor": "white"
          },
          "hoverlabel": {
           "align": "left"
          },
          "hovermode": "closest",
          "mapbox": {
           "style": "light"
          },
          "paper_bgcolor": "white",
          "plot_bgcolor": "#E5ECF6",
          "polar": {
           "angularaxis": {
            "gridcolor": "white",
            "linecolor": "white",
            "ticks": ""
           },
           "bgcolor": "#E5ECF6",
           "radialaxis": {
            "gridcolor": "white",
            "linecolor": "white",
            "ticks": ""
           }
          },
          "scene": {
           "xaxis": {
            "backgroundcolor": "#E5ECF6",
            "gridcolor": "white",
            "gridwidth": 2,
            "linecolor": "white",
            "showbackground": true,
            "ticks": "",
            "zerolinecolor": "white"
           },
           "yaxis": {
            "backgroundcolor": "#E5ECF6",
            "gridcolor": "white",
            "gridwidth": 2,
            "linecolor": "white",
            "showbackground": true,
            "ticks": "",
            "zerolinecolor": "white"
           },
           "zaxis": {
            "backgroundcolor": "#E5ECF6",
            "gridcolor": "white",
            "gridwidth": 2,
            "linecolor": "white",
            "showbackground": true,
            "ticks": "",
            "zerolinecolor": "white"
           }
          },
          "shapedefaults": {
           "line": {
            "color": "#2a3f5f"
           }
          },
          "ternary": {
           "aaxis": {
            "gridcolor": "white",
            "linecolor": "white",
            "ticks": ""
           },
           "baxis": {
            "gridcolor": "white",
            "linecolor": "white",
            "ticks": ""
           },
           "bgcolor": "#E5ECF6",
           "caxis": {
            "gridcolor": "white",
            "linecolor": "white",
            "ticks": ""
           }
          },
          "title": {
           "x": 0.05
          },
          "xaxis": {
           "automargin": true,
           "gridcolor": "white",
           "linecolor": "white",
           "ticks": "",
           "title": {
            "standoff": 15
           },
           "zerolinecolor": "white",
           "zerolinewidth": 2
          },
          "yaxis": {
           "automargin": true,
           "gridcolor": "white",
           "linecolor": "white",
           "ticks": "",
           "title": {
            "standoff": 15
           },
           "zerolinecolor": "white",
           "zerolinewidth": 2
          }
         }
        },
        "title": {
         "text": "Parallel Coordinate Plot"
        },
        "width": 800
       }
      }
     },
     "metadata": {},
     "output_type": "display_data"
    },
    {
     "data": {
      "application/vnd.plotly.v1+json": {
       "config": {
        "plotlyServerURL": "https://plot.ly"
       },
       "data": [
        {
         "cliponaxis": false,
         "hovertemplate": [
          "num_discr_iterations (CategoricalDistribution): 0.001071249270045749<extra></extra>",
          "num_iterations (IntDistribution): 0.0010797279864980809<extra></extra>",
          "alpha (FloatDistribution): 0.0032486295464615902<extra></extra>",
          "dim_hidden (CategoricalDistribution): 0.0035192778223350593<extra></extra>",
          "beta (FloatDistribution): 0.22408335420967535<extra></extra>",
          "depth (IntDistribution): 0.766997761164984<extra></extra>"
         ],
         "name": "Berier Score",
         "orientation": "h",
         "text": [
          "<0.01",
          "<0.01",
          "<0.01",
          "<0.01",
          "0.22",
          "0.77"
         ],
         "textposition": "outside",
         "type": "bar",
         "x": [
          0.001071249270045749,
          0.0010797279864980809,
          0.0032486295464615902,
          0.0035192778223350593,
          0.22408335420967535,
          0.766997761164984
         ],
         "y": [
          "num_discr_iterations",
          "num_iterations",
          "alpha",
          "dim_hidden",
          "beta",
          "depth"
         ]
        }
       ],
       "layout": {
        "height": 600,
        "template": {
         "data": {
          "bar": [
           {
            "error_x": {
             "color": "#2a3f5f"
            },
            "error_y": {
             "color": "#2a3f5f"
            },
            "marker": {
             "line": {
              "color": "#E5ECF6",
              "width": 0.5
             },
             "pattern": {
              "fillmode": "overlay",
              "size": 10,
              "solidity": 0.2
             }
            },
            "type": "bar"
           }
          ],
          "barpolar": [
           {
            "marker": {
             "line": {
              "color": "#E5ECF6",
              "width": 0.5
             },
             "pattern": {
              "fillmode": "overlay",
              "size": 10,
              "solidity": 0.2
             }
            },
            "type": "barpolar"
           }
          ],
          "carpet": [
           {
            "aaxis": {
             "endlinecolor": "#2a3f5f",
             "gridcolor": "white",
             "linecolor": "white",
             "minorgridcolor": "white",
             "startlinecolor": "#2a3f5f"
            },
            "baxis": {
             "endlinecolor": "#2a3f5f",
             "gridcolor": "white",
             "linecolor": "white",
             "minorgridcolor": "white",
             "startlinecolor": "#2a3f5f"
            },
            "type": "carpet"
           }
          ],
          "choropleth": [
           {
            "colorbar": {
             "outlinewidth": 0,
             "ticks": ""
            },
            "type": "choropleth"
           }
          ],
          "contour": [
           {
            "colorbar": {
             "outlinewidth": 0,
             "ticks": ""
            },
            "colorscale": [
             [
              0,
              "#0d0887"
             ],
             [
              0.1111111111111111,
              "#46039f"
             ],
             [
              0.2222222222222222,
              "#7201a8"
             ],
             [
              0.3333333333333333,
              "#9c179e"
             ],
             [
              0.4444444444444444,
              "#bd3786"
             ],
             [
              0.5555555555555556,
              "#d8576b"
             ],
             [
              0.6666666666666666,
              "#ed7953"
             ],
             [
              0.7777777777777778,
              "#fb9f3a"
             ],
             [
              0.8888888888888888,
              "#fdca26"
             ],
             [
              1,
              "#f0f921"
             ]
            ],
            "type": "contour"
           }
          ],
          "contourcarpet": [
           {
            "colorbar": {
             "outlinewidth": 0,
             "ticks": ""
            },
            "type": "contourcarpet"
           }
          ],
          "heatmap": [
           {
            "colorbar": {
             "outlinewidth": 0,
             "ticks": ""
            },
            "colorscale": [
             [
              0,
              "#0d0887"
             ],
             [
              0.1111111111111111,
              "#46039f"
             ],
             [
              0.2222222222222222,
              "#7201a8"
             ],
             [
              0.3333333333333333,
              "#9c179e"
             ],
             [
              0.4444444444444444,
              "#bd3786"
             ],
             [
              0.5555555555555556,
              "#d8576b"
             ],
             [
              0.6666666666666666,
              "#ed7953"
             ],
             [
              0.7777777777777778,
              "#fb9f3a"
             ],
             [
              0.8888888888888888,
              "#fdca26"
             ],
             [
              1,
              "#f0f921"
             ]
            ],
            "type": "heatmap"
           }
          ],
          "heatmapgl": [
           {
            "colorbar": {
             "outlinewidth": 0,
             "ticks": ""
            },
            "colorscale": [
             [
              0,
              "#0d0887"
             ],
             [
              0.1111111111111111,
              "#46039f"
             ],
             [
              0.2222222222222222,
              "#7201a8"
             ],
             [
              0.3333333333333333,
              "#9c179e"
             ],
             [
              0.4444444444444444,
              "#bd3786"
             ],
             [
              0.5555555555555556,
              "#d8576b"
             ],
             [
              0.6666666666666666,
              "#ed7953"
             ],
             [
              0.7777777777777778,
              "#fb9f3a"
             ],
             [
              0.8888888888888888,
              "#fdca26"
             ],
             [
              1,
              "#f0f921"
             ]
            ],
            "type": "heatmapgl"
           }
          ],
          "histogram": [
           {
            "marker": {
             "pattern": {
              "fillmode": "overlay",
              "size": 10,
              "solidity": 0.2
             }
            },
            "type": "histogram"
           }
          ],
          "histogram2d": [
           {
            "colorbar": {
             "outlinewidth": 0,
             "ticks": ""
            },
            "colorscale": [
             [
              0,
              "#0d0887"
             ],
             [
              0.1111111111111111,
              "#46039f"
             ],
             [
              0.2222222222222222,
              "#7201a8"
             ],
             [
              0.3333333333333333,
              "#9c179e"
             ],
             [
              0.4444444444444444,
              "#bd3786"
             ],
             [
              0.5555555555555556,
              "#d8576b"
             ],
             [
              0.6666666666666666,
              "#ed7953"
             ],
             [
              0.7777777777777778,
              "#fb9f3a"
             ],
             [
              0.8888888888888888,
              "#fdca26"
             ],
             [
              1,
              "#f0f921"
             ]
            ],
            "type": "histogram2d"
           }
          ],
          "histogram2dcontour": [
           {
            "colorbar": {
             "outlinewidth": 0,
             "ticks": ""
            },
            "colorscale": [
             [
              0,
              "#0d0887"
             ],
             [
              0.1111111111111111,
              "#46039f"
             ],
             [
              0.2222222222222222,
              "#7201a8"
             ],
             [
              0.3333333333333333,
              "#9c179e"
             ],
             [
              0.4444444444444444,
              "#bd3786"
             ],
             [
              0.5555555555555556,
              "#d8576b"
             ],
             [
              0.6666666666666666,
              "#ed7953"
             ],
             [
              0.7777777777777778,
              "#fb9f3a"
             ],
             [
              0.8888888888888888,
              "#fdca26"
             ],
             [
              1,
              "#f0f921"
             ]
            ],
            "type": "histogram2dcontour"
           }
          ],
          "mesh3d": [
           {
            "colorbar": {
             "outlinewidth": 0,
             "ticks": ""
            },
            "type": "mesh3d"
           }
          ],
          "parcoords": [
           {
            "line": {
             "colorbar": {
              "outlinewidth": 0,
              "ticks": ""
             }
            },
            "type": "parcoords"
           }
          ],
          "pie": [
           {
            "automargin": true,
            "type": "pie"
           }
          ],
          "scatter": [
           {
            "fillpattern": {
             "fillmode": "overlay",
             "size": 10,
             "solidity": 0.2
            },
            "type": "scatter"
           }
          ],
          "scatter3d": [
           {
            "line": {
             "colorbar": {
              "outlinewidth": 0,
              "ticks": ""
             }
            },
            "marker": {
             "colorbar": {
              "outlinewidth": 0,
              "ticks": ""
             }
            },
            "type": "scatter3d"
           }
          ],
          "scattercarpet": [
           {
            "marker": {
             "colorbar": {
              "outlinewidth": 0,
              "ticks": ""
             }
            },
            "type": "scattercarpet"
           }
          ],
          "scattergeo": [
           {
            "marker": {
             "colorbar": {
              "outlinewidth": 0,
              "ticks": ""
             }
            },
            "type": "scattergeo"
           }
          ],
          "scattergl": [
           {
            "marker": {
             "colorbar": {
              "outlinewidth": 0,
              "ticks": ""
             }
            },
            "type": "scattergl"
           }
          ],
          "scattermapbox": [
           {
            "marker": {
             "colorbar": {
              "outlinewidth": 0,
              "ticks": ""
             }
            },
            "type": "scattermapbox"
           }
          ],
          "scatterpolar": [
           {
            "marker": {
             "colorbar": {
              "outlinewidth": 0,
              "ticks": ""
             }
            },
            "type": "scatterpolar"
           }
          ],
          "scatterpolargl": [
           {
            "marker": {
             "colorbar": {
              "outlinewidth": 0,
              "ticks": ""
             }
            },
            "type": "scatterpolargl"
           }
          ],
          "scatterternary": [
           {
            "marker": {
             "colorbar": {
              "outlinewidth": 0,
              "ticks": ""
             }
            },
            "type": "scatterternary"
           }
          ],
          "surface": [
           {
            "colorbar": {
             "outlinewidth": 0,
             "ticks": ""
            },
            "colorscale": [
             [
              0,
              "#0d0887"
             ],
             [
              0.1111111111111111,
              "#46039f"
             ],
             [
              0.2222222222222222,
              "#7201a8"
             ],
             [
              0.3333333333333333,
              "#9c179e"
             ],
             [
              0.4444444444444444,
              "#bd3786"
             ],
             [
              0.5555555555555556,
              "#d8576b"
             ],
             [
              0.6666666666666666,
              "#ed7953"
             ],
             [
              0.7777777777777778,
              "#fb9f3a"
             ],
             [
              0.8888888888888888,
              "#fdca26"
             ],
             [
              1,
              "#f0f921"
             ]
            ],
            "type": "surface"
           }
          ],
          "table": [
           {
            "cells": {
             "fill": {
              "color": "#EBF0F8"
             },
             "line": {
              "color": "white"
             }
            },
            "header": {
             "fill": {
              "color": "#C8D4E3"
             },
             "line": {
              "color": "white"
             }
            },
            "type": "table"
           }
          ]
         },
         "layout": {
          "annotationdefaults": {
           "arrowcolor": "#2a3f5f",
           "arrowhead": 0,
           "arrowwidth": 1
          },
          "autotypenumbers": "strict",
          "coloraxis": {
           "colorbar": {
            "outlinewidth": 0,
            "ticks": ""
           }
          },
          "colorscale": {
           "diverging": [
            [
             0,
             "#8e0152"
            ],
            [
             0.1,
             "#c51b7d"
            ],
            [
             0.2,
             "#de77ae"
            ],
            [
             0.3,
             "#f1b6da"
            ],
            [
             0.4,
             "#fde0ef"
            ],
            [
             0.5,
             "#f7f7f7"
            ],
            [
             0.6,
             "#e6f5d0"
            ],
            [
             0.7,
             "#b8e186"
            ],
            [
             0.8,
             "#7fbc41"
            ],
            [
             0.9,
             "#4d9221"
            ],
            [
             1,
             "#276419"
            ]
           ],
           "sequential": [
            [
             0,
             "#0d0887"
            ],
            [
             0.1111111111111111,
             "#46039f"
            ],
            [
             0.2222222222222222,
             "#7201a8"
            ],
            [
             0.3333333333333333,
             "#9c179e"
            ],
            [
             0.4444444444444444,
             "#bd3786"
            ],
            [
             0.5555555555555556,
             "#d8576b"
            ],
            [
             0.6666666666666666,
             "#ed7953"
            ],
            [
             0.7777777777777778,
             "#fb9f3a"
            ],
            [
             0.8888888888888888,
             "#fdca26"
            ],
            [
             1,
             "#f0f921"
            ]
           ],
           "sequentialminus": [
            [
             0,
             "#0d0887"
            ],
            [
             0.1111111111111111,
             "#46039f"
            ],
            [
             0.2222222222222222,
             "#7201a8"
            ],
            [
             0.3333333333333333,
             "#9c179e"
            ],
            [
             0.4444444444444444,
             "#bd3786"
            ],
            [
             0.5555555555555556,
             "#d8576b"
            ],
            [
             0.6666666666666666,
             "#ed7953"
            ],
            [
             0.7777777777777778,
             "#fb9f3a"
            ],
            [
             0.8888888888888888,
             "#fdca26"
            ],
            [
             1,
             "#f0f921"
            ]
           ]
          },
          "colorway": [
           "#636efa",
           "#EF553B",
           "#00cc96",
           "#ab63fa",
           "#FFA15A",
           "#19d3f3",
           "#FF6692",
           "#B6E880",
           "#FF97FF",
           "#FECB52"
          ],
          "font": {
           "color": "#2a3f5f"
          },
          "geo": {
           "bgcolor": "white",
           "lakecolor": "white",
           "landcolor": "#E5ECF6",
           "showlakes": true,
           "showland": true,
           "subunitcolor": "white"
          },
          "hoverlabel": {
           "align": "left"
          },
          "hovermode": "closest",
          "mapbox": {
           "style": "light"
          },
          "paper_bgcolor": "white",
          "plot_bgcolor": "#E5ECF6",
          "polar": {
           "angularaxis": {
            "gridcolor": "white",
            "linecolor": "white",
            "ticks": ""
           },
           "bgcolor": "#E5ECF6",
           "radialaxis": {
            "gridcolor": "white",
            "linecolor": "white",
            "ticks": ""
           }
          },
          "scene": {
           "xaxis": {
            "backgroundcolor": "#E5ECF6",
            "gridcolor": "white",
            "gridwidth": 2,
            "linecolor": "white",
            "showbackground": true,
            "ticks": "",
            "zerolinecolor": "white"
           },
           "yaxis": {
            "backgroundcolor": "#E5ECF6",
            "gridcolor": "white",
            "gridwidth": 2,
            "linecolor": "white",
            "showbackground": true,
            "ticks": "",
            "zerolinecolor": "white"
           },
           "zaxis": {
            "backgroundcolor": "#E5ECF6",
            "gridcolor": "white",
            "gridwidth": 2,
            "linecolor": "white",
            "showbackground": true,
            "ticks": "",
            "zerolinecolor": "white"
           }
          },
          "shapedefaults": {
           "line": {
            "color": "#2a3f5f"
           }
          },
          "ternary": {
           "aaxis": {
            "gridcolor": "white",
            "linecolor": "white",
            "ticks": ""
           },
           "baxis": {
            "gridcolor": "white",
            "linecolor": "white",
            "ticks": ""
           },
           "bgcolor": "#E5ECF6",
           "caxis": {
            "gridcolor": "white",
            "linecolor": "white",
            "ticks": ""
           }
          },
          "title": {
           "x": 0.05
          },
          "xaxis": {
           "automargin": true,
           "gridcolor": "white",
           "linecolor": "white",
           "ticks": "",
           "title": {
            "standoff": 15
           },
           "zerolinecolor": "white",
           "zerolinewidth": 2
          },
          "yaxis": {
           "automargin": true,
           "gridcolor": "white",
           "linecolor": "white",
           "ticks": "",
           "title": {
            "standoff": 15
           },
           "zerolinecolor": "white",
           "zerolinewidth": 2
          }
         }
        },
        "title": {
         "text": "Hyperparameter Importances"
        },
        "width": 800,
        "xaxis": {
         "title": {
          "text": "Hyperparameter Importance"
         }
        },
        "yaxis": {
         "title": {
          "text": "Hyperparameter"
         }
        }
       }
      }
     },
     "metadata": {},
     "output_type": "display_data"
    },
    {
     "data": {
      "application/vnd.plotly.v1+json": {
       "config": {
        "plotlyServerURL": "https://plot.ly"
       },
       "data": [
        {
         "type": "scatter",
         "xaxis": "x",
         "yaxis": "y"
        },
        {
         "colorbar": {
          "title": {
           "text": "Berier Score"
          }
         },
         "colorscale": [
          [
           0,
           "rgb(247,251,255)"
          ],
          [
           0.125,
           "rgb(222,235,247)"
          ],
          [
           0.25,
           "rgb(198,219,239)"
          ],
          [
           0.375,
           "rgb(158,202,225)"
          ],
          [
           0.5,
           "rgb(107,174,214)"
          ],
          [
           0.625,
           "rgb(66,146,198)"
          ],
          [
           0.75,
           "rgb(33,113,181)"
          ],
          [
           0.875,
           "rgb(8,81,156)"
          ],
          [
           1,
           "rgb(8,48,107)"
          ]
         ],
         "connectgaps": true,
         "contours": {
          "coloring": "heatmap"
         },
         "hoverinfo": "none",
         "line": {
          "smoothing": 1.3
         },
         "reversescale": true,
         "showscale": true,
         "type": "contour",
         "x": [
          0.055,
          0.1,
          0.15000000000000002,
          0.2,
          0.25,
          0.30000000000000004,
          0.35,
          0.4,
          0.45000000000000007,
          0.5,
          0.55,
          0.6,
          0.65,
          0.7000000000000001,
          0.75,
          0.8,
          0.85,
          0.9500000000000001,
          1,
          1.045
         ],
         "xaxis": "x7",
         "y": [
          -0.1,
          0,
          0.05,
          0.1,
          0.15000000000000002,
          0.2,
          0.25,
          0.30000000000000004,
          0.35000000000000003,
          0.4,
          0.45,
          0.5,
          0.6000000000000001,
          0.65,
          0.7000000000000001,
          0.8500000000000001,
          0.9,
          0.9500000000000001,
          1.05,
          1.1500000000000001,
          1.2000000000000002,
          1.25,
          1.35,
          1.4000000000000001,
          1.4500000000000002,
          1.55,
          1.6,
          1.6500000000000001,
          1.75,
          1.8,
          1.9000000000000001,
          1.9500000000000002,
          2,
          2.1
         ],
         "yaxis": "y7",
         "z": [
          [
           null,
           null,
           null,
           null,
           null,
           null,
           null,
           null,
           null,
           null,
           null,
           null,
           null,
           null,
           null,
           null,
           null,
           null,
           null,
           null
          ],
          [
           null,
           null,
           null,
           null,
           null,
           null,
           0.2369807454766893,
           null,
           null,
           null,
           null,
           null,
           null,
           null,
           null,
           0.13582287369088647,
           null,
           null,
           null,
           null
          ],
          [
           null,
           null,
           0.13615008340706194,
           null,
           null,
           null,
           0.17848323203310007,
           null,
           null,
           0.12992490211940821,
           null,
           null,
           null,
           null,
           null,
           null,
           null,
           null,
           0.13124124590441927,
           null
          ],
          [
           null,
           null,
           null,
           null,
           null,
           null,
           null,
           null,
           null,
           null,
           null,
           null,
           null,
           null,
           null,
           null,
           null,
           null,
           0.12356977261243836,
           null
          ],
          [
           null,
           null,
           null,
           null,
           null,
           null,
           null,
           null,
           0.16169208233499582,
           null,
           null,
           null,
           null,
           null,
           null,
           null,
           null,
           null,
           null,
           null
          ],
          [
           null,
           null,
           null,
           0.11009726952327215,
           null,
           null,
           null,
           null,
           null,
           null,
           null,
           null,
           null,
           0.11402384536999355,
           null,
           null,
           0.12032983628101128,
           null,
           null,
           null
          ],
          [
           null,
           null,
           null,
           null,
           null,
           null,
           null,
           null,
           null,
           null,
           null,
           null,
           null,
           null,
           0.12425988214115509,
           null,
           null,
           0.10994848109172935,
           null,
           null
          ],
          [
           null,
           null,
           null,
           null,
           null,
           0.10557201172855095,
           null,
           null,
           null,
           null,
           null,
           null,
           0.1276137827395981,
           null,
           null,
           null,
           null,
           0.10717288048547842,
           null,
           null
          ],
          [
           null,
           null,
           null,
           null,
           null,
           null,
           null,
           null,
           0.09743743397870283,
           null,
           null,
           null,
           null,
           0.10515735639853782,
           null,
           null,
           0.10665968153327306,
           null,
           null,
           null
          ],
          [
           null,
           null,
           null,
           null,
           null,
           null,
           0.09952103049081085,
           null,
           null,
           null,
           null,
           null,
           null,
           null,
           null,
           null,
           null,
           null,
           null,
           null
          ],
          [
           null,
           null,
           null,
           null,
           0.12251303824145901,
           null,
           null,
           null,
           null,
           null,
           0.11268271472843099,
           null,
           null,
           null,
           null,
           null,
           0.11288949318759711,
           null,
           null,
           null
          ],
          [
           null,
           null,
           0.13047691572373177,
           null,
           0.10465319794205401,
           0.10495411774125105,
           null,
           null,
           0.10385922859827153,
           null,
           null,
           null,
           null,
           null,
           0.12613100275301461,
           0.09097776703461047,
           null,
           0.12534585938395798,
           null,
           null
          ],
          [
           null,
           null,
           null,
           null,
           0.09630764743635435,
           null,
           null,
           0.10013072057549566,
           null,
           0.19331547085265885,
           null,
           null,
           null,
           null,
           0.11593370407858314,
           null,
           0.11687315580070105,
           0.11975742246849856,
           0.1951916374994696,
           null
          ],
          [
           null,
           null,
           null,
           null,
           null,
           null,
           null,
           null,
           null,
           null,
           null,
           null,
           null,
           null,
           null,
           0.10713833385975295,
           null,
           0.09470330662696716,
           null,
           null
          ],
          [
           null,
           null,
           null,
           null,
           null,
           null,
           null,
           null,
           null,
           null,
           null,
           null,
           null,
           null,
           0.09620781129141195,
           null,
           null,
           null,
           null,
           null
          ],
          [
           null,
           null,
           null,
           null,
           null,
           null,
           null,
           0.12119162051271111,
           null,
           null,
           null,
           null,
           null,
           null,
           null,
           null,
           0.09677264998232762,
           null,
           null,
           null
          ],
          [
           null,
           null,
           null,
           0.10019436382486731,
           null,
           null,
           null,
           0.11268986958912172,
           null,
           null,
           null,
           null,
           null,
           null,
           null,
           null,
           0.09044456828003454,
           0.09574528693736387,
           0.09028557500841652,
           null
          ],
          [
           null,
           null,
           null,
           null,
           null,
           null,
           null,
           null,
           null,
           0.08230788006895152,
           null,
           null,
           null,
           null,
           null,
           null,
           null,
           null,
           0.08669849054724672,
           null
          ],
          [
           null,
           null,
           null,
           null,
           null,
           null,
           null,
           0.08422036547833249,
           0.07874699433279553,
           null,
           null,
           0.08291639449112218,
           null,
           null,
           null,
           null,
           null,
           null,
           null,
           null
          ],
          [
           null,
           null,
           null,
           null,
           null,
           0.09075300360053928,
           null,
           0.09193441977084502,
           null,
           null,
           0.090526184516903,
           null,
           null,
           null,
           null,
           null,
           null,
           null,
           null,
           null
          ],
          [
           null,
           null,
           null,
           0.08240570659304877,
           null,
           null,
           null,
           null,
           null,
           null,
           null,
           null,
           null,
           null,
           null,
           null,
           null,
           null,
           null,
           null
          ],
          [
           null,
           null,
           null,
           null,
           null,
           null,
           null,
           null,
           null,
           null,
           null,
           null,
           null,
           null,
           null,
           null,
           0.08948891853060222,
           null,
           null,
           null
          ],
          [
           null,
           null,
           null,
           0.09214562387095178,
           null,
           null,
           null,
           0.07429691441361344,
           null,
           null,
           null,
           0.08810746397632263,
           null,
           null,
           null,
           null,
           null,
           null,
           null,
           null
          ],
          [
           null,
           0.15071192595553887,
           null,
           null,
           null,
           null,
           null,
           null,
           null,
           null,
           null,
           null,
           0.17905252683594775,
           null,
           null,
           null,
           null,
           null,
           null,
           null
          ],
          [
           null,
           null,
           null,
           null,
           null,
           null,
           null,
           null,
           null,
           null,
           null,
           null,
           null,
           null,
           null,
           null,
           null,
           0.14614989099909512,
           null,
           null
          ],
          [
           null,
           null,
           null,
           null,
           null,
           null,
           null,
           null,
           null,
           null,
           null,
           null,
           null,
           null,
           null,
           null,
           null,
           null,
           0.10619306014189815,
           null
          ],
          [
           null,
           null,
           null,
           0.08765653387512147,
           null,
           null,
           null,
           null,
           null,
           null,
           null,
           0.08808402754005422,
           null,
           null,
           null,
           0.0909245619872217,
           null,
           null,
           null,
           null
          ],
          [
           null,
           null,
           null,
           0.11851280323592236,
           null,
           null,
           null,
           0.08004448622840796,
           null,
           null,
           null,
           null,
           null,
           null,
           null,
           null,
           null,
           null,
           0.12079189141515675,
           null
          ],
          [
           null,
           null,
           null,
           null,
           0.08240040067008436,
           null,
           null,
           null,
           null,
           null,
           null,
           0.08652642977032801,
           null,
           null,
           null,
           null,
           0.08658539101108456,
           0.08551682345574677,
           null,
           null
          ],
          [
           null,
           null,
           null,
           null,
           0.1556628005923667,
           null,
           null,
           null,
           0.0808865219980063,
           null,
           null,
           null,
           null,
           null,
           null,
           null,
           null,
           null,
           null,
           null
          ],
          [
           null,
           null,
           null,
           null,
           null,
           null,
           null,
           null,
           null,
           null,
           null,
           0.13285484935163142,
           null,
           0.11374112480295542,
           null,
           null,
           null,
           null,
           null,
           null
          ],
          [
           null,
           null,
           null,
           null,
           0.1643310120573122,
           null,
           null,
           null,
           null,
           0.07998033569640853,
           null,
           null,
           null,
           null,
           null,
           null,
           null,
           null,
           null,
           null
          ],
          [
           null,
           null,
           null,
           null,
           null,
           null,
           null,
           null,
           null,
           null,
           null,
           0.08458545703907237,
           null,
           null,
           null,
           null,
           null,
           null,
           null,
           null
          ],
          [
           null,
           null,
           null,
           null,
           null,
           null,
           null,
           null,
           null,
           null,
           null,
           null,
           null,
           null,
           null,
           null,
           null,
           null,
           null,
           null
          ]
         ]
        },
        {
         "marker": {
          "color": "black",
          "line": {
           "color": "Gray",
           "width": 2
          }
         },
         "mode": "markers",
         "name": "Feasible Trial",
         "showlegend": false,
         "type": "scatter",
         "x": [
          0.7000000000000001,
          0.5,
          0.75,
          0.85,
          0.8,
          0.85,
          0.5,
          0.55,
          0.55,
          0.4,
          0.25,
          1,
          0.4,
          0.6,
          0.45000000000000007,
          0.25,
          0.30000000000000004,
          0.2,
          0.4,
          0.75,
          0.35,
          0.35,
          0.9500000000000001,
          0.4,
          0.45000000000000007,
          0.8,
          0.30000000000000004,
          0.65,
          0.9500000000000001,
          0.9500000000000001,
          1,
          1,
          0.65,
          0.25,
          0.6,
          1,
          0.2,
          0.85,
          0.15000000000000002,
          0.7000000000000001,
          0.6,
          0.45000000000000007,
          1,
          0.35,
          0.5,
          0.2,
          0.6,
          0.6,
          0.1,
          0.85,
          0.30000000000000004,
          0.9500000000000001,
          0.5,
          0.85,
          0.45000000000000007,
          0.25,
          0.7000000000000001,
          1,
          0.75,
          0.15000000000000002,
          0.8,
          0.9500000000000001,
          0.85,
          0.85,
          0.4,
          0.4,
          0.9500000000000001,
          0.75,
          0.7000000000000001,
          0.4,
          0.75,
          0.2,
          0.9500000000000001,
          0.85,
          0.6,
          0.85,
          0.9500000000000001,
          0.2,
          0.9500000000000001,
          0.25,
          0.85,
          1,
          0.4,
          0.8,
          0.4,
          0.6,
          0.9500000000000001,
          0.30000000000000004,
          0.2,
          0.9500000000000001,
          0.2,
          0.4,
          0.25,
          0.4,
          0.15000000000000002,
          0.25,
          0.55,
          0.5,
          0.4,
          0.45000000000000007
         ],
         "xaxis": "x7",
         "y": [
          1.9000000000000001,
          0.05,
          0.5,
          0.2,
          0,
          0.45,
          0.6000000000000001,
          1.1500000000000001,
          0.45,
          0.6000000000000001,
          0.5,
          1.55,
          1.05,
          1.35,
          0.15000000000000002,
          0.6000000000000001,
          0.5,
          0.2,
          1.35,
          0.7000000000000001,
          0.05,
          0.4,
          1.75,
          0.8500000000000001,
          0.5,
          0.65,
          1.1500000000000001,
          0.30000000000000004,
          1.4500000000000002,
          0.25,
          0.9,
          0.6000000000000001,
          1.4000000000000001,
          1.9500000000000002,
          1.6,
          1.6500000000000001,
          1.2000000000000002,
          0.6000000000000001,
          0.5,
          0.2,
          2,
          1.8,
          0.05,
          0,
          0.9500000000000001,
          1.6500000000000001,
          1.75,
          1.05,
          1.4000000000000001,
          0.35000000000000003,
          0.30000000000000004,
          0.6000000000000001,
          0.05,
          1.25,
          1.05,
          0.45,
          0.35000000000000003,
          0.9500000000000001,
          0.6000000000000001,
          0.05,
          0.5,
          0.9,
          1.75,
          0.8500000000000001,
          1.05,
          1.35,
          0.6000000000000001,
          0.7000000000000001,
          0.2,
          0.6000000000000001,
          0.25,
          1.6,
          1.4500000000000002,
          0.9,
          1.9000000000000001,
          0.2,
          0.30000000000000004,
          1.35,
          1.4500000000000002,
          0.6000000000000001,
          0.45,
          0.1,
          0.8500000000000001,
          1.6,
          1.1500000000000001,
          1.75,
          0.65,
          0.5,
          0.9,
          0.5,
          1.6500000000000001,
          1.6500000000000001,
          1.75,
          0.6000000000000001,
          0.5,
          1.8,
          1.1500000000000001,
          1.9500000000000002,
          0.9,
          0.35000000000000003
         ],
         "yaxis": "y7"
        },
        {
         "colorbar": {
          "title": {
           "text": "Berier Score"
          }
         },
         "colorscale": [
          [
           0,
           "rgb(247,251,255)"
          ],
          [
           0.125,
           "rgb(222,235,247)"
          ],
          [
           0.25,
           "rgb(198,219,239)"
          ],
          [
           0.375,
           "rgb(158,202,225)"
          ],
          [
           0.5,
           "rgb(107,174,214)"
          ],
          [
           0.625,
           "rgb(66,146,198)"
          ],
          [
           0.75,
           "rgb(33,113,181)"
          ],
          [
           0.875,
           "rgb(8,81,156)"
          ],
          [
           1,
           "rgb(8,48,107)"
          ]
         ],
         "connectgaps": true,
         "contours": {
          "coloring": "heatmap"
         },
         "hoverinfo": "none",
         "line": {
          "smoothing": 1.3
         },
         "reversescale": true,
         "showscale": false,
         "type": "contour",
         "x": [
          0.055,
          0.1,
          0.15000000000000002,
          0.2,
          0.25,
          0.30000000000000004,
          0.35,
          0.4,
          0.45000000000000007,
          0.5,
          0.55,
          0.6,
          0.65,
          0.7000000000000001,
          0.75,
          0.8,
          0.85,
          0.9500000000000001,
          1,
          1.045
         ],
         "xaxis": "x13",
         "y": [
          -0.25,
          0,
          1,
          2,
          3,
          4,
          5,
          5.25
         ],
         "yaxis": "y13",
         "z": [
          [
           null,
           null,
           null,
           null,
           null,
           null,
           null,
           null,
           null,
           null,
           null,
           null,
           null,
           null,
           null,
           null,
           null,
           null,
           null,
           null
          ],
          [
           null,
           0.15071192595553887,
           null,
           null,
           0.1556628005923667,
           null,
           0.17848323203310007,
           null,
           0.16169208233499582,
           0.19331547085265885,
           null,
           null,
           0.17905252683594775,
           null,
           null,
           null,
           null,
           0.14614989099909512,
           0.1951916374994696,
           null
          ],
          [
           null,
           null,
           0.13047691572373177,
           0.11851280323592236,
           0.12251303824145901,
           0.11424583702496427,
           0.2369807454766893,
           0.11268986958912172,
           null,
           null,
           null,
           0.13285484935163142,
           0.1276137827395981,
           0.11374112480295542,
           0.12425988214115509,
           0.10713833385975295,
           0.11687315580070105,
           0.12534585938395798,
           0.12079189141515675,
           null
          ],
          [
           null,
           null,
           0.13615008340706194,
           0.09214562387095178,
           0.08240040067008436,
           0.10495411774125105,
           null,
           0.09193441977084502,
           0.10385922859827153,
           null,
           0.090526184516903,
           0.08652642977032801,
           null,
           0.11402384536999355,
           0.09620781129141195,
           0.0909245619872217,
           0.11288949318759711,
           0.09470330662696716,
           0.12356977261243836,
           null
          ],
          [
           null,
           null,
           null,
           null,
           null,
           null,
           0.09952103049081085,
           0.08422036547833249,
           0.07874699433279553,
           null,
           0.07862022171714446,
           0.08291639449112218,
           null,
           0.11468496825386745,
           null,
           0.09097776703461047,
           null,
           0.10994848109172935,
           null,
           null
          ],
          [
           null,
           null,
           null,
           0.08240570659304877,
           0.09630764743635435,
           null,
           null,
           0.10013072057549566,
           0.09743743397870283,
           0.07998033569640853,
           null,
           0.08810746397632263,
           null,
           0.10515735639853782,
           null,
           null,
           0.12032983628101128,
           0.09574528693736387,
           0.08669849054724672,
           null
          ],
          [
           null,
           null,
           null,
           0.10019436382486731,
           null,
           null,
           null,
           0.09186867087093704,
           null,
           0.12992490211940821,
           0.11268271472843099,
           0.08458545703907237,
           null,
           null,
           null,
           null,
           null,
           null,
           0.13124124590441927,
           null
          ],
          [
           null,
           null,
           null,
           null,
           null,
           null,
           null,
           null,
           null,
           null,
           null,
           null,
           null,
           null,
           null,
           null,
           null,
           null,
           null,
           null
          ]
         ]
        },
        {
         "marker": {
          "color": "black",
          "line": {
           "color": "Gray",
           "width": 2
          }
         },
         "mode": "markers",
         "name": "Feasible Trial",
         "showlegend": false,
         "type": "scatter",
         "x": [
          0.7000000000000001,
          0.5,
          0.75,
          0.85,
          0.8,
          0.85,
          0.5,
          0.55,
          0.55,
          0.4,
          0.25,
          1,
          0.4,
          0.6,
          0.45000000000000007,
          0.25,
          0.30000000000000004,
          0.2,
          0.4,
          0.75,
          0.35,
          0.35,
          0.9500000000000001,
          0.4,
          0.45000000000000007,
          0.8,
          0.30000000000000004,
          0.65,
          0.9500000000000001,
          0.9500000000000001,
          1,
          1,
          0.65,
          0.25,
          0.6,
          1,
          0.2,
          0.85,
          0.15000000000000002,
          0.7000000000000001,
          0.6,
          0.45000000000000007,
          1,
          0.35,
          0.5,
          0.2,
          0.6,
          0.6,
          0.1,
          0.85,
          0.30000000000000004,
          0.9500000000000001,
          0.5,
          0.85,
          0.45000000000000007,
          0.25,
          0.7000000000000001,
          1,
          0.75,
          0.15000000000000002,
          0.8,
          0.9500000000000001,
          0.85,
          0.85,
          0.4,
          0.4,
          0.9500000000000001,
          0.75,
          0.7000000000000001,
          0.4,
          0.75,
          0.2,
          0.9500000000000001,
          0.85,
          0.6,
          0.85,
          0.9500000000000001,
          0.2,
          0.9500000000000001,
          0.25,
          0.85,
          1,
          0.4,
          0.8,
          0.4,
          0.6,
          0.9500000000000001,
          0.30000000000000004,
          0.2,
          0.9500000000000001,
          0.2,
          0.4,
          0.25,
          0.4,
          0.15000000000000002,
          0.25,
          0.55,
          0.5,
          0.4,
          0.45000000000000007
         ],
         "xaxis": "x13",
         "y": [
          1,
          5,
          1,
          4,
          3,
          1,
          0,
          3,
          5,
          5,
          2,
          1,
          3,
          4,
          0,
          4,
          1,
          2,
          4,
          2,
          0,
          3,
          2,
          5,
          2,
          1,
          2,
          1,
          2,
          3,
          4,
          0,
          0,
          0,
          2,
          1,
          4,
          1,
          1,
          3,
          5,
          3,
          5,
          1,
          4,
          5,
          2,
          3,
          0,
          4,
          2,
          4,
          5,
          4,
          3,
          1,
          4,
          4,
          1,
          2,
          3,
          4,
          2,
          2,
          3,
          4,
          2,
          2,
          2,
          4,
          1,
          2,
          1,
          4,
          1,
          4,
          2,
          2,
          0,
          4,
          2,
          2,
          1,
          2,
          2,
          2,
          2,
          2,
          5,
          1,
          1,
          4,
          2,
          4,
          1,
          0,
          2,
          4,
          1,
          4
         ],
         "yaxis": "y13"
        },
        {
         "colorbar": {
          "title": {
           "text": "Berier Score"
          }
         },
         "colorscale": [
          [
           0,
           "rgb(247,251,255)"
          ],
          [
           0.125,
           "rgb(222,235,247)"
          ],
          [
           0.25,
           "rgb(198,219,239)"
          ],
          [
           0.375,
           "rgb(158,202,225)"
          ],
          [
           0.5,
           "rgb(107,174,214)"
          ],
          [
           0.625,
           "rgb(66,146,198)"
          ],
          [
           0.75,
           "rgb(33,113,181)"
          ],
          [
           0.875,
           "rgb(8,81,156)"
          ],
          [
           1,
           "rgb(8,48,107)"
          ]
         ],
         "connectgaps": true,
         "contours": {
          "coloring": "heatmap"
         },
         "hoverinfo": "none",
         "line": {
          "smoothing": 1.3
         },
         "reversescale": true,
         "showscale": false,
         "type": "contour",
         "x": [
          0.055,
          0.1,
          0.15000000000000002,
          0.2,
          0.25,
          0.30000000000000004,
          0.35,
          0.4,
          0.45000000000000007,
          0.5,
          0.55,
          0.6,
          0.65,
          0.7000000000000001,
          0.75,
          0.8,
          0.85,
          0.9500000000000001,
          1,
          1.045
         ],
         "xaxis": "x19",
         "y": [
          37.5,
          50,
          75,
          100,
          200,
          300,
          312.5
         ],
         "yaxis": "y19",
         "z": [
          [
           null,
           null,
           null,
           null,
           null,
           null,
           null,
           null,
           null,
           null,
           null,
           null,
           null,
           null,
           null,
           null,
           null,
           null,
           null,
           null
          ],
          [
           null,
           0.15071192595553887,
           null,
           null,
           null,
           0.10495411774125105,
           null,
           0.09193441977084502,
           0.10385922859827153,
           null,
           null,
           0.08458545703907237,
           null,
           null,
           0.12613100275301461,
           0.09097776703461047,
           0.09677264998232762,
           0.12534585938395798,
           0.08669849054724672,
           null
          ],
          [
           null,
           null,
           null,
           0.11009726952327215,
           0.09630764743635435,
           0.11424583702496427,
           0.2369807454766893,
           0.0836072897455778,
           0.07874699433279553,
           0.08230788006895152,
           0.090526184516903,
           0.08291639449112218,
           0.17905252683594775,
           null,
           0.12425988214115509,
           null,
           0.11687315580070105,
           0.09470330662696716,
           0.1951916374994696,
           null
          ],
          [
           null,
           null,
           null,
           0.08765653387512147,
           0.1556628005923667,
           null,
           null,
           0.07429691441361344,
           0.09743743397870283,
           null,
           null,
           0.08652642977032801,
           0.1276137827395981,
           null,
           null,
           0.0909245619872217,
           null,
           0.14614989099909512,
           0.12356977261243836,
           null
          ],
          [
           null,
           null,
           0.13047691572373177,
           0.08240570659304877,
           0.1643310120573122,
           null,
           null,
           0.11268986958912172,
           null,
           0.07998033569640853,
           null,
           null,
           null,
           0.10515735639853782,
           null,
           null,
           0.09044456828003454,
           null,
           0.09028557500841652,
           null
          ],
          [
           null,
           null,
           0.13615008340706194,
           0.11851280323592236,
           0.08240040067008436,
           null,
           0.09952103049081085,
           0.10013072057549566,
           null,
           0.12992490211940821,
           0.11268271472843099,
           0.13285484935163142,
           null,
           0.11402384536999355,
           0.09220850323728155,
           null,
           0.11288949318759711,
           0.11975742246849856,
           0.13124124590441927,
           null
          ],
          [
           null,
           null,
           null,
           null,
           null,
           null,
           null,
           null,
           null,
           null,
           null,
           null,
           null,
           null,
           null,
           null,
           null,
           null,
           null,
           null
          ]
         ]
        },
        {
         "marker": {
          "color": "black",
          "line": {
           "color": "Gray",
           "width": 2
          }
         },
         "mode": "markers",
         "name": "Feasible Trial",
         "showlegend": false,
         "type": "scatter",
         "x": [
          0.7000000000000001,
          0.5,
          0.75,
          0.85,
          0.8,
          0.85,
          0.5,
          0.55,
          0.55,
          0.4,
          0.25,
          1,
          0.4,
          0.6,
          0.45000000000000007,
          0.25,
          0.30000000000000004,
          0.2,
          0.4,
          0.75,
          0.35,
          0.35,
          0.9500000000000001,
          0.4,
          0.45000000000000007,
          0.8,
          0.30000000000000004,
          0.65,
          0.9500000000000001,
          0.9500000000000001,
          1,
          1,
          0.65,
          0.25,
          0.6,
          1,
          0.2,
          0.85,
          0.15000000000000002,
          0.7000000000000001,
          0.6,
          0.45000000000000007,
          1,
          0.35,
          0.5,
          0.2,
          0.6,
          0.6,
          0.1,
          0.85,
          0.30000000000000004,
          0.9500000000000001,
          0.5,
          0.85,
          0.45000000000000007,
          0.25,
          0.7000000000000001,
          1,
          0.75,
          0.15000000000000002,
          0.8,
          0.9500000000000001,
          0.85,
          0.85,
          0.4,
          0.4,
          0.9500000000000001,
          0.75,
          0.7000000000000001,
          0.4,
          0.75,
          0.2,
          0.9500000000000001,
          0.85,
          0.6,
          0.85,
          0.9500000000000001,
          0.2,
          0.9500000000000001,
          0.25,
          0.85,
          1,
          0.4,
          0.8,
          0.4,
          0.6,
          0.9500000000000001,
          0.30000000000000004,
          0.2,
          0.9500000000000001,
          0.2,
          0.4,
          0.25,
          0.4,
          0.15000000000000002,
          0.25,
          0.55,
          0.5,
          0.4,
          0.45000000000000007
         ],
         "xaxis": "x19",
         "y": [
          300,
          300,
          50,
          300,
          50,
          50,
          300,
          75,
          300,
          300,
          75,
          75,
          75,
          75,
          100,
          300,
          75,
          75,
          100,
          300,
          300,
          300,
          75,
          50,
          50,
          100,
          50,
          100,
          100,
          75,
          200,
          75,
          75,
          200,
          100,
          50,
          200,
          75,
          200,
          200,
          50,
          100,
          300,
          75,
          75,
          300,
          300,
          75,
          50,
          300,
          50,
          100,
          300,
          300,
          75,
          300,
          200,
          50,
          75,
          300,
          50,
          300,
          300,
          50,
          100,
          100,
          300,
          75,
          300,
          300,
          75,
          100,
          100,
          200,
          300,
          300,
          100,
          300,
          100,
          75,
          300,
          100,
          50,
          100,
          50,
          100,
          75,
          50,
          300,
          50,
          300,
          200,
          300,
          300,
          200,
          100,
          75,
          200,
          200,
          100
         ],
         "yaxis": "y19"
        },
        {
         "colorbar": {
          "title": {
           "text": "Berier Score"
          }
         },
         "colorscale": [
          [
           0,
           "rgb(247,251,255)"
          ],
          [
           0.125,
           "rgb(222,235,247)"
          ],
          [
           0.25,
           "rgb(198,219,239)"
          ],
          [
           0.375,
           "rgb(158,202,225)"
          ],
          [
           0.5,
           "rgb(107,174,214)"
          ],
          [
           0.625,
           "rgb(66,146,198)"
          ],
          [
           0.75,
           "rgb(33,113,181)"
          ],
          [
           0.875,
           "rgb(8,81,156)"
          ],
          [
           1,
           "rgb(8,48,107)"
          ]
         ],
         "connectgaps": true,
         "contours": {
          "coloring": "heatmap"
         },
         "hoverinfo": "none",
         "line": {
          "smoothing": 1.3
         },
         "reversescale": true,
         "showscale": false,
         "type": "contour",
         "x": [
          0.055,
          0.1,
          0.15000000000000002,
          0.2,
          0.25,
          0.30000000000000004,
          0.35,
          0.4,
          0.45000000000000007,
          0.5,
          0.55,
          0.6,
          0.65,
          0.7000000000000001,
          0.75,
          0.8,
          0.85,
          0.9500000000000001,
          1,
          1.045
         ],
         "xaxis": "x25",
         "y": [
          0.9,
          1,
          2,
          3,
          3.1
         ],
         "yaxis": "y25",
         "z": [
          [
           null,
           null,
           null,
           null,
           null,
           null,
           null,
           null,
           null,
           null,
           null,
           null,
           null,
           null,
           null,
           null,
           null,
           null,
           null,
           null
          ],
          [
           null,
           0.15071192595553887,
           0.13047691572373177,
           0.09214562387095178,
           0.09630764743635435,
           0.10495411774125105,
           0.2369807454766893,
           0.11268986958912172,
           0.09743743397870283,
           0.07998033569640853,
           0.090526184516903,
           0.13285484935163142,
           null,
           0.10515735639853782,
           null,
           0.10713833385975295,
           0.11288949318759711,
           0.10717288048547842,
           0.08669849054724672,
           null
          ],
          [
           null,
           null,
           0.13615008340706194,
           0.11851280323592236,
           0.12251303824145901,
           0.10557201172855095,
           null,
           0.10013072057549566,
           0.0808865219980063,
           0.12992490211940821,
           null,
           0.09347149989815676,
           0.17905252683594775,
           0.11402384536999355,
           0.12425988214115509,
           0.0909245619872217,
           0.12032983628101128,
           0.12534585938395798,
           0.12356977261243836,
           null
          ],
          [
           null,
           null,
           null,
           0.10019436382486731,
           0.1556628005923667,
           null,
           0.09952103049081085,
           null,
           null,
           0.19331547085265885,
           null,
           0.08652642977032801,
           0.1276137827395981,
           null,
           0.09620781129141195,
           null,
           0.09044456828003454,
           0.09470330662696716,
           0.09028557500841652,
           null
          ],
          [
           null,
           null,
           null,
           null,
           null,
           null,
           null,
           null,
           null,
           null,
           null,
           null,
           null,
           null,
           null,
           null,
           null,
           null,
           null,
           null
          ]
         ]
        },
        {
         "marker": {
          "color": "black",
          "line": {
           "color": "Gray",
           "width": 2
          }
         },
         "mode": "markers",
         "name": "Feasible Trial",
         "showlegend": false,
         "type": "scatter",
         "x": [
          0.7000000000000001,
          0.5,
          0.75,
          0.85,
          0.8,
          0.85,
          0.5,
          0.55,
          0.55,
          0.4,
          0.25,
          1,
          0.4,
          0.6,
          0.45000000000000007,
          0.25,
          0.30000000000000004,
          0.2,
          0.4,
          0.75,
          0.35,
          0.35,
          0.9500000000000001,
          0.4,
          0.45000000000000007,
          0.8,
          0.30000000000000004,
          0.65,
          0.9500000000000001,
          0.9500000000000001,
          1,
          1,
          0.65,
          0.25,
          0.6,
          1,
          0.2,
          0.85,
          0.15000000000000002,
          0.7000000000000001,
          0.6,
          0.45000000000000007,
          1,
          0.35,
          0.5,
          0.2,
          0.6,
          0.6,
          0.1,
          0.85,
          0.30000000000000004,
          0.9500000000000001,
          0.5,
          0.85,
          0.45000000000000007,
          0.25,
          0.7000000000000001,
          1,
          0.75,
          0.15000000000000002,
          0.8,
          0.9500000000000001,
          0.85,
          0.85,
          0.4,
          0.4,
          0.9500000000000001,
          0.75,
          0.7000000000000001,
          0.4,
          0.75,
          0.2,
          0.9500000000000001,
          0.85,
          0.6,
          0.85,
          0.9500000000000001,
          0.2,
          0.9500000000000001,
          0.25,
          0.85,
          1,
          0.4,
          0.8,
          0.4,
          0.6,
          0.9500000000000001,
          0.30000000000000004,
          0.2,
          0.9500000000000001,
          0.2,
          0.4,
          0.25,
          0.4,
          0.15000000000000002,
          0.25,
          0.55,
          0.5,
          0.4,
          0.45000000000000007
         ],
         "xaxis": "x25",
         "y": [
          2,
          2,
          2,
          3,
          2,
          2,
          3,
          1,
          1,
          1,
          1,
          1,
          1,
          1,
          1,
          3,
          2,
          1,
          2,
          3,
          1,
          3,
          3,
          2,
          1,
          1,
          2,
          3,
          1,
          2,
          3,
          2,
          2,
          1,
          1,
          1,
          1,
          2,
          1,
          1,
          2,
          2,
          2,
          1,
          1,
          2,
          2,
          1,
          1,
          2,
          2,
          1,
          2,
          3,
          1,
          2,
          1,
          1,
          2,
          2,
          2,
          3,
          3,
          2,
          1,
          2,
          1,
          3,
          2,
          1,
          2,
          1,
          1,
          3,
          1,
          2,
          1,
          1,
          2,
          1,
          1,
          2,
          2,
          2,
          1,
          3,
          3,
          1,
          3,
          2,
          2,
          2,
          3,
          2,
          1,
          3,
          1,
          1,
          1,
          1
         ],
         "yaxis": "y25"
        },
        {
         "colorbar": {
          "title": {
           "text": "Berier Score"
          }
         },
         "colorscale": [
          [
           0,
           "rgb(247,251,255)"
          ],
          [
           0.125,
           "rgb(222,235,247)"
          ],
          [
           0.25,
           "rgb(198,219,239)"
          ],
          [
           0.375,
           "rgb(158,202,225)"
          ],
          [
           0.5,
           "rgb(107,174,214)"
          ],
          [
           0.625,
           "rgb(66,146,198)"
          ],
          [
           0.75,
           "rgb(33,113,181)"
          ],
          [
           0.875,
           "rgb(8,81,156)"
          ],
          [
           1,
           "rgb(8,48,107)"
          ]
         ],
         "connectgaps": true,
         "contours": {
          "coloring": "heatmap"
         },
         "hoverinfo": "none",
         "line": {
          "smoothing": 1.3
         },
         "reversescale": true,
         "showscale": false,
         "type": "contour",
         "x": [
          0.055,
          0.1,
          0.15000000000000002,
          0.2,
          0.25,
          0.30000000000000004,
          0.35,
          0.4,
          0.45000000000000007,
          0.5,
          0.55,
          0.6,
          0.65,
          0.7000000000000001,
          0.75,
          0.8,
          0.85,
          0.9500000000000001,
          1,
          1.045
         ],
         "xaxis": "x31",
         "y": [
          925,
          1000,
          1500,
          2000,
          2500,
          2575
         ],
         "yaxis": "y31",
         "z": [
          [
           null,
           null,
           null,
           null,
           null,
           null,
           null,
           null,
           null,
           null,
           null,
           null,
           null,
           null,
           null,
           null,
           null,
           null,
           null,
           null
          ],
          [
           null,
           null,
           null,
           0.10019436382486731,
           0.12251303824145901,
           null,
           null,
           null,
           null,
           0.07998033569640853,
           0.11268271472843099,
           null,
           0.17905252683594775,
           0.10515735639853782,
           0.11593370407858314,
           0.13582287369088647,
           0.11288949318759711,
           0.09574528693736387,
           0.09028557500841652,
           null
          ],
          [
           null,
           null,
           0.13047691572373177,
           0.08612475105006775,
           0.1556628005923667,
           null,
           0.17848323203310007,
           0.10013072057549566,
           null,
           null,
           0.07862022171714446,
           null,
           null,
           null,
           0.12425988214115509,
           null,
           0.08658539101108456,
           0.1020634166852071,
           0.1951916374994696,
           null
          ],
          [
           null,
           0.15071192595553887,
           null,
           null,
           null,
           0.10495411774125105,
           null,
           null,
           0.07874699433279553,
           null,
           null,
           0.08652642977032801,
           null,
           0.11374112480295542,
           0.12613100275301461,
           0.0909245619872217,
           0.12032983628101128,
           0.12534585938395798,
           0.13124124590441927,
           null
          ],
          [
           null,
           null,
           0.13615008340706194,
           0.11851280323592236,
           0.08240040067008436,
           null,
           0.2369807454766893,
           0.11268986958912172,
           0.09743743397870283,
           0.12992490211940821,
           0.090526184516903,
           0.08458545703907237,
           null,
           0.11402384536999355,
           0.09620781129141195,
           0.10713833385975295,
           0.09677264998232762,
           0.09470330662696716,
           0.12356977261243836,
           null
          ],
          [
           null,
           null,
           null,
           null,
           null,
           null,
           null,
           null,
           null,
           null,
           null,
           null,
           null,
           null,
           null,
           null,
           null,
           null,
           null,
           null
          ]
         ]
        },
        {
         "marker": {
          "color": "black",
          "line": {
           "color": "Gray",
           "width": 2
          }
         },
         "mode": "markers",
         "name": "Feasible Trial",
         "showlegend": false,
         "type": "scatter",
         "x": [
          0.7000000000000001,
          0.5,
          0.75,
          0.85,
          0.8,
          0.85,
          0.5,
          0.55,
          0.55,
          0.4,
          0.25,
          1,
          0.4,
          0.6,
          0.45000000000000007,
          0.25,
          0.30000000000000004,
          0.2,
          0.4,
          0.75,
          0.35,
          0.35,
          0.9500000000000001,
          0.4,
          0.45000000000000007,
          0.8,
          0.30000000000000004,
          0.65,
          0.9500000000000001,
          0.9500000000000001,
          1,
          1,
          0.65,
          0.25,
          0.6,
          1,
          0.2,
          0.85,
          0.15000000000000002,
          0.7000000000000001,
          0.6,
          0.45000000000000007,
          1,
          0.35,
          0.5,
          0.2,
          0.6,
          0.6,
          0.1,
          0.85,
          0.30000000000000004,
          0.9500000000000001,
          0.5,
          0.85,
          0.45000000000000007,
          0.25,
          0.7000000000000001,
          1,
          0.75,
          0.15000000000000002,
          0.8,
          0.9500000000000001,
          0.85,
          0.85,
          0.4,
          0.4,
          0.9500000000000001,
          0.75,
          0.7000000000000001,
          0.4,
          0.75,
          0.2,
          0.9500000000000001,
          0.85,
          0.6,
          0.85,
          0.9500000000000001,
          0.2,
          0.9500000000000001,
          0.25,
          0.85,
          1,
          0.4,
          0.8,
          0.4,
          0.6,
          0.9500000000000001,
          0.30000000000000004,
          0.2,
          0.9500000000000001,
          0.2,
          0.4,
          0.25,
          0.4,
          0.15000000000000002,
          0.25,
          0.55,
          0.5,
          0.4,
          0.45000000000000007
         ],
         "xaxis": "x31",
         "y": [
          2000,
          2500,
          2000,
          1500,
          1000,
          2000,
          1000,
          1500,
          1000,
          1500,
          2500,
          2000,
          2500,
          2000,
          2500,
          1500,
          2000,
          2500,
          1500,
          2500,
          1500,
          2500,
          2500,
          2500,
          2000,
          2500,
          2000,
          1000,
          2500,
          1500,
          1000,
          1500,
          1000,
          1500,
          2000,
          2000,
          1000,
          1000,
          1500,
          2500,
          2500,
          2500,
          2000,
          2500,
          2500,
          1500,
          2000,
          2000,
          2000,
          2500,
          2000,
          1500,
          2500,
          1500,
          2000,
          1000,
          1000,
          2500,
          1000,
          2500,
          2000,
          1000,
          1500,
          2500,
          2500,
          1500,
          1500,
          2500,
          2500,
          1500,
          1500,
          2500,
          1500,
          1000,
          2000,
          2000,
          2500,
          2500,
          2500,
          1500,
          1000,
          2500,
          1500,
          2000,
          2500,
          2000,
          2500,
          2000,
          1000,
          2000,
          2500,
          1500,
          2500,
          1500,
          1500,
          1500,
          2500,
          1000,
          2500,
          2500
         ],
         "yaxis": "y31"
        },
        {
         "colorbar": {
          "title": {
           "text": "Berier Score"
          }
         },
         "colorscale": [
          [
           0,
           "rgb(247,251,255)"
          ],
          [
           0.125,
           "rgb(222,235,247)"
          ],
          [
           0.25,
           "rgb(198,219,239)"
          ],
          [
           0.375,
           "rgb(158,202,225)"
          ],
          [
           0.5,
           "rgb(107,174,214)"
          ],
          [
           0.625,
           "rgb(66,146,198)"
          ],
          [
           0.75,
           "rgb(33,113,181)"
          ],
          [
           0.875,
           "rgb(8,81,156)"
          ],
          [
           1,
           "rgb(8,48,107)"
          ]
         ],
         "connectgaps": true,
         "contours": {
          "coloring": "heatmap"
         },
         "hoverinfo": "none",
         "line": {
          "smoothing": 1.3
         },
         "reversescale": true,
         "showscale": false,
         "type": "contour",
         "x": [
          -0.1,
          0,
          0.05,
          0.1,
          0.15000000000000002,
          0.2,
          0.25,
          0.30000000000000004,
          0.35000000000000003,
          0.4,
          0.45,
          0.5,
          0.6000000000000001,
          0.65,
          0.7000000000000001,
          0.8500000000000001,
          0.9,
          0.9500000000000001,
          1.05,
          1.1500000000000001,
          1.2000000000000002,
          1.25,
          1.35,
          1.4000000000000001,
          1.4500000000000002,
          1.55,
          1.6,
          1.6500000000000001,
          1.75,
          1.8,
          1.9000000000000001,
          1.9500000000000002,
          2,
          2.1
         ],
         "xaxis": "x2",
         "y": [
          0.055,
          0.1,
          0.15000000000000002,
          0.2,
          0.25,
          0.30000000000000004,
          0.35,
          0.4,
          0.45000000000000007,
          0.5,
          0.55,
          0.6,
          0.65,
          0.7000000000000001,
          0.75,
          0.8,
          0.85,
          0.9500000000000001,
          1,
          1.045
         ],
         "yaxis": "y2",
         "z": [
          [
           null,
           null,
           null,
           null,
           null,
           null,
           null,
           null,
           null,
           null,
           null,
           null,
           null,
           null,
           null,
           null,
           null,
           null,
           null,
           null,
           null,
           null,
           null,
           null,
           null,
           null,
           null,
           null,
           null,
           null,
           null,
           null,
           null,
           null
          ],
          [
           null,
           null,
           null,
           null,
           null,
           null,
           null,
           null,
           null,
           null,
           null,
           null,
           null,
           null,
           null,
           null,
           null,
           null,
           null,
           null,
           null,
           null,
           null,
           0.15071192595553887,
           null,
           null,
           null,
           null,
           null,
           null,
           null,
           null,
           null,
           null
          ],
          [
           null,
           null,
           0.13615008340706194,
           null,
           null,
           null,
           null,
           null,
           null,
           null,
           null,
           0.13047691572373177,
           null,
           null,
           null,
           null,
           null,
           null,
           null,
           null,
           null,
           null,
           null,
           null,
           null,
           null,
           null,
           null,
           null,
           null,
           null,
           null,
           null,
           null
          ],
          [
           null,
           null,
           null,
           null,
           null,
           0.11009726952327215,
           null,
           null,
           null,
           null,
           null,
           null,
           null,
           null,
           null,
           null,
           0.10019436382486731,
           null,
           null,
           null,
           0.08240570659304877,
           null,
           0.09214562387095178,
           null,
           null,
           null,
           0.08765653387512147,
           0.11851280323592236,
           null,
           null,
           null,
           null,
           null,
           null
          ],
          [
           null,
           null,
           null,
           null,
           null,
           null,
           null,
           null,
           null,
           null,
           0.12251303824145901,
           0.10465319794205401,
           0.09630764743635435,
           null,
           null,
           null,
           null,
           null,
           null,
           null,
           null,
           null,
           null,
           null,
           null,
           null,
           null,
           null,
           0.08240040067008436,
           0.1556628005923667,
           null,
           0.1643310120573122,
           null,
           null
          ],
          [
           null,
           null,
           null,
           null,
           null,
           null,
           null,
           0.10557201172855095,
           null,
           null,
           null,
           0.10495411774125105,
           null,
           null,
           null,
           null,
           null,
           null,
           null,
           0.09075300360053928,
           null,
           null,
           null,
           null,
           null,
           null,
           null,
           null,
           null,
           null,
           null,
           null,
           null,
           null
          ],
          [
           null,
           0.2369807454766893,
           0.17848323203310007,
           null,
           null,
           null,
           null,
           null,
           null,
           0.09952103049081085,
           null,
           null,
           null,
           null,
           null,
           null,
           null,
           null,
           null,
           null,
           null,
           null,
           null,
           null,
           null,
           null,
           null,
           null,
           null,
           null,
           null,
           null,
           null,
           null
          ],
          [
           null,
           null,
           null,
           null,
           null,
           null,
           null,
           null,
           null,
           null,
           null,
           null,
           0.10013072057549566,
           null,
           null,
           0.12119162051271111,
           0.11268986958912172,
           null,
           0.08422036547833249,
           0.09193441977084502,
           null,
           null,
           0.07429691441361344,
           null,
           null,
           null,
           null,
           0.08004448622840796,
           null,
           null,
           null,
           null,
           null,
           null
          ],
          [
           null,
           null,
           null,
           null,
           0.16169208233499582,
           null,
           null,
           null,
           0.09743743397870283,
           null,
           null,
           0.10385922859827153,
           null,
           null,
           null,
           null,
           null,
           null,
           0.07874699433279553,
           null,
           null,
           null,
           null,
           null,
           null,
           null,
           null,
           null,
           null,
           0.0808865219980063,
           null,
           null,
           null,
           null
          ],
          [
           null,
           null,
           0.12992490211940821,
           null,
           null,
           null,
           null,
           null,
           null,
           null,
           null,
           null,
           0.19331547085265885,
           null,
           null,
           null,
           null,
           0.08230788006895152,
           null,
           null,
           null,
           null,
           null,
           null,
           null,
           null,
           null,
           null,
           null,
           null,
           null,
           0.07998033569640853,
           null,
           null
          ],
          [
           null,
           null,
           null,
           null,
           null,
           null,
           null,
           null,
           null,
           null,
           0.11268271472843099,
           null,
           null,
           null,
           null,
           null,
           null,
           null,
           null,
           0.090526184516903,
           null,
           null,
           null,
           null,
           null,
           null,
           null,
           null,
           null,
           null,
           null,
           null,
           null,
           null
          ],
          [
           null,
           null,
           null,
           null,
           null,
           null,
           null,
           null,
           null,
           null,
           null,
           null,
           null,
           null,
           null,
           null,
           null,
           null,
           0.08291639449112218,
           null,
           null,
           null,
           0.08810746397632263,
           null,
           null,
           null,
           0.08808402754005422,
           null,
           0.08652642977032801,
           null,
           0.13285484935163142,
           null,
           0.08458545703907237,
           null
          ],
          [
           null,
           null,
           null,
           null,
           null,
           null,
           null,
           0.1276137827395981,
           null,
           null,
           null,
           null,
           null,
           null,
           null,
           null,
           null,
           null,
           null,
           null,
           null,
           null,
           null,
           0.17905252683594775,
           null,
           null,
           null,
           null,
           null,
           null,
           null,
           null,
           null,
           null
          ],
          [
           null,
           null,
           null,
           null,
           null,
           0.11402384536999355,
           null,
           null,
           0.10515735639853782,
           null,
           null,
           null,
           null,
           null,
           null,
           null,
           null,
           null,
           null,
           null,
           null,
           null,
           null,
           null,
           null,
           null,
           null,
           null,
           null,
           null,
           0.11374112480295542,
           null,
           null,
           null
          ],
          [
           null,
           null,
           null,
           null,
           null,
           null,
           0.12425988214115509,
           null,
           null,
           null,
           null,
           0.12613100275301461,
           0.11593370407858314,
           null,
           0.09620781129141195,
           null,
           null,
           null,
           null,
           null,
           null,
           null,
           null,
           null,
           null,
           null,
           null,
           null,
           null,
           null,
           null,
           null,
           null,
           null
          ],
          [
           null,
           0.13582287369088647,
           null,
           null,
           null,
           null,
           null,
           null,
           null,
           null,
           null,
           0.09097776703461047,
           null,
           0.10713833385975295,
           null,
           null,
           null,
           null,
           null,
           null,
           null,
           null,
           null,
           null,
           null,
           null,
           0.0909245619872217,
           null,
           null,
           null,
           null,
           null,
           null,
           null
          ],
          [
           null,
           null,
           null,
           null,
           null,
           0.12032983628101128,
           null,
           null,
           0.10665968153327306,
           null,
           0.11288949318759711,
           null,
           0.11687315580070105,
           null,
           null,
           0.09677264998232762,
           0.09044456828003454,
           null,
           null,
           null,
           null,
           0.08948891853060222,
           null,
           null,
           null,
           null,
           null,
           null,
           0.08658539101108456,
           null,
           null,
           null,
           null,
           null
          ],
          [
           null,
           null,
           null,
           null,
           null,
           null,
           0.10994848109172935,
           0.10717288048547842,
           null,
           null,
           null,
           0.12534585938395798,
           0.11975742246849856,
           0.09470330662696716,
           null,
           null,
           0.09574528693736387,
           null,
           null,
           null,
           null,
           null,
           null,
           null,
           0.14614989099909512,
           null,
           null,
           null,
           0.08551682345574677,
           null,
           null,
           null,
           null,
           null
          ],
          [
           null,
           null,
           0.13124124590441927,
           0.12356977261243836,
           null,
           null,
           null,
           null,
           null,
           null,
           null,
           null,
           0.1951916374994696,
           null,
           null,
           null,
           0.09028557500841652,
           0.08669849054724672,
           null,
           null,
           null,
           null,
           null,
           null,
           null,
           0.10619306014189815,
           null,
           0.12079189141515675,
           null,
           null,
           null,
           null,
           null,
           null
          ],
          [
           null,
           null,
           null,
           null,
           null,
           null,
           null,
           null,
           null,
           null,
           null,
           null,
           null,
           null,
           null,
           null,
           null,
           null,
           null,
           null,
           null,
           null,
           null,
           null,
           null,
           null,
           null,
           null,
           null,
           null,
           null,
           null,
           null,
           null
          ]
         ]
        },
        {
         "marker": {
          "color": "black",
          "line": {
           "color": "Gray",
           "width": 2
          }
         },
         "mode": "markers",
         "name": "Feasible Trial",
         "showlegend": false,
         "type": "scatter",
         "x": [
          1.9000000000000001,
          0.05,
          0.5,
          0.2,
          0,
          0.45,
          0.6000000000000001,
          1.1500000000000001,
          0.45,
          0.6000000000000001,
          0.5,
          1.55,
          1.05,
          1.35,
          0.15000000000000002,
          0.6000000000000001,
          0.5,
          0.2,
          1.35,
          0.7000000000000001,
          0.05,
          0.4,
          1.75,
          0.8500000000000001,
          0.5,
          0.65,
          1.1500000000000001,
          0.30000000000000004,
          1.4500000000000002,
          0.25,
          0.9,
          0.6000000000000001,
          1.4000000000000001,
          1.9500000000000002,
          1.6,
          1.6500000000000001,
          1.2000000000000002,
          0.6000000000000001,
          0.5,
          0.2,
          2,
          1.8,
          0.05,
          0,
          0.9500000000000001,
          1.6500000000000001,
          1.75,
          1.05,
          1.4000000000000001,
          0.35000000000000003,
          0.30000000000000004,
          0.6000000000000001,
          0.05,
          1.25,
          1.05,
          0.45,
          0.35000000000000003,
          0.9500000000000001,
          0.6000000000000001,
          0.05,
          0.5,
          0.9,
          1.75,
          0.8500000000000001,
          1.05,
          1.35,
          0.6000000000000001,
          0.7000000000000001,
          0.2,
          0.6000000000000001,
          0.25,
          1.6,
          1.4500000000000002,
          0.9,
          1.9000000000000001,
          0.2,
          0.30000000000000004,
          1.35,
          1.4500000000000002,
          0.6000000000000001,
          0.45,
          0.1,
          0.8500000000000001,
          1.6,
          1.1500000000000001,
          1.75,
          0.65,
          0.5,
          0.9,
          0.5,
          1.6500000000000001,
          1.6500000000000001,
          1.75,
          0.6000000000000001,
          0.5,
          1.8,
          1.1500000000000001,
          1.9500000000000002,
          0.9,
          0.35000000000000003
         ],
         "xaxis": "x2",
         "y": [
          0.7000000000000001,
          0.5,
          0.75,
          0.85,
          0.8,
          0.85,
          0.5,
          0.55,
          0.55,
          0.4,
          0.25,
          1,
          0.4,
          0.6,
          0.45000000000000007,
          0.25,
          0.30000000000000004,
          0.2,
          0.4,
          0.75,
          0.35,
          0.35,
          0.9500000000000001,
          0.4,
          0.45000000000000007,
          0.8,
          0.30000000000000004,
          0.65,
          0.9500000000000001,
          0.9500000000000001,
          1,
          1,
          0.65,
          0.25,
          0.6,
          1,
          0.2,
          0.85,
          0.15000000000000002,
          0.7000000000000001,
          0.6,
          0.45000000000000007,
          1,
          0.35,
          0.5,
          0.2,
          0.6,
          0.6,
          0.1,
          0.85,
          0.30000000000000004,
          0.9500000000000001,
          0.5,
          0.85,
          0.45000000000000007,
          0.25,
          0.7000000000000001,
          1,
          0.75,
          0.15000000000000002,
          0.8,
          0.9500000000000001,
          0.85,
          0.85,
          0.4,
          0.4,
          0.9500000000000001,
          0.75,
          0.7000000000000001,
          0.4,
          0.75,
          0.2,
          0.9500000000000001,
          0.85,
          0.6,
          0.85,
          0.9500000000000001,
          0.2,
          0.9500000000000001,
          0.25,
          0.85,
          1,
          0.4,
          0.8,
          0.4,
          0.6,
          0.9500000000000001,
          0.30000000000000004,
          0.2,
          0.9500000000000001,
          0.2,
          0.4,
          0.25,
          0.4,
          0.15000000000000002,
          0.25,
          0.55,
          0.5,
          0.4,
          0.45000000000000007
         ],
         "yaxis": "y2"
        },
        {
         "type": "scatter",
         "xaxis": "x8",
         "yaxis": "y8"
        },
        {
         "colorbar": {
          "title": {
           "text": "Berier Score"
          }
         },
         "colorscale": [
          [
           0,
           "rgb(247,251,255)"
          ],
          [
           0.125,
           "rgb(222,235,247)"
          ],
          [
           0.25,
           "rgb(198,219,239)"
          ],
          [
           0.375,
           "rgb(158,202,225)"
          ],
          [
           0.5,
           "rgb(107,174,214)"
          ],
          [
           0.625,
           "rgb(66,146,198)"
          ],
          [
           0.75,
           "rgb(33,113,181)"
          ],
          [
           0.875,
           "rgb(8,81,156)"
          ],
          [
           1,
           "rgb(8,48,107)"
          ]
         ],
         "connectgaps": true,
         "contours": {
          "coloring": "heatmap"
         },
         "hoverinfo": "none",
         "line": {
          "smoothing": 1.3
         },
         "reversescale": true,
         "showscale": false,
         "type": "contour",
         "x": [
          -0.1,
          0,
          0.05,
          0.1,
          0.15000000000000002,
          0.2,
          0.25,
          0.30000000000000004,
          0.35000000000000003,
          0.4,
          0.45,
          0.5,
          0.6000000000000001,
          0.65,
          0.7000000000000001,
          0.8500000000000001,
          0.9,
          0.9500000000000001,
          1.05,
          1.1500000000000001,
          1.2000000000000002,
          1.25,
          1.35,
          1.4000000000000001,
          1.4500000000000002,
          1.55,
          1.6,
          1.6500000000000001,
          1.75,
          1.8,
          1.9000000000000001,
          1.9500000000000002,
          2,
          2.1
         ],
         "xaxis": "x14",
         "y": [
          -0.25,
          0,
          1,
          2,
          3,
          4,
          5,
          5.25
         ],
         "yaxis": "y14",
         "z": [
          [
           null,
           null,
           null,
           null,
           null,
           null,
           null,
           null,
           null,
           null,
           null,
           null,
           null,
           null,
           null,
           null,
           null,
           null,
           null,
           null,
           null,
           null,
           null,
           null,
           null,
           null,
           null,
           null,
           null,
           null,
           null,
           null,
           null,
           null
          ],
          [
           null,
           null,
           0.17848323203310007,
           null,
           0.16169208233499582,
           null,
           null,
           null,
           null,
           null,
           null,
           null,
           0.1951916374994696,
           null,
           null,
           null,
           null,
           null,
           null,
           null,
           null,
           null,
           null,
           0.15071192595553887,
           0.14614989099909512,
           null,
           null,
           null,
           null,
           0.1556628005923667,
           null,
           0.1643310120573122,
           null,
           null
          ],
          [
           null,
           0.2369807454766893,
           null,
           null,
           null,
           null,
           0.12425988214115509,
           0.1276137827395981,
           null,
           null,
           0.12251303824145901,
           0.13047691572373177,
           0.11593370407858314,
           0.10713833385975295,
           null,
           0.12119162051271111,
           0.11268986958912172,
           null,
           null,
           null,
           null,
           null,
           null,
           null,
           0.1020634166852071,
           0.10619306014189815,
           null,
           0.11851280323592236,
           null,
           null,
           0.13285484935163142,
           null,
           null,
           null
          ],
          [
           null,
           null,
           0.13615008340706194,
           0.12356977261243836,
           null,
           0.11402384536999355,
           null,
           0.10717288048547842,
           null,
           null,
           0.11288949318759711,
           0.10495411774125105,
           0.11975742246849856,
           0.09470330662696716,
           0.09620781129141195,
           0.09677264998232762,
           null,
           null,
           null,
           0.090526184516903,
           null,
           null,
           0.09214562387095178,
           null,
           0.09359666887990507,
           null,
           0.0909245619872217,
           null,
           0.08240040067008436,
           null,
           null,
           null,
           null,
           null
          ],
          [
           null,
           0.13582287369088647,
           null,
           null,
           null,
           0.11468496825386745,
           0.10994848109172935,
           null,
           null,
           0.09952103049081085,
           null,
           0.09097776703461047,
           null,
           null,
           null,
           null,
           null,
           null,
           0.08422036547833249,
           0.07862022171714446,
           null,
           null,
           null,
           null,
           null,
           null,
           null,
           null,
           null,
           0.0808865219980063,
           null,
           null,
           null,
           null
          ],
          [
           null,
           null,
           null,
           null,
           null,
           0.12032983628101128,
           null,
           null,
           0.09743743397870283,
           null,
           null,
           null,
           0.10013072057549566,
           null,
           null,
           null,
           0.09044456828003454,
           0.08669849054724672,
           null,
           null,
           0.08240570659304877,
           0.08948891853060222,
           0.07429691441361344,
           null,
           null,
           null,
           null,
           0.08004448622840796,
           null,
           null,
           null,
           0.07998033569640853,
           null,
           null
          ],
          [
           null,
           null,
           0.12992490211940821,
           null,
           null,
           null,
           null,
           null,
           null,
           null,
           0.11268271472843099,
           null,
           0.09895767464819924,
           null,
           null,
           0.09186867087093704,
           0.10019436382486731,
           null,
           null,
           null,
           null,
           null,
           null,
           null,
           null,
           null,
           null,
           0.08612475105006775,
           null,
           null,
           null,
           null,
           0.08458545703907237,
           null
          ],
          [
           null,
           null,
           null,
           null,
           null,
           null,
           null,
           null,
           null,
           null,
           null,
           null,
           null,
           null,
           null,
           null,
           null,
           null,
           null,
           null,
           null,
           null,
           null,
           null,
           null,
           null,
           null,
           null,
           null,
           null,
           null,
           null,
           null,
           null
          ]
         ]
        },
        {
         "marker": {
          "color": "black",
          "line": {
           "color": "Gray",
           "width": 2
          }
         },
         "mode": "markers",
         "name": "Feasible Trial",
         "showlegend": false,
         "type": "scatter",
         "x": [
          1.9000000000000001,
          0.05,
          0.5,
          0.2,
          0,
          0.45,
          0.6000000000000001,
          1.1500000000000001,
          0.45,
          0.6000000000000001,
          0.5,
          1.55,
          1.05,
          1.35,
          0.15000000000000002,
          0.6000000000000001,
          0.5,
          0.2,
          1.35,
          0.7000000000000001,
          0.05,
          0.4,
          1.75,
          0.8500000000000001,
          0.5,
          0.65,
          1.1500000000000001,
          0.30000000000000004,
          1.4500000000000002,
          0.25,
          0.9,
          0.6000000000000001,
          1.4000000000000001,
          1.9500000000000002,
          1.6,
          1.6500000000000001,
          1.2000000000000002,
          0.6000000000000001,
          0.5,
          0.2,
          2,
          1.8,
          0.05,
          0,
          0.9500000000000001,
          1.6500000000000001,
          1.75,
          1.05,
          1.4000000000000001,
          0.35000000000000003,
          0.30000000000000004,
          0.6000000000000001,
          0.05,
          1.25,
          1.05,
          0.45,
          0.35000000000000003,
          0.9500000000000001,
          0.6000000000000001,
          0.05,
          0.5,
          0.9,
          1.75,
          0.8500000000000001,
          1.05,
          1.35,
          0.6000000000000001,
          0.7000000000000001,
          0.2,
          0.6000000000000001,
          0.25,
          1.6,
          1.4500000000000002,
          0.9,
          1.9000000000000001,
          0.2,
          0.30000000000000004,
          1.35,
          1.4500000000000002,
          0.6000000000000001,
          0.45,
          0.1,
          0.8500000000000001,
          1.6,
          1.1500000000000001,
          1.75,
          0.65,
          0.5,
          0.9,
          0.5,
          1.6500000000000001,
          1.6500000000000001,
          1.75,
          0.6000000000000001,
          0.5,
          1.8,
          1.1500000000000001,
          1.9500000000000002,
          0.9,
          0.35000000000000003
         ],
         "xaxis": "x14",
         "y": [
          1,
          5,
          1,
          4,
          3,
          1,
          0,
          3,
          5,
          5,
          2,
          1,
          3,
          4,
          0,
          4,
          1,
          2,
          4,
          2,
          0,
          3,
          2,
          5,
          2,
          1,
          2,
          1,
          2,
          3,
          4,
          0,
          0,
          0,
          2,
          1,
          4,
          1,
          1,
          3,
          5,
          3,
          5,
          1,
          4,
          5,
          2,
          3,
          0,
          4,
          2,
          4,
          5,
          4,
          3,
          1,
          4,
          4,
          1,
          2,
          3,
          4,
          2,
          2,
          3,
          4,
          2,
          2,
          2,
          4,
          1,
          2,
          1,
          4,
          1,
          4,
          2,
          2,
          0,
          4,
          2,
          2,
          1,
          2,
          2,
          2,
          2,
          2,
          5,
          1,
          1,
          4,
          2,
          4,
          1,
          0,
          2,
          4,
          1,
          4
         ],
         "yaxis": "y14"
        },
        {
         "colorbar": {
          "title": {
           "text": "Berier Score"
          }
         },
         "colorscale": [
          [
           0,
           "rgb(247,251,255)"
          ],
          [
           0.125,
           "rgb(222,235,247)"
          ],
          [
           0.25,
           "rgb(198,219,239)"
          ],
          [
           0.375,
           "rgb(158,202,225)"
          ],
          [
           0.5,
           "rgb(107,174,214)"
          ],
          [
           0.625,
           "rgb(66,146,198)"
          ],
          [
           0.75,
           "rgb(33,113,181)"
          ],
          [
           0.875,
           "rgb(8,81,156)"
          ],
          [
           1,
           "rgb(8,48,107)"
          ]
         ],
         "connectgaps": true,
         "contours": {
          "coloring": "heatmap"
         },
         "hoverinfo": "none",
         "line": {
          "smoothing": 1.3
         },
         "reversescale": true,
         "showscale": false,
         "type": "contour",
         "x": [
          -0.1,
          0,
          0.05,
          0.1,
          0.15000000000000002,
          0.2,
          0.25,
          0.30000000000000004,
          0.35000000000000003,
          0.4,
          0.45,
          0.5,
          0.6000000000000001,
          0.65,
          0.7000000000000001,
          0.8500000000000001,
          0.9,
          0.9500000000000001,
          1.05,
          1.1500000000000001,
          1.2000000000000002,
          1.25,
          1.35,
          1.4000000000000001,
          1.4500000000000002,
          1.55,
          1.6,
          1.6500000000000001,
          1.75,
          1.8,
          1.9000000000000001,
          1.9500000000000002,
          2,
          2.1
         ],
         "xaxis": "x20",
         "y": [
          37.5,
          50,
          75,
          100,
          200,
          300,
          312.5
         ],
         "yaxis": "y20",
         "z": [
          [
           null,
           null,
           null,
           null,
           null,
           null,
           null,
           null,
           null,
           null,
           null,
           null,
           null,
           null,
           null,
           null,
           null,
           null,
           null,
           null,
           null,
           null,
           null,
           null,
           null,
           null,
           null,
           null,
           null,
           null,
           null,
           null,
           null,
           null
          ],
          [
           null,
           0.13582287369088647,
           null,
           null,
           null,
           null,
           null,
           0.10557201172855095,
           null,
           null,
           0.12452237557520125,
           0.12534585938395798,
           null,
           null,
           null,
           0.12119162051271111,
           null,
           0.08669849054724672,
           null,
           0.09193441977084502,
           null,
           null,
           null,
           0.15071192595553887,
           null,
           null,
           null,
           0.12079189141515675,
           null,
           null,
           null,
           null,
           0.08458545703907237,
           null
          ],
          [
           null,
           0.2369807454766893,
           null,
           null,
           null,
           0.11009726952327215,
           0.12425988214115509,
           null,
           null,
           null,
           null,
           0.11424583702496427,
           0.09630764743635435,
           0.09470330662696716,
           0.09620781129141195,
           null,
           null,
           0.08230788006895152,
           0.07874699433279553,
           0.090526184516903,
           null,
           null,
           0.08810746397632263,
           0.17905252683594775,
           null,
           0.10619306014189815,
           null,
           null,
           0.08551682345574677,
           null,
           null,
           null,
           null,
           null
          ],
          [
           null,
           null,
           null,
           0.12356977261243836,
           0.16169208233499582,
           null,
           null,
           0.10717288048547842,
           0.09743743397870283,
           null,
           null,
           null,
           0.09195111899670967,
           0.10713833385975295,
           null,
           null,
           null,
           null,
           0.08422036547833249,
           null,
           null,
           null,
           0.07429691441361344,
           null,
           0.14614989099909512,
           null,
           0.0909245619872217,
           null,
           0.08652642977032801,
           0.1556628005923667,
           null,
           null,
           null,
           null
          ],
          [
           null,
           null,
           null,
           null,
           null,
           0.11468496825386745,
           null,
           null,
           0.10515735639853782,
           null,
           null,
           0.13047691572373177,
           null,
           null,
           null,
           null,
           0.11268986958912172,
           null,
           null,
           null,
           0.08240570659304877,
           null,
           null,
           null,
           null,
           null,
           null,
           0.08004448622840796,
           null,
           null,
           null,
           0.07998033569640853,
           null,
           null
          ],
          [
           null,
           null,
           0.13615008340706194,
           null,
           null,
           0.12032983628101128,
           null,
           null,
           0.10665968153327306,
           0.09952103049081085,
           0.11288949318759711,
           null,
           0.10013072057549566,
           null,
           0.09220850323728155,
           null,
           0.10019436382486731,
           null,
           null,
           null,
           null,
           0.08948891853060222,
           0.09214562387095178,
           null,
           null,
           null,
           null,
           0.11851280323592236,
           0.08240040067008436,
           null,
           0.13285484935163142,
           null,
           null,
           null
          ],
          [
           null,
           null,
           null,
           null,
           null,
           null,
           null,
           null,
           null,
           null,
           null,
           null,
           null,
           null,
           null,
           null,
           null,
           null,
           null,
           null,
           null,
           null,
           null,
           null,
           null,
           null,
           null,
           null,
           null,
           null,
           null,
           null,
           null,
           null
          ]
         ]
        },
        {
         "marker": {
          "color": "black",
          "line": {
           "color": "Gray",
           "width": 2
          }
         },
         "mode": "markers",
         "name": "Feasible Trial",
         "showlegend": false,
         "type": "scatter",
         "x": [
          1.9000000000000001,
          0.05,
          0.5,
          0.2,
          0,
          0.45,
          0.6000000000000001,
          1.1500000000000001,
          0.45,
          0.6000000000000001,
          0.5,
          1.55,
          1.05,
          1.35,
          0.15000000000000002,
          0.6000000000000001,
          0.5,
          0.2,
          1.35,
          0.7000000000000001,
          0.05,
          0.4,
          1.75,
          0.8500000000000001,
          0.5,
          0.65,
          1.1500000000000001,
          0.30000000000000004,
          1.4500000000000002,
          0.25,
          0.9,
          0.6000000000000001,
          1.4000000000000001,
          1.9500000000000002,
          1.6,
          1.6500000000000001,
          1.2000000000000002,
          0.6000000000000001,
          0.5,
          0.2,
          2,
          1.8,
          0.05,
          0,
          0.9500000000000001,
          1.6500000000000001,
          1.75,
          1.05,
          1.4000000000000001,
          0.35000000000000003,
          0.30000000000000004,
          0.6000000000000001,
          0.05,
          1.25,
          1.05,
          0.45,
          0.35000000000000003,
          0.9500000000000001,
          0.6000000000000001,
          0.05,
          0.5,
          0.9,
          1.75,
          0.8500000000000001,
          1.05,
          1.35,
          0.6000000000000001,
          0.7000000000000001,
          0.2,
          0.6000000000000001,
          0.25,
          1.6,
          1.4500000000000002,
          0.9,
          1.9000000000000001,
          0.2,
          0.30000000000000004,
          1.35,
          1.4500000000000002,
          0.6000000000000001,
          0.45,
          0.1,
          0.8500000000000001,
          1.6,
          1.1500000000000001,
          1.75,
          0.65,
          0.5,
          0.9,
          0.5,
          1.6500000000000001,
          1.6500000000000001,
          1.75,
          0.6000000000000001,
          0.5,
          1.8,
          1.1500000000000001,
          1.9500000000000002,
          0.9,
          0.35000000000000003
         ],
         "xaxis": "x20",
         "y": [
          300,
          300,
          50,
          300,
          50,
          50,
          300,
          75,
          300,
          300,
          75,
          75,
          75,
          75,
          100,
          300,
          75,
          75,
          100,
          300,
          300,
          300,
          75,
          50,
          50,
          100,
          50,
          100,
          100,
          75,
          200,
          75,
          75,
          200,
          100,
          50,
          200,
          75,
          200,
          200,
          50,
          100,
          300,
          75,
          75,
          300,
          300,
          75,
          50,
          300,
          50,
          100,
          300,
          300,
          75,
          300,
          200,
          50,
          75,
          300,
          50,
          300,
          300,
          50,
          100,
          100,
          300,
          75,
          300,
          300,
          75,
          100,
          100,
          200,
          300,
          300,
          100,
          300,
          100,
          75,
          300,
          100,
          50,
          100,
          50,
          100,
          75,
          50,
          300,
          50,
          300,
          200,
          300,
          300,
          200,
          100,
          75,
          200,
          200,
          100
         ],
         "yaxis": "y20"
        },
        {
         "colorbar": {
          "title": {
           "text": "Berier Score"
          }
         },
         "colorscale": [
          [
           0,
           "rgb(247,251,255)"
          ],
          [
           0.125,
           "rgb(222,235,247)"
          ],
          [
           0.25,
           "rgb(198,219,239)"
          ],
          [
           0.375,
           "rgb(158,202,225)"
          ],
          [
           0.5,
           "rgb(107,174,214)"
          ],
          [
           0.625,
           "rgb(66,146,198)"
          ],
          [
           0.75,
           "rgb(33,113,181)"
          ],
          [
           0.875,
           "rgb(8,81,156)"
          ],
          [
           1,
           "rgb(8,48,107)"
          ]
         ],
         "connectgaps": true,
         "contours": {
          "coloring": "heatmap"
         },
         "hoverinfo": "none",
         "line": {
          "smoothing": 1.3
         },
         "reversescale": true,
         "showscale": false,
         "type": "contour",
         "x": [
          -0.1,
          0,
          0.05,
          0.1,
          0.15000000000000002,
          0.2,
          0.25,
          0.30000000000000004,
          0.35000000000000003,
          0.4,
          0.45,
          0.5,
          0.6000000000000001,
          0.65,
          0.7000000000000001,
          0.8500000000000001,
          0.9,
          0.9500000000000001,
          1.05,
          1.1500000000000001,
          1.2000000000000002,
          1.25,
          1.35,
          1.4000000000000001,
          1.4500000000000002,
          1.55,
          1.6,
          1.6500000000000001,
          1.75,
          1.8,
          1.9000000000000001,
          1.9500000000000002,
          2,
          2.1
         ],
         "xaxis": "x26",
         "y": [
          0.9,
          1,
          2,
          3,
          3.1
         ],
         "yaxis": "y26",
         "z": [
          [
           null,
           null,
           null,
           null,
           null,
           null,
           null,
           null,
           null,
           null,
           null,
           null,
           null,
           null,
           null,
           null,
           null,
           null,
           null,
           null,
           null,
           null,
           null,
           null,
           null,
           null,
           null,
           null,
           null,
           null,
           null,
           null,
           null,
           null
          ],
          [
           null,
           0.2369807454766893,
           0.17848323203310007,
           null,
           0.16169208233499582,
           0.11468496825386745,
           null,
           0.10717288048547842,
           0.09743743397870283,
           null,
           0.11288949318759711,
           0.13047691572373177,
           0.09630764743635435,
           0.10713833385975295,
           null,
           null,
           0.11268986958912172,
           0.08669849054724672,
           0.08422036547833249,
           0.090526184516903,
           0.08240570659304877,
           null,
           0.09214562387095178,
           0.15071192595553887,
           0.1020634166852071,
           0.10619306014189815,
           0.08765653387512147,
           0.12079189141515675,
           null,
           null,
           0.13285484935163142,
           0.07998033569640853,
           null,
           null
          ],
          [
           null,
           0.13582287369088647,
           0.13615008340706194,
           0.12356977261243836,
           null,
           0.12032983628101128,
           0.12425988214115509,
           0.10557201172855095,
           0.10665968153327306,
           null,
           0.12251303824145901,
           0.12534585938395798,
           0.10013072057549566,
           null,
           null,
           0.12119162051271111,
           null,
           null,
           null,
           0.09075300360053928,
           null,
           null,
           0.07429691441361344,
           0.17905252683594775,
           0.14614989099909512,
           null,
           0.0909245619872217,
           0.08004448622840796,
           0.09347149989815676,
           0.0808865219980063,
           0.11374112480295542,
           null,
           0.08458545703907237,
           null
          ],
          [
           null,
           null,
           null,
           null,
           null,
           0.12476681686446404,
           null,
           0.1276137827395981,
           null,
           0.09952103049081085,
           null,
           null,
           0.10161461785105619,
           0.09470330662696716,
           0.09620781129141195,
           null,
           0.10019436382486731,
           null,
           null,
           null,
           null,
           0.08948891853060222,
           null,
           null,
           null,
           null,
           null,
           null,
           0.08240040067008436,
           0.1556628005923667,
           null,
           null,
           null,
           null
          ],
          [
           null,
           null,
           null,
           null,
           null,
           null,
           null,
           null,
           null,
           null,
           null,
           null,
           null,
           null,
           null,
           null,
           null,
           null,
           null,
           null,
           null,
           null,
           null,
           null,
           null,
           null,
           null,
           null,
           null,
           null,
           null,
           null,
           null,
           null
          ]
         ]
        },
        {
         "marker": {
          "color": "black",
          "line": {
           "color": "Gray",
           "width": 2
          }
         },
         "mode": "markers",
         "name": "Feasible Trial",
         "showlegend": false,
         "type": "scatter",
         "x": [
          1.9000000000000001,
          0.05,
          0.5,
          0.2,
          0,
          0.45,
          0.6000000000000001,
          1.1500000000000001,
          0.45,
          0.6000000000000001,
          0.5,
          1.55,
          1.05,
          1.35,
          0.15000000000000002,
          0.6000000000000001,
          0.5,
          0.2,
          1.35,
          0.7000000000000001,
          0.05,
          0.4,
          1.75,
          0.8500000000000001,
          0.5,
          0.65,
          1.1500000000000001,
          0.30000000000000004,
          1.4500000000000002,
          0.25,
          0.9,
          0.6000000000000001,
          1.4000000000000001,
          1.9500000000000002,
          1.6,
          1.6500000000000001,
          1.2000000000000002,
          0.6000000000000001,
          0.5,
          0.2,
          2,
          1.8,
          0.05,
          0,
          0.9500000000000001,
          1.6500000000000001,
          1.75,
          1.05,
          1.4000000000000001,
          0.35000000000000003,
          0.30000000000000004,
          0.6000000000000001,
          0.05,
          1.25,
          1.05,
          0.45,
          0.35000000000000003,
          0.9500000000000001,
          0.6000000000000001,
          0.05,
          0.5,
          0.9,
          1.75,
          0.8500000000000001,
          1.05,
          1.35,
          0.6000000000000001,
          0.7000000000000001,
          0.2,
          0.6000000000000001,
          0.25,
          1.6,
          1.4500000000000002,
          0.9,
          1.9000000000000001,
          0.2,
          0.30000000000000004,
          1.35,
          1.4500000000000002,
          0.6000000000000001,
          0.45,
          0.1,
          0.8500000000000001,
          1.6,
          1.1500000000000001,
          1.75,
          0.65,
          0.5,
          0.9,
          0.5,
          1.6500000000000001,
          1.6500000000000001,
          1.75,
          0.6000000000000001,
          0.5,
          1.8,
          1.1500000000000001,
          1.9500000000000002,
          0.9,
          0.35000000000000003
         ],
         "xaxis": "x26",
         "y": [
          2,
          2,
          2,
          3,
          2,
          2,
          3,
          1,
          1,
          1,
          1,
          1,
          1,
          1,
          1,
          3,
          2,
          1,
          2,
          3,
          1,
          3,
          3,
          2,
          1,
          1,
          2,
          3,
          1,
          2,
          3,
          2,
          2,
          1,
          1,
          1,
          1,
          2,
          1,
          1,
          2,
          2,
          2,
          1,
          1,
          2,
          2,
          1,
          1,
          2,
          2,
          1,
          2,
          3,
          1,
          2,
          1,
          1,
          2,
          2,
          2,
          3,
          3,
          2,
          1,
          2,
          1,
          3,
          2,
          1,
          2,
          1,
          1,
          3,
          1,
          2,
          1,
          1,
          2,
          1,
          1,
          2,
          2,
          2,
          1,
          3,
          3,
          1,
          3,
          2,
          2,
          2,
          3,
          2,
          1,
          3,
          1,
          1,
          1,
          1
         ],
         "yaxis": "y26"
        },
        {
         "colorbar": {
          "title": {
           "text": "Berier Score"
          }
         },
         "colorscale": [
          [
           0,
           "rgb(247,251,255)"
          ],
          [
           0.125,
           "rgb(222,235,247)"
          ],
          [
           0.25,
           "rgb(198,219,239)"
          ],
          [
           0.375,
           "rgb(158,202,225)"
          ],
          [
           0.5,
           "rgb(107,174,214)"
          ],
          [
           0.625,
           "rgb(66,146,198)"
          ],
          [
           0.75,
           "rgb(33,113,181)"
          ],
          [
           0.875,
           "rgb(8,81,156)"
          ],
          [
           1,
           "rgb(8,48,107)"
          ]
         ],
         "connectgaps": true,
         "contours": {
          "coloring": "heatmap"
         },
         "hoverinfo": "none",
         "line": {
          "smoothing": 1.3
         },
         "reversescale": true,
         "showscale": false,
         "type": "contour",
         "x": [
          -0.1,
          0,
          0.05,
          0.1,
          0.15000000000000002,
          0.2,
          0.25,
          0.30000000000000004,
          0.35000000000000003,
          0.4,
          0.45,
          0.5,
          0.6000000000000001,
          0.65,
          0.7000000000000001,
          0.8500000000000001,
          0.9,
          0.9500000000000001,
          1.05,
          1.1500000000000001,
          1.2000000000000002,
          1.25,
          1.35,
          1.4000000000000001,
          1.4500000000000002,
          1.55,
          1.6,
          1.6500000000000001,
          1.75,
          1.8,
          1.9000000000000001,
          1.9500000000000002,
          2,
          2.1
         ],
         "xaxis": "x32",
         "y": [
          925,
          1000,
          1500,
          2000,
          2500,
          2575
         ],
         "yaxis": "y32",
         "z": [
          [
           null,
           null,
           null,
           null,
           null,
           null,
           null,
           null,
           null,
           null,
           null,
           null,
           null,
           null,
           null,
           null,
           null,
           null,
           null,
           null,
           null,
           null,
           null,
           null,
           null,
           null,
           null,
           null,
           null,
           null,
           null,
           null,
           null,
           null
          ],
          [
           null,
           0.13582287369088647,
           null,
           null,
           null,
           null,
           null,
           0.1276137827395981,
           0.10515735639853782,
           null,
           0.11288949318759711,
           null,
           0.11593370407858314,
           null,
           null,
           null,
           0.10019436382486731,
           null,
           null,
           null,
           0.08240570659304877,
           null,
           null,
           0.17905252683594775,
           null,
           null,
           null,
           null,
           null,
           null,
           null,
           0.07998033569640853,
           null,
           null
          ],
          [
           null,
           null,
           0.17848323203310007,
           null,
           null,
           0.12476681686446404,
           0.12425988214115509,
           null,
           null,
           null,
           null,
           0.13047691572373177,
           0.10013072057549566,
           null,
           null,
           0.12119162051271111,
           null,
           null,
           null,
           0.07862022171714446,
           null,
           0.08948891853060222,
           0.07429691441361344,
           null,
           0.1020634166852071,
           null,
           null,
           0.08004448622840796,
           0.08658539101108456,
           0.1556628005923667,
           null,
           0.1643310120573122,
           null,
           null
          ],
          [
           null,
           null,
           0.13124124590441927,
           null,
           null,
           0.12032983628101128,
           null,
           0.10557201172855095,
           null,
           null,
           0.12452237557520125,
           0.12534585938395798,
           null,
           null,
           null,
           null,
           null,
           null,
           0.07874699433279553,
           0.09075300360053928,
           null,
           null,
           0.08810746397632263,
           0.15071192595553887,
           null,
           0.10619306014189815,
           0.0909245619872217,
           0.12079189141515675,
           0.08652642977032801,
           null,
           0.13285484935163142,
           null,
           null,
           null
          ],
          [
           null,
           0.2369807454766893,
           0.13615008340706194,
           0.12356977261243836,
           0.16169208233499582,
           0.11402384536999355,
           null,
           0.10717288048547842,
           0.09743743397870283,
           0.09952103049081085,
           null,
           0.10465319794205401,
           null,
           0.09470330662696716,
           0.09620781129141195,
           0.09677264998232762,
           0.11268986958912172,
           0.08669849054724672,
           0.08422036547833249,
           0.090526184516903,
           null,
           null,
           0.09214562387095178,
           null,
           0.14614989099909512,
           null,
           0.08765653387512147,
           0.11851280323592236,
           0.08240040067008436,
           0.0808865219980063,
           null,
           null,
           0.08458545703907237,
           null
          ],
          [
           null,
           null,
           null,
           null,
           null,
           null,
           null,
           null,
           null,
           null,
           null,
           null,
           null,
           null,
           null,
           null,
           null,
           null,
           null,
           null,
           null,
           null,
           null,
           null,
           null,
           null,
           null,
           null,
           null,
           null,
           null,
           null,
           null,
           null
          ]
         ]
        },
        {
         "marker": {
          "color": "black",
          "line": {
           "color": "Gray",
           "width": 2
          }
         },
         "mode": "markers",
         "name": "Feasible Trial",
         "showlegend": false,
         "type": "scatter",
         "x": [
          1.9000000000000001,
          0.05,
          0.5,
          0.2,
          0,
          0.45,
          0.6000000000000001,
          1.1500000000000001,
          0.45,
          0.6000000000000001,
          0.5,
          1.55,
          1.05,
          1.35,
          0.15000000000000002,
          0.6000000000000001,
          0.5,
          0.2,
          1.35,
          0.7000000000000001,
          0.05,
          0.4,
          1.75,
          0.8500000000000001,
          0.5,
          0.65,
          1.1500000000000001,
          0.30000000000000004,
          1.4500000000000002,
          0.25,
          0.9,
          0.6000000000000001,
          1.4000000000000001,
          1.9500000000000002,
          1.6,
          1.6500000000000001,
          1.2000000000000002,
          0.6000000000000001,
          0.5,
          0.2,
          2,
          1.8,
          0.05,
          0,
          0.9500000000000001,
          1.6500000000000001,
          1.75,
          1.05,
          1.4000000000000001,
          0.35000000000000003,
          0.30000000000000004,
          0.6000000000000001,
          0.05,
          1.25,
          1.05,
          0.45,
          0.35000000000000003,
          0.9500000000000001,
          0.6000000000000001,
          0.05,
          0.5,
          0.9,
          1.75,
          0.8500000000000001,
          1.05,
          1.35,
          0.6000000000000001,
          0.7000000000000001,
          0.2,
          0.6000000000000001,
          0.25,
          1.6,
          1.4500000000000002,
          0.9,
          1.9000000000000001,
          0.2,
          0.30000000000000004,
          1.35,
          1.4500000000000002,
          0.6000000000000001,
          0.45,
          0.1,
          0.8500000000000001,
          1.6,
          1.1500000000000001,
          1.75,
          0.65,
          0.5,
          0.9,
          0.5,
          1.6500000000000001,
          1.6500000000000001,
          1.75,
          0.6000000000000001,
          0.5,
          1.8,
          1.1500000000000001,
          1.9500000000000002,
          0.9,
          0.35000000000000003
         ],
         "xaxis": "x32",
         "y": [
          2000,
          2500,
          2000,
          1500,
          1000,
          2000,
          1000,
          1500,
          1000,
          1500,
          2500,
          2000,
          2500,
          2000,
          2500,
          1500,
          2000,
          2500,
          1500,
          2500,
          1500,
          2500,
          2500,
          2500,
          2000,
          2500,
          2000,
          1000,
          2500,
          1500,
          1000,
          1500,
          1000,
          1500,
          2000,
          2000,
          1000,
          1000,
          1500,
          2500,
          2500,
          2500,
          2000,
          2500,
          2500,
          1500,
          2000,
          2000,
          2000,
          2500,
          2000,
          1500,
          2500,
          1500,
          2000,
          1000,
          1000,
          2500,
          1000,
          2500,
          2000,
          1000,
          1500,
          2500,
          2500,
          1500,
          1500,
          2500,
          2500,
          1500,
          1500,
          2500,
          1500,
          1000,
          2000,
          2000,
          2500,
          2500,
          2500,
          1500,
          1000,
          2500,
          1500,
          2000,
          2500,
          2000,
          2500,
          2000,
          1000,
          2000,
          2500,
          1500,
          2500,
          1500,
          1500,
          1500,
          2500,
          1000,
          2500,
          2500
         ],
         "yaxis": "y32"
        },
        {
         "colorbar": {
          "title": {
           "text": "Berier Score"
          }
         },
         "colorscale": [
          [
           0,
           "rgb(247,251,255)"
          ],
          [
           0.125,
           "rgb(222,235,247)"
          ],
          [
           0.25,
           "rgb(198,219,239)"
          ],
          [
           0.375,
           "rgb(158,202,225)"
          ],
          [
           0.5,
           "rgb(107,174,214)"
          ],
          [
           0.625,
           "rgb(66,146,198)"
          ],
          [
           0.75,
           "rgb(33,113,181)"
          ],
          [
           0.875,
           "rgb(8,81,156)"
          ],
          [
           1,
           "rgb(8,48,107)"
          ]
         ],
         "connectgaps": true,
         "contours": {
          "coloring": "heatmap"
         },
         "hoverinfo": "none",
         "line": {
          "smoothing": 1.3
         },
         "reversescale": true,
         "showscale": false,
         "type": "contour",
         "x": [
          -0.25,
          0,
          1,
          2,
          3,
          4,
          5,
          5.25
         ],
         "xaxis": "x3",
         "y": [
          0.055,
          0.1,
          0.15000000000000002,
          0.2,
          0.25,
          0.30000000000000004,
          0.35,
          0.4,
          0.45000000000000007,
          0.5,
          0.55,
          0.6,
          0.65,
          0.7000000000000001,
          0.75,
          0.8,
          0.85,
          0.9500000000000001,
          1,
          1.045
         ],
         "yaxis": "y3",
         "z": [
          [
           null,
           null,
           null,
           null,
           null,
           null,
           null,
           null
          ],
          [
           null,
           0.15071192595553887,
           null,
           null,
           null,
           null,
           null,
           null
          ],
          [
           null,
           null,
           0.13047691572373177,
           0.13615008340706194,
           null,
           null,
           null,
           null
          ],
          [
           null,
           null,
           0.11851280323592236,
           0.09214562387095178,
           null,
           0.08240570659304877,
           0.10019436382486731,
           null
          ],
          [
           null,
           0.1556628005923667,
           0.12251303824145901,
           0.08240040067008436,
           null,
           0.09630764743635435,
           null,
           null
          ],
          [
           null,
           null,
           0.11424583702496427,
           0.10495411774125105,
           null,
           null,
           null,
           null
          ],
          [
           null,
           0.17848323203310007,
           0.2369807454766893,
           null,
           0.09952103049081085,
           null,
           null,
           null
          ],
          [
           null,
           null,
           0.11268986958912172,
           0.09193441977084502,
           0.08422036547833249,
           0.10013072057549566,
           0.09186867087093704,
           null
          ],
          [
           null,
           0.16169208233499582,
           null,
           0.10385922859827153,
           0.07874699433279553,
           0.09743743397870283,
           null,
           null
          ],
          [
           null,
           0.19331547085265885,
           null,
           null,
           null,
           0.07998033569640853,
           0.12992490211940821,
           null
          ],
          [
           null,
           null,
           null,
           0.090526184516903,
           0.07862022171714446,
           null,
           0.11268271472843099,
           null
          ],
          [
           null,
           null,
           0.13285484935163142,
           0.08652642977032801,
           0.08291639449112218,
           0.08810746397632263,
           0.08458545703907237,
           null
          ],
          [
           null,
           0.17905252683594775,
           0.1276137827395981,
           null,
           null,
           null,
           null,
           null
          ],
          [
           null,
           null,
           0.11374112480295542,
           0.11402384536999355,
           0.11468496825386745,
           0.10515735639853782,
           null,
           null
          ],
          [
           null,
           null,
           0.12425988214115509,
           0.09620781129141195,
           null,
           null,
           null,
           null
          ],
          [
           null,
           null,
           0.10713833385975295,
           0.0909245619872217,
           0.09097776703461047,
           null,
           null,
           null
          ],
          [
           null,
           null,
           0.11687315580070105,
           0.11288949318759711,
           null,
           0.12032983628101128,
           null,
           null
          ],
          [
           null,
           0.14614989099909512,
           0.12534585938395798,
           0.09470330662696716,
           0.10994848109172935,
           0.09574528693736387,
           null,
           null
          ],
          [
           null,
           0.1951916374994696,
           0.12079189141515675,
           0.12356977261243836,
           null,
           0.08669849054724672,
           0.13124124590441927,
           null
          ],
          [
           null,
           null,
           null,
           null,
           null,
           null,
           null,
           null
          ]
         ]
        },
        {
         "marker": {
          "color": "black",
          "line": {
           "color": "Gray",
           "width": 2
          }
         },
         "mode": "markers",
         "name": "Feasible Trial",
         "showlegend": false,
         "type": "scatter",
         "x": [
          1,
          5,
          1,
          4,
          3,
          1,
          0,
          3,
          5,
          5,
          2,
          1,
          3,
          4,
          0,
          4,
          1,
          2,
          4,
          2,
          0,
          3,
          2,
          5,
          2,
          1,
          2,
          1,
          2,
          3,
          4,
          0,
          0,
          0,
          2,
          1,
          4,
          1,
          1,
          3,
          5,
          3,
          5,
          1,
          4,
          5,
          2,
          3,
          0,
          4,
          2,
          4,
          5,
          4,
          3,
          1,
          4,
          4,
          1,
          2,
          3,
          4,
          2,
          2,
          3,
          4,
          2,
          2,
          2,
          4,
          1,
          2,
          1,
          4,
          1,
          4,
          2,
          2,
          0,
          4,
          2,
          2,
          1,
          2,
          2,
          2,
          2,
          2,
          5,
          1,
          1,
          4,
          2,
          4,
          1,
          0,
          2,
          4,
          1,
          4
         ],
         "xaxis": "x3",
         "y": [
          0.7000000000000001,
          0.5,
          0.75,
          0.85,
          0.8,
          0.85,
          0.5,
          0.55,
          0.55,
          0.4,
          0.25,
          1,
          0.4,
          0.6,
          0.45000000000000007,
          0.25,
          0.30000000000000004,
          0.2,
          0.4,
          0.75,
          0.35,
          0.35,
          0.9500000000000001,
          0.4,
          0.45000000000000007,
          0.8,
          0.30000000000000004,
          0.65,
          0.9500000000000001,
          0.9500000000000001,
          1,
          1,
          0.65,
          0.25,
          0.6,
          1,
          0.2,
          0.85,
          0.15000000000000002,
          0.7000000000000001,
          0.6,
          0.45000000000000007,
          1,
          0.35,
          0.5,
          0.2,
          0.6,
          0.6,
          0.1,
          0.85,
          0.30000000000000004,
          0.9500000000000001,
          0.5,
          0.85,
          0.45000000000000007,
          0.25,
          0.7000000000000001,
          1,
          0.75,
          0.15000000000000002,
          0.8,
          0.9500000000000001,
          0.85,
          0.85,
          0.4,
          0.4,
          0.9500000000000001,
          0.75,
          0.7000000000000001,
          0.4,
          0.75,
          0.2,
          0.9500000000000001,
          0.85,
          0.6,
          0.85,
          0.9500000000000001,
          0.2,
          0.9500000000000001,
          0.25,
          0.85,
          1,
          0.4,
          0.8,
          0.4,
          0.6,
          0.9500000000000001,
          0.30000000000000004,
          0.2,
          0.9500000000000001,
          0.2,
          0.4,
          0.25,
          0.4,
          0.15000000000000002,
          0.25,
          0.55,
          0.5,
          0.4,
          0.45000000000000007
         ],
         "yaxis": "y3"
        },
        {
         "colorbar": {
          "title": {
           "text": "Berier Score"
          }
         },
         "colorscale": [
          [
           0,
           "rgb(247,251,255)"
          ],
          [
           0.125,
           "rgb(222,235,247)"
          ],
          [
           0.25,
           "rgb(198,219,239)"
          ],
          [
           0.375,
           "rgb(158,202,225)"
          ],
          [
           0.5,
           "rgb(107,174,214)"
          ],
          [
           0.625,
           "rgb(66,146,198)"
          ],
          [
           0.75,
           "rgb(33,113,181)"
          ],
          [
           0.875,
           "rgb(8,81,156)"
          ],
          [
           1,
           "rgb(8,48,107)"
          ]
         ],
         "connectgaps": true,
         "contours": {
          "coloring": "heatmap"
         },
         "hoverinfo": "none",
         "line": {
          "smoothing": 1.3
         },
         "reversescale": true,
         "showscale": false,
         "type": "contour",
         "x": [
          -0.25,
          0,
          1,
          2,
          3,
          4,
          5,
          5.25
         ],
         "xaxis": "x9",
         "y": [
          -0.1,
          0,
          0.05,
          0.1,
          0.15000000000000002,
          0.2,
          0.25,
          0.30000000000000004,
          0.35000000000000003,
          0.4,
          0.45,
          0.5,
          0.6000000000000001,
          0.65,
          0.7000000000000001,
          0.8500000000000001,
          0.9,
          0.9500000000000001,
          1.05,
          1.1500000000000001,
          1.2000000000000002,
          1.25,
          1.35,
          1.4000000000000001,
          1.4500000000000002,
          1.55,
          1.6,
          1.6500000000000001,
          1.75,
          1.8,
          1.9000000000000001,
          1.9500000000000002,
          2,
          2.1
         ],
         "yaxis": "y9",
         "z": [
          [
           null,
           null,
           null,
           null,
           null,
           null,
           null,
           null
          ],
          [
           null,
           null,
           0.2369807454766893,
           null,
           0.13582287369088647,
           null,
           null,
           null
          ],
          [
           null,
           0.17848323203310007,
           null,
           0.13615008340706194,
           null,
           null,
           0.12992490211940821,
           null
          ],
          [
           null,
           null,
           null,
           0.12356977261243836,
           null,
           null,
           null,
           null
          ],
          [
           null,
           0.16169208233499582,
           null,
           null,
           null,
           null,
           null,
           null
          ],
          [
           null,
           null,
           null,
           0.11402384536999355,
           0.11468496825386745,
           0.12032983628101128,
           null,
           null
          ],
          [
           null,
           null,
           0.12425988214115509,
           null,
           0.10994848109172935,
           null,
           null,
           null
          ],
          [
           null,
           null,
           0.1276137827395981,
           0.10717288048547842,
           null,
           null,
           null,
           null
          ],
          [
           null,
           null,
           null,
           null,
           null,
           0.09743743397870283,
           null,
           null
          ],
          [
           null,
           null,
           null,
           null,
           0.09952103049081085,
           null,
           null,
           null
          ],
          [
           null,
           null,
           0.12251303824145901,
           0.11288949318759711,
           null,
           null,
           0.11268271472843099,
           null
          ],
          [
           null,
           null,
           0.13047691572373177,
           0.10495411774125105,
           0.09097776703461047,
           null,
           null,
           null
          ],
          [
           null,
           0.1951916374994696,
           0.11593370407858314,
           0.11975742246849856,
           null,
           0.10013072057549566,
           0.09895767464819924,
           null
          ],
          [
           null,
           null,
           0.10713833385975295,
           0.09470330662696716,
           null,
           null,
           null,
           null
          ],
          [
           null,
           null,
           null,
           0.09620781129141195,
           null,
           null,
           null,
           null
          ],
          [
           null,
           null,
           0.12119162051271111,
           0.09677264998232762,
           null,
           null,
           0.09186867087093704,
           null
          ],
          [
           null,
           null,
           0.11268986958912172,
           null,
           null,
           0.09044456828003454,
           0.10019436382486731,
           null
          ],
          [
           null,
           null,
           null,
           null,
           null,
           0.08669849054724672,
           null,
           null
          ],
          [
           null,
           null,
           null,
           null,
           0.08422036547833249,
           null,
           null,
           null
          ],
          [
           null,
           null,
           null,
           0.090526184516903,
           0.07862022171714446,
           null,
           null,
           null
          ],
          [
           null,
           null,
           null,
           null,
           null,
           0.08240570659304877,
           null,
           null
          ],
          [
           null,
           null,
           null,
           null,
           null,
           0.08948891853060222,
           null,
           null
          ],
          [
           null,
           null,
           null,
           0.09214562387095178,
           null,
           0.07429691441361344,
           null,
           null
          ],
          [
           null,
           0.15071192595553887,
           null,
           null,
           null,
           null,
           null,
           null
          ],
          [
           null,
           0.14614989099909512,
           0.1020634166852071,
           0.09359666887990507,
           null,
           null,
           null,
           null
          ],
          [
           null,
           null,
           0.10619306014189815,
           null,
           null,
           null,
           null,
           null
          ],
          [
           null,
           null,
           null,
           0.0909245619872217,
           null,
           null,
           null,
           null
          ],
          [
           null,
           null,
           0.11851280323592236,
           null,
           null,
           0.08004448622840796,
           0.08612475105006775,
           null
          ],
          [
           null,
           null,
           null,
           0.08240040067008436,
           null,
           null,
           null,
           null
          ],
          [
           null,
           0.1556628005923667,
           null,
           null,
           0.0808865219980063,
           null,
           null,
           null
          ],
          [
           null,
           null,
           0.13285484935163142,
           null,
           null,
           null,
           null,
           null
          ],
          [
           null,
           0.1643310120573122,
           null,
           null,
           null,
           0.07998033569640853,
           null,
           null
          ],
          [
           null,
           null,
           null,
           null,
           null,
           null,
           0.08458545703907237,
           null
          ],
          [
           null,
           null,
           null,
           null,
           null,
           null,
           null,
           null
          ]
         ]
        },
        {
         "marker": {
          "color": "black",
          "line": {
           "color": "Gray",
           "width": 2
          }
         },
         "mode": "markers",
         "name": "Feasible Trial",
         "showlegend": false,
         "type": "scatter",
         "x": [
          1,
          5,
          1,
          4,
          3,
          1,
          0,
          3,
          5,
          5,
          2,
          1,
          3,
          4,
          0,
          4,
          1,
          2,
          4,
          2,
          0,
          3,
          2,
          5,
          2,
          1,
          2,
          1,
          2,
          3,
          4,
          0,
          0,
          0,
          2,
          1,
          4,
          1,
          1,
          3,
          5,
          3,
          5,
          1,
          4,
          5,
          2,
          3,
          0,
          4,
          2,
          4,
          5,
          4,
          3,
          1,
          4,
          4,
          1,
          2,
          3,
          4,
          2,
          2,
          3,
          4,
          2,
          2,
          2,
          4,
          1,
          2,
          1,
          4,
          1,
          4,
          2,
          2,
          0,
          4,
          2,
          2,
          1,
          2,
          2,
          2,
          2,
          2,
          5,
          1,
          1,
          4,
          2,
          4,
          1,
          0,
          2,
          4,
          1,
          4
         ],
         "xaxis": "x9",
         "y": [
          1.9000000000000001,
          0.05,
          0.5,
          0.2,
          0,
          0.45,
          0.6000000000000001,
          1.1500000000000001,
          0.45,
          0.6000000000000001,
          0.5,
          1.55,
          1.05,
          1.35,
          0.15000000000000002,
          0.6000000000000001,
          0.5,
          0.2,
          1.35,
          0.7000000000000001,
          0.05,
          0.4,
          1.75,
          0.8500000000000001,
          0.5,
          0.65,
          1.1500000000000001,
          0.30000000000000004,
          1.4500000000000002,
          0.25,
          0.9,
          0.6000000000000001,
          1.4000000000000001,
          1.9500000000000002,
          1.6,
          1.6500000000000001,
          1.2000000000000002,
          0.6000000000000001,
          0.5,
          0.2,
          2,
          1.8,
          0.05,
          0,
          0.9500000000000001,
          1.6500000000000001,
          1.75,
          1.05,
          1.4000000000000001,
          0.35000000000000003,
          0.30000000000000004,
          0.6000000000000001,
          0.05,
          1.25,
          1.05,
          0.45,
          0.35000000000000003,
          0.9500000000000001,
          0.6000000000000001,
          0.05,
          0.5,
          0.9,
          1.75,
          0.8500000000000001,
          1.05,
          1.35,
          0.6000000000000001,
          0.7000000000000001,
          0.2,
          0.6000000000000001,
          0.25,
          1.6,
          1.4500000000000002,
          0.9,
          1.9000000000000001,
          0.2,
          0.30000000000000004,
          1.35,
          1.4500000000000002,
          0.6000000000000001,
          0.45,
          0.1,
          0.8500000000000001,
          1.6,
          1.1500000000000001,
          1.75,
          0.65,
          0.5,
          0.9,
          0.5,
          1.6500000000000001,
          1.6500000000000001,
          1.75,
          0.6000000000000001,
          0.5,
          1.8,
          1.1500000000000001,
          1.9500000000000002,
          0.9,
          0.35000000000000003
         ],
         "yaxis": "y9"
        },
        {
         "type": "scatter",
         "xaxis": "x15",
         "yaxis": "y15"
        },
        {
         "colorbar": {
          "title": {
           "text": "Berier Score"
          }
         },
         "colorscale": [
          [
           0,
           "rgb(247,251,255)"
          ],
          [
           0.125,
           "rgb(222,235,247)"
          ],
          [
           0.25,
           "rgb(198,219,239)"
          ],
          [
           0.375,
           "rgb(158,202,225)"
          ],
          [
           0.5,
           "rgb(107,174,214)"
          ],
          [
           0.625,
           "rgb(66,146,198)"
          ],
          [
           0.75,
           "rgb(33,113,181)"
          ],
          [
           0.875,
           "rgb(8,81,156)"
          ],
          [
           1,
           "rgb(8,48,107)"
          ]
         ],
         "connectgaps": true,
         "contours": {
          "coloring": "heatmap"
         },
         "hoverinfo": "none",
         "line": {
          "smoothing": 1.3
         },
         "reversescale": true,
         "showscale": false,
         "type": "contour",
         "x": [
          -0.25,
          0,
          1,
          2,
          3,
          4,
          5,
          5.25
         ],
         "xaxis": "x21",
         "y": [
          37.5,
          50,
          75,
          100,
          200,
          300,
          312.5
         ],
         "yaxis": "y21",
         "z": [
          [
           null,
           null,
           null,
           null,
           null,
           null,
           null,
           null
          ],
          [
           null,
           0.15071192595553887,
           0.12534585938395798,
           0.10495411774125105,
           0.09097776703461047,
           0.08669849054724672,
           0.08458545703907237,
           null
          ],
          [
           null,
           0.17905252683594775,
           0.12425988214115509,
           0.090526184516903,
           0.07874699433279553,
           0.09630764743635435,
           null,
           null
          ],
          [
           null,
           0.1556628005923667,
           0.1020634166852071,
           0.08652642977032801,
           0.08422036547833249,
           0.09743743397870283,
           null,
           null
          ],
          [
           null,
           0.1643310120573122,
           0.11268986958912172,
           null,
           0.11468496825386745,
           0.07998033569640853,
           null,
           null
          ],
          [
           null,
           0.17848323203310007,
           0.11851280323592236,
           0.08240040067008436,
           0.09952103049081085,
           0.10013072057549566,
           0.10019436382486731,
           null
          ],
          [
           null,
           null,
           null,
           null,
           null,
           null,
           null,
           null
          ]
         ]
        },
        {
         "marker": {
          "color": "black",
          "line": {
           "color": "Gray",
           "width": 2
          }
         },
         "mode": "markers",
         "name": "Feasible Trial",
         "showlegend": false,
         "type": "scatter",
         "x": [
          1,
          5,
          1,
          4,
          3,
          1,
          0,
          3,
          5,
          5,
          2,
          1,
          3,
          4,
          0,
          4,
          1,
          2,
          4,
          2,
          0,
          3,
          2,
          5,
          2,
          1,
          2,
          1,
          2,
          3,
          4,
          0,
          0,
          0,
          2,
          1,
          4,
          1,
          1,
          3,
          5,
          3,
          5,
          1,
          4,
          5,
          2,
          3,
          0,
          4,
          2,
          4,
          5,
          4,
          3,
          1,
          4,
          4,
          1,
          2,
          3,
          4,
          2,
          2,
          3,
          4,
          2,
          2,
          2,
          4,
          1,
          2,
          1,
          4,
          1,
          4,
          2,
          2,
          0,
          4,
          2,
          2,
          1,
          2,
          2,
          2,
          2,
          2,
          5,
          1,
          1,
          4,
          2,
          4,
          1,
          0,
          2,
          4,
          1,
          4
         ],
         "xaxis": "x21",
         "y": [
          300,
          300,
          50,
          300,
          50,
          50,
          300,
          75,
          300,
          300,
          75,
          75,
          75,
          75,
          100,
          300,
          75,
          75,
          100,
          300,
          300,
          300,
          75,
          50,
          50,
          100,
          50,
          100,
          100,
          75,
          200,
          75,
          75,
          200,
          100,
          50,
          200,
          75,
          200,
          200,
          50,
          100,
          300,
          75,
          75,
          300,
          300,
          75,
          50,
          300,
          50,
          100,
          300,
          300,
          75,
          300,
          200,
          50,
          75,
          300,
          50,
          300,
          300,
          50,
          100,
          100,
          300,
          75,
          300,
          300,
          75,
          100,
          100,
          200,
          300,
          300,
          100,
          300,
          100,
          75,
          300,
          100,
          50,
          100,
          50,
          100,
          75,
          50,
          300,
          50,
          300,
          200,
          300,
          300,
          200,
          100,
          75,
          200,
          200,
          100
         ],
         "yaxis": "y21"
        },
        {
         "colorbar": {
          "title": {
           "text": "Berier Score"
          }
         },
         "colorscale": [
          [
           0,
           "rgb(247,251,255)"
          ],
          [
           0.125,
           "rgb(222,235,247)"
          ],
          [
           0.25,
           "rgb(198,219,239)"
          ],
          [
           0.375,
           "rgb(158,202,225)"
          ],
          [
           0.5,
           "rgb(107,174,214)"
          ],
          [
           0.625,
           "rgb(66,146,198)"
          ],
          [
           0.75,
           "rgb(33,113,181)"
          ],
          [
           0.875,
           "rgb(8,81,156)"
          ],
          [
           1,
           "rgb(8,48,107)"
          ]
         ],
         "connectgaps": true,
         "contours": {
          "coloring": "heatmap"
         },
         "hoverinfo": "none",
         "line": {
          "smoothing": 1.3
         },
         "reversescale": true,
         "showscale": false,
         "type": "contour",
         "x": [
          -0.25,
          0,
          1,
          2,
          3,
          4,
          5,
          5.25
         ],
         "xaxis": "x27",
         "y": [
          0.9,
          1,
          2,
          3,
          3.1
         ],
         "yaxis": "y27",
         "z": [
          [
           null,
           null,
           null,
           null,
           null,
           null,
           null,
           null
          ],
          [
           null,
           0.15071192595553887,
           0.11268986958912172,
           0.090526184516903,
           0.08422036547833249,
           0.09743743397870283,
           0.09895767464819924,
           null
          ],
          [
           null,
           0.14614989099909512,
           0.11851280323592236,
           0.0909245619872217,
           0.09097776703461047,
           0.10013072057549566,
           0.12992490211940821,
           null
          ],
          [
           null,
           0.1556628005923667,
           0.1276137827395981,
           0.08240040067008436,
           0.09952103049081085,
           0.09044456828003454,
           0.10019436382486731,
           null
          ],
          [
           null,
           null,
           null,
           null,
           null,
           null,
           null,
           null
          ]
         ]
        },
        {
         "marker": {
          "color": "black",
          "line": {
           "color": "Gray",
           "width": 2
          }
         },
         "mode": "markers",
         "name": "Feasible Trial",
         "showlegend": false,
         "type": "scatter",
         "x": [
          1,
          5,
          1,
          4,
          3,
          1,
          0,
          3,
          5,
          5,
          2,
          1,
          3,
          4,
          0,
          4,
          1,
          2,
          4,
          2,
          0,
          3,
          2,
          5,
          2,
          1,
          2,
          1,
          2,
          3,
          4,
          0,
          0,
          0,
          2,
          1,
          4,
          1,
          1,
          3,
          5,
          3,
          5,
          1,
          4,
          5,
          2,
          3,
          0,
          4,
          2,
          4,
          5,
          4,
          3,
          1,
          4,
          4,
          1,
          2,
          3,
          4,
          2,
          2,
          3,
          4,
          2,
          2,
          2,
          4,
          1,
          2,
          1,
          4,
          1,
          4,
          2,
          2,
          0,
          4,
          2,
          2,
          1,
          2,
          2,
          2,
          2,
          2,
          5,
          1,
          1,
          4,
          2,
          4,
          1,
          0,
          2,
          4,
          1,
          4
         ],
         "xaxis": "x27",
         "y": [
          2,
          2,
          2,
          3,
          2,
          2,
          3,
          1,
          1,
          1,
          1,
          1,
          1,
          1,
          1,
          3,
          2,
          1,
          2,
          3,
          1,
          3,
          3,
          2,
          1,
          1,
          2,
          3,
          1,
          2,
          3,
          2,
          2,
          1,
          1,
          1,
          1,
          2,
          1,
          1,
          2,
          2,
          2,
          1,
          1,
          2,
          2,
          1,
          1,
          2,
          2,
          1,
          2,
          3,
          1,
          2,
          1,
          1,
          2,
          2,
          2,
          3,
          3,
          2,
          1,
          2,
          1,
          3,
          2,
          1,
          2,
          1,
          1,
          3,
          1,
          2,
          1,
          1,
          2,
          1,
          1,
          2,
          2,
          2,
          1,
          3,
          3,
          1,
          3,
          2,
          2,
          2,
          3,
          2,
          1,
          3,
          1,
          1,
          1,
          1
         ],
         "yaxis": "y27"
        },
        {
         "colorbar": {
          "title": {
           "text": "Berier Score"
          }
         },
         "colorscale": [
          [
           0,
           "rgb(247,251,255)"
          ],
          [
           0.125,
           "rgb(222,235,247)"
          ],
          [
           0.25,
           "rgb(198,219,239)"
          ],
          [
           0.375,
           "rgb(158,202,225)"
          ],
          [
           0.5,
           "rgb(107,174,214)"
          ],
          [
           0.625,
           "rgb(66,146,198)"
          ],
          [
           0.75,
           "rgb(33,113,181)"
          ],
          [
           0.875,
           "rgb(8,81,156)"
          ],
          [
           1,
           "rgb(8,48,107)"
          ]
         ],
         "connectgaps": true,
         "contours": {
          "coloring": "heatmap"
         },
         "hoverinfo": "none",
         "line": {
          "smoothing": 1.3
         },
         "reversescale": true,
         "showscale": false,
         "type": "contour",
         "x": [
          -0.25,
          0,
          1,
          2,
          3,
          4,
          5,
          5.25
         ],
         "xaxis": "x33",
         "y": [
          925,
          1000,
          1500,
          2000,
          2500,
          2575
         ],
         "yaxis": "y33",
         "z": [
          [
           null,
           null,
           null,
           null,
           null,
           null,
           null,
           null
          ],
          [
           null,
           0.17905252683594775,
           0.11593370407858314,
           0.11288949318759711,
           0.13582287369088647,
           0.07998033569640853,
           0.10019436382486731,
           null
          ],
          [
           null,
           0.1556628005923667,
           0.13047691572373177,
           0.11975742246849856,
           0.10994848109172935,
           0.10013072057549566,
           0.08612475105006775,
           null
          ],
          [
           null,
           0.15071192595553887,
           0.12534585938395798,
           0.10495411774125105,
           0.09097776703461047,
           0.12032983628101128,
           0.13124124590441927,
           null
          ],
          [
           null,
           0.14614989099909512,
           0.11268986958912172,
           0.090526184516903,
           0.08422036547833249,
           0.09743743397870283,
           0.12992490211940821,
           null
          ],
          [
           null,
           null,
           null,
           null,
           null,
           null,
           null,
           null
          ]
         ]
        },
        {
         "marker": {
          "color": "black",
          "line": {
           "color": "Gray",
           "width": 2
          }
         },
         "mode": "markers",
         "name": "Feasible Trial",
         "showlegend": false,
         "type": "scatter",
         "x": [
          1,
          5,
          1,
          4,
          3,
          1,
          0,
          3,
          5,
          5,
          2,
          1,
          3,
          4,
          0,
          4,
          1,
          2,
          4,
          2,
          0,
          3,
          2,
          5,
          2,
          1,
          2,
          1,
          2,
          3,
          4,
          0,
          0,
          0,
          2,
          1,
          4,
          1,
          1,
          3,
          5,
          3,
          5,
          1,
          4,
          5,
          2,
          3,
          0,
          4,
          2,
          4,
          5,
          4,
          3,
          1,
          4,
          4,
          1,
          2,
          3,
          4,
          2,
          2,
          3,
          4,
          2,
          2,
          2,
          4,
          1,
          2,
          1,
          4,
          1,
          4,
          2,
          2,
          0,
          4,
          2,
          2,
          1,
          2,
          2,
          2,
          2,
          2,
          5,
          1,
          1,
          4,
          2,
          4,
          1,
          0,
          2,
          4,
          1,
          4
         ],
         "xaxis": "x33",
         "y": [
          2000,
          2500,
          2000,
          1500,
          1000,
          2000,
          1000,
          1500,
          1000,
          1500,
          2500,
          2000,
          2500,
          2000,
          2500,
          1500,
          2000,
          2500,
          1500,
          2500,
          1500,
          2500,
          2500,
          2500,
          2000,
          2500,
          2000,
          1000,
          2500,
          1500,
          1000,
          1500,
          1000,
          1500,
          2000,
          2000,
          1000,
          1000,
          1500,
          2500,
          2500,
          2500,
          2000,
          2500,
          2500,
          1500,
          2000,
          2000,
          2000,
          2500,
          2000,
          1500,
          2500,
          1500,
          2000,
          1000,
          1000,
          2500,
          1000,
          2500,
          2000,
          1000,
          1500,
          2500,
          2500,
          1500,
          1500,
          2500,
          2500,
          1500,
          1500,
          2500,
          1500,
          1000,
          2000,
          2000,
          2500,
          2500,
          2500,
          1500,
          1000,
          2500,
          1500,
          2000,
          2500,
          2000,
          2500,
          2000,
          1000,
          2000,
          2500,
          1500,
          2500,
          1500,
          1500,
          1500,
          2500,
          1000,
          2500,
          2500
         ],
         "yaxis": "y33"
        },
        {
         "colorbar": {
          "title": {
           "text": "Berier Score"
          }
         },
         "colorscale": [
          [
           0,
           "rgb(247,251,255)"
          ],
          [
           0.125,
           "rgb(222,235,247)"
          ],
          [
           0.25,
           "rgb(198,219,239)"
          ],
          [
           0.375,
           "rgb(158,202,225)"
          ],
          [
           0.5,
           "rgb(107,174,214)"
          ],
          [
           0.625,
           "rgb(66,146,198)"
          ],
          [
           0.75,
           "rgb(33,113,181)"
          ],
          [
           0.875,
           "rgb(8,81,156)"
          ],
          [
           1,
           "rgb(8,48,107)"
          ]
         ],
         "connectgaps": true,
         "contours": {
          "coloring": "heatmap"
         },
         "hoverinfo": "none",
         "line": {
          "smoothing": 1.3
         },
         "reversescale": true,
         "showscale": false,
         "type": "contour",
         "x": [
          37.5,
          50,
          75,
          100,
          200,
          300,
          312.5
         ],
         "xaxis": "x4",
         "y": [
          0.055,
          0.1,
          0.15000000000000002,
          0.2,
          0.25,
          0.30000000000000004,
          0.35,
          0.4,
          0.45000000000000007,
          0.5,
          0.55,
          0.6,
          0.65,
          0.7000000000000001,
          0.75,
          0.8,
          0.85,
          0.9500000000000001,
          1,
          1.045
         ],
         "yaxis": "y4",
         "z": [
          [
           null,
           null,
           null,
           null,
           null,
           null,
           null
          ],
          [
           null,
           0.15071192595553887,
           null,
           null,
           null,
           null,
           null
          ],
          [
           null,
           null,
           null,
           null,
           0.13047691572373177,
           0.13615008340706194,
           null
          ],
          [
           null,
           null,
           0.11009726952327215,
           0.08765653387512147,
           0.08240570659304877,
           0.11851280323592236,
           null
          ],
          [
           null,
           null,
           0.09630764743635435,
           0.1556628005923667,
           0.1643310120573122,
           0.08240040067008436,
           null
          ],
          [
           null,
           0.10495411774125105,
           0.11424583702496427,
           null,
           null,
           null,
           null
          ],
          [
           null,
           null,
           0.2369807454766893,
           null,
           null,
           0.09952103049081085,
           null
          ],
          [
           null,
           0.09193441977084502,
           0.0836072897455778,
           0.07429691441361344,
           0.11268986958912172,
           0.10013072057549566,
           null
          ],
          [
           null,
           0.10385922859827153,
           0.07874699433279553,
           0.09743743397870283,
           null,
           null,
           null
          ],
          [
           null,
           null,
           0.08230788006895152,
           null,
           0.07998033569640853,
           0.12992490211940821,
           null
          ],
          [
           null,
           null,
           0.090526184516903,
           null,
           null,
           0.11268271472843099,
           null
          ],
          [
           null,
           0.08458545703907237,
           0.08291639449112218,
           0.08652642977032801,
           null,
           0.13285484935163142,
           null
          ],
          [
           null,
           null,
           0.17905252683594775,
           0.1276137827395981,
           null,
           null,
           null
          ],
          [
           null,
           null,
           null,
           null,
           0.10515735639853782,
           0.11402384536999355,
           null
          ],
          [
           null,
           0.12613100275301461,
           0.12425988214115509,
           null,
           null,
           0.09220850323728155,
           null
          ],
          [
           null,
           0.09097776703461047,
           null,
           0.0909245619872217,
           null,
           null,
           null
          ],
          [
           null,
           0.09677264998232762,
           0.11687315580070105,
           null,
           0.09044456828003454,
           0.11288949318759711,
           null
          ],
          [
           null,
           0.12534585938395798,
           0.09470330662696716,
           0.14614989099909512,
           null,
           0.11975742246849856,
           null
          ],
          [
           null,
           0.08669849054724672,
           0.1951916374994696,
           0.12356977261243836,
           0.09028557500841652,
           0.13124124590441927,
           null
          ],
          [
           null,
           null,
           null,
           null,
           null,
           null,
           null
          ]
         ]
        },
        {
         "marker": {
          "color": "black",
          "line": {
           "color": "Gray",
           "width": 2
          }
         },
         "mode": "markers",
         "name": "Feasible Trial",
         "showlegend": false,
         "type": "scatter",
         "x": [
          300,
          300,
          50,
          300,
          50,
          50,
          300,
          75,
          300,
          300,
          75,
          75,
          75,
          75,
          100,
          300,
          75,
          75,
          100,
          300,
          300,
          300,
          75,
          50,
          50,
          100,
          50,
          100,
          100,
          75,
          200,
          75,
          75,
          200,
          100,
          50,
          200,
          75,
          200,
          200,
          50,
          100,
          300,
          75,
          75,
          300,
          300,
          75,
          50,
          300,
          50,
          100,
          300,
          300,
          75,
          300,
          200,
          50,
          75,
          300,
          50,
          300,
          300,
          50,
          100,
          100,
          300,
          75,
          300,
          300,
          75,
          100,
          100,
          200,
          300,
          300,
          100,
          300,
          100,
          75,
          300,
          100,
          50,
          100,
          50,
          100,
          75,
          50,
          300,
          50,
          300,
          200,
          300,
          300,
          200,
          100,
          75,
          200,
          200,
          100
         ],
         "xaxis": "x4",
         "y": [
          0.7000000000000001,
          0.5,
          0.75,
          0.85,
          0.8,
          0.85,
          0.5,
          0.55,
          0.55,
          0.4,
          0.25,
          1,
          0.4,
          0.6,
          0.45000000000000007,
          0.25,
          0.30000000000000004,
          0.2,
          0.4,
          0.75,
          0.35,
          0.35,
          0.9500000000000001,
          0.4,
          0.45000000000000007,
          0.8,
          0.30000000000000004,
          0.65,
          0.9500000000000001,
          0.9500000000000001,
          1,
          1,
          0.65,
          0.25,
          0.6,
          1,
          0.2,
          0.85,
          0.15000000000000002,
          0.7000000000000001,
          0.6,
          0.45000000000000007,
          1,
          0.35,
          0.5,
          0.2,
          0.6,
          0.6,
          0.1,
          0.85,
          0.30000000000000004,
          0.9500000000000001,
          0.5,
          0.85,
          0.45000000000000007,
          0.25,
          0.7000000000000001,
          1,
          0.75,
          0.15000000000000002,
          0.8,
          0.9500000000000001,
          0.85,
          0.85,
          0.4,
          0.4,
          0.9500000000000001,
          0.75,
          0.7000000000000001,
          0.4,
          0.75,
          0.2,
          0.9500000000000001,
          0.85,
          0.6,
          0.85,
          0.9500000000000001,
          0.2,
          0.9500000000000001,
          0.25,
          0.85,
          1,
          0.4,
          0.8,
          0.4,
          0.6,
          0.9500000000000001,
          0.30000000000000004,
          0.2,
          0.9500000000000001,
          0.2,
          0.4,
          0.25,
          0.4,
          0.15000000000000002,
          0.25,
          0.55,
          0.5,
          0.4,
          0.45000000000000007
         ],
         "yaxis": "y4"
        },
        {
         "colorbar": {
          "title": {
           "text": "Berier Score"
          }
         },
         "colorscale": [
          [
           0,
           "rgb(247,251,255)"
          ],
          [
           0.125,
           "rgb(222,235,247)"
          ],
          [
           0.25,
           "rgb(198,219,239)"
          ],
          [
           0.375,
           "rgb(158,202,225)"
          ],
          [
           0.5,
           "rgb(107,174,214)"
          ],
          [
           0.625,
           "rgb(66,146,198)"
          ],
          [
           0.75,
           "rgb(33,113,181)"
          ],
          [
           0.875,
           "rgb(8,81,156)"
          ],
          [
           1,
           "rgb(8,48,107)"
          ]
         ],
         "connectgaps": true,
         "contours": {
          "coloring": "heatmap"
         },
         "hoverinfo": "none",
         "line": {
          "smoothing": 1.3
         },
         "reversescale": true,
         "showscale": false,
         "type": "contour",
         "x": [
          37.5,
          50,
          75,
          100,
          200,
          300,
          312.5
         ],
         "xaxis": "x10",
         "y": [
          -0.1,
          0,
          0.05,
          0.1,
          0.15000000000000002,
          0.2,
          0.25,
          0.30000000000000004,
          0.35000000000000003,
          0.4,
          0.45,
          0.5,
          0.6000000000000001,
          0.65,
          0.7000000000000001,
          0.8500000000000001,
          0.9,
          0.9500000000000001,
          1.05,
          1.1500000000000001,
          1.2000000000000002,
          1.25,
          1.35,
          1.4000000000000001,
          1.4500000000000002,
          1.55,
          1.6,
          1.6500000000000001,
          1.75,
          1.8,
          1.9000000000000001,
          1.9500000000000002,
          2,
          2.1
         ],
         "yaxis": "y10",
         "z": [
          [
           null,
           null,
           null,
           null,
           null,
           null,
           null
          ],
          [
           null,
           0.13582287369088647,
           0.2369807454766893,
           null,
           null,
           null,
           null
          ],
          [
           null,
           null,
           null,
           null,
           null,
           0.13615008340706194,
           null
          ],
          [
           null,
           null,
           null,
           0.12356977261243836,
           null,
           null,
           null
          ],
          [
           null,
           null,
           null,
           0.16169208233499582,
           null,
           null,
           null
          ],
          [
           null,
           null,
           0.11009726952327215,
           null,
           0.11468496825386745,
           0.12032983628101128,
           null
          ],
          [
           null,
           null,
           0.12425988214115509,
           null,
           null,
           null,
           null
          ],
          [
           null,
           0.10557201172855095,
           null,
           0.10717288048547842,
           null,
           null,
           null
          ],
          [
           null,
           null,
           null,
           0.09743743397870283,
           0.10515735639853782,
           0.10665968153327306,
           null
          ],
          [
           null,
           null,
           null,
           null,
           null,
           0.09952103049081085,
           null
          ],
          [
           null,
           0.12452237557520125,
           null,
           null,
           null,
           0.11288949318759711,
           null
          ],
          [
           null,
           0.12534585938395798,
           0.11424583702496427,
           null,
           0.13047691572373177,
           null,
           null
          ],
          [
           null,
           null,
           0.09630764743635435,
           0.09195111899670967,
           null,
           0.10013072057549566,
           null
          ],
          [
           null,
           null,
           0.09470330662696716,
           0.10713833385975295,
           null,
           null,
           null
          ],
          [
           null,
           null,
           0.09620781129141195,
           null,
           null,
           0.09220850323728155,
           null
          ],
          [
           null,
           0.12119162051271111,
           null,
           null,
           null,
           null,
           null
          ],
          [
           null,
           null,
           null,
           null,
           0.11268986958912172,
           0.10019436382486731,
           null
          ],
          [
           null,
           0.08669849054724672,
           0.08230788006895152,
           null,
           null,
           null,
           null
          ],
          [
           null,
           null,
           0.07874699433279553,
           0.08422036547833249,
           null,
           null,
           null
          ],
          [
           null,
           0.09193441977084502,
           0.090526184516903,
           null,
           null,
           null,
           null
          ],
          [
           null,
           null,
           null,
           null,
           0.08240570659304877,
           null,
           null
          ],
          [
           null,
           null,
           null,
           null,
           null,
           0.08948891853060222,
           null
          ],
          [
           null,
           null,
           0.08810746397632263,
           0.07429691441361344,
           null,
           0.09214562387095178,
           null
          ],
          [
           null,
           0.15071192595553887,
           0.17905252683594775,
           null,
           null,
           null,
           null
          ],
          [
           null,
           null,
           null,
           0.14614989099909512,
           null,
           null,
           null
          ],
          [
           null,
           null,
           0.10619306014189815,
           null,
           null,
           null,
           null
          ],
          [
           null,
           null,
           null,
           0.0909245619872217,
           null,
           null,
           null
          ],
          [
           null,
           0.12079189141515675,
           null,
           null,
           0.08004448622840796,
           0.11851280323592236,
           null
          ],
          [
           null,
           null,
           0.08551682345574677,
           0.08652642977032801,
           null,
           0.08240040067008436,
           null
          ],
          [
           null,
           null,
           null,
           0.1556628005923667,
           null,
           null,
           null
          ],
          [
           null,
           null,
           null,
           null,
           null,
           0.13285484935163142,
           null
          ],
          [
           null,
           null,
           null,
           null,
           0.07998033569640853,
           null,
           null
          ],
          [
           null,
           0.08458545703907237,
           null,
           null,
           null,
           null,
           null
          ],
          [
           null,
           null,
           null,
           null,
           null,
           null,
           null
          ]
         ]
        },
        {
         "marker": {
          "color": "black",
          "line": {
           "color": "Gray",
           "width": 2
          }
         },
         "mode": "markers",
         "name": "Feasible Trial",
         "showlegend": false,
         "type": "scatter",
         "x": [
          300,
          300,
          50,
          300,
          50,
          50,
          300,
          75,
          300,
          300,
          75,
          75,
          75,
          75,
          100,
          300,
          75,
          75,
          100,
          300,
          300,
          300,
          75,
          50,
          50,
          100,
          50,
          100,
          100,
          75,
          200,
          75,
          75,
          200,
          100,
          50,
          200,
          75,
          200,
          200,
          50,
          100,
          300,
          75,
          75,
          300,
          300,
          75,
          50,
          300,
          50,
          100,
          300,
          300,
          75,
          300,
          200,
          50,
          75,
          300,
          50,
          300,
          300,
          50,
          100,
          100,
          300,
          75,
          300,
          300,
          75,
          100,
          100,
          200,
          300,
          300,
          100,
          300,
          100,
          75,
          300,
          100,
          50,
          100,
          50,
          100,
          75,
          50,
          300,
          50,
          300,
          200,
          300,
          300,
          200,
          100,
          75,
          200,
          200,
          100
         ],
         "xaxis": "x10",
         "y": [
          1.9000000000000001,
          0.05,
          0.5,
          0.2,
          0,
          0.45,
          0.6000000000000001,
          1.1500000000000001,
          0.45,
          0.6000000000000001,
          0.5,
          1.55,
          1.05,
          1.35,
          0.15000000000000002,
          0.6000000000000001,
          0.5,
          0.2,
          1.35,
          0.7000000000000001,
          0.05,
          0.4,
          1.75,
          0.8500000000000001,
          0.5,
          0.65,
          1.1500000000000001,
          0.30000000000000004,
          1.4500000000000002,
          0.25,
          0.9,
          0.6000000000000001,
          1.4000000000000001,
          1.9500000000000002,
          1.6,
          1.6500000000000001,
          1.2000000000000002,
          0.6000000000000001,
          0.5,
          0.2,
          2,
          1.8,
          0.05,
          0,
          0.9500000000000001,
          1.6500000000000001,
          1.75,
          1.05,
          1.4000000000000001,
          0.35000000000000003,
          0.30000000000000004,
          0.6000000000000001,
          0.05,
          1.25,
          1.05,
          0.45,
          0.35000000000000003,
          0.9500000000000001,
          0.6000000000000001,
          0.05,
          0.5,
          0.9,
          1.75,
          0.8500000000000001,
          1.05,
          1.35,
          0.6000000000000001,
          0.7000000000000001,
          0.2,
          0.6000000000000001,
          0.25,
          1.6,
          1.4500000000000002,
          0.9,
          1.9000000000000001,
          0.2,
          0.30000000000000004,
          1.35,
          1.4500000000000002,
          0.6000000000000001,
          0.45,
          0.1,
          0.8500000000000001,
          1.6,
          1.1500000000000001,
          1.75,
          0.65,
          0.5,
          0.9,
          0.5,
          1.6500000000000001,
          1.6500000000000001,
          1.75,
          0.6000000000000001,
          0.5,
          1.8,
          1.1500000000000001,
          1.9500000000000002,
          0.9,
          0.35000000000000003
         ],
         "yaxis": "y10"
        },
        {
         "colorbar": {
          "title": {
           "text": "Berier Score"
          }
         },
         "colorscale": [
          [
           0,
           "rgb(247,251,255)"
          ],
          [
           0.125,
           "rgb(222,235,247)"
          ],
          [
           0.25,
           "rgb(198,219,239)"
          ],
          [
           0.375,
           "rgb(158,202,225)"
          ],
          [
           0.5,
           "rgb(107,174,214)"
          ],
          [
           0.625,
           "rgb(66,146,198)"
          ],
          [
           0.75,
           "rgb(33,113,181)"
          ],
          [
           0.875,
           "rgb(8,81,156)"
          ],
          [
           1,
           "rgb(8,48,107)"
          ]
         ],
         "connectgaps": true,
         "contours": {
          "coloring": "heatmap"
         },
         "hoverinfo": "none",
         "line": {
          "smoothing": 1.3
         },
         "reversescale": true,
         "showscale": false,
         "type": "contour",
         "x": [
          37.5,
          50,
          75,
          100,
          200,
          300,
          312.5
         ],
         "xaxis": "x16",
         "y": [
          -0.25,
          0,
          1,
          2,
          3,
          4,
          5,
          5.25
         ],
         "yaxis": "y16",
         "z": [
          [
           null,
           null,
           null,
           null,
           null,
           null,
           null
          ],
          [
           null,
           0.15071192595553887,
           0.17905252683594775,
           0.1556628005923667,
           0.1643310120573122,
           0.17848323203310007,
           null
          ],
          [
           null,
           0.12534585938395798,
           0.12425988214115509,
           0.1020634166852071,
           0.11268986958912172,
           0.11851280323592236,
           null
          ],
          [
           null,
           0.10495411774125105,
           0.090526184516903,
           0.08652642977032801,
           null,
           0.08240040067008436,
           null
          ],
          [
           null,
           0.09097776703461047,
           0.07874699433279553,
           0.08422036547833249,
           0.11468496825386745,
           0.09952103049081085,
           null
          ],
          [
           null,
           0.08669849054724672,
           0.09630764743635435,
           0.09743743397870283,
           0.07998033569640853,
           0.10013072057549566,
           null
          ],
          [
           null,
           0.08458545703907237,
           null,
           null,
           null,
           0.10019436382486731,
           null
          ],
          [
           null,
           null,
           null,
           null,
           null,
           null,
           null
          ]
         ]
        },
        {
         "marker": {
          "color": "black",
          "line": {
           "color": "Gray",
           "width": 2
          }
         },
         "mode": "markers",
         "name": "Feasible Trial",
         "showlegend": false,
         "type": "scatter",
         "x": [
          300,
          300,
          50,
          300,
          50,
          50,
          300,
          75,
          300,
          300,
          75,
          75,
          75,
          75,
          100,
          300,
          75,
          75,
          100,
          300,
          300,
          300,
          75,
          50,
          50,
          100,
          50,
          100,
          100,
          75,
          200,
          75,
          75,
          200,
          100,
          50,
          200,
          75,
          200,
          200,
          50,
          100,
          300,
          75,
          75,
          300,
          300,
          75,
          50,
          300,
          50,
          100,
          300,
          300,
          75,
          300,
          200,
          50,
          75,
          300,
          50,
          300,
          300,
          50,
          100,
          100,
          300,
          75,
          300,
          300,
          75,
          100,
          100,
          200,
          300,
          300,
          100,
          300,
          100,
          75,
          300,
          100,
          50,
          100,
          50,
          100,
          75,
          50,
          300,
          50,
          300,
          200,
          300,
          300,
          200,
          100,
          75,
          200,
          200,
          100
         ],
         "xaxis": "x16",
         "y": [
          1,
          5,
          1,
          4,
          3,
          1,
          0,
          3,
          5,
          5,
          2,
          1,
          3,
          4,
          0,
          4,
          1,
          2,
          4,
          2,
          0,
          3,
          2,
          5,
          2,
          1,
          2,
          1,
          2,
          3,
          4,
          0,
          0,
          0,
          2,
          1,
          4,
          1,
          1,
          3,
          5,
          3,
          5,
          1,
          4,
          5,
          2,
          3,
          0,
          4,
          2,
          4,
          5,
          4,
          3,
          1,
          4,
          4,
          1,
          2,
          3,
          4,
          2,
          2,
          3,
          4,
          2,
          2,
          2,
          4,
          1,
          2,
          1,
          4,
          1,
          4,
          2,
          2,
          0,
          4,
          2,
          2,
          1,
          2,
          2,
          2,
          2,
          2,
          5,
          1,
          1,
          4,
          2,
          4,
          1,
          0,
          2,
          4,
          1,
          4
         ],
         "yaxis": "y16"
        },
        {
         "type": "scatter",
         "xaxis": "x22",
         "yaxis": "y22"
        },
        {
         "colorbar": {
          "title": {
           "text": "Berier Score"
          }
         },
         "colorscale": [
          [
           0,
           "rgb(247,251,255)"
          ],
          [
           0.125,
           "rgb(222,235,247)"
          ],
          [
           0.25,
           "rgb(198,219,239)"
          ],
          [
           0.375,
           "rgb(158,202,225)"
          ],
          [
           0.5,
           "rgb(107,174,214)"
          ],
          [
           0.625,
           "rgb(66,146,198)"
          ],
          [
           0.75,
           "rgb(33,113,181)"
          ],
          [
           0.875,
           "rgb(8,81,156)"
          ],
          [
           1,
           "rgb(8,48,107)"
          ]
         ],
         "connectgaps": true,
         "contours": {
          "coloring": "heatmap"
         },
         "hoverinfo": "none",
         "line": {
          "smoothing": 1.3
         },
         "reversescale": true,
         "showscale": false,
         "type": "contour",
         "x": [
          37.5,
          50,
          75,
          100,
          200,
          300,
          312.5
         ],
         "xaxis": "x28",
         "y": [
          0.9,
          1,
          2,
          3,
          3.1
         ],
         "yaxis": "y28",
         "z": [
          [
           null,
           null,
           null,
           null,
           null,
           null,
           null
          ],
          [
           null,
           0.10495411774125105,
           0.090526184516903,
           0.09743743397870283,
           0.11268986958912172,
           0.11288949318759711,
           null
          ],
          [
           null,
           0.12534585938395798,
           0.12425988214115509,
           0.0909245619872217,
           0.08004448622840796,
           0.10013072057549566,
           null
          ],
          [
           null,
           null,
           0.09470330662696716,
           0.1556628005923667,
           0.09044456828003454,
           0.08240040067008436,
           null
          ],
          [
           null,
           null,
           null,
           null,
           null,
           null,
           null
          ]
         ]
        },
        {
         "marker": {
          "color": "black",
          "line": {
           "color": "Gray",
           "width": 2
          }
         },
         "mode": "markers",
         "name": "Feasible Trial",
         "showlegend": false,
         "type": "scatter",
         "x": [
          300,
          300,
          50,
          300,
          50,
          50,
          300,
          75,
          300,
          300,
          75,
          75,
          75,
          75,
          100,
          300,
          75,
          75,
          100,
          300,
          300,
          300,
          75,
          50,
          50,
          100,
          50,
          100,
          100,
          75,
          200,
          75,
          75,
          200,
          100,
          50,
          200,
          75,
          200,
          200,
          50,
          100,
          300,
          75,
          75,
          300,
          300,
          75,
          50,
          300,
          50,
          100,
          300,
          300,
          75,
          300,
          200,
          50,
          75,
          300,
          50,
          300,
          300,
          50,
          100,
          100,
          300,
          75,
          300,
          300,
          75,
          100,
          100,
          200,
          300,
          300,
          100,
          300,
          100,
          75,
          300,
          100,
          50,
          100,
          50,
          100,
          75,
          50,
          300,
          50,
          300,
          200,
          300,
          300,
          200,
          100,
          75,
          200,
          200,
          100
         ],
         "xaxis": "x28",
         "y": [
          2,
          2,
          2,
          3,
          2,
          2,
          3,
          1,
          1,
          1,
          1,
          1,
          1,
          1,
          1,
          3,
          2,
          1,
          2,
          3,
          1,
          3,
          3,
          2,
          1,
          1,
          2,
          3,
          1,
          2,
          3,
          2,
          2,
          1,
          1,
          1,
          1,
          2,
          1,
          1,
          2,
          2,
          2,
          1,
          1,
          2,
          2,
          1,
          1,
          2,
          2,
          1,
          2,
          3,
          1,
          2,
          1,
          1,
          2,
          2,
          2,
          3,
          3,
          2,
          1,
          2,
          1,
          3,
          2,
          1,
          2,
          1,
          1,
          3,
          1,
          2,
          1,
          1,
          2,
          1,
          1,
          2,
          2,
          2,
          1,
          3,
          3,
          1,
          3,
          2,
          2,
          2,
          3,
          2,
          1,
          3,
          1,
          1,
          1,
          1
         ],
         "yaxis": "y28"
        },
        {
         "colorbar": {
          "title": {
           "text": "Berier Score"
          }
         },
         "colorscale": [
          [
           0,
           "rgb(247,251,255)"
          ],
          [
           0.125,
           "rgb(222,235,247)"
          ],
          [
           0.25,
           "rgb(198,219,239)"
          ],
          [
           0.375,
           "rgb(158,202,225)"
          ],
          [
           0.5,
           "rgb(107,174,214)"
          ],
          [
           0.625,
           "rgb(66,146,198)"
          ],
          [
           0.75,
           "rgb(33,113,181)"
          ],
          [
           0.875,
           "rgb(8,81,156)"
          ],
          [
           1,
           "rgb(8,48,107)"
          ]
         ],
         "connectgaps": true,
         "contours": {
          "coloring": "heatmap"
         },
         "hoverinfo": "none",
         "line": {
          "smoothing": 1.3
         },
         "reversescale": true,
         "showscale": false,
         "type": "contour",
         "x": [
          37.5,
          50,
          75,
          100,
          200,
          300,
          312.5
         ],
         "xaxis": "x34",
         "y": [
          925,
          1000,
          1500,
          2000,
          2500,
          2575
         ],
         "yaxis": "y34",
         "z": [
          [
           null,
           null,
           null,
           null,
           null,
           null,
           null
          ],
          [
           null,
           0.13582287369088647,
           0.11593370407858314,
           0.1276137827395981,
           0.07998033569640853,
           0.10019436382486731,
           null
          ],
          [
           null,
           0.12119162051271111,
           0.09630764743635435,
           0.1556628005923667,
           0.13047691572373177,
           0.10013072057549566,
           null
          ],
          [
           null,
           0.12534585938395798,
           0.07874699433279553,
           0.08652642977032801,
           null,
           0.12032983628101128,
           null
          ],
          [
           null,
           0.09193441977084502,
           0.090526184516903,
           0.09743743397870283,
           0.11268986958912172,
           0.08240040067008436,
           null
          ],
          [
           null,
           null,
           null,
           null,
           null,
           null,
           null
          ]
         ]
        },
        {
         "marker": {
          "color": "black",
          "line": {
           "color": "Gray",
           "width": 2
          }
         },
         "mode": "markers",
         "name": "Feasible Trial",
         "showlegend": false,
         "type": "scatter",
         "x": [
          300,
          300,
          50,
          300,
          50,
          50,
          300,
          75,
          300,
          300,
          75,
          75,
          75,
          75,
          100,
          300,
          75,
          75,
          100,
          300,
          300,
          300,
          75,
          50,
          50,
          100,
          50,
          100,
          100,
          75,
          200,
          75,
          75,
          200,
          100,
          50,
          200,
          75,
          200,
          200,
          50,
          100,
          300,
          75,
          75,
          300,
          300,
          75,
          50,
          300,
          50,
          100,
          300,
          300,
          75,
          300,
          200,
          50,
          75,
          300,
          50,
          300,
          300,
          50,
          100,
          100,
          300,
          75,
          300,
          300,
          75,
          100,
          100,
          200,
          300,
          300,
          100,
          300,
          100,
          75,
          300,
          100,
          50,
          100,
          50,
          100,
          75,
          50,
          300,
          50,
          300,
          200,
          300,
          300,
          200,
          100,
          75,
          200,
          200,
          100
         ],
         "xaxis": "x34",
         "y": [
          2000,
          2500,
          2000,
          1500,
          1000,
          2000,
          1000,
          1500,
          1000,
          1500,
          2500,
          2000,
          2500,
          2000,
          2500,
          1500,
          2000,
          2500,
          1500,
          2500,
          1500,
          2500,
          2500,
          2500,
          2000,
          2500,
          2000,
          1000,
          2500,
          1500,
          1000,
          1500,
          1000,
          1500,
          2000,
          2000,
          1000,
          1000,
          1500,
          2500,
          2500,
          2500,
          2000,
          2500,
          2500,
          1500,
          2000,
          2000,
          2000,
          2500,
          2000,
          1500,
          2500,
          1500,
          2000,
          1000,
          1000,
          2500,
          1000,
          2500,
          2000,
          1000,
          1500,
          2500,
          2500,
          1500,
          1500,
          2500,
          2500,
          1500,
          1500,
          2500,
          1500,
          1000,
          2000,
          2000,
          2500,
          2500,
          2500,
          1500,
          1000,
          2500,
          1500,
          2000,
          2500,
          2000,
          2500,
          2000,
          1000,
          2000,
          2500,
          1500,
          2500,
          1500,
          1500,
          1500,
          2500,
          1000,
          2500,
          2500
         ],
         "yaxis": "y34"
        },
        {
         "colorbar": {
          "title": {
           "text": "Berier Score"
          }
         },
         "colorscale": [
          [
           0,
           "rgb(247,251,255)"
          ],
          [
           0.125,
           "rgb(222,235,247)"
          ],
          [
           0.25,
           "rgb(198,219,239)"
          ],
          [
           0.375,
           "rgb(158,202,225)"
          ],
          [
           0.5,
           "rgb(107,174,214)"
          ],
          [
           0.625,
           "rgb(66,146,198)"
          ],
          [
           0.75,
           "rgb(33,113,181)"
          ],
          [
           0.875,
           "rgb(8,81,156)"
          ],
          [
           1,
           "rgb(8,48,107)"
          ]
         ],
         "connectgaps": true,
         "contours": {
          "coloring": "heatmap"
         },
         "hoverinfo": "none",
         "line": {
          "smoothing": 1.3
         },
         "reversescale": true,
         "showscale": false,
         "type": "contour",
         "x": [
          0.9,
          1,
          2,
          3,
          3.1
         ],
         "xaxis": "x5",
         "y": [
          0.055,
          0.1,
          0.15000000000000002,
          0.2,
          0.25,
          0.30000000000000004,
          0.35,
          0.4,
          0.45000000000000007,
          0.5,
          0.55,
          0.6,
          0.65,
          0.7000000000000001,
          0.75,
          0.8,
          0.85,
          0.9500000000000001,
          1,
          1.045
         ],
         "yaxis": "y5",
         "z": [
          [
           null,
           null,
           null,
           null,
           null
          ],
          [
           null,
           0.15071192595553887,
           null,
           null,
           null
          ],
          [
           null,
           0.13047691572373177,
           0.13615008340706194,
           null,
           null
          ],
          [
           null,
           0.09214562387095178,
           0.11851280323592236,
           0.10019436382486731,
           null
          ],
          [
           null,
           0.09630764743635435,
           0.12251303824145901,
           0.1556628005923667,
           null
          ],
          [
           null,
           0.10495411774125105,
           0.10557201172855095,
           null,
           null
          ],
          [
           null,
           0.2369807454766893,
           null,
           0.09952103049081085,
           null
          ],
          [
           null,
           0.11268986958912172,
           0.10013072057549566,
           null,
           null
          ],
          [
           null,
           0.09743743397870283,
           0.0808865219980063,
           null,
           null
          ],
          [
           null,
           0.07998033569640853,
           0.12992490211940821,
           0.19331547085265885,
           null
          ],
          [
           null,
           0.090526184516903,
           null,
           null,
           null
          ],
          [
           null,
           0.13285484935163142,
           0.09347149989815676,
           0.08652642977032801,
           null
          ],
          [
           null,
           null,
           0.17905252683594775,
           0.1276137827395981,
           null
          ],
          [
           null,
           0.10515735639853782,
           0.11402384536999355,
           null,
           null
          ],
          [
           null,
           null,
           0.12425988214115509,
           0.09620781129141195,
           null
          ],
          [
           null,
           0.10713833385975295,
           0.0909245619872217,
           null,
           null
          ],
          [
           null,
           0.11288949318759711,
           0.12032983628101128,
           0.09044456828003454,
           null
          ],
          [
           null,
           0.10717288048547842,
           0.12534585938395798,
           0.09470330662696716,
           null
          ],
          [
           null,
           0.08669849054724672,
           0.12356977261243836,
           0.09028557500841652,
           null
          ],
          [
           null,
           null,
           null,
           null,
           null
          ]
         ]
        },
        {
         "marker": {
          "color": "black",
          "line": {
           "color": "Gray",
           "width": 2
          }
         },
         "mode": "markers",
         "name": "Feasible Trial",
         "showlegend": false,
         "type": "scatter",
         "x": [
          2,
          2,
          2,
          3,
          2,
          2,
          3,
          1,
          1,
          1,
          1,
          1,
          1,
          1,
          1,
          3,
          2,
          1,
          2,
          3,
          1,
          3,
          3,
          2,
          1,
          1,
          2,
          3,
          1,
          2,
          3,
          2,
          2,
          1,
          1,
          1,
          1,
          2,
          1,
          1,
          2,
          2,
          2,
          1,
          1,
          2,
          2,
          1,
          1,
          2,
          2,
          1,
          2,
          3,
          1,
          2,
          1,
          1,
          2,
          2,
          2,
          3,
          3,
          2,
          1,
          2,
          1,
          3,
          2,
          1,
          2,
          1,
          1,
          3,
          1,
          2,
          1,
          1,
          2,
          1,
          1,
          2,
          2,
          2,
          1,
          3,
          3,
          1,
          3,
          2,
          2,
          2,
          3,
          2,
          1,
          3,
          1,
          1,
          1,
          1
         ],
         "xaxis": "x5",
         "y": [
          0.7000000000000001,
          0.5,
          0.75,
          0.85,
          0.8,
          0.85,
          0.5,
          0.55,
          0.55,
          0.4,
          0.25,
          1,
          0.4,
          0.6,
          0.45000000000000007,
          0.25,
          0.30000000000000004,
          0.2,
          0.4,
          0.75,
          0.35,
          0.35,
          0.9500000000000001,
          0.4,
          0.45000000000000007,
          0.8,
          0.30000000000000004,
          0.65,
          0.9500000000000001,
          0.9500000000000001,
          1,
          1,
          0.65,
          0.25,
          0.6,
          1,
          0.2,
          0.85,
          0.15000000000000002,
          0.7000000000000001,
          0.6,
          0.45000000000000007,
          1,
          0.35,
          0.5,
          0.2,
          0.6,
          0.6,
          0.1,
          0.85,
          0.30000000000000004,
          0.9500000000000001,
          0.5,
          0.85,
          0.45000000000000007,
          0.25,
          0.7000000000000001,
          1,
          0.75,
          0.15000000000000002,
          0.8,
          0.9500000000000001,
          0.85,
          0.85,
          0.4,
          0.4,
          0.9500000000000001,
          0.75,
          0.7000000000000001,
          0.4,
          0.75,
          0.2,
          0.9500000000000001,
          0.85,
          0.6,
          0.85,
          0.9500000000000001,
          0.2,
          0.9500000000000001,
          0.25,
          0.85,
          1,
          0.4,
          0.8,
          0.4,
          0.6,
          0.9500000000000001,
          0.30000000000000004,
          0.2,
          0.9500000000000001,
          0.2,
          0.4,
          0.25,
          0.4,
          0.15000000000000002,
          0.25,
          0.55,
          0.5,
          0.4,
          0.45000000000000007
         ],
         "yaxis": "y5"
        },
        {
         "colorbar": {
          "title": {
           "text": "Berier Score"
          }
         },
         "colorscale": [
          [
           0,
           "rgb(247,251,255)"
          ],
          [
           0.125,
           "rgb(222,235,247)"
          ],
          [
           0.25,
           "rgb(198,219,239)"
          ],
          [
           0.375,
           "rgb(158,202,225)"
          ],
          [
           0.5,
           "rgb(107,174,214)"
          ],
          [
           0.625,
           "rgb(66,146,198)"
          ],
          [
           0.75,
           "rgb(33,113,181)"
          ],
          [
           0.875,
           "rgb(8,81,156)"
          ],
          [
           1,
           "rgb(8,48,107)"
          ]
         ],
         "connectgaps": true,
         "contours": {
          "coloring": "heatmap"
         },
         "hoverinfo": "none",
         "line": {
          "smoothing": 1.3
         },
         "reversescale": true,
         "showscale": false,
         "type": "contour",
         "x": [
          0.9,
          1,
          2,
          3,
          3.1
         ],
         "xaxis": "x11",
         "y": [
          -0.1,
          0,
          0.05,
          0.1,
          0.15000000000000002,
          0.2,
          0.25,
          0.30000000000000004,
          0.35000000000000003,
          0.4,
          0.45,
          0.5,
          0.6000000000000001,
          0.65,
          0.7000000000000001,
          0.8500000000000001,
          0.9,
          0.9500000000000001,
          1.05,
          1.1500000000000001,
          1.2000000000000002,
          1.25,
          1.35,
          1.4000000000000001,
          1.4500000000000002,
          1.55,
          1.6,
          1.6500000000000001,
          1.75,
          1.8,
          1.9000000000000001,
          1.9500000000000002,
          2,
          2.1
         ],
         "yaxis": "y11",
         "z": [
          [
           null,
           null,
           null,
           null,
           null
          ],
          [
           null,
           0.2369807454766893,
           0.13582287369088647,
           null,
           null
          ],
          [
           null,
           0.17848323203310007,
           0.13615008340706194,
           null,
           null
          ],
          [
           null,
           null,
           0.12356977261243836,
           null,
           null
          ],
          [
           null,
           0.16169208233499582,
           null,
           null,
           null
          ],
          [
           null,
           0.11468496825386745,
           0.12032983628101128,
           0.12476681686446404,
           null
          ],
          [
           null,
           null,
           0.12425988214115509,
           null,
           null
          ],
          [
           null,
           0.10717288048547842,
           0.10557201172855095,
           0.1276137827395981,
           null
          ],
          [
           null,
           0.09743743397870283,
           0.10665968153327306,
           null,
           null
          ],
          [
           null,
           null,
           null,
           0.09952103049081085,
           null
          ],
          [
           null,
           0.11288949318759711,
           0.12251303824145901,
           null,
           null
          ],
          [
           null,
           0.13047691572373177,
           0.12534585938395798,
           null,
           null
          ],
          [
           null,
           0.09630764743635435,
           0.10013072057549566,
           0.10161461785105619,
           null
          ],
          [
           null,
           0.10713833385975295,
           null,
           0.09470330662696716,
           null
          ],
          [
           null,
           null,
           null,
           0.09620781129141195,
           null
          ],
          [
           null,
           null,
           0.12119162051271111,
           null,
           null
          ],
          [
           null,
           0.11268986958912172,
           null,
           0.10019436382486731,
           null
          ],
          [
           null,
           0.08669849054724672,
           null,
           null,
           null
          ],
          [
           null,
           0.08422036547833249,
           null,
           null,
           null
          ],
          [
           null,
           0.090526184516903,
           0.09075300360053928,
           null,
           null
          ],
          [
           null,
           0.08240570659304877,
           null,
           null,
           null
          ],
          [
           null,
           null,
           null,
           0.08948891853060222,
           null
          ],
          [
           null,
           0.09214562387095178,
           0.07429691441361344,
           null,
           null
          ],
          [
           null,
           0.15071192595553887,
           0.17905252683594775,
           null,
           null
          ],
          [
           null,
           0.1020634166852071,
           0.14614989099909512,
           null,
           null
          ],
          [
           null,
           0.10619306014189815,
           null,
           null,
           null
          ],
          [
           null,
           0.08765653387512147,
           0.0909245619872217,
           null,
           null
          ],
          [
           null,
           0.12079189141515675,
           0.08004448622840796,
           null,
           null
          ],
          [
           null,
           null,
           0.09347149989815676,
           0.08240040067008436,
           null
          ],
          [
           null,
           null,
           0.0808865219980063,
           0.1556628005923667,
           null
          ],
          [
           null,
           0.13285484935163142,
           0.11374112480295542,
           null,
           null
          ],
          [
           null,
           0.07998033569640853,
           null,
           null,
           null
          ],
          [
           null,
           null,
           0.08458545703907237,
           null,
           null
          ],
          [
           null,
           null,
           null,
           null,
           null
          ]
         ]
        },
        {
         "marker": {
          "color": "black",
          "line": {
           "color": "Gray",
           "width": 2
          }
         },
         "mode": "markers",
         "name": "Feasible Trial",
         "showlegend": false,
         "type": "scatter",
         "x": [
          2,
          2,
          2,
          3,
          2,
          2,
          3,
          1,
          1,
          1,
          1,
          1,
          1,
          1,
          1,
          3,
          2,
          1,
          2,
          3,
          1,
          3,
          3,
          2,
          1,
          1,
          2,
          3,
          1,
          2,
          3,
          2,
          2,
          1,
          1,
          1,
          1,
          2,
          1,
          1,
          2,
          2,
          2,
          1,
          1,
          2,
          2,
          1,
          1,
          2,
          2,
          1,
          2,
          3,
          1,
          2,
          1,
          1,
          2,
          2,
          2,
          3,
          3,
          2,
          1,
          2,
          1,
          3,
          2,
          1,
          2,
          1,
          1,
          3,
          1,
          2,
          1,
          1,
          2,
          1,
          1,
          2,
          2,
          2,
          1,
          3,
          3,
          1,
          3,
          2,
          2,
          2,
          3,
          2,
          1,
          3,
          1,
          1,
          1,
          1
         ],
         "xaxis": "x11",
         "y": [
          1.9000000000000001,
          0.05,
          0.5,
          0.2,
          0,
          0.45,
          0.6000000000000001,
          1.1500000000000001,
          0.45,
          0.6000000000000001,
          0.5,
          1.55,
          1.05,
          1.35,
          0.15000000000000002,
          0.6000000000000001,
          0.5,
          0.2,
          1.35,
          0.7000000000000001,
          0.05,
          0.4,
          1.75,
          0.8500000000000001,
          0.5,
          0.65,
          1.1500000000000001,
          0.30000000000000004,
          1.4500000000000002,
          0.25,
          0.9,
          0.6000000000000001,
          1.4000000000000001,
          1.9500000000000002,
          1.6,
          1.6500000000000001,
          1.2000000000000002,
          0.6000000000000001,
          0.5,
          0.2,
          2,
          1.8,
          0.05,
          0,
          0.9500000000000001,
          1.6500000000000001,
          1.75,
          1.05,
          1.4000000000000001,
          0.35000000000000003,
          0.30000000000000004,
          0.6000000000000001,
          0.05,
          1.25,
          1.05,
          0.45,
          0.35000000000000003,
          0.9500000000000001,
          0.6000000000000001,
          0.05,
          0.5,
          0.9,
          1.75,
          0.8500000000000001,
          1.05,
          1.35,
          0.6000000000000001,
          0.7000000000000001,
          0.2,
          0.6000000000000001,
          0.25,
          1.6,
          1.4500000000000002,
          0.9,
          1.9000000000000001,
          0.2,
          0.30000000000000004,
          1.35,
          1.4500000000000002,
          0.6000000000000001,
          0.45,
          0.1,
          0.8500000000000001,
          1.6,
          1.1500000000000001,
          1.75,
          0.65,
          0.5,
          0.9,
          0.5,
          1.6500000000000001,
          1.6500000000000001,
          1.75,
          0.6000000000000001,
          0.5,
          1.8,
          1.1500000000000001,
          1.9500000000000002,
          0.9,
          0.35000000000000003
         ],
         "yaxis": "y11"
        },
        {
         "colorbar": {
          "title": {
           "text": "Berier Score"
          }
         },
         "colorscale": [
          [
           0,
           "rgb(247,251,255)"
          ],
          [
           0.125,
           "rgb(222,235,247)"
          ],
          [
           0.25,
           "rgb(198,219,239)"
          ],
          [
           0.375,
           "rgb(158,202,225)"
          ],
          [
           0.5,
           "rgb(107,174,214)"
          ],
          [
           0.625,
           "rgb(66,146,198)"
          ],
          [
           0.75,
           "rgb(33,113,181)"
          ],
          [
           0.875,
           "rgb(8,81,156)"
          ],
          [
           1,
           "rgb(8,48,107)"
          ]
         ],
         "connectgaps": true,
         "contours": {
          "coloring": "heatmap"
         },
         "hoverinfo": "none",
         "line": {
          "smoothing": 1.3
         },
         "reversescale": true,
         "showscale": false,
         "type": "contour",
         "x": [
          0.9,
          1,
          2,
          3,
          3.1
         ],
         "xaxis": "x17",
         "y": [
          -0.25,
          0,
          1,
          2,
          3,
          4,
          5,
          5.25
         ],
         "yaxis": "y17",
         "z": [
          [
           null,
           null,
           null,
           null,
           null
          ],
          [
           null,
           0.15071192595553887,
           0.14614989099909512,
           0.1556628005923667,
           null
          ],
          [
           null,
           0.11268986958912172,
           0.11851280323592236,
           0.1276137827395981,
           null
          ],
          [
           null,
           0.090526184516903,
           0.0909245619872217,
           0.08240040067008436,
           null
          ],
          [
           null,
           0.08422036547833249,
           0.09097776703461047,
           0.09952103049081085,
           null
          ],
          [
           null,
           0.09743743397870283,
           0.10013072057549566,
           0.09044456828003454,
           null
          ],
          [
           null,
           0.09895767464819924,
           0.12992490211940821,
           0.10019436382486731,
           null
          ],
          [
           null,
           null,
           null,
           null,
           null
          ]
         ]
        },
        {
         "marker": {
          "color": "black",
          "line": {
           "color": "Gray",
           "width": 2
          }
         },
         "mode": "markers",
         "name": "Feasible Trial",
         "showlegend": false,
         "type": "scatter",
         "x": [
          2,
          2,
          2,
          3,
          2,
          2,
          3,
          1,
          1,
          1,
          1,
          1,
          1,
          1,
          1,
          3,
          2,
          1,
          2,
          3,
          1,
          3,
          3,
          2,
          1,
          1,
          2,
          3,
          1,
          2,
          3,
          2,
          2,
          1,
          1,
          1,
          1,
          2,
          1,
          1,
          2,
          2,
          2,
          1,
          1,
          2,
          2,
          1,
          1,
          2,
          2,
          1,
          2,
          3,
          1,
          2,
          1,
          1,
          2,
          2,
          2,
          3,
          3,
          2,
          1,
          2,
          1,
          3,
          2,
          1,
          2,
          1,
          1,
          3,
          1,
          2,
          1,
          1,
          2,
          1,
          1,
          2,
          2,
          2,
          1,
          3,
          3,
          1,
          3,
          2,
          2,
          2,
          3,
          2,
          1,
          3,
          1,
          1,
          1,
          1
         ],
         "xaxis": "x17",
         "y": [
          1,
          5,
          1,
          4,
          3,
          1,
          0,
          3,
          5,
          5,
          2,
          1,
          3,
          4,
          0,
          4,
          1,
          2,
          4,
          2,
          0,
          3,
          2,
          5,
          2,
          1,
          2,
          1,
          2,
          3,
          4,
          0,
          0,
          0,
          2,
          1,
          4,
          1,
          1,
          3,
          5,
          3,
          5,
          1,
          4,
          5,
          2,
          3,
          0,
          4,
          2,
          4,
          5,
          4,
          3,
          1,
          4,
          4,
          1,
          2,
          3,
          4,
          2,
          2,
          3,
          4,
          2,
          2,
          2,
          4,
          1,
          2,
          1,
          4,
          1,
          4,
          2,
          2,
          0,
          4,
          2,
          2,
          1,
          2,
          2,
          2,
          2,
          2,
          5,
          1,
          1,
          4,
          2,
          4,
          1,
          0,
          2,
          4,
          1,
          4
         ],
         "yaxis": "y17"
        },
        {
         "colorbar": {
          "title": {
           "text": "Berier Score"
          }
         },
         "colorscale": [
          [
           0,
           "rgb(247,251,255)"
          ],
          [
           0.125,
           "rgb(222,235,247)"
          ],
          [
           0.25,
           "rgb(198,219,239)"
          ],
          [
           0.375,
           "rgb(158,202,225)"
          ],
          [
           0.5,
           "rgb(107,174,214)"
          ],
          [
           0.625,
           "rgb(66,146,198)"
          ],
          [
           0.75,
           "rgb(33,113,181)"
          ],
          [
           0.875,
           "rgb(8,81,156)"
          ],
          [
           1,
           "rgb(8,48,107)"
          ]
         ],
         "connectgaps": true,
         "contours": {
          "coloring": "heatmap"
         },
         "hoverinfo": "none",
         "line": {
          "smoothing": 1.3
         },
         "reversescale": true,
         "showscale": false,
         "type": "contour",
         "x": [
          0.9,
          1,
          2,
          3,
          3.1
         ],
         "xaxis": "x23",
         "y": [
          37.5,
          50,
          75,
          100,
          200,
          300,
          312.5
         ],
         "yaxis": "y23",
         "z": [
          [
           null,
           null,
           null,
           null,
           null
          ],
          [
           null,
           0.10495411774125105,
           0.12534585938395798,
           null,
           null
          ],
          [
           null,
           0.090526184516903,
           0.12425988214115509,
           0.09470330662696716,
           null
          ],
          [
           null,
           0.09743743397870283,
           0.0909245619872217,
           0.1556628005923667,
           null
          ],
          [
           null,
           0.11268986958912172,
           0.08004448622840796,
           0.09044456828003454,
           null
          ],
          [
           null,
           0.11288949318759711,
           0.10013072057549566,
           0.08240040067008436,
           null
          ],
          [
           null,
           null,
           null,
           null,
           null
          ]
         ]
        },
        {
         "marker": {
          "color": "black",
          "line": {
           "color": "Gray",
           "width": 2
          }
         },
         "mode": "markers",
         "name": "Feasible Trial",
         "showlegend": false,
         "type": "scatter",
         "x": [
          2,
          2,
          2,
          3,
          2,
          2,
          3,
          1,
          1,
          1,
          1,
          1,
          1,
          1,
          1,
          3,
          2,
          1,
          2,
          3,
          1,
          3,
          3,
          2,
          1,
          1,
          2,
          3,
          1,
          2,
          3,
          2,
          2,
          1,
          1,
          1,
          1,
          2,
          1,
          1,
          2,
          2,
          2,
          1,
          1,
          2,
          2,
          1,
          1,
          2,
          2,
          1,
          2,
          3,
          1,
          2,
          1,
          1,
          2,
          2,
          2,
          3,
          3,
          2,
          1,
          2,
          1,
          3,
          2,
          1,
          2,
          1,
          1,
          3,
          1,
          2,
          1,
          1,
          2,
          1,
          1,
          2,
          2,
          2,
          1,
          3,
          3,
          1,
          3,
          2,
          2,
          2,
          3,
          2,
          1,
          3,
          1,
          1,
          1,
          1
         ],
         "xaxis": "x23",
         "y": [
          300,
          300,
          50,
          300,
          50,
          50,
          300,
          75,
          300,
          300,
          75,
          75,
          75,
          75,
          100,
          300,
          75,
          75,
          100,
          300,
          300,
          300,
          75,
          50,
          50,
          100,
          50,
          100,
          100,
          75,
          200,
          75,
          75,
          200,
          100,
          50,
          200,
          75,
          200,
          200,
          50,
          100,
          300,
          75,
          75,
          300,
          300,
          75,
          50,
          300,
          50,
          100,
          300,
          300,
          75,
          300,
          200,
          50,
          75,
          300,
          50,
          300,
          300,
          50,
          100,
          100,
          300,
          75,
          300,
          300,
          75,
          100,
          100,
          200,
          300,
          300,
          100,
          300,
          100,
          75,
          300,
          100,
          50,
          100,
          50,
          100,
          75,
          50,
          300,
          50,
          300,
          200,
          300,
          300,
          200,
          100,
          75,
          200,
          200,
          100
         ],
         "yaxis": "y23"
        },
        {
         "type": "scatter",
         "xaxis": "x29",
         "yaxis": "y29"
        },
        {
         "colorbar": {
          "title": {
           "text": "Berier Score"
          }
         },
         "colorscale": [
          [
           0,
           "rgb(247,251,255)"
          ],
          [
           0.125,
           "rgb(222,235,247)"
          ],
          [
           0.25,
           "rgb(198,219,239)"
          ],
          [
           0.375,
           "rgb(158,202,225)"
          ],
          [
           0.5,
           "rgb(107,174,214)"
          ],
          [
           0.625,
           "rgb(66,146,198)"
          ],
          [
           0.75,
           "rgb(33,113,181)"
          ],
          [
           0.875,
           "rgb(8,81,156)"
          ],
          [
           1,
           "rgb(8,48,107)"
          ]
         ],
         "connectgaps": true,
         "contours": {
          "coloring": "heatmap"
         },
         "hoverinfo": "none",
         "line": {
          "smoothing": 1.3
         },
         "reversescale": true,
         "showscale": false,
         "type": "contour",
         "x": [
          0.9,
          1,
          2,
          3,
          3.1
         ],
         "xaxis": "x35",
         "y": [
          925,
          1000,
          1500,
          2000,
          2500,
          2575
         ],
         "yaxis": "y35",
         "z": [
          [
           null,
           null,
           null,
           null,
           null
          ],
          [
           null,
           0.07998033569640853,
           0.11593370407858314,
           0.10019436382486731,
           null
          ],
          [
           null,
           0.13047691572373177,
           0.10013072057549566,
           0.1556628005923667,
           null
          ],
          [
           null,
           0.10495411774125105,
           0.12534585938395798,
           0.08652642977032801,
           null
          ],
          [
           null,
           0.09743743397870283,
           0.11851280323592236,
           0.08240040067008436,
           null
          ],
          [
           null,
           null,
           null,
           null,
           null
          ]
         ]
        },
        {
         "marker": {
          "color": "black",
          "line": {
           "color": "Gray",
           "width": 2
          }
         },
         "mode": "markers",
         "name": "Feasible Trial",
         "showlegend": false,
         "type": "scatter",
         "x": [
          2,
          2,
          2,
          3,
          2,
          2,
          3,
          1,
          1,
          1,
          1,
          1,
          1,
          1,
          1,
          3,
          2,
          1,
          2,
          3,
          1,
          3,
          3,
          2,
          1,
          1,
          2,
          3,
          1,
          2,
          3,
          2,
          2,
          1,
          1,
          1,
          1,
          2,
          1,
          1,
          2,
          2,
          2,
          1,
          1,
          2,
          2,
          1,
          1,
          2,
          2,
          1,
          2,
          3,
          1,
          2,
          1,
          1,
          2,
          2,
          2,
          3,
          3,
          2,
          1,
          2,
          1,
          3,
          2,
          1,
          2,
          1,
          1,
          3,
          1,
          2,
          1,
          1,
          2,
          1,
          1,
          2,
          2,
          2,
          1,
          3,
          3,
          1,
          3,
          2,
          2,
          2,
          3,
          2,
          1,
          3,
          1,
          1,
          1,
          1
         ],
         "xaxis": "x35",
         "y": [
          2000,
          2500,
          2000,
          1500,
          1000,
          2000,
          1000,
          1500,
          1000,
          1500,
          2500,
          2000,
          2500,
          2000,
          2500,
          1500,
          2000,
          2500,
          1500,
          2500,
          1500,
          2500,
          2500,
          2500,
          2000,
          2500,
          2000,
          1000,
          2500,
          1500,
          1000,
          1500,
          1000,
          1500,
          2000,
          2000,
          1000,
          1000,
          1500,
          2500,
          2500,
          2500,
          2000,
          2500,
          2500,
          1500,
          2000,
          2000,
          2000,
          2500,
          2000,
          1500,
          2500,
          1500,
          2000,
          1000,
          1000,
          2500,
          1000,
          2500,
          2000,
          1000,
          1500,
          2500,
          2500,
          1500,
          1500,
          2500,
          2500,
          1500,
          1500,
          2500,
          1500,
          1000,
          2000,
          2000,
          2500,
          2500,
          2500,
          1500,
          1000,
          2500,
          1500,
          2000,
          2500,
          2000,
          2500,
          2000,
          1000,
          2000,
          2500,
          1500,
          2500,
          1500,
          1500,
          1500,
          2500,
          1000,
          2500,
          2500
         ],
         "yaxis": "y35"
        },
        {
         "colorbar": {
          "title": {
           "text": "Berier Score"
          }
         },
         "colorscale": [
          [
           0,
           "rgb(247,251,255)"
          ],
          [
           0.125,
           "rgb(222,235,247)"
          ],
          [
           0.25,
           "rgb(198,219,239)"
          ],
          [
           0.375,
           "rgb(158,202,225)"
          ],
          [
           0.5,
           "rgb(107,174,214)"
          ],
          [
           0.625,
           "rgb(66,146,198)"
          ],
          [
           0.75,
           "rgb(33,113,181)"
          ],
          [
           0.875,
           "rgb(8,81,156)"
          ],
          [
           1,
           "rgb(8,48,107)"
          ]
         ],
         "connectgaps": true,
         "contours": {
          "coloring": "heatmap"
         },
         "hoverinfo": "none",
         "line": {
          "smoothing": 1.3
         },
         "reversescale": true,
         "showscale": false,
         "type": "contour",
         "x": [
          925,
          1000,
          1500,
          2000,
          2500,
          2575
         ],
         "xaxis": "x6",
         "y": [
          0.055,
          0.1,
          0.15000000000000002,
          0.2,
          0.25,
          0.30000000000000004,
          0.35,
          0.4,
          0.45000000000000007,
          0.5,
          0.55,
          0.6,
          0.65,
          0.7000000000000001,
          0.75,
          0.8,
          0.85,
          0.9500000000000001,
          1,
          1.045
         ],
         "yaxis": "y6",
         "z": [
          [
           null,
           null,
           null,
           null,
           null,
           null
          ],
          [
           null,
           null,
           null,
           0.15071192595553887,
           null,
           null
          ],
          [
           null,
           null,
           0.13047691572373177,
           null,
           0.13615008340706194,
           null
          ],
          [
           null,
           0.10019436382486731,
           0.08612475105006775,
           null,
           0.11851280323592236,
           null
          ],
          [
           null,
           0.12251303824145901,
           0.1556628005923667,
           null,
           0.08240040067008436,
           null
          ],
          [
           null,
           null,
           null,
           0.10495411774125105,
           null,
           null
          ],
          [
           null,
           null,
           0.17848323203310007,
           null,
           0.2369807454766893,
           null
          ],
          [
           null,
           null,
           0.10013072057549566,
           null,
           0.11268986958912172,
           null
          ],
          [
           null,
           null,
           null,
           0.07874699433279553,
           0.09743743397870283,
           null
          ],
          [
           null,
           0.07998033569640853,
           null,
           null,
           0.12992490211940821,
           null
          ],
          [
           null,
           0.11268271472843099,
           0.07862022171714446,
           null,
           0.090526184516903,
           null
          ],
          [
           null,
           null,
           null,
           0.08652642977032801,
           0.08458545703907237,
           null
          ],
          [
           null,
           0.17905252683594775,
           null,
           null,
           null,
           null
          ],
          [
           null,
           0.10515735639853782,
           null,
           0.11374112480295542,
           0.11402384536999355,
           null
          ],
          [
           null,
           0.11593370407858314,
           0.12425988214115509,
           0.12613100275301461,
           0.09620781129141195,
           null
          ],
          [
           null,
           0.13582287369088647,
           null,
           0.0909245619872217,
           0.10713833385975295,
           null
          ],
          [
           null,
           0.11288949318759711,
           0.08658539101108456,
           0.12032983628101128,
           0.09677264998232762,
           null
          ],
          [
           null,
           0.09574528693736387,
           0.1020634166852071,
           0.12534585938395798,
           0.09470330662696716,
           null
          ],
          [
           null,
           0.09028557500841652,
           0.1951916374994696,
           0.13124124590441927,
           0.12356977261243836,
           null
          ],
          [
           null,
           null,
           null,
           null,
           null,
           null
          ]
         ]
        },
        {
         "marker": {
          "color": "black",
          "line": {
           "color": "Gray",
           "width": 2
          }
         },
         "mode": "markers",
         "name": "Feasible Trial",
         "showlegend": false,
         "type": "scatter",
         "x": [
          2000,
          2500,
          2000,
          1500,
          1000,
          2000,
          1000,
          1500,
          1000,
          1500,
          2500,
          2000,
          2500,
          2000,
          2500,
          1500,
          2000,
          2500,
          1500,
          2500,
          1500,
          2500,
          2500,
          2500,
          2000,
          2500,
          2000,
          1000,
          2500,
          1500,
          1000,
          1500,
          1000,
          1500,
          2000,
          2000,
          1000,
          1000,
          1500,
          2500,
          2500,
          2500,
          2000,
          2500,
          2500,
          1500,
          2000,
          2000,
          2000,
          2500,
          2000,
          1500,
          2500,
          1500,
          2000,
          1000,
          1000,
          2500,
          1000,
          2500,
          2000,
          1000,
          1500,
          2500,
          2500,
          1500,
          1500,
          2500,
          2500,
          1500,
          1500,
          2500,
          1500,
          1000,
          2000,
          2000,
          2500,
          2500,
          2500,
          1500,
          1000,
          2500,
          1500,
          2000,
          2500,
          2000,
          2500,
          2000,
          1000,
          2000,
          2500,
          1500,
          2500,
          1500,
          1500,
          1500,
          2500,
          1000,
          2500,
          2500
         ],
         "xaxis": "x6",
         "y": [
          0.7000000000000001,
          0.5,
          0.75,
          0.85,
          0.8,
          0.85,
          0.5,
          0.55,
          0.55,
          0.4,
          0.25,
          1,
          0.4,
          0.6,
          0.45000000000000007,
          0.25,
          0.30000000000000004,
          0.2,
          0.4,
          0.75,
          0.35,
          0.35,
          0.9500000000000001,
          0.4,
          0.45000000000000007,
          0.8,
          0.30000000000000004,
          0.65,
          0.9500000000000001,
          0.9500000000000001,
          1,
          1,
          0.65,
          0.25,
          0.6,
          1,
          0.2,
          0.85,
          0.15000000000000002,
          0.7000000000000001,
          0.6,
          0.45000000000000007,
          1,
          0.35,
          0.5,
          0.2,
          0.6,
          0.6,
          0.1,
          0.85,
          0.30000000000000004,
          0.9500000000000001,
          0.5,
          0.85,
          0.45000000000000007,
          0.25,
          0.7000000000000001,
          1,
          0.75,
          0.15000000000000002,
          0.8,
          0.9500000000000001,
          0.85,
          0.85,
          0.4,
          0.4,
          0.9500000000000001,
          0.75,
          0.7000000000000001,
          0.4,
          0.75,
          0.2,
          0.9500000000000001,
          0.85,
          0.6,
          0.85,
          0.9500000000000001,
          0.2,
          0.9500000000000001,
          0.25,
          0.85,
          1,
          0.4,
          0.8,
          0.4,
          0.6,
          0.9500000000000001,
          0.30000000000000004,
          0.2,
          0.9500000000000001,
          0.2,
          0.4,
          0.25,
          0.4,
          0.15000000000000002,
          0.25,
          0.55,
          0.5,
          0.4,
          0.45000000000000007
         ],
         "yaxis": "y6"
        },
        {
         "colorbar": {
          "title": {
           "text": "Berier Score"
          }
         },
         "colorscale": [
          [
           0,
           "rgb(247,251,255)"
          ],
          [
           0.125,
           "rgb(222,235,247)"
          ],
          [
           0.25,
           "rgb(198,219,239)"
          ],
          [
           0.375,
           "rgb(158,202,225)"
          ],
          [
           0.5,
           "rgb(107,174,214)"
          ],
          [
           0.625,
           "rgb(66,146,198)"
          ],
          [
           0.75,
           "rgb(33,113,181)"
          ],
          [
           0.875,
           "rgb(8,81,156)"
          ],
          [
           1,
           "rgb(8,48,107)"
          ]
         ],
         "connectgaps": true,
         "contours": {
          "coloring": "heatmap"
         },
         "hoverinfo": "none",
         "line": {
          "smoothing": 1.3
         },
         "reversescale": true,
         "showscale": false,
         "type": "contour",
         "x": [
          925,
          1000,
          1500,
          2000,
          2500,
          2575
         ],
         "xaxis": "x12",
         "y": [
          -0.1,
          0,
          0.05,
          0.1,
          0.15000000000000002,
          0.2,
          0.25,
          0.30000000000000004,
          0.35000000000000003,
          0.4,
          0.45,
          0.5,
          0.6000000000000001,
          0.65,
          0.7000000000000001,
          0.8500000000000001,
          0.9,
          0.9500000000000001,
          1.05,
          1.1500000000000001,
          1.2000000000000002,
          1.25,
          1.35,
          1.4000000000000001,
          1.4500000000000002,
          1.55,
          1.6,
          1.6500000000000001,
          1.75,
          1.8,
          1.9000000000000001,
          1.9500000000000002,
          2,
          2.1
         ],
         "yaxis": "y12",
         "z": [
          [
           null,
           null,
           null,
           null,
           null,
           null
          ],
          [
           null,
           0.13582287369088647,
           null,
           null,
           0.2369807454766893,
           null
          ],
          [
           null,
           null,
           0.17848323203310007,
           0.13124124590441927,
           0.13615008340706194,
           null
          ],
          [
           null,
           null,
           null,
           null,
           0.12356977261243836,
           null
          ],
          [
           null,
           null,
           null,
           null,
           0.16169208233499582,
           null
          ],
          [
           null,
           null,
           0.12476681686446404,
           0.12032983628101128,
           0.11402384536999355,
           null
          ],
          [
           null,
           null,
           0.12425988214115509,
           null,
           null,
           null
          ],
          [
           null,
           0.1276137827395981,
           null,
           0.10557201172855095,
           0.10717288048547842,
           null
          ],
          [
           null,
           0.10515735639853782,
           null,
           null,
           0.09743743397870283,
           null
          ],
          [
           null,
           null,
           null,
           null,
           0.09952103049081085,
           null
          ],
          [
           null,
           0.11288949318759711,
           null,
           0.12452237557520125,
           null,
           null
          ],
          [
           null,
           null,
           0.13047691572373177,
           0.12534585938395798,
           0.10465319794205401,
           null
          ],
          [
           null,
           0.11593370407858314,
           0.10013072057549566,
           null,
           null,
           null
          ],
          [
           null,
           null,
           null,
           null,
           0.09470330662696716,
           null
          ],
          [
           null,
           null,
           null,
           null,
           0.09620781129141195,
           null
          ],
          [
           null,
           null,
           0.12119162051271111,
           null,
           0.09677264998232762,
           null
          ],
          [
           null,
           0.10019436382486731,
           null,
           null,
           0.11268986958912172,
           null
          ],
          [
           null,
           null,
           null,
           null,
           0.08669849054724672,
           null
          ],
          [
           null,
           null,
           null,
           0.07874699433279553,
           0.08422036547833249,
           null
          ],
          [
           null,
           null,
           0.07862022171714446,
           0.09075300360053928,
           0.090526184516903,
           null
          ],
          [
           null,
           0.08240570659304877,
           null,
           null,
           null,
           null
          ],
          [
           null,
           null,
           0.08948891853060222,
           null,
           null,
           null
          ],
          [
           null,
           null,
           0.07429691441361344,
           0.08810746397632263,
           0.09214562387095178,
           null
          ],
          [
           null,
           0.17905252683594775,
           null,
           0.15071192595553887,
           null,
           null
          ],
          [
           null,
           null,
           0.1020634166852071,
           null,
           0.14614989099909512,
           null
          ],
          [
           null,
           null,
           null,
           0.10619306014189815,
           null,
           null
          ],
          [
           null,
           null,
           null,
           0.0909245619872217,
           0.08765653387512147,
           null
          ],
          [
           null,
           null,
           0.08004448622840796,
           0.12079189141515675,
           0.11851280323592236,
           null
          ],
          [
           null,
           null,
           0.08658539101108456,
           0.08652642977032801,
           0.08240040067008436,
           null
          ],
          [
           null,
           null,
           0.1556628005923667,
           null,
           0.0808865219980063,
           null
          ],
          [
           null,
           null,
           null,
           0.13285484935163142,
           null,
           null
          ],
          [
           null,
           0.07998033569640853,
           0.1643310120573122,
           null,
           null,
           null
          ],
          [
           null,
           null,
           null,
           null,
           0.08458545703907237,
           null
          ],
          [
           null,
           null,
           null,
           null,
           null,
           null
          ]
         ]
        },
        {
         "marker": {
          "color": "black",
          "line": {
           "color": "Gray",
           "width": 2
          }
         },
         "mode": "markers",
         "name": "Feasible Trial",
         "showlegend": false,
         "type": "scatter",
         "x": [
          2000,
          2500,
          2000,
          1500,
          1000,
          2000,
          1000,
          1500,
          1000,
          1500,
          2500,
          2000,
          2500,
          2000,
          2500,
          1500,
          2000,
          2500,
          1500,
          2500,
          1500,
          2500,
          2500,
          2500,
          2000,
          2500,
          2000,
          1000,
          2500,
          1500,
          1000,
          1500,
          1000,
          1500,
          2000,
          2000,
          1000,
          1000,
          1500,
          2500,
          2500,
          2500,
          2000,
          2500,
          2500,
          1500,
          2000,
          2000,
          2000,
          2500,
          2000,
          1500,
          2500,
          1500,
          2000,
          1000,
          1000,
          2500,
          1000,
          2500,
          2000,
          1000,
          1500,
          2500,
          2500,
          1500,
          1500,
          2500,
          2500,
          1500,
          1500,
          2500,
          1500,
          1000,
          2000,
          2000,
          2500,
          2500,
          2500,
          1500,
          1000,
          2500,
          1500,
          2000,
          2500,
          2000,
          2500,
          2000,
          1000,
          2000,
          2500,
          1500,
          2500,
          1500,
          1500,
          1500,
          2500,
          1000,
          2500,
          2500
         ],
         "xaxis": "x12",
         "y": [
          1.9000000000000001,
          0.05,
          0.5,
          0.2,
          0,
          0.45,
          0.6000000000000001,
          1.1500000000000001,
          0.45,
          0.6000000000000001,
          0.5,
          1.55,
          1.05,
          1.35,
          0.15000000000000002,
          0.6000000000000001,
          0.5,
          0.2,
          1.35,
          0.7000000000000001,
          0.05,
          0.4,
          1.75,
          0.8500000000000001,
          0.5,
          0.65,
          1.1500000000000001,
          0.30000000000000004,
          1.4500000000000002,
          0.25,
          0.9,
          0.6000000000000001,
          1.4000000000000001,
          1.9500000000000002,
          1.6,
          1.6500000000000001,
          1.2000000000000002,
          0.6000000000000001,
          0.5,
          0.2,
          2,
          1.8,
          0.05,
          0,
          0.9500000000000001,
          1.6500000000000001,
          1.75,
          1.05,
          1.4000000000000001,
          0.35000000000000003,
          0.30000000000000004,
          0.6000000000000001,
          0.05,
          1.25,
          1.05,
          0.45,
          0.35000000000000003,
          0.9500000000000001,
          0.6000000000000001,
          0.05,
          0.5,
          0.9,
          1.75,
          0.8500000000000001,
          1.05,
          1.35,
          0.6000000000000001,
          0.7000000000000001,
          0.2,
          0.6000000000000001,
          0.25,
          1.6,
          1.4500000000000002,
          0.9,
          1.9000000000000001,
          0.2,
          0.30000000000000004,
          1.35,
          1.4500000000000002,
          0.6000000000000001,
          0.45,
          0.1,
          0.8500000000000001,
          1.6,
          1.1500000000000001,
          1.75,
          0.65,
          0.5,
          0.9,
          0.5,
          1.6500000000000001,
          1.6500000000000001,
          1.75,
          0.6000000000000001,
          0.5,
          1.8,
          1.1500000000000001,
          1.9500000000000002,
          0.9,
          0.35000000000000003
         ],
         "yaxis": "y12"
        },
        {
         "colorbar": {
          "title": {
           "text": "Berier Score"
          }
         },
         "colorscale": [
          [
           0,
           "rgb(247,251,255)"
          ],
          [
           0.125,
           "rgb(222,235,247)"
          ],
          [
           0.25,
           "rgb(198,219,239)"
          ],
          [
           0.375,
           "rgb(158,202,225)"
          ],
          [
           0.5,
           "rgb(107,174,214)"
          ],
          [
           0.625,
           "rgb(66,146,198)"
          ],
          [
           0.75,
           "rgb(33,113,181)"
          ],
          [
           0.875,
           "rgb(8,81,156)"
          ],
          [
           1,
           "rgb(8,48,107)"
          ]
         ],
         "connectgaps": true,
         "contours": {
          "coloring": "heatmap"
         },
         "hoverinfo": "none",
         "line": {
          "smoothing": 1.3
         },
         "reversescale": true,
         "showscale": false,
         "type": "contour",
         "x": [
          925,
          1000,
          1500,
          2000,
          2500,
          2575
         ],
         "xaxis": "x18",
         "y": [
          -0.25,
          0,
          1,
          2,
          3,
          4,
          5,
          5.25
         ],
         "yaxis": "y18",
         "z": [
          [
           null,
           null,
           null,
           null,
           null,
           null
          ],
          [
           null,
           0.17905252683594775,
           0.1556628005923667,
           0.15071192595553887,
           0.14614989099909512,
           null
          ],
          [
           null,
           0.11593370407858314,
           0.13047691572373177,
           0.12534585938395798,
           0.11268986958912172,
           null
          ],
          [
           null,
           0.11288949318759711,
           0.11975742246849856,
           0.10495411774125105,
           0.090526184516903,
           null
          ],
          [
           null,
           0.13582287369088647,
           0.10994848109172935,
           0.09097776703461047,
           0.08422036547833249,
           null
          ],
          [
           null,
           0.07998033569640853,
           0.10013072057549566,
           0.12032983628101128,
           0.09743743397870283,
           null
          ],
          [
           null,
           0.10019436382486731,
           0.08612475105006775,
           0.13124124590441927,
           0.12992490211940821,
           null
          ],
          [
           null,
           null,
           null,
           null,
           null,
           null
          ]
         ]
        },
        {
         "marker": {
          "color": "black",
          "line": {
           "color": "Gray",
           "width": 2
          }
         },
         "mode": "markers",
         "name": "Feasible Trial",
         "showlegend": false,
         "type": "scatter",
         "x": [
          2000,
          2500,
          2000,
          1500,
          1000,
          2000,
          1000,
          1500,
          1000,
          1500,
          2500,
          2000,
          2500,
          2000,
          2500,
          1500,
          2000,
          2500,
          1500,
          2500,
          1500,
          2500,
          2500,
          2500,
          2000,
          2500,
          2000,
          1000,
          2500,
          1500,
          1000,
          1500,
          1000,
          1500,
          2000,
          2000,
          1000,
          1000,
          1500,
          2500,
          2500,
          2500,
          2000,
          2500,
          2500,
          1500,
          2000,
          2000,
          2000,
          2500,
          2000,
          1500,
          2500,
          1500,
          2000,
          1000,
          1000,
          2500,
          1000,
          2500,
          2000,
          1000,
          1500,
          2500,
          2500,
          1500,
          1500,
          2500,
          2500,
          1500,
          1500,
          2500,
          1500,
          1000,
          2000,
          2000,
          2500,
          2500,
          2500,
          1500,
          1000,
          2500,
          1500,
          2000,
          2500,
          2000,
          2500,
          2000,
          1000,
          2000,
          2500,
          1500,
          2500,
          1500,
          1500,
          1500,
          2500,
          1000,
          2500,
          2500
         ],
         "xaxis": "x18",
         "y": [
          1,
          5,
          1,
          4,
          3,
          1,
          0,
          3,
          5,
          5,
          2,
          1,
          3,
          4,
          0,
          4,
          1,
          2,
          4,
          2,
          0,
          3,
          2,
          5,
          2,
          1,
          2,
          1,
          2,
          3,
          4,
          0,
          0,
          0,
          2,
          1,
          4,
          1,
          1,
          3,
          5,
          3,
          5,
          1,
          4,
          5,
          2,
          3,
          0,
          4,
          2,
          4,
          5,
          4,
          3,
          1,
          4,
          4,
          1,
          2,
          3,
          4,
          2,
          2,
          3,
          4,
          2,
          2,
          2,
          4,
          1,
          2,
          1,
          4,
          1,
          4,
          2,
          2,
          0,
          4,
          2,
          2,
          1,
          2,
          2,
          2,
          2,
          2,
          5,
          1,
          1,
          4,
          2,
          4,
          1,
          0,
          2,
          4,
          1,
          4
         ],
         "yaxis": "y18"
        },
        {
         "colorbar": {
          "title": {
           "text": "Berier Score"
          }
         },
         "colorscale": [
          [
           0,
           "rgb(247,251,255)"
          ],
          [
           0.125,
           "rgb(222,235,247)"
          ],
          [
           0.25,
           "rgb(198,219,239)"
          ],
          [
           0.375,
           "rgb(158,202,225)"
          ],
          [
           0.5,
           "rgb(107,174,214)"
          ],
          [
           0.625,
           "rgb(66,146,198)"
          ],
          [
           0.75,
           "rgb(33,113,181)"
          ],
          [
           0.875,
           "rgb(8,81,156)"
          ],
          [
           1,
           "rgb(8,48,107)"
          ]
         ],
         "connectgaps": true,
         "contours": {
          "coloring": "heatmap"
         },
         "hoverinfo": "none",
         "line": {
          "smoothing": 1.3
         },
         "reversescale": true,
         "showscale": false,
         "type": "contour",
         "x": [
          925,
          1000,
          1500,
          2000,
          2500,
          2575
         ],
         "xaxis": "x24",
         "y": [
          37.5,
          50,
          75,
          100,
          200,
          300,
          312.5
         ],
         "yaxis": "y24",
         "z": [
          [
           null,
           null,
           null,
           null,
           null,
           null
          ],
          [
           null,
           0.13582287369088647,
           0.12119162051271111,
           0.12534585938395798,
           0.09193441977084502,
           null
          ],
          [
           null,
           0.11593370407858314,
           0.09630764743635435,
           0.07874699433279553,
           0.090526184516903,
           null
          ],
          [
           null,
           0.1276137827395981,
           0.1556628005923667,
           0.08652642977032801,
           0.09743743397870283,
           null
          ],
          [
           null,
           0.07998033569640853,
           0.13047691572373177,
           null,
           0.11268986958912172,
           null
          ],
          [
           null,
           0.10019436382486731,
           0.10013072057549566,
           0.12032983628101128,
           0.08240040067008436,
           null
          ],
          [
           null,
           null,
           null,
           null,
           null,
           null
          ]
         ]
        },
        {
         "marker": {
          "color": "black",
          "line": {
           "color": "Gray",
           "width": 2
          }
         },
         "mode": "markers",
         "name": "Feasible Trial",
         "showlegend": false,
         "type": "scatter",
         "x": [
          2000,
          2500,
          2000,
          1500,
          1000,
          2000,
          1000,
          1500,
          1000,
          1500,
          2500,
          2000,
          2500,
          2000,
          2500,
          1500,
          2000,
          2500,
          1500,
          2500,
          1500,
          2500,
          2500,
          2500,
          2000,
          2500,
          2000,
          1000,
          2500,
          1500,
          1000,
          1500,
          1000,
          1500,
          2000,
          2000,
          1000,
          1000,
          1500,
          2500,
          2500,
          2500,
          2000,
          2500,
          2500,
          1500,
          2000,
          2000,
          2000,
          2500,
          2000,
          1500,
          2500,
          1500,
          2000,
          1000,
          1000,
          2500,
          1000,
          2500,
          2000,
          1000,
          1500,
          2500,
          2500,
          1500,
          1500,
          2500,
          2500,
          1500,
          1500,
          2500,
          1500,
          1000,
          2000,
          2000,
          2500,
          2500,
          2500,
          1500,
          1000,
          2500,
          1500,
          2000,
          2500,
          2000,
          2500,
          2000,
          1000,
          2000,
          2500,
          1500,
          2500,
          1500,
          1500,
          1500,
          2500,
          1000,
          2500,
          2500
         ],
         "xaxis": "x24",
         "y": [
          300,
          300,
          50,
          300,
          50,
          50,
          300,
          75,
          300,
          300,
          75,
          75,
          75,
          75,
          100,
          300,
          75,
          75,
          100,
          300,
          300,
          300,
          75,
          50,
          50,
          100,
          50,
          100,
          100,
          75,
          200,
          75,
          75,
          200,
          100,
          50,
          200,
          75,
          200,
          200,
          50,
          100,
          300,
          75,
          75,
          300,
          300,
          75,
          50,
          300,
          50,
          100,
          300,
          300,
          75,
          300,
          200,
          50,
          75,
          300,
          50,
          300,
          300,
          50,
          100,
          100,
          300,
          75,
          300,
          300,
          75,
          100,
          100,
          200,
          300,
          300,
          100,
          300,
          100,
          75,
          300,
          100,
          50,
          100,
          50,
          100,
          75,
          50,
          300,
          50,
          300,
          200,
          300,
          300,
          200,
          100,
          75,
          200,
          200,
          100
         ],
         "yaxis": "y24"
        },
        {
         "colorbar": {
          "title": {
           "text": "Berier Score"
          }
         },
         "colorscale": [
          [
           0,
           "rgb(247,251,255)"
          ],
          [
           0.125,
           "rgb(222,235,247)"
          ],
          [
           0.25,
           "rgb(198,219,239)"
          ],
          [
           0.375,
           "rgb(158,202,225)"
          ],
          [
           0.5,
           "rgb(107,174,214)"
          ],
          [
           0.625,
           "rgb(66,146,198)"
          ],
          [
           0.75,
           "rgb(33,113,181)"
          ],
          [
           0.875,
           "rgb(8,81,156)"
          ],
          [
           1,
           "rgb(8,48,107)"
          ]
         ],
         "connectgaps": true,
         "contours": {
          "coloring": "heatmap"
         },
         "hoverinfo": "none",
         "line": {
          "smoothing": 1.3
         },
         "reversescale": true,
         "showscale": false,
         "type": "contour",
         "x": [
          925,
          1000,
          1500,
          2000,
          2500,
          2575
         ],
         "xaxis": "x30",
         "y": [
          0.9,
          1,
          2,
          3,
          3.1
         ],
         "yaxis": "y30",
         "z": [
          [
           null,
           null,
           null,
           null,
           null,
           null
          ],
          [
           null,
           0.07998033569640853,
           0.13047691572373177,
           0.10495411774125105,
           0.09743743397870283,
           null
          ],
          [
           null,
           0.11593370407858314,
           0.10013072057549566,
           0.12534585938395798,
           0.11851280323592236,
           null
          ],
          [
           null,
           0.10019436382486731,
           0.1556628005923667,
           0.08652642977032801,
           0.08240040067008436,
           null
          ],
          [
           null,
           null,
           null,
           null,
           null,
           null
          ]
         ]
        },
        {
         "marker": {
          "color": "black",
          "line": {
           "color": "Gray",
           "width": 2
          }
         },
         "mode": "markers",
         "name": "Feasible Trial",
         "showlegend": false,
         "type": "scatter",
         "x": [
          2000,
          2500,
          2000,
          1500,
          1000,
          2000,
          1000,
          1500,
          1000,
          1500,
          2500,
          2000,
          2500,
          2000,
          2500,
          1500,
          2000,
          2500,
          1500,
          2500,
          1500,
          2500,
          2500,
          2500,
          2000,
          2500,
          2000,
          1000,
          2500,
          1500,
          1000,
          1500,
          1000,
          1500,
          2000,
          2000,
          1000,
          1000,
          1500,
          2500,
          2500,
          2500,
          2000,
          2500,
          2500,
          1500,
          2000,
          2000,
          2000,
          2500,
          2000,
          1500,
          2500,
          1500,
          2000,
          1000,
          1000,
          2500,
          1000,
          2500,
          2000,
          1000,
          1500,
          2500,
          2500,
          1500,
          1500,
          2500,
          2500,
          1500,
          1500,
          2500,
          1500,
          1000,
          2000,
          2000,
          2500,
          2500,
          2500,
          1500,
          1000,
          2500,
          1500,
          2000,
          2500,
          2000,
          2500,
          2000,
          1000,
          2000,
          2500,
          1500,
          2500,
          1500,
          1500,
          1500,
          2500,
          1000,
          2500,
          2500
         ],
         "xaxis": "x30",
         "y": [
          2,
          2,
          2,
          3,
          2,
          2,
          3,
          1,
          1,
          1,
          1,
          1,
          1,
          1,
          1,
          3,
          2,
          1,
          2,
          3,
          1,
          3,
          3,
          2,
          1,
          1,
          2,
          3,
          1,
          2,
          3,
          2,
          2,
          1,
          1,
          1,
          1,
          2,
          1,
          1,
          2,
          2,
          2,
          1,
          1,
          2,
          2,
          1,
          1,
          2,
          2,
          1,
          2,
          3,
          1,
          2,
          1,
          1,
          2,
          2,
          2,
          3,
          3,
          2,
          1,
          2,
          1,
          3,
          2,
          1,
          2,
          1,
          1,
          3,
          1,
          2,
          1,
          1,
          2,
          1,
          1,
          2,
          2,
          2,
          1,
          3,
          3,
          1,
          3,
          2,
          2,
          2,
          3,
          2,
          1,
          3,
          1,
          1,
          1,
          1
         ],
         "yaxis": "y30"
        },
        {
         "type": "scatter",
         "xaxis": "x36",
         "yaxis": "y36"
        }
       ],
       "layout": {
        "height": 1200,
        "template": {
         "data": {
          "bar": [
           {
            "error_x": {
             "color": "#2a3f5f"
            },
            "error_y": {
             "color": "#2a3f5f"
            },
            "marker": {
             "line": {
              "color": "#E5ECF6",
              "width": 0.5
             },
             "pattern": {
              "fillmode": "overlay",
              "size": 10,
              "solidity": 0.2
             }
            },
            "type": "bar"
           }
          ],
          "barpolar": [
           {
            "marker": {
             "line": {
              "color": "#E5ECF6",
              "width": 0.5
             },
             "pattern": {
              "fillmode": "overlay",
              "size": 10,
              "solidity": 0.2
             }
            },
            "type": "barpolar"
           }
          ],
          "carpet": [
           {
            "aaxis": {
             "endlinecolor": "#2a3f5f",
             "gridcolor": "white",
             "linecolor": "white",
             "minorgridcolor": "white",
             "startlinecolor": "#2a3f5f"
            },
            "baxis": {
             "endlinecolor": "#2a3f5f",
             "gridcolor": "white",
             "linecolor": "white",
             "minorgridcolor": "white",
             "startlinecolor": "#2a3f5f"
            },
            "type": "carpet"
           }
          ],
          "choropleth": [
           {
            "colorbar": {
             "outlinewidth": 0,
             "ticks": ""
            },
            "type": "choropleth"
           }
          ],
          "contour": [
           {
            "colorbar": {
             "outlinewidth": 0,
             "ticks": ""
            },
            "colorscale": [
             [
              0,
              "#0d0887"
             ],
             [
              0.1111111111111111,
              "#46039f"
             ],
             [
              0.2222222222222222,
              "#7201a8"
             ],
             [
              0.3333333333333333,
              "#9c179e"
             ],
             [
              0.4444444444444444,
              "#bd3786"
             ],
             [
              0.5555555555555556,
              "#d8576b"
             ],
             [
              0.6666666666666666,
              "#ed7953"
             ],
             [
              0.7777777777777778,
              "#fb9f3a"
             ],
             [
              0.8888888888888888,
              "#fdca26"
             ],
             [
              1,
              "#f0f921"
             ]
            ],
            "type": "contour"
           }
          ],
          "contourcarpet": [
           {
            "colorbar": {
             "outlinewidth": 0,
             "ticks": ""
            },
            "type": "contourcarpet"
           }
          ],
          "heatmap": [
           {
            "colorbar": {
             "outlinewidth": 0,
             "ticks": ""
            },
            "colorscale": [
             [
              0,
              "#0d0887"
             ],
             [
              0.1111111111111111,
              "#46039f"
             ],
             [
              0.2222222222222222,
              "#7201a8"
             ],
             [
              0.3333333333333333,
              "#9c179e"
             ],
             [
              0.4444444444444444,
              "#bd3786"
             ],
             [
              0.5555555555555556,
              "#d8576b"
             ],
             [
              0.6666666666666666,
              "#ed7953"
             ],
             [
              0.7777777777777778,
              "#fb9f3a"
             ],
             [
              0.8888888888888888,
              "#fdca26"
             ],
             [
              1,
              "#f0f921"
             ]
            ],
            "type": "heatmap"
           }
          ],
          "heatmapgl": [
           {
            "colorbar": {
             "outlinewidth": 0,
             "ticks": ""
            },
            "colorscale": [
             [
              0,
              "#0d0887"
             ],
             [
              0.1111111111111111,
              "#46039f"
             ],
             [
              0.2222222222222222,
              "#7201a8"
             ],
             [
              0.3333333333333333,
              "#9c179e"
             ],
             [
              0.4444444444444444,
              "#bd3786"
             ],
             [
              0.5555555555555556,
              "#d8576b"
             ],
             [
              0.6666666666666666,
              "#ed7953"
             ],
             [
              0.7777777777777778,
              "#fb9f3a"
             ],
             [
              0.8888888888888888,
              "#fdca26"
             ],
             [
              1,
              "#f0f921"
             ]
            ],
            "type": "heatmapgl"
           }
          ],
          "histogram": [
           {
            "marker": {
             "pattern": {
              "fillmode": "overlay",
              "size": 10,
              "solidity": 0.2
             }
            },
            "type": "histogram"
           }
          ],
          "histogram2d": [
           {
            "colorbar": {
             "outlinewidth": 0,
             "ticks": ""
            },
            "colorscale": [
             [
              0,
              "#0d0887"
             ],
             [
              0.1111111111111111,
              "#46039f"
             ],
             [
              0.2222222222222222,
              "#7201a8"
             ],
             [
              0.3333333333333333,
              "#9c179e"
             ],
             [
              0.4444444444444444,
              "#bd3786"
             ],
             [
              0.5555555555555556,
              "#d8576b"
             ],
             [
              0.6666666666666666,
              "#ed7953"
             ],
             [
              0.7777777777777778,
              "#fb9f3a"
             ],
             [
              0.8888888888888888,
              "#fdca26"
             ],
             [
              1,
              "#f0f921"
             ]
            ],
            "type": "histogram2d"
           }
          ],
          "histogram2dcontour": [
           {
            "colorbar": {
             "outlinewidth": 0,
             "ticks": ""
            },
            "colorscale": [
             [
              0,
              "#0d0887"
             ],
             [
              0.1111111111111111,
              "#46039f"
             ],
             [
              0.2222222222222222,
              "#7201a8"
             ],
             [
              0.3333333333333333,
              "#9c179e"
             ],
             [
              0.4444444444444444,
              "#bd3786"
             ],
             [
              0.5555555555555556,
              "#d8576b"
             ],
             [
              0.6666666666666666,
              "#ed7953"
             ],
             [
              0.7777777777777778,
              "#fb9f3a"
             ],
             [
              0.8888888888888888,
              "#fdca26"
             ],
             [
              1,
              "#f0f921"
             ]
            ],
            "type": "histogram2dcontour"
           }
          ],
          "mesh3d": [
           {
            "colorbar": {
             "outlinewidth": 0,
             "ticks": ""
            },
            "type": "mesh3d"
           }
          ],
          "parcoords": [
           {
            "line": {
             "colorbar": {
              "outlinewidth": 0,
              "ticks": ""
             }
            },
            "type": "parcoords"
           }
          ],
          "pie": [
           {
            "automargin": true,
            "type": "pie"
           }
          ],
          "scatter": [
           {
            "fillpattern": {
             "fillmode": "overlay",
             "size": 10,
             "solidity": 0.2
            },
            "type": "scatter"
           }
          ],
          "scatter3d": [
           {
            "line": {
             "colorbar": {
              "outlinewidth": 0,
              "ticks": ""
             }
            },
            "marker": {
             "colorbar": {
              "outlinewidth": 0,
              "ticks": ""
             }
            },
            "type": "scatter3d"
           }
          ],
          "scattercarpet": [
           {
            "marker": {
             "colorbar": {
              "outlinewidth": 0,
              "ticks": ""
             }
            },
            "type": "scattercarpet"
           }
          ],
          "scattergeo": [
           {
            "marker": {
             "colorbar": {
              "outlinewidth": 0,
              "ticks": ""
             }
            },
            "type": "scattergeo"
           }
          ],
          "scattergl": [
           {
            "marker": {
             "colorbar": {
              "outlinewidth": 0,
              "ticks": ""
             }
            },
            "type": "scattergl"
           }
          ],
          "scattermapbox": [
           {
            "marker": {
             "colorbar": {
              "outlinewidth": 0,
              "ticks": ""
             }
            },
            "type": "scattermapbox"
           }
          ],
          "scatterpolar": [
           {
            "marker": {
             "colorbar": {
              "outlinewidth": 0,
              "ticks": ""
             }
            },
            "type": "scatterpolar"
           }
          ],
          "scatterpolargl": [
           {
            "marker": {
             "colorbar": {
              "outlinewidth": 0,
              "ticks": ""
             }
            },
            "type": "scatterpolargl"
           }
          ],
          "scatterternary": [
           {
            "marker": {
             "colorbar": {
              "outlinewidth": 0,
              "ticks": ""
             }
            },
            "type": "scatterternary"
           }
          ],
          "surface": [
           {
            "colorbar": {
             "outlinewidth": 0,
             "ticks": ""
            },
            "colorscale": [
             [
              0,
              "#0d0887"
             ],
             [
              0.1111111111111111,
              "#46039f"
             ],
             [
              0.2222222222222222,
              "#7201a8"
             ],
             [
              0.3333333333333333,
              "#9c179e"
             ],
             [
              0.4444444444444444,
              "#bd3786"
             ],
             [
              0.5555555555555556,
              "#d8576b"
             ],
             [
              0.6666666666666666,
              "#ed7953"
             ],
             [
              0.7777777777777778,
              "#fb9f3a"
             ],
             [
              0.8888888888888888,
              "#fdca26"
             ],
             [
              1,
              "#f0f921"
             ]
            ],
            "type": "surface"
           }
          ],
          "table": [
           {
            "cells": {
             "fill": {
              "color": "#EBF0F8"
             },
             "line": {
              "color": "white"
             }
            },
            "header": {
             "fill": {
              "color": "#C8D4E3"
             },
             "line": {
              "color": "white"
             }
            },
            "type": "table"
           }
          ]
         },
         "layout": {
          "annotationdefaults": {
           "arrowcolor": "#2a3f5f",
           "arrowhead": 0,
           "arrowwidth": 1
          },
          "autotypenumbers": "strict",
          "coloraxis": {
           "colorbar": {
            "outlinewidth": 0,
            "ticks": ""
           }
          },
          "colorscale": {
           "diverging": [
            [
             0,
             "#8e0152"
            ],
            [
             0.1,
             "#c51b7d"
            ],
            [
             0.2,
             "#de77ae"
            ],
            [
             0.3,
             "#f1b6da"
            ],
            [
             0.4,
             "#fde0ef"
            ],
            [
             0.5,
             "#f7f7f7"
            ],
            [
             0.6,
             "#e6f5d0"
            ],
            [
             0.7,
             "#b8e186"
            ],
            [
             0.8,
             "#7fbc41"
            ],
            [
             0.9,
             "#4d9221"
            ],
            [
             1,
             "#276419"
            ]
           ],
           "sequential": [
            [
             0,
             "#0d0887"
            ],
            [
             0.1111111111111111,
             "#46039f"
            ],
            [
             0.2222222222222222,
             "#7201a8"
            ],
            [
             0.3333333333333333,
             "#9c179e"
            ],
            [
             0.4444444444444444,
             "#bd3786"
            ],
            [
             0.5555555555555556,
             "#d8576b"
            ],
            [
             0.6666666666666666,
             "#ed7953"
            ],
            [
             0.7777777777777778,
             "#fb9f3a"
            ],
            [
             0.8888888888888888,
             "#fdca26"
            ],
            [
             1,
             "#f0f921"
            ]
           ],
           "sequentialminus": [
            [
             0,
             "#0d0887"
            ],
            [
             0.1111111111111111,
             "#46039f"
            ],
            [
             0.2222222222222222,
             "#7201a8"
            ],
            [
             0.3333333333333333,
             "#9c179e"
            ],
            [
             0.4444444444444444,
             "#bd3786"
            ],
            [
             0.5555555555555556,
             "#d8576b"
            ],
            [
             0.6666666666666666,
             "#ed7953"
            ],
            [
             0.7777777777777778,
             "#fb9f3a"
            ],
            [
             0.8888888888888888,
             "#fdca26"
            ],
            [
             1,
             "#f0f921"
            ]
           ]
          },
          "colorway": [
           "#636efa",
           "#EF553B",
           "#00cc96",
           "#ab63fa",
           "#FFA15A",
           "#19d3f3",
           "#FF6692",
           "#B6E880",
           "#FF97FF",
           "#FECB52"
          ],
          "font": {
           "color": "#2a3f5f"
          },
          "geo": {
           "bgcolor": "white",
           "lakecolor": "white",
           "landcolor": "#E5ECF6",
           "showlakes": true,
           "showland": true,
           "subunitcolor": "white"
          },
          "hoverlabel": {
           "align": "left"
          },
          "hovermode": "closest",
          "mapbox": {
           "style": "light"
          },
          "paper_bgcolor": "white",
          "plot_bgcolor": "#E5ECF6",
          "polar": {
           "angularaxis": {
            "gridcolor": "white",
            "linecolor": "white",
            "ticks": ""
           },
           "bgcolor": "#E5ECF6",
           "radialaxis": {
            "gridcolor": "white",
            "linecolor": "white",
            "ticks": ""
           }
          },
          "scene": {
           "xaxis": {
            "backgroundcolor": "#E5ECF6",
            "gridcolor": "white",
            "gridwidth": 2,
            "linecolor": "white",
            "showbackground": true,
            "ticks": "",
            "zerolinecolor": "white"
           },
           "yaxis": {
            "backgroundcolor": "#E5ECF6",
            "gridcolor": "white",
            "gridwidth": 2,
            "linecolor": "white",
            "showbackground": true,
            "ticks": "",
            "zerolinecolor": "white"
           },
           "zaxis": {
            "backgroundcolor": "#E5ECF6",
            "gridcolor": "white",
            "gridwidth": 2,
            "linecolor": "white",
            "showbackground": true,
            "ticks": "",
            "zerolinecolor": "white"
           }
          },
          "shapedefaults": {
           "line": {
            "color": "#2a3f5f"
           }
          },
          "ternary": {
           "aaxis": {
            "gridcolor": "white",
            "linecolor": "white",
            "ticks": ""
           },
           "baxis": {
            "gridcolor": "white",
            "linecolor": "white",
            "ticks": ""
           },
           "bgcolor": "#E5ECF6",
           "caxis": {
            "gridcolor": "white",
            "linecolor": "white",
            "ticks": ""
           }
          },
          "title": {
           "x": 0.05
          },
          "xaxis": {
           "automargin": true,
           "gridcolor": "white",
           "linecolor": "white",
           "ticks": "",
           "title": {
            "standoff": 15
           },
           "zerolinecolor": "white",
           "zerolinewidth": 2
          },
          "yaxis": {
           "automargin": true,
           "gridcolor": "white",
           "linecolor": "white",
           "ticks": "",
           "title": {
            "standoff": 15
           },
           "zerolinecolor": "white",
           "zerolinewidth": 2
          }
         }
        },
        "title": {
         "text": "Contour Plot"
        },
        "width": 1200,
        "xaxis": {
         "anchor": "y",
         "domain": [
          0,
          0.1388888888888889
         ],
         "matches": "x31",
         "range": [
          0.055,
          1.045
         ],
         "showticklabels": false
        },
        "xaxis10": {
         "anchor": "y10",
         "domain": [
          0.5166666666666667,
          0.6555555555555557
         ],
         "matches": "x34",
         "range": [
          37.5,
          312.5
         ],
         "showticklabels": false
        },
        "xaxis11": {
         "anchor": "y11",
         "domain": [
          0.6888888888888889,
          0.8277777777777777
         ],
         "matches": "x35",
         "range": [
          0.9,
          3.1
         ],
         "showticklabels": false
        },
        "xaxis12": {
         "anchor": "y12",
         "domain": [
          0.861111111111111,
          1
         ],
         "matches": "x36",
         "range": [
          925,
          2575
         ],
         "showticklabels": false
        },
        "xaxis13": {
         "anchor": "y13",
         "domain": [
          0,
          0.1388888888888889
         ],
         "matches": "x31",
         "range": [
          0.055,
          1.045
         ],
         "showticklabels": false
        },
        "xaxis14": {
         "anchor": "y14",
         "domain": [
          0.17222222222222222,
          0.3111111111111111
         ],
         "matches": "x32",
         "range": [
          -0.1,
          2.1
         ],
         "showticklabels": false
        },
        "xaxis15": {
         "anchor": "y15",
         "domain": [
          0.34444444444444444,
          0.48333333333333334
         ],
         "matches": "x33",
         "range": [
          -0.25,
          5.25
         ],
         "showticklabels": false
        },
        "xaxis16": {
         "anchor": "y16",
         "domain": [
          0.5166666666666667,
          0.6555555555555557
         ],
         "matches": "x34",
         "range": [
          37.5,
          312.5
         ],
         "showticklabels": false
        },
        "xaxis17": {
         "anchor": "y17",
         "domain": [
          0.6888888888888889,
          0.8277777777777777
         ],
         "matches": "x35",
         "range": [
          0.9,
          3.1
         ],
         "showticklabels": false
        },
        "xaxis18": {
         "anchor": "y18",
         "domain": [
          0.861111111111111,
          1
         ],
         "matches": "x36",
         "range": [
          925,
          2575
         ],
         "showticklabels": false
        },
        "xaxis19": {
         "anchor": "y19",
         "domain": [
          0,
          0.1388888888888889
         ],
         "matches": "x31",
         "range": [
          0.055,
          1.045
         ],
         "showticklabels": false
        },
        "xaxis2": {
         "anchor": "y2",
         "domain": [
          0.17222222222222222,
          0.3111111111111111
         ],
         "matches": "x32",
         "range": [
          -0.1,
          2.1
         ],
         "showticklabels": false
        },
        "xaxis20": {
         "anchor": "y20",
         "domain": [
          0.17222222222222222,
          0.3111111111111111
         ],
         "matches": "x32",
         "range": [
          -0.1,
          2.1
         ],
         "showticklabels": false
        },
        "xaxis21": {
         "anchor": "y21",
         "domain": [
          0.34444444444444444,
          0.48333333333333334
         ],
         "matches": "x33",
         "range": [
          -0.25,
          5.25
         ],
         "showticklabels": false
        },
        "xaxis22": {
         "anchor": "y22",
         "domain": [
          0.5166666666666667,
          0.6555555555555557
         ],
         "matches": "x34",
         "range": [
          37.5,
          312.5
         ],
         "showticklabels": false
        },
        "xaxis23": {
         "anchor": "y23",
         "domain": [
          0.6888888888888889,
          0.8277777777777777
         ],
         "matches": "x35",
         "range": [
          0.9,
          3.1
         ],
         "showticklabels": false
        },
        "xaxis24": {
         "anchor": "y24",
         "domain": [
          0.861111111111111,
          1
         ],
         "matches": "x36",
         "range": [
          925,
          2575
         ],
         "showticklabels": false
        },
        "xaxis25": {
         "anchor": "y25",
         "domain": [
          0,
          0.1388888888888889
         ],
         "matches": "x31",
         "range": [
          0.055,
          1.045
         ],
         "showticklabels": false
        },
        "xaxis26": {
         "anchor": "y26",
         "domain": [
          0.17222222222222222,
          0.3111111111111111
         ],
         "matches": "x32",
         "range": [
          -0.1,
          2.1
         ],
         "showticklabels": false
        },
        "xaxis27": {
         "anchor": "y27",
         "domain": [
          0.34444444444444444,
          0.48333333333333334
         ],
         "matches": "x33",
         "range": [
          -0.25,
          5.25
         ],
         "showticklabels": false
        },
        "xaxis28": {
         "anchor": "y28",
         "domain": [
          0.5166666666666667,
          0.6555555555555557
         ],
         "matches": "x34",
         "range": [
          37.5,
          312.5
         ],
         "showticklabels": false
        },
        "xaxis29": {
         "anchor": "y29",
         "domain": [
          0.6888888888888889,
          0.8277777777777777
         ],
         "matches": "x35",
         "range": [
          0.9,
          3.1
         ],
         "showticklabels": false
        },
        "xaxis3": {
         "anchor": "y3",
         "domain": [
          0.34444444444444444,
          0.48333333333333334
         ],
         "matches": "x33",
         "range": [
          -0.25,
          5.25
         ],
         "showticklabels": false
        },
        "xaxis30": {
         "anchor": "y30",
         "domain": [
          0.861111111111111,
          1
         ],
         "matches": "x36",
         "range": [
          925,
          2575
         ],
         "showticklabels": false
        },
        "xaxis31": {
         "anchor": "y31",
         "domain": [
          0,
          0.1388888888888889
         ],
         "range": [
          0.055,
          1.045
         ],
         "title": {
          "text": "alpha"
         }
        },
        "xaxis32": {
         "anchor": "y32",
         "domain": [
          0.17222222222222222,
          0.3111111111111111
         ],
         "range": [
          -0.1,
          2.1
         ],
         "title": {
          "text": "beta"
         }
        },
        "xaxis33": {
         "anchor": "y33",
         "domain": [
          0.34444444444444444,
          0.48333333333333334
         ],
         "range": [
          -0.25,
          5.25
         ],
         "title": {
          "text": "depth"
         }
        },
        "xaxis34": {
         "anchor": "y34",
         "domain": [
          0.5166666666666667,
          0.6555555555555557
         ],
         "range": [
          37.5,
          312.5
         ],
         "title": {
          "text": "dim_hidden"
         }
        },
        "xaxis35": {
         "anchor": "y35",
         "domain": [
          0.6888888888888889,
          0.8277777777777777
         ],
         "range": [
          0.9,
          3.1
         ],
         "title": {
          "text": "num_discr_iterations"
         }
        },
        "xaxis36": {
         "anchor": "y36",
         "domain": [
          0.861111111111111,
          1
         ],
         "range": [
          925,
          2575
         ],
         "title": {
          "text": "num_iterations"
         }
        },
        "xaxis4": {
         "anchor": "y4",
         "domain": [
          0.5166666666666667,
          0.6555555555555557
         ],
         "matches": "x34",
         "range": [
          37.5,
          312.5
         ],
         "showticklabels": false
        },
        "xaxis5": {
         "anchor": "y5",
         "domain": [
          0.6888888888888889,
          0.8277777777777777
         ],
         "matches": "x35",
         "range": [
          0.9,
          3.1
         ],
         "showticklabels": false
        },
        "xaxis6": {
         "anchor": "y6",
         "domain": [
          0.861111111111111,
          1
         ],
         "matches": "x36",
         "range": [
          925,
          2575
         ],
         "showticklabels": false
        },
        "xaxis7": {
         "anchor": "y7",
         "domain": [
          0,
          0.1388888888888889
         ],
         "matches": "x31",
         "range": [
          0.055,
          1.045
         ],
         "showticklabels": false
        },
        "xaxis8": {
         "anchor": "y8",
         "domain": [
          0.17222222222222222,
          0.3111111111111111
         ],
         "matches": "x32",
         "range": [
          -0.1,
          2.1
         ],
         "showticklabels": false
        },
        "xaxis9": {
         "anchor": "y9",
         "domain": [
          0.34444444444444444,
          0.48333333333333334
         ],
         "matches": "x33",
         "range": [
          -0.25,
          5.25
         ],
         "showticklabels": false
        },
        "yaxis": {
         "anchor": "x",
         "domain": [
          0.875,
          1
         ],
         "range": [
          0.055,
          1.045
         ],
         "title": {
          "text": "alpha"
         }
        },
        "yaxis10": {
         "anchor": "x10",
         "domain": [
          0.7,
          0.825
         ],
         "matches": "y7",
         "range": [
          -0.1,
          2.1
         ],
         "showticklabels": false
        },
        "yaxis11": {
         "anchor": "x11",
         "domain": [
          0.7,
          0.825
         ],
         "matches": "y7",
         "range": [
          -0.1,
          2.1
         ],
         "showticklabels": false
        },
        "yaxis12": {
         "anchor": "x12",
         "domain": [
          0.7,
          0.825
         ],
         "matches": "y7",
         "range": [
          -0.1,
          2.1
         ],
         "showticklabels": false
        },
        "yaxis13": {
         "anchor": "x13",
         "domain": [
          0.525,
          0.65
         ],
         "range": [
          -0.25,
          5.25
         ],
         "title": {
          "text": "depth"
         }
        },
        "yaxis14": {
         "anchor": "x14",
         "domain": [
          0.525,
          0.65
         ],
         "matches": "y13",
         "range": [
          -0.25,
          5.25
         ],
         "showticklabels": false
        },
        "yaxis15": {
         "anchor": "x15",
         "domain": [
          0.525,
          0.65
         ],
         "matches": "y13",
         "range": [
          -0.25,
          5.25
         ],
         "showticklabels": false
        },
        "yaxis16": {
         "anchor": "x16",
         "domain": [
          0.525,
          0.65
         ],
         "matches": "y13",
         "range": [
          -0.25,
          5.25
         ],
         "showticklabels": false
        },
        "yaxis17": {
         "anchor": "x17",
         "domain": [
          0.525,
          0.65
         ],
         "matches": "y13",
         "range": [
          -0.25,
          5.25
         ],
         "showticklabels": false
        },
        "yaxis18": {
         "anchor": "x18",
         "domain": [
          0.525,
          0.65
         ],
         "matches": "y13",
         "range": [
          -0.25,
          5.25
         ],
         "showticklabels": false
        },
        "yaxis19": {
         "anchor": "x19",
         "domain": [
          0.35,
          0.475
         ],
         "range": [
          37.5,
          312.5
         ],
         "title": {
          "text": "dim_hidden"
         }
        },
        "yaxis2": {
         "anchor": "x2",
         "domain": [
          0.875,
          1
         ],
         "matches": "y",
         "range": [
          0.055,
          1.045
         ],
         "showticklabels": false
        },
        "yaxis20": {
         "anchor": "x20",
         "domain": [
          0.35,
          0.475
         ],
         "matches": "y19",
         "range": [
          37.5,
          312.5
         ],
         "showticklabels": false
        },
        "yaxis21": {
         "anchor": "x21",
         "domain": [
          0.35,
          0.475
         ],
         "matches": "y19",
         "range": [
          37.5,
          312.5
         ],
         "showticklabels": false
        },
        "yaxis22": {
         "anchor": "x22",
         "domain": [
          0.35,
          0.475
         ],
         "matches": "y19",
         "range": [
          37.5,
          312.5
         ],
         "showticklabels": false
        },
        "yaxis23": {
         "anchor": "x23",
         "domain": [
          0.35,
          0.475
         ],
         "matches": "y19",
         "range": [
          37.5,
          312.5
         ],
         "showticklabels": false
        },
        "yaxis24": {
         "anchor": "x24",
         "domain": [
          0.35,
          0.475
         ],
         "matches": "y19",
         "range": [
          37.5,
          312.5
         ],
         "showticklabels": false
        },
        "yaxis25": {
         "anchor": "x25",
         "domain": [
          0.175,
          0.3
         ],
         "range": [
          0.9,
          3.1
         ],
         "title": {
          "text": "num_discr_iterations"
         }
        },
        "yaxis26": {
         "anchor": "x26",
         "domain": [
          0.175,
          0.3
         ],
         "matches": "y25",
         "range": [
          0.9,
          3.1
         ],
         "showticklabels": false
        },
        "yaxis27": {
         "anchor": "x27",
         "domain": [
          0.175,
          0.3
         ],
         "matches": "y25",
         "range": [
          0.9,
          3.1
         ],
         "showticklabels": false
        },
        "yaxis28": {
         "anchor": "x28",
         "domain": [
          0.175,
          0.3
         ],
         "matches": "y25",
         "range": [
          0.9,
          3.1
         ],
         "showticklabels": false
        },
        "yaxis29": {
         "anchor": "x29",
         "domain": [
          0.175,
          0.3
         ],
         "matches": "y25",
         "range": [
          0.9,
          3.1
         ],
         "showticklabels": false
        },
        "yaxis3": {
         "anchor": "x3",
         "domain": [
          0.875,
          1
         ],
         "matches": "y",
         "range": [
          0.055,
          1.045
         ],
         "showticklabels": false
        },
        "yaxis30": {
         "anchor": "x30",
         "domain": [
          0.175,
          0.3
         ],
         "matches": "y25",
         "range": [
          0.9,
          3.1
         ],
         "showticklabels": false
        },
        "yaxis31": {
         "anchor": "x31",
         "domain": [
          0,
          0.125
         ],
         "range": [
          925,
          2575
         ],
         "title": {
          "text": "num_iterations"
         }
        },
        "yaxis32": {
         "anchor": "x32",
         "domain": [
          0,
          0.125
         ],
         "matches": "y31",
         "range": [
          925,
          2575
         ],
         "showticklabels": false
        },
        "yaxis33": {
         "anchor": "x33",
         "domain": [
          0,
          0.125
         ],
         "matches": "y31",
         "range": [
          925,
          2575
         ],
         "showticklabels": false
        },
        "yaxis34": {
         "anchor": "x34",
         "domain": [
          0,
          0.125
         ],
         "matches": "y31",
         "range": [
          925,
          2575
         ],
         "showticklabels": false
        },
        "yaxis35": {
         "anchor": "x35",
         "domain": [
          0,
          0.125
         ],
         "matches": "y31",
         "range": [
          925,
          2575
         ],
         "showticklabels": false
        },
        "yaxis36": {
         "anchor": "x36",
         "domain": [
          0,
          0.125
         ],
         "matches": "y31",
         "range": [
          925,
          2575
         ],
         "showticklabels": false
        },
        "yaxis4": {
         "anchor": "x4",
         "domain": [
          0.875,
          1
         ],
         "matches": "y",
         "range": [
          0.055,
          1.045
         ],
         "showticklabels": false
        },
        "yaxis5": {
         "anchor": "x5",
         "domain": [
          0.875,
          1
         ],
         "matches": "y",
         "range": [
          0.055,
          1.045
         ],
         "showticklabels": false
        },
        "yaxis6": {
         "anchor": "x6",
         "domain": [
          0.875,
          1
         ],
         "matches": "y",
         "range": [
          0.055,
          1.045
         ],
         "showticklabels": false
        },
        "yaxis7": {
         "anchor": "x7",
         "domain": [
          0.7,
          0.825
         ],
         "range": [
          -0.1,
          2.1
         ],
         "title": {
          "text": "beta"
         }
        },
        "yaxis8": {
         "anchor": "x8",
         "domain": [
          0.7,
          0.825
         ],
         "matches": "y7",
         "range": [
          -0.1,
          2.1
         ],
         "showticklabels": false
        },
        "yaxis9": {
         "anchor": "x9",
         "domain": [
          0.7,
          0.825
         ],
         "matches": "y7",
         "range": [
          -0.1,
          2.1
         ],
         "showticklabels": false
        }
       }
      }
     },
     "metadata": {},
     "output_type": "display_data"
    },
    {
     "data": {
      "application/vnd.plotly.v1+json": {
       "config": {
        "plotlyServerURL": "https://plot.ly"
       },
       "data": [
        {
         "marker": {
          "color": [
           0,
           1,
           2,
           3,
           4,
           5,
           6,
           7,
           8,
           9,
           10,
           11,
           12,
           13,
           14,
           15,
           16,
           17,
           18,
           19,
           20,
           21,
           22,
           23,
           24,
           25,
           26,
           27,
           28,
           29,
           30,
           31,
           32,
           33,
           34,
           35,
           36,
           37,
           38,
           39,
           40,
           41,
           42,
           43,
           44,
           45,
           46,
           47,
           48,
           49,
           50,
           51,
           52,
           53,
           54,
           55,
           56,
           57,
           58,
           59,
           60,
           61,
           62,
           63,
           64,
           65,
           66,
           67,
           68,
           69,
           70,
           71,
           72,
           73,
           74,
           75,
           76,
           77,
           78,
           79,
           80,
           81,
           82,
           83,
           84,
           85,
           86,
           87,
           88,
           89,
           90,
           91,
           92,
           93,
           94,
           95,
           96,
           97,
           98,
           99
          ],
          "colorbar": {
           "title": {
            "text": "Trial"
           },
           "x": 1,
           "xpad": 40
          },
          "colorscale": [
           [
            0,
            "rgb(247,251,255)"
           ],
           [
            0.125,
            "rgb(222,235,247)"
           ],
           [
            0.25,
            "rgb(198,219,239)"
           ],
           [
            0.375,
            "rgb(158,202,225)"
           ],
           [
            0.5,
            "rgb(107,174,214)"
           ],
           [
            0.625,
            "rgb(66,146,198)"
           ],
           [
            0.75,
            "rgb(33,113,181)"
           ],
           [
            0.875,
            "rgb(8,81,156)"
           ],
           [
            1,
            "rgb(8,48,107)"
           ]
          ],
          "line": {
           "color": "Grey",
           "width": 0.5
          },
          "showscale": true
         },
         "mode": "markers",
         "name": "Feasible Trial",
         "showlegend": false,
         "type": "scatter",
         "x": [
          0.7000000000000001,
          0.5,
          0.75,
          0.85,
          0.8,
          0.85,
          0.5,
          0.55,
          0.55,
          0.4,
          0.25,
          1,
          0.4,
          0.6,
          0.45000000000000007,
          0.25,
          0.30000000000000004,
          0.2,
          0.4,
          0.75,
          0.35,
          0.35,
          0.9500000000000001,
          0.4,
          0.45000000000000007,
          0.8,
          0.30000000000000004,
          0.65,
          0.9500000000000001,
          0.9500000000000001,
          1,
          1,
          0.65,
          0.25,
          0.6,
          1,
          0.2,
          0.85,
          0.15000000000000002,
          0.7000000000000001,
          0.6,
          0.45000000000000007,
          1,
          0.35,
          0.5,
          0.2,
          0.6,
          0.6,
          0.1,
          0.85,
          0.30000000000000004,
          0.9500000000000001,
          0.5,
          0.85,
          0.45000000000000007,
          0.25,
          0.7000000000000001,
          1,
          0.75,
          0.15000000000000002,
          0.8,
          0.9500000000000001,
          0.85,
          0.85,
          0.4,
          0.4,
          0.9500000000000001,
          0.75,
          0.7000000000000001,
          0.4,
          0.75,
          0.2,
          0.9500000000000001,
          0.85,
          0.6,
          0.85,
          0.9500000000000001,
          0.2,
          0.9500000000000001,
          0.25,
          0.85,
          1,
          0.4,
          0.8,
          0.4,
          0.6,
          0.9500000000000001,
          0.30000000000000004,
          0.2,
          0.9500000000000001,
          0.2,
          0.4,
          0.25,
          0.4,
          0.15000000000000002,
          0.25,
          0.55,
          0.5,
          0.4,
          0.45000000000000007
         ],
         "xaxis": "x",
         "y": [
          0.11374112480295542,
          0.12992490211940821,
          0.12613100275301461,
          0.12476681686446404,
          0.13582287369088647,
          0.12452237557520125,
          0.19331547085265885,
          0.07862022171714446,
          0.11268271472843099,
          0.09895767464819924,
          0.10465319794205401,
          0.10619306014189815,
          0.0836072897455778,
          0.08810746397632263,
          0.16169208233499582,
          0.10161461785105619,
          0.11424583702496427,
          0.11009726952327215,
          0.07429691441361344,
          0.09220850323728155,
          0.17848323203310007,
          0.09952103049081085,
          0.08551682345574677,
          0.09186867087093704,
          0.10385922859827153,
          0.10713833385975295,
          0.09075300360053928,
          0.1276137827395981,
          0.09359666887990507,
          0.10994848109172935,
          0.09028557500841652,
          0.1951916374994696,
          0.17905252683594775,
          0.1643310120573122,
          0.08808402754005422,
          0.12079189141515675,
          0.08240570659304877,
          0.11687315580070105,
          0.13047691572373177,
          0.11468496825386745,
          0.08458545703907237,
          0.0808865219980063,
          0.13124124590441927,
          0.2369807454766893,
          0.08230788006895152,
          0.08612475105006775,
          0.09347149989815676,
          0.08291639449112218,
          0.15071192595553887,
          0.10665968153327306,
          0.10557201172855095,
          0.09195111899670967,
          0.12992490211940821,
          0.08948891853060222,
          0.07874699433279553,
          0.12251303824145901,
          0.10515735639853782,
          0.08669849054724672,
          0.11593370407858314,
          0.13615008340706194,
          0.09097776703461047,
          0.09574528693736387,
          0.08658539101108456,
          0.09677264998232762,
          0.08422036547833249,
          0.07429691441361344,
          0.11975742246849856,
          0.09620781129141195,
          0.11402384536999355,
          0.09450510927144531,
          0.12425988214115509,
          0.08765653387512147,
          0.1020634166852071,
          0.09044456828003454,
          0.13285484935163142,
          0.12032983628101128,
          0.10717288048547842,
          0.09214562387095178,
          0.14614989099909512,
          0.09630764743635435,
          0.11288949318759711,
          0.12356977261243836,
          0.12119162051271111,
          0.0909245619872217,
          0.09193441977084502,
          0.08652642977032801,
          0.09470330662696716,
          0.10495411774125105,
          0.10019436382486731,
          0.12534585938395798,
          0.11851280323592236,
          0.08004448622840796,
          0.08240040067008436,
          0.10013072057549566,
          0.13047691572373177,
          0.1556628005923667,
          0.090526184516903,
          0.07998033569640853,
          0.11268986958912172,
          0.09743743397870283
         ],
         "yaxis": "y"
        },
        {
         "marker": {
          "color": [
           0,
           1,
           2,
           3,
           4,
           5,
           6,
           7,
           8,
           9,
           10,
           11,
           12,
           13,
           14,
           15,
           16,
           17,
           18,
           19,
           20,
           21,
           22,
           23,
           24,
           25,
           26,
           27,
           28,
           29,
           30,
           31,
           32,
           33,
           34,
           35,
           36,
           37,
           38,
           39,
           40,
           41,
           42,
           43,
           44,
           45,
           46,
           47,
           48,
           49,
           50,
           51,
           52,
           53,
           54,
           55,
           56,
           57,
           58,
           59,
           60,
           61,
           62,
           63,
           64,
           65,
           66,
           67,
           68,
           69,
           70,
           71,
           72,
           73,
           74,
           75,
           76,
           77,
           78,
           79,
           80,
           81,
           82,
           83,
           84,
           85,
           86,
           87,
           88,
           89,
           90,
           91,
           92,
           93,
           94,
           95,
           96,
           97,
           98,
           99
          ],
          "colorbar": {
           "title": {
            "text": "Trial"
           },
           "x": 1,
           "xpad": 40
          },
          "colorscale": [
           [
            0,
            "rgb(247,251,255)"
           ],
           [
            0.125,
            "rgb(222,235,247)"
           ],
           [
            0.25,
            "rgb(198,219,239)"
           ],
           [
            0.375,
            "rgb(158,202,225)"
           ],
           [
            0.5,
            "rgb(107,174,214)"
           ],
           [
            0.625,
            "rgb(66,146,198)"
           ],
           [
            0.75,
            "rgb(33,113,181)"
           ],
           [
            0.875,
            "rgb(8,81,156)"
           ],
           [
            1,
            "rgb(8,48,107)"
           ]
          ],
          "line": {
           "color": "Grey",
           "width": 0.5
          },
          "showscale": false
         },
         "mode": "markers",
         "name": "Feasible Trial",
         "showlegend": false,
         "type": "scatter",
         "x": [
          1.9000000000000001,
          0.05,
          0.5,
          0.2,
          0,
          0.45,
          0.6000000000000001,
          1.1500000000000001,
          0.45,
          0.6000000000000001,
          0.5,
          1.55,
          1.05,
          1.35,
          0.15000000000000002,
          0.6000000000000001,
          0.5,
          0.2,
          1.35,
          0.7000000000000001,
          0.05,
          0.4,
          1.75,
          0.8500000000000001,
          0.5,
          0.65,
          1.1500000000000001,
          0.30000000000000004,
          1.4500000000000002,
          0.25,
          0.9,
          0.6000000000000001,
          1.4000000000000001,
          1.9500000000000002,
          1.6,
          1.6500000000000001,
          1.2000000000000002,
          0.6000000000000001,
          0.5,
          0.2,
          2,
          1.8,
          0.05,
          0,
          0.9500000000000001,
          1.6500000000000001,
          1.75,
          1.05,
          1.4000000000000001,
          0.35000000000000003,
          0.30000000000000004,
          0.6000000000000001,
          0.05,
          1.25,
          1.05,
          0.45,
          0.35000000000000003,
          0.9500000000000001,
          0.6000000000000001,
          0.05,
          0.5,
          0.9,
          1.75,
          0.8500000000000001,
          1.05,
          1.35,
          0.6000000000000001,
          0.7000000000000001,
          0.2,
          0.6000000000000001,
          0.25,
          1.6,
          1.4500000000000002,
          0.9,
          1.9000000000000001,
          0.2,
          0.30000000000000004,
          1.35,
          1.4500000000000002,
          0.6000000000000001,
          0.45,
          0.1,
          0.8500000000000001,
          1.6,
          1.1500000000000001,
          1.75,
          0.65,
          0.5,
          0.9,
          0.5,
          1.6500000000000001,
          1.6500000000000001,
          1.75,
          0.6000000000000001,
          0.5,
          1.8,
          1.1500000000000001,
          1.9500000000000002,
          0.9,
          0.35000000000000003
         ],
         "xaxis": "x2",
         "y": [
          0.11374112480295542,
          0.12992490211940821,
          0.12613100275301461,
          0.12476681686446404,
          0.13582287369088647,
          0.12452237557520125,
          0.19331547085265885,
          0.07862022171714446,
          0.11268271472843099,
          0.09895767464819924,
          0.10465319794205401,
          0.10619306014189815,
          0.0836072897455778,
          0.08810746397632263,
          0.16169208233499582,
          0.10161461785105619,
          0.11424583702496427,
          0.11009726952327215,
          0.07429691441361344,
          0.09220850323728155,
          0.17848323203310007,
          0.09952103049081085,
          0.08551682345574677,
          0.09186867087093704,
          0.10385922859827153,
          0.10713833385975295,
          0.09075300360053928,
          0.1276137827395981,
          0.09359666887990507,
          0.10994848109172935,
          0.09028557500841652,
          0.1951916374994696,
          0.17905252683594775,
          0.1643310120573122,
          0.08808402754005422,
          0.12079189141515675,
          0.08240570659304877,
          0.11687315580070105,
          0.13047691572373177,
          0.11468496825386745,
          0.08458545703907237,
          0.0808865219980063,
          0.13124124590441927,
          0.2369807454766893,
          0.08230788006895152,
          0.08612475105006775,
          0.09347149989815676,
          0.08291639449112218,
          0.15071192595553887,
          0.10665968153327306,
          0.10557201172855095,
          0.09195111899670967,
          0.12992490211940821,
          0.08948891853060222,
          0.07874699433279553,
          0.12251303824145901,
          0.10515735639853782,
          0.08669849054724672,
          0.11593370407858314,
          0.13615008340706194,
          0.09097776703461047,
          0.09574528693736387,
          0.08658539101108456,
          0.09677264998232762,
          0.08422036547833249,
          0.07429691441361344,
          0.11975742246849856,
          0.09620781129141195,
          0.11402384536999355,
          0.09450510927144531,
          0.12425988214115509,
          0.08765653387512147,
          0.1020634166852071,
          0.09044456828003454,
          0.13285484935163142,
          0.12032983628101128,
          0.10717288048547842,
          0.09214562387095178,
          0.14614989099909512,
          0.09630764743635435,
          0.11288949318759711,
          0.12356977261243836,
          0.12119162051271111,
          0.0909245619872217,
          0.09193441977084502,
          0.08652642977032801,
          0.09470330662696716,
          0.10495411774125105,
          0.10019436382486731,
          0.12534585938395798,
          0.11851280323592236,
          0.08004448622840796,
          0.08240040067008436,
          0.10013072057549566,
          0.13047691572373177,
          0.1556628005923667,
          0.090526184516903,
          0.07998033569640853,
          0.11268986958912172,
          0.09743743397870283
         ],
         "yaxis": "y2"
        },
        {
         "marker": {
          "color": [
           0,
           1,
           2,
           3,
           4,
           5,
           6,
           7,
           8,
           9,
           10,
           11,
           12,
           13,
           14,
           15,
           16,
           17,
           18,
           19,
           20,
           21,
           22,
           23,
           24,
           25,
           26,
           27,
           28,
           29,
           30,
           31,
           32,
           33,
           34,
           35,
           36,
           37,
           38,
           39,
           40,
           41,
           42,
           43,
           44,
           45,
           46,
           47,
           48,
           49,
           50,
           51,
           52,
           53,
           54,
           55,
           56,
           57,
           58,
           59,
           60,
           61,
           62,
           63,
           64,
           65,
           66,
           67,
           68,
           69,
           70,
           71,
           72,
           73,
           74,
           75,
           76,
           77,
           78,
           79,
           80,
           81,
           82,
           83,
           84,
           85,
           86,
           87,
           88,
           89,
           90,
           91,
           92,
           93,
           94,
           95,
           96,
           97,
           98,
           99
          ],
          "colorbar": {
           "title": {
            "text": "Trial"
           },
           "x": 1,
           "xpad": 40
          },
          "colorscale": [
           [
            0,
            "rgb(247,251,255)"
           ],
           [
            0.125,
            "rgb(222,235,247)"
           ],
           [
            0.25,
            "rgb(198,219,239)"
           ],
           [
            0.375,
            "rgb(158,202,225)"
           ],
           [
            0.5,
            "rgb(107,174,214)"
           ],
           [
            0.625,
            "rgb(66,146,198)"
           ],
           [
            0.75,
            "rgb(33,113,181)"
           ],
           [
            0.875,
            "rgb(8,81,156)"
           ],
           [
            1,
            "rgb(8,48,107)"
           ]
          ],
          "line": {
           "color": "Grey",
           "width": 0.5
          },
          "showscale": false
         },
         "mode": "markers",
         "name": "Feasible Trial",
         "showlegend": false,
         "type": "scatter",
         "x": [
          1,
          5,
          1,
          4,
          3,
          1,
          0,
          3,
          5,
          5,
          2,
          1,
          3,
          4,
          0,
          4,
          1,
          2,
          4,
          2,
          0,
          3,
          2,
          5,
          2,
          1,
          2,
          1,
          2,
          3,
          4,
          0,
          0,
          0,
          2,
          1,
          4,
          1,
          1,
          3,
          5,
          3,
          5,
          1,
          4,
          5,
          2,
          3,
          0,
          4,
          2,
          4,
          5,
          4,
          3,
          1,
          4,
          4,
          1,
          2,
          3,
          4,
          2,
          2,
          3,
          4,
          2,
          2,
          2,
          4,
          1,
          2,
          1,
          4,
          1,
          4,
          2,
          2,
          0,
          4,
          2,
          2,
          1,
          2,
          2,
          2,
          2,
          2,
          5,
          1,
          1,
          4,
          2,
          4,
          1,
          0,
          2,
          4,
          1,
          4
         ],
         "xaxis": "x3",
         "y": [
          0.11374112480295542,
          0.12992490211940821,
          0.12613100275301461,
          0.12476681686446404,
          0.13582287369088647,
          0.12452237557520125,
          0.19331547085265885,
          0.07862022171714446,
          0.11268271472843099,
          0.09895767464819924,
          0.10465319794205401,
          0.10619306014189815,
          0.0836072897455778,
          0.08810746397632263,
          0.16169208233499582,
          0.10161461785105619,
          0.11424583702496427,
          0.11009726952327215,
          0.07429691441361344,
          0.09220850323728155,
          0.17848323203310007,
          0.09952103049081085,
          0.08551682345574677,
          0.09186867087093704,
          0.10385922859827153,
          0.10713833385975295,
          0.09075300360053928,
          0.1276137827395981,
          0.09359666887990507,
          0.10994848109172935,
          0.09028557500841652,
          0.1951916374994696,
          0.17905252683594775,
          0.1643310120573122,
          0.08808402754005422,
          0.12079189141515675,
          0.08240570659304877,
          0.11687315580070105,
          0.13047691572373177,
          0.11468496825386745,
          0.08458545703907237,
          0.0808865219980063,
          0.13124124590441927,
          0.2369807454766893,
          0.08230788006895152,
          0.08612475105006775,
          0.09347149989815676,
          0.08291639449112218,
          0.15071192595553887,
          0.10665968153327306,
          0.10557201172855095,
          0.09195111899670967,
          0.12992490211940821,
          0.08948891853060222,
          0.07874699433279553,
          0.12251303824145901,
          0.10515735639853782,
          0.08669849054724672,
          0.11593370407858314,
          0.13615008340706194,
          0.09097776703461047,
          0.09574528693736387,
          0.08658539101108456,
          0.09677264998232762,
          0.08422036547833249,
          0.07429691441361344,
          0.11975742246849856,
          0.09620781129141195,
          0.11402384536999355,
          0.09450510927144531,
          0.12425988214115509,
          0.08765653387512147,
          0.1020634166852071,
          0.09044456828003454,
          0.13285484935163142,
          0.12032983628101128,
          0.10717288048547842,
          0.09214562387095178,
          0.14614989099909512,
          0.09630764743635435,
          0.11288949318759711,
          0.12356977261243836,
          0.12119162051271111,
          0.0909245619872217,
          0.09193441977084502,
          0.08652642977032801,
          0.09470330662696716,
          0.10495411774125105,
          0.10019436382486731,
          0.12534585938395798,
          0.11851280323592236,
          0.08004448622840796,
          0.08240040067008436,
          0.10013072057549566,
          0.13047691572373177,
          0.1556628005923667,
          0.090526184516903,
          0.07998033569640853,
          0.11268986958912172,
          0.09743743397870283
         ],
         "yaxis": "y3"
        },
        {
         "marker": {
          "color": [
           0,
           1,
           2,
           3,
           4,
           5,
           6,
           7,
           8,
           9,
           10,
           11,
           12,
           13,
           14,
           15,
           16,
           17,
           18,
           19,
           20,
           21,
           22,
           23,
           24,
           25,
           26,
           27,
           28,
           29,
           30,
           31,
           32,
           33,
           34,
           35,
           36,
           37,
           38,
           39,
           40,
           41,
           42,
           43,
           44,
           45,
           46,
           47,
           48,
           49,
           50,
           51,
           52,
           53,
           54,
           55,
           56,
           57,
           58,
           59,
           60,
           61,
           62,
           63,
           64,
           65,
           66,
           67,
           68,
           69,
           70,
           71,
           72,
           73,
           74,
           75,
           76,
           77,
           78,
           79,
           80,
           81,
           82,
           83,
           84,
           85,
           86,
           87,
           88,
           89,
           90,
           91,
           92,
           93,
           94,
           95,
           96,
           97,
           98,
           99
          ],
          "colorbar": {
           "title": {
            "text": "Trial"
           },
           "x": 1,
           "xpad": 40
          },
          "colorscale": [
           [
            0,
            "rgb(247,251,255)"
           ],
           [
            0.125,
            "rgb(222,235,247)"
           ],
           [
            0.25,
            "rgb(198,219,239)"
           ],
           [
            0.375,
            "rgb(158,202,225)"
           ],
           [
            0.5,
            "rgb(107,174,214)"
           ],
           [
            0.625,
            "rgb(66,146,198)"
           ],
           [
            0.75,
            "rgb(33,113,181)"
           ],
           [
            0.875,
            "rgb(8,81,156)"
           ],
           [
            1,
            "rgb(8,48,107)"
           ]
          ],
          "line": {
           "color": "Grey",
           "width": 0.5
          },
          "showscale": false
         },
         "mode": "markers",
         "name": "Feasible Trial",
         "showlegend": false,
         "type": "scatter",
         "x": [
          300,
          300,
          50,
          300,
          50,
          50,
          300,
          75,
          300,
          300,
          75,
          75,
          75,
          75,
          100,
          300,
          75,
          75,
          100,
          300,
          300,
          300,
          75,
          50,
          50,
          100,
          50,
          100,
          100,
          75,
          200,
          75,
          75,
          200,
          100,
          50,
          200,
          75,
          200,
          200,
          50,
          100,
          300,
          75,
          75,
          300,
          300,
          75,
          50,
          300,
          50,
          100,
          300,
          300,
          75,
          300,
          200,
          50,
          75,
          300,
          50,
          300,
          300,
          50,
          100,
          100,
          300,
          75,
          300,
          300,
          75,
          100,
          100,
          200,
          300,
          300,
          100,
          300,
          100,
          75,
          300,
          100,
          50,
          100,
          50,
          100,
          75,
          50,
          300,
          50,
          300,
          200,
          300,
          300,
          200,
          100,
          75,
          200,
          200,
          100
         ],
         "xaxis": "x4",
         "y": [
          0.11374112480295542,
          0.12992490211940821,
          0.12613100275301461,
          0.12476681686446404,
          0.13582287369088647,
          0.12452237557520125,
          0.19331547085265885,
          0.07862022171714446,
          0.11268271472843099,
          0.09895767464819924,
          0.10465319794205401,
          0.10619306014189815,
          0.0836072897455778,
          0.08810746397632263,
          0.16169208233499582,
          0.10161461785105619,
          0.11424583702496427,
          0.11009726952327215,
          0.07429691441361344,
          0.09220850323728155,
          0.17848323203310007,
          0.09952103049081085,
          0.08551682345574677,
          0.09186867087093704,
          0.10385922859827153,
          0.10713833385975295,
          0.09075300360053928,
          0.1276137827395981,
          0.09359666887990507,
          0.10994848109172935,
          0.09028557500841652,
          0.1951916374994696,
          0.17905252683594775,
          0.1643310120573122,
          0.08808402754005422,
          0.12079189141515675,
          0.08240570659304877,
          0.11687315580070105,
          0.13047691572373177,
          0.11468496825386745,
          0.08458545703907237,
          0.0808865219980063,
          0.13124124590441927,
          0.2369807454766893,
          0.08230788006895152,
          0.08612475105006775,
          0.09347149989815676,
          0.08291639449112218,
          0.15071192595553887,
          0.10665968153327306,
          0.10557201172855095,
          0.09195111899670967,
          0.12992490211940821,
          0.08948891853060222,
          0.07874699433279553,
          0.12251303824145901,
          0.10515735639853782,
          0.08669849054724672,
          0.11593370407858314,
          0.13615008340706194,
          0.09097776703461047,
          0.09574528693736387,
          0.08658539101108456,
          0.09677264998232762,
          0.08422036547833249,
          0.07429691441361344,
          0.11975742246849856,
          0.09620781129141195,
          0.11402384536999355,
          0.09450510927144531,
          0.12425988214115509,
          0.08765653387512147,
          0.1020634166852071,
          0.09044456828003454,
          0.13285484935163142,
          0.12032983628101128,
          0.10717288048547842,
          0.09214562387095178,
          0.14614989099909512,
          0.09630764743635435,
          0.11288949318759711,
          0.12356977261243836,
          0.12119162051271111,
          0.0909245619872217,
          0.09193441977084502,
          0.08652642977032801,
          0.09470330662696716,
          0.10495411774125105,
          0.10019436382486731,
          0.12534585938395798,
          0.11851280323592236,
          0.08004448622840796,
          0.08240040067008436,
          0.10013072057549566,
          0.13047691572373177,
          0.1556628005923667,
          0.090526184516903,
          0.07998033569640853,
          0.11268986958912172,
          0.09743743397870283
         ],
         "yaxis": "y4"
        },
        {
         "marker": {
          "color": [
           0,
           1,
           2,
           3,
           4,
           5,
           6,
           7,
           8,
           9,
           10,
           11,
           12,
           13,
           14,
           15,
           16,
           17,
           18,
           19,
           20,
           21,
           22,
           23,
           24,
           25,
           26,
           27,
           28,
           29,
           30,
           31,
           32,
           33,
           34,
           35,
           36,
           37,
           38,
           39,
           40,
           41,
           42,
           43,
           44,
           45,
           46,
           47,
           48,
           49,
           50,
           51,
           52,
           53,
           54,
           55,
           56,
           57,
           58,
           59,
           60,
           61,
           62,
           63,
           64,
           65,
           66,
           67,
           68,
           69,
           70,
           71,
           72,
           73,
           74,
           75,
           76,
           77,
           78,
           79,
           80,
           81,
           82,
           83,
           84,
           85,
           86,
           87,
           88,
           89,
           90,
           91,
           92,
           93,
           94,
           95,
           96,
           97,
           98,
           99
          ],
          "colorbar": {
           "title": {
            "text": "Trial"
           },
           "x": 1,
           "xpad": 40
          },
          "colorscale": [
           [
            0,
            "rgb(247,251,255)"
           ],
           [
            0.125,
            "rgb(222,235,247)"
           ],
           [
            0.25,
            "rgb(198,219,239)"
           ],
           [
            0.375,
            "rgb(158,202,225)"
           ],
           [
            0.5,
            "rgb(107,174,214)"
           ],
           [
            0.625,
            "rgb(66,146,198)"
           ],
           [
            0.75,
            "rgb(33,113,181)"
           ],
           [
            0.875,
            "rgb(8,81,156)"
           ],
           [
            1,
            "rgb(8,48,107)"
           ]
          ],
          "line": {
           "color": "Grey",
           "width": 0.5
          },
          "showscale": false
         },
         "mode": "markers",
         "name": "Feasible Trial",
         "showlegend": false,
         "type": "scatter",
         "x": [
          2,
          2,
          2,
          3,
          2,
          2,
          3,
          1,
          1,
          1,
          1,
          1,
          1,
          1,
          1,
          3,
          2,
          1,
          2,
          3,
          1,
          3,
          3,
          2,
          1,
          1,
          2,
          3,
          1,
          2,
          3,
          2,
          2,
          1,
          1,
          1,
          1,
          2,
          1,
          1,
          2,
          2,
          2,
          1,
          1,
          2,
          2,
          1,
          1,
          2,
          2,
          1,
          2,
          3,
          1,
          2,
          1,
          1,
          2,
          2,
          2,
          3,
          3,
          2,
          1,
          2,
          1,
          3,
          2,
          1,
          2,
          1,
          1,
          3,
          1,
          2,
          1,
          1,
          2,
          1,
          1,
          2,
          2,
          2,
          1,
          3,
          3,
          1,
          3,
          2,
          2,
          2,
          3,
          2,
          1,
          3,
          1,
          1,
          1,
          1
         ],
         "xaxis": "x5",
         "y": [
          0.11374112480295542,
          0.12992490211940821,
          0.12613100275301461,
          0.12476681686446404,
          0.13582287369088647,
          0.12452237557520125,
          0.19331547085265885,
          0.07862022171714446,
          0.11268271472843099,
          0.09895767464819924,
          0.10465319794205401,
          0.10619306014189815,
          0.0836072897455778,
          0.08810746397632263,
          0.16169208233499582,
          0.10161461785105619,
          0.11424583702496427,
          0.11009726952327215,
          0.07429691441361344,
          0.09220850323728155,
          0.17848323203310007,
          0.09952103049081085,
          0.08551682345574677,
          0.09186867087093704,
          0.10385922859827153,
          0.10713833385975295,
          0.09075300360053928,
          0.1276137827395981,
          0.09359666887990507,
          0.10994848109172935,
          0.09028557500841652,
          0.1951916374994696,
          0.17905252683594775,
          0.1643310120573122,
          0.08808402754005422,
          0.12079189141515675,
          0.08240570659304877,
          0.11687315580070105,
          0.13047691572373177,
          0.11468496825386745,
          0.08458545703907237,
          0.0808865219980063,
          0.13124124590441927,
          0.2369807454766893,
          0.08230788006895152,
          0.08612475105006775,
          0.09347149989815676,
          0.08291639449112218,
          0.15071192595553887,
          0.10665968153327306,
          0.10557201172855095,
          0.09195111899670967,
          0.12992490211940821,
          0.08948891853060222,
          0.07874699433279553,
          0.12251303824145901,
          0.10515735639853782,
          0.08669849054724672,
          0.11593370407858314,
          0.13615008340706194,
          0.09097776703461047,
          0.09574528693736387,
          0.08658539101108456,
          0.09677264998232762,
          0.08422036547833249,
          0.07429691441361344,
          0.11975742246849856,
          0.09620781129141195,
          0.11402384536999355,
          0.09450510927144531,
          0.12425988214115509,
          0.08765653387512147,
          0.1020634166852071,
          0.09044456828003454,
          0.13285484935163142,
          0.12032983628101128,
          0.10717288048547842,
          0.09214562387095178,
          0.14614989099909512,
          0.09630764743635435,
          0.11288949318759711,
          0.12356977261243836,
          0.12119162051271111,
          0.0909245619872217,
          0.09193441977084502,
          0.08652642977032801,
          0.09470330662696716,
          0.10495411774125105,
          0.10019436382486731,
          0.12534585938395798,
          0.11851280323592236,
          0.08004448622840796,
          0.08240040067008436,
          0.10013072057549566,
          0.13047691572373177,
          0.1556628005923667,
          0.090526184516903,
          0.07998033569640853,
          0.11268986958912172,
          0.09743743397870283
         ],
         "yaxis": "y5"
        },
        {
         "marker": {
          "color": [
           0,
           1,
           2,
           3,
           4,
           5,
           6,
           7,
           8,
           9,
           10,
           11,
           12,
           13,
           14,
           15,
           16,
           17,
           18,
           19,
           20,
           21,
           22,
           23,
           24,
           25,
           26,
           27,
           28,
           29,
           30,
           31,
           32,
           33,
           34,
           35,
           36,
           37,
           38,
           39,
           40,
           41,
           42,
           43,
           44,
           45,
           46,
           47,
           48,
           49,
           50,
           51,
           52,
           53,
           54,
           55,
           56,
           57,
           58,
           59,
           60,
           61,
           62,
           63,
           64,
           65,
           66,
           67,
           68,
           69,
           70,
           71,
           72,
           73,
           74,
           75,
           76,
           77,
           78,
           79,
           80,
           81,
           82,
           83,
           84,
           85,
           86,
           87,
           88,
           89,
           90,
           91,
           92,
           93,
           94,
           95,
           96,
           97,
           98,
           99
          ],
          "colorbar": {
           "title": {
            "text": "Trial"
           },
           "x": 1,
           "xpad": 40
          },
          "colorscale": [
           [
            0,
            "rgb(247,251,255)"
           ],
           [
            0.125,
            "rgb(222,235,247)"
           ],
           [
            0.25,
            "rgb(198,219,239)"
           ],
           [
            0.375,
            "rgb(158,202,225)"
           ],
           [
            0.5,
            "rgb(107,174,214)"
           ],
           [
            0.625,
            "rgb(66,146,198)"
           ],
           [
            0.75,
            "rgb(33,113,181)"
           ],
           [
            0.875,
            "rgb(8,81,156)"
           ],
           [
            1,
            "rgb(8,48,107)"
           ]
          ],
          "line": {
           "color": "Grey",
           "width": 0.5
          },
          "showscale": false
         },
         "mode": "markers",
         "name": "Feasible Trial",
         "showlegend": false,
         "type": "scatter",
         "x": [
          2000,
          2500,
          2000,
          1500,
          1000,
          2000,
          1000,
          1500,
          1000,
          1500,
          2500,
          2000,
          2500,
          2000,
          2500,
          1500,
          2000,
          2500,
          1500,
          2500,
          1500,
          2500,
          2500,
          2500,
          2000,
          2500,
          2000,
          1000,
          2500,
          1500,
          1000,
          1500,
          1000,
          1500,
          2000,
          2000,
          1000,
          1000,
          1500,
          2500,
          2500,
          2500,
          2000,
          2500,
          2500,
          1500,
          2000,
          2000,
          2000,
          2500,
          2000,
          1500,
          2500,
          1500,
          2000,
          1000,
          1000,
          2500,
          1000,
          2500,
          2000,
          1000,
          1500,
          2500,
          2500,
          1500,
          1500,
          2500,
          2500,
          1500,
          1500,
          2500,
          1500,
          1000,
          2000,
          2000,
          2500,
          2500,
          2500,
          1500,
          1000,
          2500,
          1500,
          2000,
          2500,
          2000,
          2500,
          2000,
          1000,
          2000,
          2500,
          1500,
          2500,
          1500,
          1500,
          1500,
          2500,
          1000,
          2500,
          2500
         ],
         "xaxis": "x6",
         "y": [
          0.11374112480295542,
          0.12992490211940821,
          0.12613100275301461,
          0.12476681686446404,
          0.13582287369088647,
          0.12452237557520125,
          0.19331547085265885,
          0.07862022171714446,
          0.11268271472843099,
          0.09895767464819924,
          0.10465319794205401,
          0.10619306014189815,
          0.0836072897455778,
          0.08810746397632263,
          0.16169208233499582,
          0.10161461785105619,
          0.11424583702496427,
          0.11009726952327215,
          0.07429691441361344,
          0.09220850323728155,
          0.17848323203310007,
          0.09952103049081085,
          0.08551682345574677,
          0.09186867087093704,
          0.10385922859827153,
          0.10713833385975295,
          0.09075300360053928,
          0.1276137827395981,
          0.09359666887990507,
          0.10994848109172935,
          0.09028557500841652,
          0.1951916374994696,
          0.17905252683594775,
          0.1643310120573122,
          0.08808402754005422,
          0.12079189141515675,
          0.08240570659304877,
          0.11687315580070105,
          0.13047691572373177,
          0.11468496825386745,
          0.08458545703907237,
          0.0808865219980063,
          0.13124124590441927,
          0.2369807454766893,
          0.08230788006895152,
          0.08612475105006775,
          0.09347149989815676,
          0.08291639449112218,
          0.15071192595553887,
          0.10665968153327306,
          0.10557201172855095,
          0.09195111899670967,
          0.12992490211940821,
          0.08948891853060222,
          0.07874699433279553,
          0.12251303824145901,
          0.10515735639853782,
          0.08669849054724672,
          0.11593370407858314,
          0.13615008340706194,
          0.09097776703461047,
          0.09574528693736387,
          0.08658539101108456,
          0.09677264998232762,
          0.08422036547833249,
          0.07429691441361344,
          0.11975742246849856,
          0.09620781129141195,
          0.11402384536999355,
          0.09450510927144531,
          0.12425988214115509,
          0.08765653387512147,
          0.1020634166852071,
          0.09044456828003454,
          0.13285484935163142,
          0.12032983628101128,
          0.10717288048547842,
          0.09214562387095178,
          0.14614989099909512,
          0.09630764743635435,
          0.11288949318759711,
          0.12356977261243836,
          0.12119162051271111,
          0.0909245619872217,
          0.09193441977084502,
          0.08652642977032801,
          0.09470330662696716,
          0.10495411774125105,
          0.10019436382486731,
          0.12534585938395798,
          0.11851280323592236,
          0.08004448622840796,
          0.08240040067008436,
          0.10013072057549566,
          0.13047691572373177,
          0.1556628005923667,
          0.090526184516903,
          0.07998033569640853,
          0.11268986958912172,
          0.09743743397870283
         ],
         "yaxis": "y6"
        }
       ],
       "layout": {
        "template": {
         "data": {
          "bar": [
           {
            "error_x": {
             "color": "#2a3f5f"
            },
            "error_y": {
             "color": "#2a3f5f"
            },
            "marker": {
             "line": {
              "color": "#E5ECF6",
              "width": 0.5
             },
             "pattern": {
              "fillmode": "overlay",
              "size": 10,
              "solidity": 0.2
             }
            },
            "type": "bar"
           }
          ],
          "barpolar": [
           {
            "marker": {
             "line": {
              "color": "#E5ECF6",
              "width": 0.5
             },
             "pattern": {
              "fillmode": "overlay",
              "size": 10,
              "solidity": 0.2
             }
            },
            "type": "barpolar"
           }
          ],
          "carpet": [
           {
            "aaxis": {
             "endlinecolor": "#2a3f5f",
             "gridcolor": "white",
             "linecolor": "white",
             "minorgridcolor": "white",
             "startlinecolor": "#2a3f5f"
            },
            "baxis": {
             "endlinecolor": "#2a3f5f",
             "gridcolor": "white",
             "linecolor": "white",
             "minorgridcolor": "white",
             "startlinecolor": "#2a3f5f"
            },
            "type": "carpet"
           }
          ],
          "choropleth": [
           {
            "colorbar": {
             "outlinewidth": 0,
             "ticks": ""
            },
            "type": "choropleth"
           }
          ],
          "contour": [
           {
            "colorbar": {
             "outlinewidth": 0,
             "ticks": ""
            },
            "colorscale": [
             [
              0,
              "#0d0887"
             ],
             [
              0.1111111111111111,
              "#46039f"
             ],
             [
              0.2222222222222222,
              "#7201a8"
             ],
             [
              0.3333333333333333,
              "#9c179e"
             ],
             [
              0.4444444444444444,
              "#bd3786"
             ],
             [
              0.5555555555555556,
              "#d8576b"
             ],
             [
              0.6666666666666666,
              "#ed7953"
             ],
             [
              0.7777777777777778,
              "#fb9f3a"
             ],
             [
              0.8888888888888888,
              "#fdca26"
             ],
             [
              1,
              "#f0f921"
             ]
            ],
            "type": "contour"
           }
          ],
          "contourcarpet": [
           {
            "colorbar": {
             "outlinewidth": 0,
             "ticks": ""
            },
            "type": "contourcarpet"
           }
          ],
          "heatmap": [
           {
            "colorbar": {
             "outlinewidth": 0,
             "ticks": ""
            },
            "colorscale": [
             [
              0,
              "#0d0887"
             ],
             [
              0.1111111111111111,
              "#46039f"
             ],
             [
              0.2222222222222222,
              "#7201a8"
             ],
             [
              0.3333333333333333,
              "#9c179e"
             ],
             [
              0.4444444444444444,
              "#bd3786"
             ],
             [
              0.5555555555555556,
              "#d8576b"
             ],
             [
              0.6666666666666666,
              "#ed7953"
             ],
             [
              0.7777777777777778,
              "#fb9f3a"
             ],
             [
              0.8888888888888888,
              "#fdca26"
             ],
             [
              1,
              "#f0f921"
             ]
            ],
            "type": "heatmap"
           }
          ],
          "heatmapgl": [
           {
            "colorbar": {
             "outlinewidth": 0,
             "ticks": ""
            },
            "colorscale": [
             [
              0,
              "#0d0887"
             ],
             [
              0.1111111111111111,
              "#46039f"
             ],
             [
              0.2222222222222222,
              "#7201a8"
             ],
             [
              0.3333333333333333,
              "#9c179e"
             ],
             [
              0.4444444444444444,
              "#bd3786"
             ],
             [
              0.5555555555555556,
              "#d8576b"
             ],
             [
              0.6666666666666666,
              "#ed7953"
             ],
             [
              0.7777777777777778,
              "#fb9f3a"
             ],
             [
              0.8888888888888888,
              "#fdca26"
             ],
             [
              1,
              "#f0f921"
             ]
            ],
            "type": "heatmapgl"
           }
          ],
          "histogram": [
           {
            "marker": {
             "pattern": {
              "fillmode": "overlay",
              "size": 10,
              "solidity": 0.2
             }
            },
            "type": "histogram"
           }
          ],
          "histogram2d": [
           {
            "colorbar": {
             "outlinewidth": 0,
             "ticks": ""
            },
            "colorscale": [
             [
              0,
              "#0d0887"
             ],
             [
              0.1111111111111111,
              "#46039f"
             ],
             [
              0.2222222222222222,
              "#7201a8"
             ],
             [
              0.3333333333333333,
              "#9c179e"
             ],
             [
              0.4444444444444444,
              "#bd3786"
             ],
             [
              0.5555555555555556,
              "#d8576b"
             ],
             [
              0.6666666666666666,
              "#ed7953"
             ],
             [
              0.7777777777777778,
              "#fb9f3a"
             ],
             [
              0.8888888888888888,
              "#fdca26"
             ],
             [
              1,
              "#f0f921"
             ]
            ],
            "type": "histogram2d"
           }
          ],
          "histogram2dcontour": [
           {
            "colorbar": {
             "outlinewidth": 0,
             "ticks": ""
            },
            "colorscale": [
             [
              0,
              "#0d0887"
             ],
             [
              0.1111111111111111,
              "#46039f"
             ],
             [
              0.2222222222222222,
              "#7201a8"
             ],
             [
              0.3333333333333333,
              "#9c179e"
             ],
             [
              0.4444444444444444,
              "#bd3786"
             ],
             [
              0.5555555555555556,
              "#d8576b"
             ],
             [
              0.6666666666666666,
              "#ed7953"
             ],
             [
              0.7777777777777778,
              "#fb9f3a"
             ],
             [
              0.8888888888888888,
              "#fdca26"
             ],
             [
              1,
              "#f0f921"
             ]
            ],
            "type": "histogram2dcontour"
           }
          ],
          "mesh3d": [
           {
            "colorbar": {
             "outlinewidth": 0,
             "ticks": ""
            },
            "type": "mesh3d"
           }
          ],
          "parcoords": [
           {
            "line": {
             "colorbar": {
              "outlinewidth": 0,
              "ticks": ""
             }
            },
            "type": "parcoords"
           }
          ],
          "pie": [
           {
            "automargin": true,
            "type": "pie"
           }
          ],
          "scatter": [
           {
            "fillpattern": {
             "fillmode": "overlay",
             "size": 10,
             "solidity": 0.2
            },
            "type": "scatter"
           }
          ],
          "scatter3d": [
           {
            "line": {
             "colorbar": {
              "outlinewidth": 0,
              "ticks": ""
             }
            },
            "marker": {
             "colorbar": {
              "outlinewidth": 0,
              "ticks": ""
             }
            },
            "type": "scatter3d"
           }
          ],
          "scattercarpet": [
           {
            "marker": {
             "colorbar": {
              "outlinewidth": 0,
              "ticks": ""
             }
            },
            "type": "scattercarpet"
           }
          ],
          "scattergeo": [
           {
            "marker": {
             "colorbar": {
              "outlinewidth": 0,
              "ticks": ""
             }
            },
            "type": "scattergeo"
           }
          ],
          "scattergl": [
           {
            "marker": {
             "colorbar": {
              "outlinewidth": 0,
              "ticks": ""
             }
            },
            "type": "scattergl"
           }
          ],
          "scattermapbox": [
           {
            "marker": {
             "colorbar": {
              "outlinewidth": 0,
              "ticks": ""
             }
            },
            "type": "scattermapbox"
           }
          ],
          "scatterpolar": [
           {
            "marker": {
             "colorbar": {
              "outlinewidth": 0,
              "ticks": ""
             }
            },
            "type": "scatterpolar"
           }
          ],
          "scatterpolargl": [
           {
            "marker": {
             "colorbar": {
              "outlinewidth": 0,
              "ticks": ""
             }
            },
            "type": "scatterpolargl"
           }
          ],
          "scatterternary": [
           {
            "marker": {
             "colorbar": {
              "outlinewidth": 0,
              "ticks": ""
             }
            },
            "type": "scatterternary"
           }
          ],
          "surface": [
           {
            "colorbar": {
             "outlinewidth": 0,
             "ticks": ""
            },
            "colorscale": [
             [
              0,
              "#0d0887"
             ],
             [
              0.1111111111111111,
              "#46039f"
             ],
             [
              0.2222222222222222,
              "#7201a8"
             ],
             [
              0.3333333333333333,
              "#9c179e"
             ],
             [
              0.4444444444444444,
              "#bd3786"
             ],
             [
              0.5555555555555556,
              "#d8576b"
             ],
             [
              0.6666666666666666,
              "#ed7953"
             ],
             [
              0.7777777777777778,
              "#fb9f3a"
             ],
             [
              0.8888888888888888,
              "#fdca26"
             ],
             [
              1,
              "#f0f921"
             ]
            ],
            "type": "surface"
           }
          ],
          "table": [
           {
            "cells": {
             "fill": {
              "color": "#EBF0F8"
             },
             "line": {
              "color": "white"
             }
            },
            "header": {
             "fill": {
              "color": "#C8D4E3"
             },
             "line": {
              "color": "white"
             }
            },
            "type": "table"
           }
          ]
         },
         "layout": {
          "annotationdefaults": {
           "arrowcolor": "#2a3f5f",
           "arrowhead": 0,
           "arrowwidth": 1
          },
          "autotypenumbers": "strict",
          "coloraxis": {
           "colorbar": {
            "outlinewidth": 0,
            "ticks": ""
           }
          },
          "colorscale": {
           "diverging": [
            [
             0,
             "#8e0152"
            ],
            [
             0.1,
             "#c51b7d"
            ],
            [
             0.2,
             "#de77ae"
            ],
            [
             0.3,
             "#f1b6da"
            ],
            [
             0.4,
             "#fde0ef"
            ],
            [
             0.5,
             "#f7f7f7"
            ],
            [
             0.6,
             "#e6f5d0"
            ],
            [
             0.7,
             "#b8e186"
            ],
            [
             0.8,
             "#7fbc41"
            ],
            [
             0.9,
             "#4d9221"
            ],
            [
             1,
             "#276419"
            ]
           ],
           "sequential": [
            [
             0,
             "#0d0887"
            ],
            [
             0.1111111111111111,
             "#46039f"
            ],
            [
             0.2222222222222222,
             "#7201a8"
            ],
            [
             0.3333333333333333,
             "#9c179e"
            ],
            [
             0.4444444444444444,
             "#bd3786"
            ],
            [
             0.5555555555555556,
             "#d8576b"
            ],
            [
             0.6666666666666666,
             "#ed7953"
            ],
            [
             0.7777777777777778,
             "#fb9f3a"
            ],
            [
             0.8888888888888888,
             "#fdca26"
            ],
            [
             1,
             "#f0f921"
            ]
           ],
           "sequentialminus": [
            [
             0,
             "#0d0887"
            ],
            [
             0.1111111111111111,
             "#46039f"
            ],
            [
             0.2222222222222222,
             "#7201a8"
            ],
            [
             0.3333333333333333,
             "#9c179e"
            ],
            [
             0.4444444444444444,
             "#bd3786"
            ],
            [
             0.5555555555555556,
             "#d8576b"
            ],
            [
             0.6666666666666666,
             "#ed7953"
            ],
            [
             0.7777777777777778,
             "#fb9f3a"
            ],
            [
             0.8888888888888888,
             "#fdca26"
            ],
            [
             1,
             "#f0f921"
            ]
           ]
          },
          "colorway": [
           "#636efa",
           "#EF553B",
           "#00cc96",
           "#ab63fa",
           "#FFA15A",
           "#19d3f3",
           "#FF6692",
           "#B6E880",
           "#FF97FF",
           "#FECB52"
          ],
          "font": {
           "color": "#2a3f5f"
          },
          "geo": {
           "bgcolor": "white",
           "lakecolor": "white",
           "landcolor": "#E5ECF6",
           "showlakes": true,
           "showland": true,
           "subunitcolor": "white"
          },
          "hoverlabel": {
           "align": "left"
          },
          "hovermode": "closest",
          "mapbox": {
           "style": "light"
          },
          "paper_bgcolor": "white",
          "plot_bgcolor": "#E5ECF6",
          "polar": {
           "angularaxis": {
            "gridcolor": "white",
            "linecolor": "white",
            "ticks": ""
           },
           "bgcolor": "#E5ECF6",
           "radialaxis": {
            "gridcolor": "white",
            "linecolor": "white",
            "ticks": ""
           }
          },
          "scene": {
           "xaxis": {
            "backgroundcolor": "#E5ECF6",
            "gridcolor": "white",
            "gridwidth": 2,
            "linecolor": "white",
            "showbackground": true,
            "ticks": "",
            "zerolinecolor": "white"
           },
           "yaxis": {
            "backgroundcolor": "#E5ECF6",
            "gridcolor": "white",
            "gridwidth": 2,
            "linecolor": "white",
            "showbackground": true,
            "ticks": "",
            "zerolinecolor": "white"
           },
           "zaxis": {
            "backgroundcolor": "#E5ECF6",
            "gridcolor": "white",
            "gridwidth": 2,
            "linecolor": "white",
            "showbackground": true,
            "ticks": "",
            "zerolinecolor": "white"
           }
          },
          "shapedefaults": {
           "line": {
            "color": "#2a3f5f"
           }
          },
          "ternary": {
           "aaxis": {
            "gridcolor": "white",
            "linecolor": "white",
            "ticks": ""
           },
           "baxis": {
            "gridcolor": "white",
            "linecolor": "white",
            "ticks": ""
           },
           "bgcolor": "#E5ECF6",
           "caxis": {
            "gridcolor": "white",
            "linecolor": "white",
            "ticks": ""
           }
          },
          "title": {
           "x": 0.05
          },
          "xaxis": {
           "automargin": true,
           "gridcolor": "white",
           "linecolor": "white",
           "ticks": "",
           "title": {
            "standoff": 15
           },
           "zerolinecolor": "white",
           "zerolinewidth": 2
          },
          "yaxis": {
           "automargin": true,
           "gridcolor": "white",
           "linecolor": "white",
           "ticks": "",
           "title": {
            "standoff": 15
           },
           "zerolinecolor": "white",
           "zerolinewidth": 2
          }
         }
        },
        "title": {
         "text": "Slice Plot"
        },
        "width": 1800,
        "xaxis": {
         "anchor": "y",
         "domain": [
          0,
          0.1388888888888889
         ],
         "title": {
          "text": "alpha"
         }
        },
        "xaxis2": {
         "anchor": "y2",
         "domain": [
          0.17222222222222222,
          0.3111111111111111
         ],
         "title": {
          "text": "beta"
         }
        },
        "xaxis3": {
         "anchor": "y3",
         "domain": [
          0.34444444444444444,
          0.48333333333333334
         ],
         "title": {
          "text": "depth"
         }
        },
        "xaxis4": {
         "anchor": "y4",
         "categoryarray": [
          50,
          75,
          100,
          200,
          300
         ],
         "categoryorder": "array",
         "domain": [
          0.5166666666666667,
          0.6555555555555557
         ],
         "title": {
          "text": "dim_hidden"
         },
         "type": "category"
        },
        "xaxis5": {
         "anchor": "y5",
         "categoryarray": [
          1,
          2,
          3
         ],
         "categoryorder": "array",
         "domain": [
          0.6888888888888889,
          0.8277777777777777
         ],
         "title": {
          "text": "num_discr_iterations"
         },
         "type": "category"
        },
        "xaxis6": {
         "anchor": "y6",
         "domain": [
          0.861111111111111,
          1
         ],
         "title": {
          "text": "num_iterations"
         }
        },
        "yaxis": {
         "anchor": "x",
         "domain": [
          0,
          1
         ],
         "title": {
          "text": "Berier Score"
         }
        },
        "yaxis2": {
         "anchor": "x2",
         "domain": [
          0,
          1
         ],
         "matches": "y",
         "showticklabels": false
        },
        "yaxis3": {
         "anchor": "x3",
         "domain": [
          0,
          1
         ],
         "matches": "y",
         "showticklabels": false
        },
        "yaxis4": {
         "anchor": "x4",
         "domain": [
          0,
          1
         ],
         "matches": "y",
         "showticklabels": false
        },
        "yaxis5": {
         "anchor": "x5",
         "domain": [
          0,
          1
         ],
         "matches": "y",
         "showticklabels": false
        },
        "yaxis6": {
         "anchor": "x6",
         "domain": [
          0,
          1
         ],
         "matches": "y",
         "showticklabels": false
        }
       }
      }
     },
     "metadata": {},
     "output_type": "display_data"
    },
    {
     "data": {
      "application/vnd.plotly.v1+json": {
       "config": {
        "plotlyServerURL": "https://plot.ly"
       },
       "data": [
        {
         "mode": "markers",
         "name": "Berier Score",
         "type": "scatter",
         "x": [
          0,
          1,
          2,
          3,
          4,
          5,
          6,
          7,
          8,
          9,
          10,
          11,
          12,
          13,
          14,
          15,
          16,
          17,
          18,
          19,
          20,
          21,
          22,
          23,
          24,
          25,
          26,
          27,
          28,
          29,
          30,
          31,
          32,
          33,
          34,
          35,
          36,
          37,
          38,
          39,
          40,
          41,
          42,
          43,
          44,
          45,
          46,
          47,
          48,
          49,
          50,
          51,
          52,
          53,
          54,
          55,
          56,
          57,
          58,
          59,
          60,
          61,
          62,
          63,
          64,
          65,
          66,
          67,
          68,
          69,
          70,
          71,
          72,
          73,
          74,
          75,
          76,
          77,
          78,
          79,
          80,
          81,
          82,
          83,
          84,
          85,
          86,
          87,
          88,
          89,
          90,
          91,
          92,
          93,
          94,
          95,
          96,
          97,
          98,
          99
         ],
         "y": [
          0.11374112480295542,
          0.12992490211940821,
          0.12613100275301461,
          0.12476681686446404,
          0.13582287369088647,
          0.12452237557520125,
          0.19331547085265885,
          0.07862022171714446,
          0.11268271472843099,
          0.09895767464819924,
          0.10465319794205401,
          0.10619306014189815,
          0.0836072897455778,
          0.08810746397632263,
          0.16169208233499582,
          0.10161461785105619,
          0.11424583702496427,
          0.11009726952327215,
          0.07429691441361344,
          0.09220850323728155,
          0.17848323203310007,
          0.09952103049081085,
          0.08551682345574677,
          0.09186867087093704,
          0.10385922859827153,
          0.10713833385975295,
          0.09075300360053928,
          0.1276137827395981,
          0.09359666887990507,
          0.10994848109172935,
          0.09028557500841652,
          0.1951916374994696,
          0.17905252683594775,
          0.1643310120573122,
          0.08808402754005422,
          0.12079189141515675,
          0.08240570659304877,
          0.11687315580070105,
          0.13047691572373177,
          0.11468496825386745,
          0.08458545703907237,
          0.0808865219980063,
          0.13124124590441927,
          0.2369807454766893,
          0.08230788006895152,
          0.08612475105006775,
          0.09347149989815676,
          0.08291639449112218,
          0.15071192595553887,
          0.10665968153327306,
          0.10557201172855095,
          0.09195111899670967,
          0.12992490211940821,
          0.08948891853060222,
          0.07874699433279553,
          0.12251303824145901,
          0.10515735639853782,
          0.08669849054724672,
          0.11593370407858314,
          0.13615008340706194,
          0.09097776703461047,
          0.09574528693736387,
          0.08658539101108456,
          0.09677264998232762,
          0.08422036547833249,
          0.07429691441361344,
          0.11975742246849856,
          0.09620781129141195,
          0.11402384536999355,
          0.09450510927144531,
          0.12425988214115509,
          0.08765653387512147,
          0.1020634166852071,
          0.09044456828003454,
          0.13285484935163142,
          0.12032983628101128,
          0.10717288048547842,
          0.09214562387095178,
          0.14614989099909512,
          0.09630764743635435,
          0.11288949318759711,
          0.12356977261243836,
          0.12119162051271111,
          0.0909245619872217,
          0.09193441977084502,
          0.08652642977032801,
          0.09470330662696716,
          0.10495411774125105,
          0.10019436382486731,
          0.12534585938395798,
          0.11851280323592236,
          0.08004448622840796,
          0.08240040067008436,
          0.10013072057549566,
          0.13047691572373177,
          0.1556628005923667,
          0.090526184516903,
          0.07998033569640853,
          0.11268986958912172,
          0.09743743397870283
         ]
        },
        {
         "marker": {
          "color": "#cccccc"
         },
         "mode": "markers",
         "name": "Infeasible Trial",
         "showlegend": false,
         "type": "scatter",
         "x": [],
         "y": []
        }
       ],
       "layout": {
        "height": 500,
        "template": {
         "data": {
          "bar": [
           {
            "error_x": {
             "color": "#2a3f5f"
            },
            "error_y": {
             "color": "#2a3f5f"
            },
            "marker": {
             "line": {
              "color": "#E5ECF6",
              "width": 0.5
             },
             "pattern": {
              "fillmode": "overlay",
              "size": 10,
              "solidity": 0.2
             }
            },
            "type": "bar"
           }
          ],
          "barpolar": [
           {
            "marker": {
             "line": {
              "color": "#E5ECF6",
              "width": 0.5
             },
             "pattern": {
              "fillmode": "overlay",
              "size": 10,
              "solidity": 0.2
             }
            },
            "type": "barpolar"
           }
          ],
          "carpet": [
           {
            "aaxis": {
             "endlinecolor": "#2a3f5f",
             "gridcolor": "white",
             "linecolor": "white",
             "minorgridcolor": "white",
             "startlinecolor": "#2a3f5f"
            },
            "baxis": {
             "endlinecolor": "#2a3f5f",
             "gridcolor": "white",
             "linecolor": "white",
             "minorgridcolor": "white",
             "startlinecolor": "#2a3f5f"
            },
            "type": "carpet"
           }
          ],
          "choropleth": [
           {
            "colorbar": {
             "outlinewidth": 0,
             "ticks": ""
            },
            "type": "choropleth"
           }
          ],
          "contour": [
           {
            "colorbar": {
             "outlinewidth": 0,
             "ticks": ""
            },
            "colorscale": [
             [
              0,
              "#0d0887"
             ],
             [
              0.1111111111111111,
              "#46039f"
             ],
             [
              0.2222222222222222,
              "#7201a8"
             ],
             [
              0.3333333333333333,
              "#9c179e"
             ],
             [
              0.4444444444444444,
              "#bd3786"
             ],
             [
              0.5555555555555556,
              "#d8576b"
             ],
             [
              0.6666666666666666,
              "#ed7953"
             ],
             [
              0.7777777777777778,
              "#fb9f3a"
             ],
             [
              0.8888888888888888,
              "#fdca26"
             ],
             [
              1,
              "#f0f921"
             ]
            ],
            "type": "contour"
           }
          ],
          "contourcarpet": [
           {
            "colorbar": {
             "outlinewidth": 0,
             "ticks": ""
            },
            "type": "contourcarpet"
           }
          ],
          "heatmap": [
           {
            "colorbar": {
             "outlinewidth": 0,
             "ticks": ""
            },
            "colorscale": [
             [
              0,
              "#0d0887"
             ],
             [
              0.1111111111111111,
              "#46039f"
             ],
             [
              0.2222222222222222,
              "#7201a8"
             ],
             [
              0.3333333333333333,
              "#9c179e"
             ],
             [
              0.4444444444444444,
              "#bd3786"
             ],
             [
              0.5555555555555556,
              "#d8576b"
             ],
             [
              0.6666666666666666,
              "#ed7953"
             ],
             [
              0.7777777777777778,
              "#fb9f3a"
             ],
             [
              0.8888888888888888,
              "#fdca26"
             ],
             [
              1,
              "#f0f921"
             ]
            ],
            "type": "heatmap"
           }
          ],
          "heatmapgl": [
           {
            "colorbar": {
             "outlinewidth": 0,
             "ticks": ""
            },
            "colorscale": [
             [
              0,
              "#0d0887"
             ],
             [
              0.1111111111111111,
              "#46039f"
             ],
             [
              0.2222222222222222,
              "#7201a8"
             ],
             [
              0.3333333333333333,
              "#9c179e"
             ],
             [
              0.4444444444444444,
              "#bd3786"
             ],
             [
              0.5555555555555556,
              "#d8576b"
             ],
             [
              0.6666666666666666,
              "#ed7953"
             ],
             [
              0.7777777777777778,
              "#fb9f3a"
             ],
             [
              0.8888888888888888,
              "#fdca26"
             ],
             [
              1,
              "#f0f921"
             ]
            ],
            "type": "heatmapgl"
           }
          ],
          "histogram": [
           {
            "marker": {
             "pattern": {
              "fillmode": "overlay",
              "size": 10,
              "solidity": 0.2
             }
            },
            "type": "histogram"
           }
          ],
          "histogram2d": [
           {
            "colorbar": {
             "outlinewidth": 0,
             "ticks": ""
            },
            "colorscale": [
             [
              0,
              "#0d0887"
             ],
             [
              0.1111111111111111,
              "#46039f"
             ],
             [
              0.2222222222222222,
              "#7201a8"
             ],
             [
              0.3333333333333333,
              "#9c179e"
             ],
             [
              0.4444444444444444,
              "#bd3786"
             ],
             [
              0.5555555555555556,
              "#d8576b"
             ],
             [
              0.6666666666666666,
              "#ed7953"
             ],
             [
              0.7777777777777778,
              "#fb9f3a"
             ],
             [
              0.8888888888888888,
              "#fdca26"
             ],
             [
              1,
              "#f0f921"
             ]
            ],
            "type": "histogram2d"
           }
          ],
          "histogram2dcontour": [
           {
            "colorbar": {
             "outlinewidth": 0,
             "ticks": ""
            },
            "colorscale": [
             [
              0,
              "#0d0887"
             ],
             [
              0.1111111111111111,
              "#46039f"
             ],
             [
              0.2222222222222222,
              "#7201a8"
             ],
             [
              0.3333333333333333,
              "#9c179e"
             ],
             [
              0.4444444444444444,
              "#bd3786"
             ],
             [
              0.5555555555555556,
              "#d8576b"
             ],
             [
              0.6666666666666666,
              "#ed7953"
             ],
             [
              0.7777777777777778,
              "#fb9f3a"
             ],
             [
              0.8888888888888888,
              "#fdca26"
             ],
             [
              1,
              "#f0f921"
             ]
            ],
            "type": "histogram2dcontour"
           }
          ],
          "mesh3d": [
           {
            "colorbar": {
             "outlinewidth": 0,
             "ticks": ""
            },
            "type": "mesh3d"
           }
          ],
          "parcoords": [
           {
            "line": {
             "colorbar": {
              "outlinewidth": 0,
              "ticks": ""
             }
            },
            "type": "parcoords"
           }
          ],
          "pie": [
           {
            "automargin": true,
            "type": "pie"
           }
          ],
          "scatter": [
           {
            "fillpattern": {
             "fillmode": "overlay",
             "size": 10,
             "solidity": 0.2
            },
            "type": "scatter"
           }
          ],
          "scatter3d": [
           {
            "line": {
             "colorbar": {
              "outlinewidth": 0,
              "ticks": ""
             }
            },
            "marker": {
             "colorbar": {
              "outlinewidth": 0,
              "ticks": ""
             }
            },
            "type": "scatter3d"
           }
          ],
          "scattercarpet": [
           {
            "marker": {
             "colorbar": {
              "outlinewidth": 0,
              "ticks": ""
             }
            },
            "type": "scattercarpet"
           }
          ],
          "scattergeo": [
           {
            "marker": {
             "colorbar": {
              "outlinewidth": 0,
              "ticks": ""
             }
            },
            "type": "scattergeo"
           }
          ],
          "scattergl": [
           {
            "marker": {
             "colorbar": {
              "outlinewidth": 0,
              "ticks": ""
             }
            },
            "type": "scattergl"
           }
          ],
          "scattermapbox": [
           {
            "marker": {
             "colorbar": {
              "outlinewidth": 0,
              "ticks": ""
             }
            },
            "type": "scattermapbox"
           }
          ],
          "scatterpolar": [
           {
            "marker": {
             "colorbar": {
              "outlinewidth": 0,
              "ticks": ""
             }
            },
            "type": "scatterpolar"
           }
          ],
          "scatterpolargl": [
           {
            "marker": {
             "colorbar": {
              "outlinewidth": 0,
              "ticks": ""
             }
            },
            "type": "scatterpolargl"
           }
          ],
          "scatterternary": [
           {
            "marker": {
             "colorbar": {
              "outlinewidth": 0,
              "ticks": ""
             }
            },
            "type": "scatterternary"
           }
          ],
          "surface": [
           {
            "colorbar": {
             "outlinewidth": 0,
             "ticks": ""
            },
            "colorscale": [
             [
              0,
              "#0d0887"
             ],
             [
              0.1111111111111111,
              "#46039f"
             ],
             [
              0.2222222222222222,
              "#7201a8"
             ],
             [
              0.3333333333333333,
              "#9c179e"
             ],
             [
              0.4444444444444444,
              "#bd3786"
             ],
             [
              0.5555555555555556,
              "#d8576b"
             ],
             [
              0.6666666666666666,
              "#ed7953"
             ],
             [
              0.7777777777777778,
              "#fb9f3a"
             ],
             [
              0.8888888888888888,
              "#fdca26"
             ],
             [
              1,
              "#f0f921"
             ]
            ],
            "type": "surface"
           }
          ],
          "table": [
           {
            "cells": {
             "fill": {
              "color": "#EBF0F8"
             },
             "line": {
              "color": "white"
             }
            },
            "header": {
             "fill": {
              "color": "#C8D4E3"
             },
             "line": {
              "color": "white"
             }
            },
            "type": "table"
           }
          ]
         },
         "layout": {
          "annotationdefaults": {
           "arrowcolor": "#2a3f5f",
           "arrowhead": 0,
           "arrowwidth": 1
          },
          "autotypenumbers": "strict",
          "coloraxis": {
           "colorbar": {
            "outlinewidth": 0,
            "ticks": ""
           }
          },
          "colorscale": {
           "diverging": [
            [
             0,
             "#8e0152"
            ],
            [
             0.1,
             "#c51b7d"
            ],
            [
             0.2,
             "#de77ae"
            ],
            [
             0.3,
             "#f1b6da"
            ],
            [
             0.4,
             "#fde0ef"
            ],
            [
             0.5,
             "#f7f7f7"
            ],
            [
             0.6,
             "#e6f5d0"
            ],
            [
             0.7,
             "#b8e186"
            ],
            [
             0.8,
             "#7fbc41"
            ],
            [
             0.9,
             "#4d9221"
            ],
            [
             1,
             "#276419"
            ]
           ],
           "sequential": [
            [
             0,
             "#0d0887"
            ],
            [
             0.1111111111111111,
             "#46039f"
            ],
            [
             0.2222222222222222,
             "#7201a8"
            ],
            [
             0.3333333333333333,
             "#9c179e"
            ],
            [
             0.4444444444444444,
             "#bd3786"
            ],
            [
             0.5555555555555556,
             "#d8576b"
            ],
            [
             0.6666666666666666,
             "#ed7953"
            ],
            [
             0.7777777777777778,
             "#fb9f3a"
            ],
            [
             0.8888888888888888,
             "#fdca26"
            ],
            [
             1,
             "#f0f921"
            ]
           ],
           "sequentialminus": [
            [
             0,
             "#0d0887"
            ],
            [
             0.1111111111111111,
             "#46039f"
            ],
            [
             0.2222222222222222,
             "#7201a8"
            ],
            [
             0.3333333333333333,
             "#9c179e"
            ],
            [
             0.4444444444444444,
             "#bd3786"
            ],
            [
             0.5555555555555556,
             "#d8576b"
            ],
            [
             0.6666666666666666,
             "#ed7953"
            ],
            [
             0.7777777777777778,
             "#fb9f3a"
            ],
            [
             0.8888888888888888,
             "#fdca26"
            ],
            [
             1,
             "#f0f921"
            ]
           ]
          },
          "colorway": [
           "#636efa",
           "#EF553B",
           "#00cc96",
           "#ab63fa",
           "#FFA15A",
           "#19d3f3",
           "#FF6692",
           "#B6E880",
           "#FF97FF",
           "#FECB52"
          ],
          "font": {
           "color": "#2a3f5f"
          },
          "geo": {
           "bgcolor": "white",
           "lakecolor": "white",
           "landcolor": "#E5ECF6",
           "showlakes": true,
           "showland": true,
           "subunitcolor": "white"
          },
          "hoverlabel": {
           "align": "left"
          },
          "hovermode": "closest",
          "mapbox": {
           "style": "light"
          },
          "paper_bgcolor": "white",
          "plot_bgcolor": "#E5ECF6",
          "polar": {
           "angularaxis": {
            "gridcolor": "white",
            "linecolor": "white",
            "ticks": ""
           },
           "bgcolor": "#E5ECF6",
           "radialaxis": {
            "gridcolor": "white",
            "linecolor": "white",
            "ticks": ""
           }
          },
          "scene": {
           "xaxis": {
            "backgroundcolor": "#E5ECF6",
            "gridcolor": "white",
            "gridwidth": 2,
            "linecolor": "white",
            "showbackground": true,
            "ticks": "",
            "zerolinecolor": "white"
           },
           "yaxis": {
            "backgroundcolor": "#E5ECF6",
            "gridcolor": "white",
            "gridwidth": 2,
            "linecolor": "white",
            "showbackground": true,
            "ticks": "",
            "zerolinecolor": "white"
           },
           "zaxis": {
            "backgroundcolor": "#E5ECF6",
            "gridcolor": "white",
            "gridwidth": 2,
            "linecolor": "white",
            "showbackground": true,
            "ticks": "",
            "zerolinecolor": "white"
           }
          },
          "shapedefaults": {
           "line": {
            "color": "#2a3f5f"
           }
          },
          "ternary": {
           "aaxis": {
            "gridcolor": "white",
            "linecolor": "white",
            "ticks": ""
           },
           "baxis": {
            "gridcolor": "white",
            "linecolor": "white",
            "ticks": ""
           },
           "bgcolor": "#E5ECF6",
           "caxis": {
            "gridcolor": "white",
            "linecolor": "white",
            "ticks": ""
           }
          },
          "title": {
           "x": 0.05
          },
          "xaxis": {
           "automargin": true,
           "gridcolor": "white",
           "linecolor": "white",
           "ticks": "",
           "title": {
            "standoff": 15
           },
           "zerolinecolor": "white",
           "zerolinewidth": 2
          },
          "yaxis": {
           "automargin": true,
           "gridcolor": "white",
           "linecolor": "white",
           "ticks": "",
           "title": {
            "standoff": 15
           },
           "zerolinecolor": "white",
           "zerolinewidth": 2
          }
         }
        },
        "title": {
         "text": "Optimization History Plot"
        },
        "width": 700,
        "xaxis": {
         "title": {
          "text": "Trial"
         }
        },
        "yaxis": {
         "title": {
          "text": "Berier Score"
         }
        }
       }
      }
     },
     "metadata": {},
     "output_type": "display_data"
    },
    {
     "data": {
      "application/vnd.plotly.v1+json": {
       "config": {
        "plotlyServerURL": "https://plot.ly"
       },
       "data": [
        {
         "hovertemplate": "%{text}<extra>Trial</extra>",
         "marker": {
          "color": [
           0,
           1,
           2,
           3,
           4,
           5,
           6,
           7,
           8,
           9,
           10,
           11,
           12,
           13,
           14,
           15,
           16,
           17,
           19,
           20,
           21,
           22,
           23,
           24,
           25,
           26,
           27,
           28,
           29,
           30,
           31,
           32,
           33,
           34,
           35,
           36,
           37,
           38,
           39,
           40,
           41,
           42,
           43,
           44,
           45,
           46,
           47,
           48,
           49,
           50,
           51,
           52,
           53,
           54,
           55,
           56,
           57,
           58,
           59,
           60,
           61,
           62,
           63,
           64,
           66,
           67,
           68,
           69,
           70,
           71,
           72,
           73,
           74,
           75,
           76,
           77,
           78,
           79,
           80,
           81,
           82,
           83,
           84,
           85,
           86,
           87,
           88,
           89,
           90,
           91,
           93,
           94,
           95,
           96,
           97,
           98,
           99
          ],
          "colorbar": {
           "title": {
            "text": "Trial"
           }
          },
          "colorscale": [
           [
            0,
            "rgb(247,251,255)"
           ],
           [
            0.125,
            "rgb(222,235,247)"
           ],
           [
            0.25,
            "rgb(198,219,239)"
           ],
           [
            0.375,
            "rgb(158,202,225)"
           ],
           [
            0.5,
            "rgb(107,174,214)"
           ],
           [
            0.625,
            "rgb(66,146,198)"
           ],
           [
            0.75,
            "rgb(33,113,181)"
           ],
           [
            0.875,
            "rgb(8,81,156)"
           ],
           [
            1,
            "rgb(8,48,107)"
           ]
          ],
          "line": {
           "color": "Grey",
           "width": 0.5
          }
         },
         "mode": "markers",
         "showlegend": false,
         "text": [
          "{<br>  \"number\": 0,<br>  \"values\": [<br>    -0.11374112480295542,<br>    -0.06574103676929308<br>  ],<br>  \"params\": {<br>    \"dim_hidden\": 300,<br>    \"alpha\": 0.7000000000000001,<br>    \"beta\": 1.9000000000000001,<br>    \"depth\": 1,<br>    \"num_iterations\": 2000,<br>    \"num_discr_iterations\": 2<br>  }<br>}",
          "{<br>  \"number\": 1,<br>  \"values\": [<br>    -0.12992490211940821,<br>    -0.05333789315043023<br>  ],<br>  \"params\": {<br>    \"dim_hidden\": 300,<br>    \"alpha\": 0.5,<br>    \"beta\": 0.05,<br>    \"depth\": 5,<br>    \"num_iterations\": 2500,<br>    \"num_discr_iterations\": 2<br>  }<br>}",
          "{<br>  \"number\": 2,<br>  \"values\": [<br>    -0.12613100275301461,<br>    -0.06281152740841246<br>  ],<br>  \"params\": {<br>    \"dim_hidden\": 50,<br>    \"alpha\": 0.75,<br>    \"beta\": 0.5,<br>    \"depth\": 1,<br>    \"num_iterations\": 2000,<br>    \"num_discr_iterations\": 2<br>  }<br>}",
          "{<br>  \"number\": 3,<br>  \"values\": [<br>    -0.12476681686446404,<br>    -0.047001808143905165<br>  ],<br>  \"params\": {<br>    \"dim_hidden\": 300,<br>    \"alpha\": 0.85,<br>    \"beta\": 0.2,<br>    \"depth\": 4,<br>    \"num_iterations\": 1500,<br>    \"num_discr_iterations\": 3<br>  }<br>}",
          "{<br>  \"number\": 4,<br>  \"values\": [<br>    -0.13582287369088647,<br>    -0.07455752239351607<br>  ],<br>  \"params\": {<br>    \"dim_hidden\": 50,<br>    \"alpha\": 0.8,<br>    \"beta\": 0.0,<br>    \"depth\": 3,<br>    \"num_iterations\": 1000,<br>    \"num_discr_iterations\": 2<br>  }<br>}",
          "{<br>  \"number\": 5,<br>  \"values\": [<br>    -0.12452237557520125,<br>    -0.049725807656643736<br>  ],<br>  \"params\": {<br>    \"dim_hidden\": 50,<br>    \"alpha\": 0.85,<br>    \"beta\": 0.45,<br>    \"depth\": 1,<br>    \"num_iterations\": 2000,<br>    \"num_discr_iterations\": 2<br>  }<br>}",
          "{<br>  \"number\": 6,<br>  \"values\": [<br>    -0.19331547085265885,<br>    -0.13935816489845415<br>  ],<br>  \"params\": {<br>    \"dim_hidden\": 300,<br>    \"alpha\": 0.5,<br>    \"beta\": 0.6000000000000001,<br>    \"depth\": 0,<br>    \"num_iterations\": 1000,<br>    \"num_discr_iterations\": 3<br>  }<br>}",
          "{<br>  \"number\": 7,<br>  \"values\": [<br>    -0.07862022171714446,<br>    -0.0331813867748428<br>  ],<br>  \"params\": {<br>    \"dim_hidden\": 75,<br>    \"alpha\": 0.55,<br>    \"beta\": 1.1500000000000001,<br>    \"depth\": 3,<br>    \"num_iterations\": 1500,<br>    \"num_discr_iterations\": 1<br>  }<br>}",
          "{<br>  \"number\": 8,<br>  \"values\": [<br>    -0.11268271472843099,<br>    -0.04148555324201918<br>  ],<br>  \"params\": {<br>    \"dim_hidden\": 300,<br>    \"alpha\": 0.55,<br>    \"beta\": 0.45,<br>    \"depth\": 5,<br>    \"num_iterations\": 1000,<br>    \"num_discr_iterations\": 1<br>  }<br>}",
          "{<br>  \"number\": 9,<br>  \"values\": [<br>    -0.09895767464819924,<br>    -0.04266471062831136<br>  ],<br>  \"params\": {<br>    \"dim_hidden\": 300,<br>    \"alpha\": 0.4,<br>    \"beta\": 0.6000000000000001,<br>    \"depth\": 5,<br>    \"num_iterations\": 1500,<br>    \"num_discr_iterations\": 1<br>  }<br>}",
          "{<br>  \"number\": 10,<br>  \"values\": [<br>    -0.10465319794205401,<br>    -0.06805372635698007<br>  ],<br>  \"params\": {<br>    \"dim_hidden\": 75,<br>    \"alpha\": 0.25,<br>    \"beta\": 0.5,<br>    \"depth\": 2,<br>    \"num_iterations\": 2500,<br>    \"num_discr_iterations\": 1<br>  }<br>}",
          "{<br>  \"number\": 11,<br>  \"values\": [<br>    -0.10619306014189815,<br>    -0.05182551369791365<br>  ],<br>  \"params\": {<br>    \"dim_hidden\": 75,<br>    \"alpha\": 1.0,<br>    \"beta\": 1.55,<br>    \"depth\": 1,<br>    \"num_iterations\": 2000,<br>    \"num_discr_iterations\": 1<br>  }<br>}",
          "{<br>  \"number\": 12,<br>  \"values\": [<br>    -0.0836072897455778,<br>    -0.03938414933368597<br>  ],<br>  \"params\": {<br>    \"dim_hidden\": 75,<br>    \"alpha\": 0.4,<br>    \"beta\": 1.05,<br>    \"depth\": 3,<br>    \"num_iterations\": 2500,<br>    \"num_discr_iterations\": 1<br>  }<br>}",
          "{<br>  \"number\": 13,<br>  \"values\": [<br>    -0.08810746397632263,<br>    -0.04027154987036978<br>  ],<br>  \"params\": {<br>    \"dim_hidden\": 75,<br>    \"alpha\": 0.6,<br>    \"beta\": 1.35,<br>    \"depth\": 4,<br>    \"num_iterations\": 2000,<br>    \"num_discr_iterations\": 1<br>  }<br>}",
          "{<br>  \"number\": 14,<br>  \"values\": [<br>    -0.16169208233499582,<br>    -0.09482355263769528<br>  ],<br>  \"params\": {<br>    \"dim_hidden\": 100,<br>    \"alpha\": 0.45000000000000007,<br>    \"beta\": 0.15000000000000002,<br>    \"depth\": 0,<br>    \"num_iterations\": 2500,<br>    \"num_discr_iterations\": 1<br>  }<br>}",
          "{<br>  \"number\": 15,<br>  \"values\": [<br>    -0.10161461785105619,<br>    -0.04435466806039375<br>  ],<br>  \"params\": {<br>    \"dim_hidden\": 300,<br>    \"alpha\": 0.25,<br>    \"beta\": 0.6000000000000001,<br>    \"depth\": 4,<br>    \"num_iterations\": 1500,<br>    \"num_discr_iterations\": 3<br>  }<br>}",
          "{<br>  \"number\": 16,<br>  \"values\": [<br>    -0.11424583702496427,<br>    -0.06455032304649687<br>  ],<br>  \"params\": {<br>    \"dim_hidden\": 75,<br>    \"alpha\": 0.30000000000000004,<br>    \"beta\": 0.5,<br>    \"depth\": 1,<br>    \"num_iterations\": 2000,<br>    \"num_discr_iterations\": 2<br>  }<br>}",
          "{<br>  \"number\": 17,<br>  \"values\": [<br>    -0.11009726952327215,<br>    -0.05183155779771063<br>  ],<br>  \"params\": {<br>    \"dim_hidden\": 75,<br>    \"alpha\": 0.2,<br>    \"beta\": 0.2,<br>    \"depth\": 2,<br>    \"num_iterations\": 2500,<br>    \"num_discr_iterations\": 1<br>  }<br>}",
          "{<br>  \"number\": 19,<br>  \"values\": [<br>    -0.09220850323728155,<br>    -0.038632518938178616<br>  ],<br>  \"params\": {<br>    \"dim_hidden\": 300,<br>    \"alpha\": 0.75,<br>    \"beta\": 0.7000000000000001,<br>    \"depth\": 2,<br>    \"num_iterations\": 2500,<br>    \"num_discr_iterations\": 3<br>  }<br>}",
          "{<br>  \"number\": 20,<br>  \"values\": [<br>    -0.17848323203310007,<br>    -0.14817096859937048<br>  ],<br>  \"params\": {<br>    \"dim_hidden\": 300,<br>    \"alpha\": 0.35,<br>    \"beta\": 0.05,<br>    \"depth\": 0,<br>    \"num_iterations\": 1500,<br>    \"num_discr_iterations\": 1<br>  }<br>}",
          "{<br>  \"number\": 21,<br>  \"values\": [<br>    -0.09952103049081085,<br>    -0.05660751190004874<br>  ],<br>  \"params\": {<br>    \"dim_hidden\": 300,<br>    \"alpha\": 0.35,<br>    \"beta\": 0.4,<br>    \"depth\": 3,<br>    \"num_iterations\": 2500,<br>    \"num_discr_iterations\": 3<br>  }<br>}",
          "{<br>  \"number\": 22,<br>  \"values\": [<br>    -0.08551682345574677,<br>    -0.0386541218475097<br>  ],<br>  \"params\": {<br>    \"dim_hidden\": 75,<br>    \"alpha\": 0.9500000000000001,<br>    \"beta\": 1.75,<br>    \"depth\": 2,<br>    \"num_iterations\": 2500,<br>    \"num_discr_iterations\": 3<br>  }<br>}",
          "{<br>  \"number\": 23,<br>  \"values\": [<br>    -0.09186867087093704,<br>    -0.04206881151323653<br>  ],<br>  \"params\": {<br>    \"dim_hidden\": 50,<br>    \"alpha\": 0.4,<br>    \"beta\": 0.8500000000000001,<br>    \"depth\": 5,<br>    \"num_iterations\": 2500,<br>    \"num_discr_iterations\": 2<br>  }<br>}",
          "{<br>  \"number\": 24,<br>  \"values\": [<br>    -0.10385922859827153,<br>    -0.062157167935672844<br>  ],<br>  \"params\": {<br>    \"dim_hidden\": 50,<br>    \"alpha\": 0.45000000000000007,<br>    \"beta\": 0.5,<br>    \"depth\": 2,<br>    \"num_iterations\": 2000,<br>    \"num_discr_iterations\": 1<br>  }<br>}",
          "{<br>  \"number\": 25,<br>  \"values\": [<br>    -0.10713833385975295,<br>    -0.052094344436990334<br>  ],<br>  \"params\": {<br>    \"dim_hidden\": 100,<br>    \"alpha\": 0.8,<br>    \"beta\": 0.65,<br>    \"depth\": 1,<br>    \"num_iterations\": 2500,<br>    \"num_discr_iterations\": 1<br>  }<br>}",
          "{<br>  \"number\": 26,<br>  \"values\": [<br>    -0.09075300360053928,<br>    -0.05550462995946204<br>  ],<br>  \"params\": {<br>    \"dim_hidden\": 50,<br>    \"alpha\": 0.30000000000000004,<br>    \"beta\": 1.1500000000000001,<br>    \"depth\": 2,<br>    \"num_iterations\": 2000,<br>    \"num_discr_iterations\": 2<br>  }<br>}",
          "{<br>  \"number\": 27,<br>  \"values\": [<br>    -0.1276137827395981,<br>    -0.043645847104173206<br>  ],<br>  \"params\": {<br>    \"dim_hidden\": 100,<br>    \"alpha\": 0.65,<br>    \"beta\": 0.30000000000000004,<br>    \"depth\": 1,<br>    \"num_iterations\": 1000,<br>    \"num_discr_iterations\": 3<br>  }<br>}",
          "{<br>  \"number\": 28,<br>  \"values\": [<br>    -0.09359666887990507,<br>    -0.03519947604065275<br>  ],<br>  \"params\": {<br>    \"dim_hidden\": 100,<br>    \"alpha\": 0.9500000000000001,<br>    \"beta\": 1.4500000000000002,<br>    \"depth\": 2,<br>    \"num_iterations\": 2500,<br>    \"num_discr_iterations\": 1<br>  }<br>}",
          "{<br>  \"number\": 29,<br>  \"values\": [<br>    -0.10994848109172935,<br>    -0.054600261158994204<br>  ],<br>  \"params\": {<br>    \"dim_hidden\": 75,<br>    \"alpha\": 0.9500000000000001,<br>    \"beta\": 0.25,<br>    \"depth\": 3,<br>    \"num_iterations\": 1500,<br>    \"num_discr_iterations\": 2<br>  }<br>}",
          "{<br>  \"number\": 30,<br>  \"values\": [<br>    -0.09028557500841652,<br>    -0.036806988966223454<br>  ],<br>  \"params\": {<br>    \"dim_hidden\": 200,<br>    \"alpha\": 1.0,<br>    \"beta\": 0.9,<br>    \"depth\": 4,<br>    \"num_iterations\": 1000,<br>    \"num_discr_iterations\": 3<br>  }<br>}",
          "{<br>  \"number\": 31,<br>  \"values\": [<br>    -0.1951916374994696,<br>    -0.19394315278917998<br>  ],<br>  \"params\": {<br>    \"dim_hidden\": 75,<br>    \"alpha\": 1.0,<br>    \"beta\": 0.6000000000000001,<br>    \"depth\": 0,<br>    \"num_iterations\": 1500,<br>    \"num_discr_iterations\": 2<br>  }<br>}",
          "{<br>  \"number\": 32,<br>  \"values\": [<br>    -0.17905252683594775,<br>    -0.07869895855631251<br>  ],<br>  \"params\": {<br>    \"dim_hidden\": 75,<br>    \"alpha\": 0.65,<br>    \"beta\": 1.4000000000000001,<br>    \"depth\": 0,<br>    \"num_iterations\": 1000,<br>    \"num_discr_iterations\": 2<br>  }<br>}",
          "{<br>  \"number\": 33,<br>  \"values\": [<br>    -0.1643310120573122,<br>    -0.10127604086211131<br>  ],<br>  \"params\": {<br>    \"dim_hidden\": 200,<br>    \"alpha\": 0.25,<br>    \"beta\": 1.9500000000000002,<br>    \"depth\": 0,<br>    \"num_iterations\": 1500,<br>    \"num_discr_iterations\": 1<br>  }<br>}",
          "{<br>  \"number\": 34,<br>  \"values\": [<br>    -0.08808402754005422,<br>    -0.04664319762491772<br>  ],<br>  \"params\": {<br>    \"dim_hidden\": 100,<br>    \"alpha\": 0.6,<br>    \"beta\": 1.6,<br>    \"depth\": 2,<br>    \"num_iterations\": 2000,<br>    \"num_discr_iterations\": 1<br>  }<br>}",
          "{<br>  \"number\": 35,<br>  \"values\": [<br>    -0.12079189141515675,<br>    -0.0655611225754906<br>  ],<br>  \"params\": {<br>    \"dim_hidden\": 50,<br>    \"alpha\": 1.0,<br>    \"beta\": 1.6500000000000001,<br>    \"depth\": 1,<br>    \"num_iterations\": 2000,<br>    \"num_discr_iterations\": 1<br>  }<br>}",
          "{<br>  \"number\": 36,<br>  \"values\": [<br>    -0.08240570659304877,<br>    -0.04124119058971739<br>  ],<br>  \"params\": {<br>    \"dim_hidden\": 200,<br>    \"alpha\": 0.2,<br>    \"beta\": 1.2000000000000002,<br>    \"depth\": 4,<br>    \"num_iterations\": 1000,<br>    \"num_discr_iterations\": 1<br>  }<br>}",
          "{<br>  \"number\": 37,<br>  \"values\": [<br>    -0.11687315580070105,<br>    -0.05535100423717208<br>  ],<br>  \"params\": {<br>    \"dim_hidden\": 75,<br>    \"alpha\": 0.85,<br>    \"beta\": 0.6000000000000001,<br>    \"depth\": 1,<br>    \"num_iterations\": 1000,<br>    \"num_discr_iterations\": 2<br>  }<br>}",
          "{<br>  \"number\": 38,<br>  \"values\": [<br>    -0.13047691572373177,<br>    -0.04852906317239142<br>  ],<br>  \"params\": {<br>    \"dim_hidden\": 200,<br>    \"alpha\": 0.15000000000000002,<br>    \"beta\": 0.5,<br>    \"depth\": 1,<br>    \"num_iterations\": 1500,<br>    \"num_discr_iterations\": 1<br>  }<br>}",
          "{<br>  \"number\": 39,<br>  \"values\": [<br>    -0.11468496825386745,<br>    -0.0644918848621129<br>  ],<br>  \"params\": {<br>    \"dim_hidden\": 200,<br>    \"alpha\": 0.7000000000000001,<br>    \"beta\": 0.2,<br>    \"depth\": 3,<br>    \"num_iterations\": 2500,<br>    \"num_discr_iterations\": 1<br>  }<br>}",
          "{<br>  \"number\": 40,<br>  \"values\": [<br>    -0.08458545703907237,<br>    -0.04290240929022047<br>  ],<br>  \"params\": {<br>    \"dim_hidden\": 50,<br>    \"alpha\": 0.6,<br>    \"beta\": 2.0,<br>    \"depth\": 5,<br>    \"num_iterations\": 2500,<br>    \"num_discr_iterations\": 2<br>  }<br>}",
          "{<br>  \"number\": 41,<br>  \"values\": [<br>    -0.0808865219980063,<br>    -0.04703436966953804<br>  ],<br>  \"params\": {<br>    \"dim_hidden\": 100,<br>    \"alpha\": 0.45000000000000007,<br>    \"beta\": 1.8,<br>    \"depth\": 3,<br>    \"num_iterations\": 2500,<br>    \"num_discr_iterations\": 2<br>  }<br>}",
          "{<br>  \"number\": 42,<br>  \"values\": [<br>    -0.13124124590441927,<br>    -0.045387809730819226<br>  ],<br>  \"params\": {<br>    \"dim_hidden\": 300,<br>    \"alpha\": 1.0,<br>    \"beta\": 0.05,<br>    \"depth\": 5,<br>    \"num_iterations\": 2000,<br>    \"num_discr_iterations\": 2<br>  }<br>}",
          "{<br>  \"number\": 43,<br>  \"values\": [<br>    -0.2369807454766893,<br>    -0.3074074430128887<br>  ],<br>  \"params\": {<br>    \"dim_hidden\": 75,<br>    \"alpha\": 0.35,<br>    \"beta\": 0.0,<br>    \"depth\": 1,<br>    \"num_iterations\": 2500,<br>    \"num_discr_iterations\": 1<br>  }<br>}",
          "{<br>  \"number\": 44,<br>  \"values\": [<br>    -0.08230788006895152,<br>    -0.0544596004110389<br>  ],<br>  \"params\": {<br>    \"dim_hidden\": 75,<br>    \"alpha\": 0.5,<br>    \"beta\": 0.9500000000000001,<br>    \"depth\": 4,<br>    \"num_iterations\": 2500,<br>    \"num_discr_iterations\": 1<br>  }<br>}",
          "{<br>  \"number\": 45,<br>  \"values\": [<br>    -0.08612475105006775,<br>    -0.040976335199236234<br>  ],<br>  \"params\": {<br>    \"dim_hidden\": 300,<br>    \"alpha\": 0.2,<br>    \"beta\": 1.6500000000000001,<br>    \"depth\": 5,<br>    \"num_iterations\": 1500,<br>    \"num_discr_iterations\": 2<br>  }<br>}",
          "{<br>  \"number\": 46,<br>  \"values\": [<br>    -0.09347149989815676,<br>    -0.0621824689281497<br>  ],<br>  \"params\": {<br>    \"dim_hidden\": 300,<br>    \"alpha\": 0.6,<br>    \"beta\": 1.75,<br>    \"depth\": 2,<br>    \"num_iterations\": 2000,<br>    \"num_discr_iterations\": 2<br>  }<br>}",
          "{<br>  \"number\": 47,<br>  \"values\": [<br>    -0.08291639449112218,<br>    -0.04151636735325194<br>  ],<br>  \"params\": {<br>    \"dim_hidden\": 75,<br>    \"alpha\": 0.6,<br>    \"beta\": 1.05,<br>    \"depth\": 3,<br>    \"num_iterations\": 2000,<br>    \"num_discr_iterations\": 1<br>  }<br>}",
          "{<br>  \"number\": 48,<br>  \"values\": [<br>    -0.15071192595553887,<br>    -0.10200823411815156<br>  ],<br>  \"params\": {<br>    \"dim_hidden\": 50,<br>    \"alpha\": 0.1,<br>    \"beta\": 1.4000000000000001,<br>    \"depth\": 0,<br>    \"num_iterations\": 2000,<br>    \"num_discr_iterations\": 1<br>  }<br>}",
          "{<br>  \"number\": 49,<br>  \"values\": [<br>    -0.10665968153327306,<br>    -0.04228886802642475<br>  ],<br>  \"params\": {<br>    \"dim_hidden\": 300,<br>    \"alpha\": 0.85,<br>    \"beta\": 0.35000000000000003,<br>    \"depth\": 4,<br>    \"num_iterations\": 2500,<br>    \"num_discr_iterations\": 2<br>  }<br>}",
          "{<br>  \"number\": 50,<br>  \"values\": [<br>    -0.10557201172855095,<br>    -0.05576485917692518<br>  ],<br>  \"params\": {<br>    \"dim_hidden\": 50,<br>    \"alpha\": 0.30000000000000004,<br>    \"beta\": 0.30000000000000004,<br>    \"depth\": 2,<br>    \"num_iterations\": 2000,<br>    \"num_discr_iterations\": 2<br>  }<br>}",
          "{<br>  \"number\": 51,<br>  \"values\": [<br>    -0.09195111899670967,<br>    -0.05400503640353477<br>  ],<br>  \"params\": {<br>    \"dim_hidden\": 100,<br>    \"alpha\": 0.9500000000000001,<br>    \"beta\": 0.6000000000000001,<br>    \"depth\": 4,<br>    \"num_iterations\": 1500,<br>    \"num_discr_iterations\": 1<br>  }<br>}",
          "{<br>  \"number\": 52,<br>  \"values\": [<br>    -0.12992490211940821,<br>    -0.05333789315043023<br>  ],<br>  \"params\": {<br>    \"dim_hidden\": 300,<br>    \"alpha\": 0.5,<br>    \"beta\": 0.05,<br>    \"depth\": 5,<br>    \"num_iterations\": 2500,<br>    \"num_discr_iterations\": 2<br>  }<br>}",
          "{<br>  \"number\": 53,<br>  \"values\": [<br>    -0.08948891853060222,<br>    -0.05636368458203526<br>  ],<br>  \"params\": {<br>    \"dim_hidden\": 300,<br>    \"alpha\": 0.85,<br>    \"beta\": 1.25,<br>    \"depth\": 4,<br>    \"num_iterations\": 1500,<br>    \"num_discr_iterations\": 3<br>  }<br>}",
          "{<br>  \"number\": 54,<br>  \"values\": [<br>    -0.07874699433279553,<br>    -0.041581215716651444<br>  ],<br>  \"params\": {<br>    \"dim_hidden\": 75,<br>    \"alpha\": 0.45000000000000007,<br>    \"beta\": 1.05,<br>    \"depth\": 3,<br>    \"num_iterations\": 2000,<br>    \"num_discr_iterations\": 1<br>  }<br>}",
          "{<br>  \"number\": 55,<br>  \"values\": [<br>    -0.12251303824145901,<br>    -0.05921589873696539<br>  ],<br>  \"params\": {<br>    \"dim_hidden\": 300,<br>    \"alpha\": 0.25,<br>    \"beta\": 0.45,<br>    \"depth\": 1,<br>    \"num_iterations\": 1000,<br>    \"num_discr_iterations\": 2<br>  }<br>}",
          "{<br>  \"number\": 56,<br>  \"values\": [<br>    -0.10515735639853782,<br>    -0.03559067585470166<br>  ],<br>  \"params\": {<br>    \"dim_hidden\": 200,<br>    \"alpha\": 0.7000000000000001,<br>    \"beta\": 0.35000000000000003,<br>    \"depth\": 4,<br>    \"num_iterations\": 1000,<br>    \"num_discr_iterations\": 1<br>  }<br>}",
          "{<br>  \"number\": 57,<br>  \"values\": [<br>    -0.08669849054724672,<br>    -0.03402084523426206<br>  ],<br>  \"params\": {<br>    \"dim_hidden\": 50,<br>    \"alpha\": 1.0,<br>    \"beta\": 0.9500000000000001,<br>    \"depth\": 4,<br>    \"num_iterations\": 2500,<br>    \"num_discr_iterations\": 1<br>  }<br>}",
          "{<br>  \"number\": 58,<br>  \"values\": [<br>    -0.11593370407858314,<br>    -0.04543504641180372<br>  ],<br>  \"params\": {<br>    \"dim_hidden\": 75,<br>    \"alpha\": 0.75,<br>    \"beta\": 0.6000000000000001,<br>    \"depth\": 1,<br>    \"num_iterations\": 1000,<br>    \"num_discr_iterations\": 2<br>  }<br>}",
          "{<br>  \"number\": 59,<br>  \"values\": [<br>    -0.13615008340706194,<br>    -0.06763051029263069<br>  ],<br>  \"params\": {<br>    \"dim_hidden\": 300,<br>    \"alpha\": 0.15000000000000002,<br>    \"beta\": 0.05,<br>    \"depth\": 2,<br>    \"num_iterations\": 2500,<br>    \"num_discr_iterations\": 2<br>  }<br>}",
          "{<br>  \"number\": 60,<br>  \"values\": [<br>    -0.09097776703461047,<br>    -0.05571865533768926<br>  ],<br>  \"params\": {<br>    \"dim_hidden\": 50,<br>    \"alpha\": 0.8,<br>    \"beta\": 0.5,<br>    \"depth\": 3,<br>    \"num_iterations\": 2000,<br>    \"num_discr_iterations\": 2<br>  }<br>}",
          "{<br>  \"number\": 61,<br>  \"values\": [<br>    -0.09574528693736387,<br>    -0.06193738697566368<br>  ],<br>  \"params\": {<br>    \"dim_hidden\": 300,<br>    \"alpha\": 0.9500000000000001,<br>    \"beta\": 0.9,<br>    \"depth\": 4,<br>    \"num_iterations\": 1000,<br>    \"num_discr_iterations\": 3<br>  }<br>}",
          "{<br>  \"number\": 62,<br>  \"values\": [<br>    -0.08658539101108456,<br>    -0.045648113645366195<br>  ],<br>  \"params\": {<br>    \"dim_hidden\": 300,<br>    \"alpha\": 0.85,<br>    \"beta\": 1.75,<br>    \"depth\": 2,<br>    \"num_iterations\": 1500,<br>    \"num_discr_iterations\": 3<br>  }<br>}",
          "{<br>  \"number\": 63,<br>  \"values\": [<br>    -0.09677264998232762,<br>    -0.06045337096577025<br>  ],<br>  \"params\": {<br>    \"dim_hidden\": 50,<br>    \"alpha\": 0.85,<br>    \"beta\": 0.8500000000000001,<br>    \"depth\": 2,<br>    \"num_iterations\": 2500,<br>    \"num_discr_iterations\": 2<br>  }<br>}",
          "{<br>  \"number\": 64,<br>  \"values\": [<br>    -0.08422036547833249,<br>    -0.03963644548684701<br>  ],<br>  \"params\": {<br>    \"dim_hidden\": 100,<br>    \"alpha\": 0.4,<br>    \"beta\": 1.05,<br>    \"depth\": 3,<br>    \"num_iterations\": 2500,<br>    \"num_discr_iterations\": 1<br>  }<br>}",
          "{<br>  \"number\": 66,<br>  \"values\": [<br>    -0.11975742246849856,<br>    -0.05465248887717521<br>  ],<br>  \"params\": {<br>    \"dim_hidden\": 300,<br>    \"alpha\": 0.9500000000000001,<br>    \"beta\": 0.6000000000000001,<br>    \"depth\": 2,<br>    \"num_iterations\": 1500,<br>    \"num_discr_iterations\": 1<br>  }<br>}",
          "{<br>  \"number\": 67,<br>  \"values\": [<br>    -0.09620781129141195,<br>    -0.035520953381363005<br>  ],<br>  \"params\": {<br>    \"dim_hidden\": 75,<br>    \"alpha\": 0.75,<br>    \"beta\": 0.7000000000000001,<br>    \"depth\": 2,<br>    \"num_iterations\": 2500,<br>    \"num_discr_iterations\": 3<br>  }<br>}",
          "{<br>  \"number\": 68,<br>  \"values\": [<br>    -0.11402384536999355,<br>    -0.05118810262499383<br>  ],<br>  \"params\": {<br>    \"dim_hidden\": 300,<br>    \"alpha\": 0.7000000000000001,<br>    \"beta\": 0.2,<br>    \"depth\": 2,<br>    \"num_iterations\": 2500,<br>    \"num_discr_iterations\": 2<br>  }<br>}",
          "{<br>  \"number\": 69,<br>  \"values\": [<br>    -0.09450510927144531,<br>    -0.03374434356868063<br>  ],<br>  \"params\": {<br>    \"dim_hidden\": 300,<br>    \"alpha\": 0.4,<br>    \"beta\": 0.6000000000000001,<br>    \"depth\": 4,<br>    \"num_iterations\": 1500,<br>    \"num_discr_iterations\": 1<br>  }<br>}",
          "{<br>  \"number\": 70,<br>  \"values\": [<br>    -0.12425988214115509,<br>    -0.050144227601340775<br>  ],<br>  \"params\": {<br>    \"dim_hidden\": 75,<br>    \"alpha\": 0.75,<br>    \"beta\": 0.25,<br>    \"depth\": 1,<br>    \"num_iterations\": 1500,<br>    \"num_discr_iterations\": 2<br>  }<br>}",
          "{<br>  \"number\": 71,<br>  \"values\": [<br>    -0.08765653387512147,<br>    -0.03337121495759424<br>  ],<br>  \"params\": {<br>    \"dim_hidden\": 100,<br>    \"alpha\": 0.2,<br>    \"beta\": 1.6,<br>    \"depth\": 2,<br>    \"num_iterations\": 2500,<br>    \"num_discr_iterations\": 1<br>  }<br>}",
          "{<br>  \"number\": 72,<br>  \"values\": [<br>    -0.1020634166852071,<br>    -0.057309568178412186<br>  ],<br>  \"params\": {<br>    \"dim_hidden\": 100,<br>    \"alpha\": 0.9500000000000001,<br>    \"beta\": 1.4500000000000002,<br>    \"depth\": 1,<br>    \"num_iterations\": 1500,<br>    \"num_discr_iterations\": 1<br>  }<br>}",
          "{<br>  \"number\": 73,<br>  \"values\": [<br>    -0.09044456828003454,<br>    -0.04480302875220572<br>  ],<br>  \"params\": {<br>    \"dim_hidden\": 200,<br>    \"alpha\": 0.85,<br>    \"beta\": 0.9,<br>    \"depth\": 4,<br>    \"num_iterations\": 1000,<br>    \"num_discr_iterations\": 3<br>  }<br>}",
          "{<br>  \"number\": 74,<br>  \"values\": [<br>    -0.13285484935163142,<br>    -0.07249551677360369<br>  ],<br>  \"params\": {<br>    \"dim_hidden\": 300,<br>    \"alpha\": 0.6,<br>    \"beta\": 1.9000000000000001,<br>    \"depth\": 1,<br>    \"num_iterations\": 2000,<br>    \"num_discr_iterations\": 1<br>  }<br>}",
          "{<br>  \"number\": 75,<br>  \"values\": [<br>    -0.12032983628101128,<br>    -0.05146413624778005<br>  ],<br>  \"params\": {<br>    \"dim_hidden\": 300,<br>    \"alpha\": 0.85,<br>    \"beta\": 0.2,<br>    \"depth\": 4,<br>    \"num_iterations\": 2000,<br>    \"num_discr_iterations\": 2<br>  }<br>}",
          "{<br>  \"number\": 76,<br>  \"values\": [<br>    -0.10717288048547842,<br>    -0.060521367944530016<br>  ],<br>  \"params\": {<br>    \"dim_hidden\": 100,<br>    \"alpha\": 0.9500000000000001,<br>    \"beta\": 0.30000000000000004,<br>    \"depth\": 2,<br>    \"num_iterations\": 2500,<br>    \"num_discr_iterations\": 1<br>  }<br>}",
          "{<br>  \"number\": 77,<br>  \"values\": [<br>    -0.09214562387095178,<br>    -0.03937179037585094<br>  ],<br>  \"params\": {<br>    \"dim_hidden\": 300,<br>    \"alpha\": 0.2,<br>    \"beta\": 1.35,<br>    \"depth\": 2,<br>    \"num_iterations\": 2500,<br>    \"num_discr_iterations\": 1<br>  }<br>}",
          "{<br>  \"number\": 78,<br>  \"values\": [<br>    -0.14614989099909512,<br>    -0.06593642881850095<br>  ],<br>  \"params\": {<br>    \"dim_hidden\": 100,<br>    \"alpha\": 0.9500000000000001,<br>    \"beta\": 1.4500000000000002,<br>    \"depth\": 0,<br>    \"num_iterations\": 2500,<br>    \"num_discr_iterations\": 2<br>  }<br>}",
          "{<br>  \"number\": 79,<br>  \"values\": [<br>    -0.09630764743635435,<br>    -0.039690252330444584<br>  ],<br>  \"params\": {<br>    \"dim_hidden\": 75,<br>    \"alpha\": 0.25,<br>    \"beta\": 0.6000000000000001,<br>    \"depth\": 4,<br>    \"num_iterations\": 1500,<br>    \"num_discr_iterations\": 1<br>  }<br>}",
          "{<br>  \"number\": 80,<br>  \"values\": [<br>    -0.11288949318759711,<br>    -0.0466232001830599<br>  ],<br>  \"params\": {<br>    \"dim_hidden\": 300,<br>    \"alpha\": 0.85,<br>    \"beta\": 0.45,<br>    \"depth\": 2,<br>    \"num_iterations\": 1000,<br>    \"num_discr_iterations\": 1<br>  }<br>}",
          "{<br>  \"number\": 81,<br>  \"values\": [<br>    -0.12356977261243836,<br>    -0.04253727570896483<br>  ],<br>  \"params\": {<br>    \"dim_hidden\": 100,<br>    \"alpha\": 1.0,<br>    \"beta\": 0.1,<br>    \"depth\": 2,<br>    \"num_iterations\": 2500,<br>    \"num_discr_iterations\": 2<br>  }<br>}",
          "{<br>  \"number\": 82,<br>  \"values\": [<br>    -0.12119162051271111,<br>    -0.051427104331305984<br>  ],<br>  \"params\": {<br>    \"dim_hidden\": 50,<br>    \"alpha\": 0.4,<br>    \"beta\": 0.8500000000000001,<br>    \"depth\": 1,<br>    \"num_iterations\": 1500,<br>    \"num_discr_iterations\": 2<br>  }<br>}",
          "{<br>  \"number\": 83,<br>  \"values\": [<br>    -0.0909245619872217,<br>    -0.041819436110309124<br>  ],<br>  \"params\": {<br>    \"dim_hidden\": 100,<br>    \"alpha\": 0.8,<br>    \"beta\": 1.6,<br>    \"depth\": 2,<br>    \"num_iterations\": 2000,<br>    \"num_discr_iterations\": 2<br>  }<br>}",
          "{<br>  \"number\": 84,<br>  \"values\": [<br>    -0.09193441977084502,<br>    -0.04576390927016531<br>  ],<br>  \"params\": {<br>    \"dim_hidden\": 50,<br>    \"alpha\": 0.4,<br>    \"beta\": 1.1500000000000001,<br>    \"depth\": 2,<br>    \"num_iterations\": 2500,<br>    \"num_discr_iterations\": 1<br>  }<br>}",
          "{<br>  \"number\": 85,<br>  \"values\": [<br>    -0.08652642977032801,<br>    -0.035544390734719045<br>  ],<br>  \"params\": {<br>    \"dim_hidden\": 100,<br>    \"alpha\": 0.6,<br>    \"beta\": 1.75,<br>    \"depth\": 2,<br>    \"num_iterations\": 2000,<br>    \"num_discr_iterations\": 3<br>  }<br>}",
          "{<br>  \"number\": 86,<br>  \"values\": [<br>    -0.09470330662696716,<br>    -0.0518225811493907<br>  ],<br>  \"params\": {<br>    \"dim_hidden\": 75,<br>    \"alpha\": 0.9500000000000001,<br>    \"beta\": 0.65,<br>    \"depth\": 2,<br>    \"num_iterations\": 2500,<br>    \"num_discr_iterations\": 3<br>  }<br>}",
          "{<br>  \"number\": 87,<br>  \"values\": [<br>    -0.10495411774125105,<br>    -0.050697083033374314<br>  ],<br>  \"params\": {<br>    \"dim_hidden\": 50,<br>    \"alpha\": 0.30000000000000004,<br>    \"beta\": 0.5,<br>    \"depth\": 2,<br>    \"num_iterations\": 2000,<br>    \"num_discr_iterations\": 1<br>  }<br>}",
          "{<br>  \"number\": 88,<br>  \"values\": [<br>    -0.10019436382486731,<br>    -0.051078177180431616<br>  ],<br>  \"params\": {<br>    \"dim_hidden\": 300,<br>    \"alpha\": 0.2,<br>    \"beta\": 0.9,<br>    \"depth\": 5,<br>    \"num_iterations\": 1000,<br>    \"num_discr_iterations\": 3<br>  }<br>}",
          "{<br>  \"number\": 89,<br>  \"values\": [<br>    -0.12534585938395798,<br>    -0.06230269615828786<br>  ],<br>  \"params\": {<br>    \"dim_hidden\": 50,<br>    \"alpha\": 0.9500000000000001,<br>    \"beta\": 0.5,<br>    \"depth\": 1,<br>    \"num_iterations\": 2000,<br>    \"num_discr_iterations\": 2<br>  }<br>}",
          "{<br>  \"number\": 90,<br>  \"values\": [<br>    -0.11851280323592236,<br>    -0.05596920595293379<br>  ],<br>  \"params\": {<br>    \"dim_hidden\": 300,<br>    \"alpha\": 0.2,<br>    \"beta\": 1.6500000000000001,<br>    \"depth\": 1,<br>    \"num_iterations\": 2500,<br>    \"num_discr_iterations\": 2<br>  }<br>}",
          "{<br>  \"number\": 91,<br>  \"values\": [<br>    -0.08004448622840796,<br>    -0.04907209185668719<br>  ],<br>  \"params\": {<br>    \"dim_hidden\": 200,<br>    \"alpha\": 0.4,<br>    \"beta\": 1.6500000000000001,<br>    \"depth\": 4,<br>    \"num_iterations\": 1500,<br>    \"num_discr_iterations\": 2<br>  }<br>}",
          "{<br>  \"number\": 93,<br>  \"values\": [<br>    -0.10013072057549566,<br>    -0.04921714991822453<br>  ],<br>  \"params\": {<br>    \"dim_hidden\": 300,<br>    \"alpha\": 0.4,<br>    \"beta\": 0.6000000000000001,<br>    \"depth\": 4,<br>    \"num_iterations\": 1500,<br>    \"num_discr_iterations\": 2<br>  }<br>}",
          "{<br>  \"number\": 94,<br>  \"values\": [<br>    -0.13047691572373177,<br>    -0.04852906317239142<br>  ],<br>  \"params\": {<br>    \"dim_hidden\": 200,<br>    \"alpha\": 0.15000000000000002,<br>    \"beta\": 0.5,<br>    \"depth\": 1,<br>    \"num_iterations\": 1500,<br>    \"num_discr_iterations\": 1<br>  }<br>}",
          "{<br>  \"number\": 95,<br>  \"values\": [<br>    -0.1556628005923667,<br>    -0.05244007185886544<br>  ],<br>  \"params\": {<br>    \"dim_hidden\": 100,<br>    \"alpha\": 0.25,<br>    \"beta\": 1.8,<br>    \"depth\": 0,<br>    \"num_iterations\": 1500,<br>    \"num_discr_iterations\": 3<br>  }<br>}",
          "{<br>  \"number\": 96,<br>  \"values\": [<br>    -0.090526184516903,<br>    -0.03900174424772597<br>  ],<br>  \"params\": {<br>    \"dim_hidden\": 75,<br>    \"alpha\": 0.55,<br>    \"beta\": 1.1500000000000001,<br>    \"depth\": 2,<br>    \"num_iterations\": 2500,<br>    \"num_discr_iterations\": 1<br>  }<br>}",
          "{<br>  \"number\": 97,<br>  \"values\": [<br>    -0.07998033569640853,<br>    -0.04703740095078742<br>  ],<br>  \"params\": {<br>    \"dim_hidden\": 200,<br>    \"alpha\": 0.5,<br>    \"beta\": 1.9500000000000002,<br>    \"depth\": 4,<br>    \"num_iterations\": 1000,<br>    \"num_discr_iterations\": 1<br>  }<br>}",
          "{<br>  \"number\": 98,<br>  \"values\": [<br>    -0.11268986958912172,<br>    -0.05330185313172368<br>  ],<br>  \"params\": {<br>    \"dim_hidden\": 200,<br>    \"alpha\": 0.4,<br>    \"beta\": 0.9,<br>    \"depth\": 1,<br>    \"num_iterations\": 2500,<br>    \"num_discr_iterations\": 1<br>  }<br>}",
          "{<br>  \"number\": 99,<br>  \"values\": [<br>    -0.09743743397870283,<br>    -0.04648751847629986<br>  ],<br>  \"params\": {<br>    \"dim_hidden\": 100,<br>    \"alpha\": 0.45000000000000007,<br>    \"beta\": 0.35000000000000003,<br>    \"depth\": 4,<br>    \"num_iterations\": 2500,<br>    \"num_discr_iterations\": 1<br>  }<br>}"
         ],
         "type": "scatter",
         "x": [
          0.11374112480295542,
          0.12992490211940821,
          0.12613100275301461,
          0.12476681686446404,
          0.13582287369088647,
          0.12452237557520125,
          0.19331547085265885,
          0.07862022171714446,
          0.11268271472843099,
          0.09895767464819924,
          0.10465319794205401,
          0.10619306014189815,
          0.0836072897455778,
          0.08810746397632263,
          0.16169208233499582,
          0.10161461785105619,
          0.11424583702496427,
          0.11009726952327215,
          0.09220850323728155,
          0.17848323203310007,
          0.09952103049081085,
          0.08551682345574677,
          0.09186867087093704,
          0.10385922859827153,
          0.10713833385975295,
          0.09075300360053928,
          0.1276137827395981,
          0.09359666887990507,
          0.10994848109172935,
          0.09028557500841652,
          0.1951916374994696,
          0.17905252683594775,
          0.1643310120573122,
          0.08808402754005422,
          0.12079189141515675,
          0.08240570659304877,
          0.11687315580070105,
          0.13047691572373177,
          0.11468496825386745,
          0.08458545703907237,
          0.0808865219980063,
          0.13124124590441927,
          0.2369807454766893,
          0.08230788006895152,
          0.08612475105006775,
          0.09347149989815676,
          0.08291639449112218,
          0.15071192595553887,
          0.10665968153327306,
          0.10557201172855095,
          0.09195111899670967,
          0.12992490211940821,
          0.08948891853060222,
          0.07874699433279553,
          0.12251303824145901,
          0.10515735639853782,
          0.08669849054724672,
          0.11593370407858314,
          0.13615008340706194,
          0.09097776703461047,
          0.09574528693736387,
          0.08658539101108456,
          0.09677264998232762,
          0.08422036547833249,
          0.11975742246849856,
          0.09620781129141195,
          0.11402384536999355,
          0.09450510927144531,
          0.12425988214115509,
          0.08765653387512147,
          0.1020634166852071,
          0.09044456828003454,
          0.13285484935163142,
          0.12032983628101128,
          0.10717288048547842,
          0.09214562387095178,
          0.14614989099909512,
          0.09630764743635435,
          0.11288949318759711,
          0.12356977261243836,
          0.12119162051271111,
          0.0909245619872217,
          0.09193441977084502,
          0.08652642977032801,
          0.09470330662696716,
          0.10495411774125105,
          0.10019436382486731,
          0.12534585938395798,
          0.11851280323592236,
          0.08004448622840796,
          0.10013072057549566,
          0.13047691572373177,
          0.1556628005923667,
          0.090526184516903,
          0.07998033569640853,
          0.11268986958912172,
          0.09743743397870283
         ],
         "y": [
          0.06574103676929308,
          0.05333789315043023,
          0.06281152740841246,
          0.047001808143905165,
          0.07455752239351607,
          0.049725807656643736,
          0.13935816489845415,
          0.0331813867748428,
          0.04148555324201918,
          0.04266471062831136,
          0.06805372635698007,
          0.05182551369791365,
          0.03938414933368597,
          0.04027154987036978,
          0.09482355263769528,
          0.04435466806039375,
          0.06455032304649687,
          0.05183155779771063,
          0.038632518938178616,
          0.14817096859937048,
          0.05660751190004874,
          0.0386541218475097,
          0.04206881151323653,
          0.062157167935672844,
          0.052094344436990334,
          0.05550462995946204,
          0.043645847104173206,
          0.03519947604065275,
          0.054600261158994204,
          0.036806988966223454,
          0.19394315278917998,
          0.07869895855631251,
          0.10127604086211131,
          0.04664319762491772,
          0.0655611225754906,
          0.04124119058971739,
          0.05535100423717208,
          0.04852906317239142,
          0.0644918848621129,
          0.04290240929022047,
          0.04703436966953804,
          0.045387809730819226,
          0.3074074430128887,
          0.0544596004110389,
          0.040976335199236234,
          0.0621824689281497,
          0.04151636735325194,
          0.10200823411815156,
          0.04228886802642475,
          0.05576485917692518,
          0.05400503640353477,
          0.05333789315043023,
          0.05636368458203526,
          0.041581215716651444,
          0.05921589873696539,
          0.03559067585470166,
          0.03402084523426206,
          0.04543504641180372,
          0.06763051029263069,
          0.05571865533768926,
          0.06193738697566368,
          0.045648113645366195,
          0.06045337096577025,
          0.03963644548684701,
          0.05465248887717521,
          0.035520953381363005,
          0.05118810262499383,
          0.03374434356868063,
          0.050144227601340775,
          0.03337121495759424,
          0.057309568178412186,
          0.04480302875220572,
          0.07249551677360369,
          0.05146413624778005,
          0.060521367944530016,
          0.03937179037585094,
          0.06593642881850095,
          0.039690252330444584,
          0.0466232001830599,
          0.04253727570896483,
          0.051427104331305984,
          0.041819436110309124,
          0.04576390927016531,
          0.035544390734719045,
          0.0518225811493907,
          0.050697083033374314,
          0.051078177180431616,
          0.06230269615828786,
          0.05596920595293379,
          0.04907209185668719,
          0.04921714991822453,
          0.04852906317239142,
          0.05244007185886544,
          0.03900174424772597,
          0.04703740095078742,
          0.05330185313172368,
          0.04648751847629986
         ]
        },
        {
         "hovertemplate": "%{text}<extra>Best Trial</extra>",
         "marker": {
          "color": [
           18,
           65,
           92
          ],
          "colorbar": {
           "title": {
            "text": "Best Trial"
           },
           "x": 1.1,
           "xpad": 40
          },
          "colorscale": [
           [
            0,
            "rgb(255,245,240)"
           ],
           [
            0.125,
            "rgb(254,224,210)"
           ],
           [
            0.25,
            "rgb(252,187,161)"
           ],
           [
            0.375,
            "rgb(252,146,114)"
           ],
           [
            0.5,
            "rgb(251,106,74)"
           ],
           [
            0.625,
            "rgb(239,59,44)"
           ],
           [
            0.75,
            "rgb(203,24,29)"
           ],
           [
            0.875,
            "rgb(165,15,21)"
           ],
           [
            1,
            "rgb(103,0,13)"
           ]
          ],
          "line": {
           "color": "Grey",
           "width": 0.5
          }
         },
         "mode": "markers",
         "showlegend": false,
         "text": [
          "{<br>  \"number\": 18,<br>  \"values\": [<br>    -0.07429691441361344,<br>    -0.032233974517432686<br>  ],<br>  \"params\": {<br>    \"dim_hidden\": 100,<br>    \"alpha\": 0.4,<br>    \"beta\": 1.35,<br>    \"depth\": 4,<br>    \"num_iterations\": 1500,<br>    \"num_discr_iterations\": 2<br>  }<br>}",
          "{<br>  \"number\": 65,<br>  \"values\": [<br>    -0.07429691441361344,<br>    -0.032233974517432686<br>  ],<br>  \"params\": {<br>    \"dim_hidden\": 100,<br>    \"alpha\": 0.4,<br>    \"beta\": 1.35,<br>    \"depth\": 4,<br>    \"num_iterations\": 1500,<br>    \"num_discr_iterations\": 2<br>  }<br>}",
          "{<br>  \"number\": 92,<br>  \"values\": [<br>    -0.08240040067008436,<br>    -0.031022671495251463<br>  ],<br>  \"params\": {<br>    \"dim_hidden\": 300,<br>    \"alpha\": 0.25,<br>    \"beta\": 1.75,<br>    \"depth\": 2,<br>    \"num_iterations\": 2500,<br>    \"num_discr_iterations\": 3<br>  }<br>}"
         ],
         "type": "scatter",
         "x": [
          0.07429691441361344,
          0.07429691441361344,
          0.08240040067008436
         ],
         "y": [
          0.032233974517432686,
          0.032233974517432686,
          0.031022671495251463
         ]
        }
       ],
       "layout": {
        "template": {
         "data": {
          "bar": [
           {
            "error_x": {
             "color": "#2a3f5f"
            },
            "error_y": {
             "color": "#2a3f5f"
            },
            "marker": {
             "line": {
              "color": "#E5ECF6",
              "width": 0.5
             },
             "pattern": {
              "fillmode": "overlay",
              "size": 10,
              "solidity": 0.2
             }
            },
            "type": "bar"
           }
          ],
          "barpolar": [
           {
            "marker": {
             "line": {
              "color": "#E5ECF6",
              "width": 0.5
             },
             "pattern": {
              "fillmode": "overlay",
              "size": 10,
              "solidity": 0.2
             }
            },
            "type": "barpolar"
           }
          ],
          "carpet": [
           {
            "aaxis": {
             "endlinecolor": "#2a3f5f",
             "gridcolor": "white",
             "linecolor": "white",
             "minorgridcolor": "white",
             "startlinecolor": "#2a3f5f"
            },
            "baxis": {
             "endlinecolor": "#2a3f5f",
             "gridcolor": "white",
             "linecolor": "white",
             "minorgridcolor": "white",
             "startlinecolor": "#2a3f5f"
            },
            "type": "carpet"
           }
          ],
          "choropleth": [
           {
            "colorbar": {
             "outlinewidth": 0,
             "ticks": ""
            },
            "type": "choropleth"
           }
          ],
          "contour": [
           {
            "colorbar": {
             "outlinewidth": 0,
             "ticks": ""
            },
            "colorscale": [
             [
              0,
              "#0d0887"
             ],
             [
              0.1111111111111111,
              "#46039f"
             ],
             [
              0.2222222222222222,
              "#7201a8"
             ],
             [
              0.3333333333333333,
              "#9c179e"
             ],
             [
              0.4444444444444444,
              "#bd3786"
             ],
             [
              0.5555555555555556,
              "#d8576b"
             ],
             [
              0.6666666666666666,
              "#ed7953"
             ],
             [
              0.7777777777777778,
              "#fb9f3a"
             ],
             [
              0.8888888888888888,
              "#fdca26"
             ],
             [
              1,
              "#f0f921"
             ]
            ],
            "type": "contour"
           }
          ],
          "contourcarpet": [
           {
            "colorbar": {
             "outlinewidth": 0,
             "ticks": ""
            },
            "type": "contourcarpet"
           }
          ],
          "heatmap": [
           {
            "colorbar": {
             "outlinewidth": 0,
             "ticks": ""
            },
            "colorscale": [
             [
              0,
              "#0d0887"
             ],
             [
              0.1111111111111111,
              "#46039f"
             ],
             [
              0.2222222222222222,
              "#7201a8"
             ],
             [
              0.3333333333333333,
              "#9c179e"
             ],
             [
              0.4444444444444444,
              "#bd3786"
             ],
             [
              0.5555555555555556,
              "#d8576b"
             ],
             [
              0.6666666666666666,
              "#ed7953"
             ],
             [
              0.7777777777777778,
              "#fb9f3a"
             ],
             [
              0.8888888888888888,
              "#fdca26"
             ],
             [
              1,
              "#f0f921"
             ]
            ],
            "type": "heatmap"
           }
          ],
          "heatmapgl": [
           {
            "colorbar": {
             "outlinewidth": 0,
             "ticks": ""
            },
            "colorscale": [
             [
              0,
              "#0d0887"
             ],
             [
              0.1111111111111111,
              "#46039f"
             ],
             [
              0.2222222222222222,
              "#7201a8"
             ],
             [
              0.3333333333333333,
              "#9c179e"
             ],
             [
              0.4444444444444444,
              "#bd3786"
             ],
             [
              0.5555555555555556,
              "#d8576b"
             ],
             [
              0.6666666666666666,
              "#ed7953"
             ],
             [
              0.7777777777777778,
              "#fb9f3a"
             ],
             [
              0.8888888888888888,
              "#fdca26"
             ],
             [
              1,
              "#f0f921"
             ]
            ],
            "type": "heatmapgl"
           }
          ],
          "histogram": [
           {
            "marker": {
             "pattern": {
              "fillmode": "overlay",
              "size": 10,
              "solidity": 0.2
             }
            },
            "type": "histogram"
           }
          ],
          "histogram2d": [
           {
            "colorbar": {
             "outlinewidth": 0,
             "ticks": ""
            },
            "colorscale": [
             [
              0,
              "#0d0887"
             ],
             [
              0.1111111111111111,
              "#46039f"
             ],
             [
              0.2222222222222222,
              "#7201a8"
             ],
             [
              0.3333333333333333,
              "#9c179e"
             ],
             [
              0.4444444444444444,
              "#bd3786"
             ],
             [
              0.5555555555555556,
              "#d8576b"
             ],
             [
              0.6666666666666666,
              "#ed7953"
             ],
             [
              0.7777777777777778,
              "#fb9f3a"
             ],
             [
              0.8888888888888888,
              "#fdca26"
             ],
             [
              1,
              "#f0f921"
             ]
            ],
            "type": "histogram2d"
           }
          ],
          "histogram2dcontour": [
           {
            "colorbar": {
             "outlinewidth": 0,
             "ticks": ""
            },
            "colorscale": [
             [
              0,
              "#0d0887"
             ],
             [
              0.1111111111111111,
              "#46039f"
             ],
             [
              0.2222222222222222,
              "#7201a8"
             ],
             [
              0.3333333333333333,
              "#9c179e"
             ],
             [
              0.4444444444444444,
              "#bd3786"
             ],
             [
              0.5555555555555556,
              "#d8576b"
             ],
             [
              0.6666666666666666,
              "#ed7953"
             ],
             [
              0.7777777777777778,
              "#fb9f3a"
             ],
             [
              0.8888888888888888,
              "#fdca26"
             ],
             [
              1,
              "#f0f921"
             ]
            ],
            "type": "histogram2dcontour"
           }
          ],
          "mesh3d": [
           {
            "colorbar": {
             "outlinewidth": 0,
             "ticks": ""
            },
            "type": "mesh3d"
           }
          ],
          "parcoords": [
           {
            "line": {
             "colorbar": {
              "outlinewidth": 0,
              "ticks": ""
             }
            },
            "type": "parcoords"
           }
          ],
          "pie": [
           {
            "automargin": true,
            "type": "pie"
           }
          ],
          "scatter": [
           {
            "fillpattern": {
             "fillmode": "overlay",
             "size": 10,
             "solidity": 0.2
            },
            "type": "scatter"
           }
          ],
          "scatter3d": [
           {
            "line": {
             "colorbar": {
              "outlinewidth": 0,
              "ticks": ""
             }
            },
            "marker": {
             "colorbar": {
              "outlinewidth": 0,
              "ticks": ""
             }
            },
            "type": "scatter3d"
           }
          ],
          "scattercarpet": [
           {
            "marker": {
             "colorbar": {
              "outlinewidth": 0,
              "ticks": ""
             }
            },
            "type": "scattercarpet"
           }
          ],
          "scattergeo": [
           {
            "marker": {
             "colorbar": {
              "outlinewidth": 0,
              "ticks": ""
             }
            },
            "type": "scattergeo"
           }
          ],
          "scattergl": [
           {
            "marker": {
             "colorbar": {
              "outlinewidth": 0,
              "ticks": ""
             }
            },
            "type": "scattergl"
           }
          ],
          "scattermapbox": [
           {
            "marker": {
             "colorbar": {
              "outlinewidth": 0,
              "ticks": ""
             }
            },
            "type": "scattermapbox"
           }
          ],
          "scatterpolar": [
           {
            "marker": {
             "colorbar": {
              "outlinewidth": 0,
              "ticks": ""
             }
            },
            "type": "scatterpolar"
           }
          ],
          "scatterpolargl": [
           {
            "marker": {
             "colorbar": {
              "outlinewidth": 0,
              "ticks": ""
             }
            },
            "type": "scatterpolargl"
           }
          ],
          "scatterternary": [
           {
            "marker": {
             "colorbar": {
              "outlinewidth": 0,
              "ticks": ""
             }
            },
            "type": "scatterternary"
           }
          ],
          "surface": [
           {
            "colorbar": {
             "outlinewidth": 0,
             "ticks": ""
            },
            "colorscale": [
             [
              0,
              "#0d0887"
             ],
             [
              0.1111111111111111,
              "#46039f"
             ],
             [
              0.2222222222222222,
              "#7201a8"
             ],
             [
              0.3333333333333333,
              "#9c179e"
             ],
             [
              0.4444444444444444,
              "#bd3786"
             ],
             [
              0.5555555555555556,
              "#d8576b"
             ],
             [
              0.6666666666666666,
              "#ed7953"
             ],
             [
              0.7777777777777778,
              "#fb9f3a"
             ],
             [
              0.8888888888888888,
              "#fdca26"
             ],
             [
              1,
              "#f0f921"
             ]
            ],
            "type": "surface"
           }
          ],
          "table": [
           {
            "cells": {
             "fill": {
              "color": "#EBF0F8"
             },
             "line": {
              "color": "white"
             }
            },
            "header": {
             "fill": {
              "color": "#C8D4E3"
             },
             "line": {
              "color": "white"
             }
            },
            "type": "table"
           }
          ]
         },
         "layout": {
          "annotationdefaults": {
           "arrowcolor": "#2a3f5f",
           "arrowhead": 0,
           "arrowwidth": 1
          },
          "autotypenumbers": "strict",
          "coloraxis": {
           "colorbar": {
            "outlinewidth": 0,
            "ticks": ""
           }
          },
          "colorscale": {
           "diverging": [
            [
             0,
             "#8e0152"
            ],
            [
             0.1,
             "#c51b7d"
            ],
            [
             0.2,
             "#de77ae"
            ],
            [
             0.3,
             "#f1b6da"
            ],
            [
             0.4,
             "#fde0ef"
            ],
            [
             0.5,
             "#f7f7f7"
            ],
            [
             0.6,
             "#e6f5d0"
            ],
            [
             0.7,
             "#b8e186"
            ],
            [
             0.8,
             "#7fbc41"
            ],
            [
             0.9,
             "#4d9221"
            ],
            [
             1,
             "#276419"
            ]
           ],
           "sequential": [
            [
             0,
             "#0d0887"
            ],
            [
             0.1111111111111111,
             "#46039f"
            ],
            [
             0.2222222222222222,
             "#7201a8"
            ],
            [
             0.3333333333333333,
             "#9c179e"
            ],
            [
             0.4444444444444444,
             "#bd3786"
            ],
            [
             0.5555555555555556,
             "#d8576b"
            ],
            [
             0.6666666666666666,
             "#ed7953"
            ],
            [
             0.7777777777777778,
             "#fb9f3a"
            ],
            [
             0.8888888888888888,
             "#fdca26"
            ],
            [
             1,
             "#f0f921"
            ]
           ],
           "sequentialminus": [
            [
             0,
             "#0d0887"
            ],
            [
             0.1111111111111111,
             "#46039f"
            ],
            [
             0.2222222222222222,
             "#7201a8"
            ],
            [
             0.3333333333333333,
             "#9c179e"
            ],
            [
             0.4444444444444444,
             "#bd3786"
            ],
            [
             0.5555555555555556,
             "#d8576b"
            ],
            [
             0.6666666666666666,
             "#ed7953"
            ],
            [
             0.7777777777777778,
             "#fb9f3a"
            ],
            [
             0.8888888888888888,
             "#fdca26"
            ],
            [
             1,
             "#f0f921"
            ]
           ]
          },
          "colorway": [
           "#636efa",
           "#EF553B",
           "#00cc96",
           "#ab63fa",
           "#FFA15A",
           "#19d3f3",
           "#FF6692",
           "#B6E880",
           "#FF97FF",
           "#FECB52"
          ],
          "font": {
           "color": "#2a3f5f"
          },
          "geo": {
           "bgcolor": "white",
           "lakecolor": "white",
           "landcolor": "#E5ECF6",
           "showlakes": true,
           "showland": true,
           "subunitcolor": "white"
          },
          "hoverlabel": {
           "align": "left"
          },
          "hovermode": "closest",
          "mapbox": {
           "style": "light"
          },
          "paper_bgcolor": "white",
          "plot_bgcolor": "#E5ECF6",
          "polar": {
           "angularaxis": {
            "gridcolor": "white",
            "linecolor": "white",
            "ticks": ""
           },
           "bgcolor": "#E5ECF6",
           "radialaxis": {
            "gridcolor": "white",
            "linecolor": "white",
            "ticks": ""
           }
          },
          "scene": {
           "xaxis": {
            "backgroundcolor": "#E5ECF6",
            "gridcolor": "white",
            "gridwidth": 2,
            "linecolor": "white",
            "showbackground": true,
            "ticks": "",
            "zerolinecolor": "white"
           },
           "yaxis": {
            "backgroundcolor": "#E5ECF6",
            "gridcolor": "white",
            "gridwidth": 2,
            "linecolor": "white",
            "showbackground": true,
            "ticks": "",
            "zerolinecolor": "white"
           },
           "zaxis": {
            "backgroundcolor": "#E5ECF6",
            "gridcolor": "white",
            "gridwidth": 2,
            "linecolor": "white",
            "showbackground": true,
            "ticks": "",
            "zerolinecolor": "white"
           }
          },
          "shapedefaults": {
           "line": {
            "color": "#2a3f5f"
           }
          },
          "ternary": {
           "aaxis": {
            "gridcolor": "white",
            "linecolor": "white",
            "ticks": ""
           },
           "baxis": {
            "gridcolor": "white",
            "linecolor": "white",
            "ticks": ""
           },
           "bgcolor": "#E5ECF6",
           "caxis": {
            "gridcolor": "white",
            "linecolor": "white",
            "ticks": ""
           }
          },
          "title": {
           "x": 0.05
          },
          "xaxis": {
           "automargin": true,
           "gridcolor": "white",
           "linecolor": "white",
           "ticks": "",
           "title": {
            "standoff": 15
           },
           "zerolinecolor": "white",
           "zerolinewidth": 2
          },
          "yaxis": {
           "automargin": true,
           "gridcolor": "white",
           "linecolor": "white",
           "ticks": "",
           "title": {
            "standoff": 15
           },
           "zerolinecolor": "white",
           "zerolinewidth": 2
          }
         }
        },
        "title": {
         "text": "Pareto-front Plot"
        },
        "xaxis": {
         "title": {
          "text": "Berier Score"
         }
        },
        "yaxis": {
         "title": {
          "text": "ATE_observed L1-loss"
         }
        }
       }
      }
     },
     "metadata": {},
     "output_type": "display_data"
    }
   ],
   "source": [
    "from optuna.visualization import (\n",
    "    plot_parallel_coordinate,\n",
    "    plot_param_importances,\n",
    "    plot_contour,\n",
    "    plot_slice,\n",
    "    plot_optimization_history,\n",
    "    plot_pareto_front,\n",
    ")\n",
    "\n",
    "# 绘制不同的图表\n",
    "target_args_1 = dict(target = lambda t: -t.values[0], target_name=\"Berier Score\")\n",
    "target_args_2 = dict(target = lambda t: -t.values[1], target_name=\"ATE_observed L1-loss\")\n",
    "target_args_3 = dict(target = lambda t: -t.values[1], target_name=\"ATE L1-loss\")\n",
    "targets_args = dict(targets = lambda t: [-t.values[0], -t.values[1], -t.values[2]], target_names=[\"Berier Score\", \"ATE_observed L1-loss\", \"ATE L1-loss\"])\n",
    "# targets_args = dict(targets = lambda t: [-t.values[0], -t.values[1]], target_names=[\"Berier Score\", \"ATE_observed L1-loss\"])\n",
    "\n",
    "# 并行坐标图\n",
    "parallel_coordinate_fig = plot_parallel_coordinate(study, **target_args_1)\n",
    "parallel_coordinate_fig.update_layout(width=800, height=600)\n",
    "parallel_coordinate_fig.show() if in_notebook() else None\n",
    "parallel_coordinate_fig.write_image(f\"{optuna_fig_path}/parallel_coordinate_fig.svg\", format='svg', scale=2, width=700, height=500) if not in_notebook() else None\n",
    "\n",
    "# 参数重要性图\n",
    "param_importance_fig = plot_param_importances(study, **target_args_1)\n",
    "param_importance_fig.update_layout(width=800, height=600)\n",
    "param_importance_fig.show() if in_notebook() else None\n",
    "param_importance_fig.write_image(f\"{optuna_fig_path}/param_importance_fig.svg\", format='svg', scale=2, width=700, height=500) if not in_notebook() else None\n",
    "\n",
    "# 平行曲面图\n",
    "contour_fig = plot_contour(study, **target_args_1)\n",
    "contour_fig.update_layout(width=1200, height=1200)\n",
    "contour_fig.show() if in_notebook() else None\n",
    "contour_fig.write_image(f\"{optuna_fig_path}/contour_fig.svg\", format='svg', scale=2, width=1200, height=1200) if not in_notebook() else None\n",
    "\n",
    "# 超参数分布图\n",
    "slice_fig = plot_slice(study, **target_args_1)\n",
    "slice_fig.show() if in_notebook() else None\n",
    "slice_fig.write_image(f\"{optuna_fig_path}/slice_fig.svg\", format='svg', scale=2, width=2500, height=400) if not in_notebook() else None\n",
    "\n",
    "# 优化历史图\n",
    "optimization_history_fig = plot_optimization_history(study, **target_args_1)\n",
    "optimization_history_fig.update_layout(width=700, height=500)\n",
    "optimization_history_fig.show() if in_notebook() else None\n",
    "optimization_history_fig.write_image(f\"{optuna_fig_path}/optimization_history_fig.svg\", format='svg', scale=2, width=700, height=500) if not in_notebook() else None\n",
    "\n",
    "# Pareto 前沿图（仅适用于多目标优化）\n",
    "if len(study.directions) > 1:\n",
    "    pareto_fig = plot_pareto_front(study, **targets_args)\n",
    "    pareto_fig.show() if in_notebook() else None\n",
    "    pareto_fig.update_layout(width=800, height=600)\n",
    "    pareto_fig.write_image(f\"{optuna_fig_path}/pareto_fig.svg\", format='svg', scale=2, width=800, height=600) if not in_notebook() else None\n"
   ]
  },
  {
   "cell_type": "markdown",
   "metadata": {},
   "source": [
    "# 手动调参"
   ]
  },
  {
   "cell_type": "code",
   "execution_count": null,
   "metadata": {},
   "outputs": [],
   "source": [
    "# X_train, W_train, y_train = load_data(df_train)\n",
    "# X_test, W_test, y_test = load_data(df_test)\n",
    "\n",
    "# # modified GANITE\n",
    "# model = Ganite(dim_in=X.shape[1],\n",
    "#                binary_y=True,\n",
    "#                dim_hidden=300,\n",
    "#                alpha = 0.3,\n",
    "#                beta = 0.3,\n",
    "#                depth = 3,\n",
    "#                minibatch_size = 200,\n",
    "#                num_iterations=2500,\n",
    "#                num_discr_iterations=3,\n",
    "#                )\n",
    "\n",
    "# if RUN_MODE == 'train':\n",
    "#     model = model.fit(X_train, W_train, y_train)\n",
    "#     torch.save(model.state_dict(), f\"{MODELS}/GANITE.pth\")\n",
    "# else:\n",
    "#     model.load_state_dict(torch.load(f\"{MODELS}/GANITE_best_weights_manual.pth\", weights_only=True))\n",
    "#     model.eval()  # 切换到评估模式（重要！）\n",
    "#     print(\"模型参数已加载！\")\n",
    "\n",
    "# # 测试集测试\n",
    "# Y_1_test, Y_0_test, ITE_test = model(X_test)\n",
    "# df_test['potential_y1'] = Y_1_test.cpu()\n",
    "# df_test['potential_y0'] = Y_0_test.cpu()\n",
    "# df_test['ITE'] = ITE_test.cpu()\n",
    "# df_test['y_pred_observed'] = df_test.apply(lambda row: row['potential_y1'] if row[treatment]==1 else row['potential_y0'], axis=1)\n",
    "\n",
    "# ATE_test = RCT_ATE(df_test[treatment], df_test[current_outcome])\n",
    "# ATE_pred_ob = RCT_ATE(df_test[treatment], df_test['y_pred_observed'])\n",
    "# ATE_pred = df_test['ITE'].mean()\n",
    "\n",
    "# print(f'实际ATE: {ATE_test:.4f}, 预测实际ATE: {ATE_pred_ob:.4f}, ATE误差: {ATE_test - ATE_pred_ob:.4f}, 预测组间ATE: {ATE_pred:.4f}')"
   ]
  }
 ],
 "metadata": {
  "kernelspec": {
   "display_name": "base",
   "language": "python",
   "name": "python3"
  },
  "language_info": {
   "codemirror_mode": {
    "name": "ipython",
    "version": 3
   },
   "file_extension": ".py",
   "mimetype": "text/x-python",
   "name": "python",
   "nbconvert_exporter": "python",
   "pygments_lexer": "ipython3",
   "version": "3.11.4"
  }
 },
 "nbformat": 4,
 "nbformat_minor": 2
}
