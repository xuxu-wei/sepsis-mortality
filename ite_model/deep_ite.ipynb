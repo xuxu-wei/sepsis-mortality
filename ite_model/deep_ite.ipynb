{
 "cells": [
  {
   "cell_type": "code",
   "execution_count": 1,
   "metadata": {},
   "outputs": [
    {
     "name": "stdout",
     "output_type": "stream",
     "text": [
      "12.1\n"
     ]
    }
   ],
   "source": [
    "import os, sys\n",
    "import pandas as pd\n",
    "import torch\n",
    "print(torch.version.cuda)\n",
    "\n",
    "# 检测运行环境\n",
    "def in_notebook():\n",
    "    return 'IPKernelApp' in getattr(globals().get('get_ipython', lambda: None)(), 'config', {})\n",
    "\n",
    "if in_notebook():\n",
    "    notebook_dir = os.getcwd()\n",
    "    src_path = os.path.abspath(os.path.join(notebook_dir, '..'))\n",
    "    RUN_MODE = 'train'\n",
    "else:\n",
    "    src_path = os.path.abspath(os.path.dirname(os.path.dirname(__file__)))\n",
    "sys.path.append(src_path) if src_path not in sys.path else None\n",
    "\n",
    "from src.utils import *\n",
    "from src.model_utils import *\n",
    "from src.setup import *\n",
    "from ite_setup import *\n",
    "from metrics import *\n",
    "from ganite_mod import Ganite\n",
    "from ganite_mod.datasets import load\n",
    "from ganite_mod.utils.metrics import sqrt_PEHE_with_diff"
   ]
  },
  {
   "cell_type": "code",
   "execution_count": 2,
   "metadata": {},
   "outputs": [],
   "source": [
    "df = pd.read_csv(f'{DATA}/imputed/EXIT_SEP_clean_imputed.tsv.gz', sep='\\t', index_col='ID')\n",
    "features, _, _, treatment, outcomes = get_ite_features()\n",
    "current_outcome = outcomes[0] # 设置预测目标\n",
    "\n",
    "df_train = df.sample(frac=0.7, random_state=19960816)\n",
    "df_test = df[~df.index.isin(df_train.index)].copy()\n",
    "X, W, Y = load_data(df)\n",
    "X_train, W_train, Y_train = load_data(df_train)\n",
    "X_test, W_test, Y_test = load_data(df_test)"
   ]
  },
  {
   "cell_type": "code",
   "execution_count": null,
   "metadata": {},
   "outputs": [],
   "source": [
    "# modified GANITE\n",
    "model = Ganite(dim_in=X.shape[1],\n",
    "               binary_y=True,\n",
    "               dim_hidden=300,\n",
    "               alpha = 0.3,\n",
    "               beta = 0.3,\n",
    "               depth = 3,\n",
    "               minibatch_size = 200,\n",
    "               num_iterations=2500,\n",
    "               num_discr_iterations=3,\n",
    "               )\n",
    "\n",
    "\n",
    "if RUN_MODE == 'train':\n",
    "    model = model.fit(X_train, W_train, Y_train)\n",
    "    torch.save(model.state_dict(), f\"{MODELS}/GANITE.pth\")\n",
    "else:\n",
    "    model.load_state_dict(torch.load(f\"{MODELS}/GANITE_best.pth\", weights_only=True))\n",
    "    model.eval()  # 切换到评估模式（重要！）\n",
    "    print(\"模型参数已加载！\")"
   ]
  },
  {
   "cell_type": "code",
   "execution_count": 5,
   "metadata": {},
   "outputs": [
    {
     "name": "stdout",
     "output_type": "stream",
     "text": [
      "实际ATE: -0.0357, 预测实际ATE: -0.0872, ATE误差: 0.0514, 预测组间ATE: -0.0820\n"
     ]
    }
   ],
   "source": [
    "# 测试集测试\n",
    "Y_1_test, Y_0_test, ITE_test = model(X_test)\n",
    "df_test['potential_y1'] = Y_1_test.cpu()\n",
    "df_test['potential_y0'] = Y_0_test.cpu()\n",
    "df_test['ITE'] = ITE_test.cpu()\n",
    "df_test['y_pred_observed'] = df_test.apply(lambda row: row['potential_y1'] if row[treatment]==1 else row['potential_y0'], axis=1)\n",
    "\n",
    "ATE_test = RCT_ATE(df_test[treatment], df_test[current_outcome])\n",
    "ATE_pred_ob = RCT_ATE(df_test[treatment], df_test['y_pred_observed'])\n",
    "ATE_pred = df_test['ITE'].mean()\n",
    "\n",
    "print(f'实际ATE: {ATE_test:.4f}, 预测实际ATE: {ATE_pred_ob:.4f}, ATE误差: {ATE_test - ATE_pred_ob:.4f}, 预测组间ATE: {ATE_pred:.4f}')"
   ]
  },
  {
   "cell_type": "code",
   "execution_count": null,
   "metadata": {},
   "outputs": [],
   "source": [
    "'实际ATE: -0.0357, 预测实际ATE: -0.0515, ATE误差: 0.0158, 预测组间ATE: -0.0356'"
   ]
  }
 ],
 "metadata": {
  "kernelspec": {
   "display_name": "base",
   "language": "python",
   "name": "python3"
  },
  "language_info": {
   "codemirror_mode": {
    "name": "ipython",
    "version": 3
   },
   "file_extension": ".py",
   "mimetype": "text/x-python",
   "name": "python",
   "nbconvert_exporter": "python",
   "pygments_lexer": "ipython3",
   "version": "3.11.4"
  }
 },
 "nbformat": 4,
 "nbformat_minor": 2
}
