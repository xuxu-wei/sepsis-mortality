{
 "cells": [
  {
   "cell_type": "code",
   "execution_count": 5,
   "metadata": {},
   "outputs": [],
   "source": [
    "'''检查MIMIC数据'''\n",
    "#! 手动修改: \n",
    "# 处理数据: 无创通气数据.csv, ventilation 改为 non_invasive_ventilation\n",
    "# 处理数据: 有创通气数据.csv, ventilation 改为 invasive_MV\n",
    "\n",
    "\n",
    "import os, sys\n",
    "import pandas as pd\n",
    "\n",
    "# 检测运行环境\n",
    "def in_notebook():\n",
    "    return 'IPKernelApp' in getattr(globals().get('get_ipython', lambda: None)(), 'config', {})\n",
    "\n",
    "if in_notebook():\n",
    "    notebook_dir = os.getcwd()\n",
    "    src_path = os.path.abspath(os.path.join(notebook_dir, '..'))\n",
    "else:\n",
    "    src_path = os.path.abspath(os.path.dirname(os.path.dirname(__file__)))\n",
    "sys.path.append(src_path) if src_path not in sys.path else None\n",
    "\n",
    "from src.utils import *\n",
    "from src.setup import *\n",
    "MIMIC_IV_PATH = f'{ROOT}/data/MIMIC-IV-ICU-sepsis/' # 原始数据\n"
   ]
  },
  {
   "cell_type": "markdown",
   "metadata": {},
   "source": [
    "# 合并数据"
   ]
  },
  {
   "cell_type": "code",
   "execution_count": 6,
   "metadata": {},
   "outputs": [
    {
     "name": "stdout",
     "output_type": "stream",
     "text": [
      "处理数据: CRP数据.csv\n",
      "处理数据: CRRT数据.csv\n",
      "处理数据: 人口统计学信息.csv\n",
      "处理数据: 住ICU的脓毒症患者.csv\n",
      "处理数据: 凝血数据.csv\n",
      "处理数据: 多种评分数据.csv\n",
      "处理数据: 无创机械通气.csv\n",
      "处理数据: 有创+无创机械通气.csv\n",
      "处理数据: 有创机械通气.csv\n",
      "处理数据: 生化肝肾功数据.csv\n",
      "处理数据: 脓毒症休克数据.csv\n",
      "处理数据: 脓毒症评分.csv\n",
      "处理数据: 血常规数据.csv\n",
      "处理数据: 血气补充数据.csv\n",
      "处理数据: 预后数据.csv\n"
     ]
    }
   ],
   "source": [
    "filelist = getfiles(MIMIC_IV_PATH)\n",
    "\n",
    "df = []\n",
    "for file in filelist:\n",
    "    fname = os.path.split(file)[1]\n",
    "    print(f'处理数据: {fname}')\n",
    "\n",
    "    # 跳过字典\n",
    "    if fname=='住ICU的脓毒症患者.csv':\n",
    "        continue\n",
    "\n",
    "    df_temp = pd.read_csv(file, index_col='subject_id', usecols=lambda x: not x in ['stay_id','hadm_id']) # 暂不需要 stayID 和 住院号\n",
    "    df.append(df_temp)\n",
    "df = pd.concat(df, axis=1)\n",
    "df.to_excel(f'{DATA}/MIMIC_IV_merged.xlsx')"
   ]
  },
  {
   "cell_type": "markdown",
   "metadata": {},
   "source": [
    "# 选择变量"
   ]
  },
  {
   "cell_type": "code",
   "execution_count": null,
   "metadata": {},
   "outputs": [],
   "source": [
    "SELECTED_VAR = [\n",
    "                'age',\n",
    "                'gender',\n",
    "                'height',\n",
    "                'weight',\n",
    "                # 'BMI', # to derive\n",
    "                'vitaltemperature', # 体温\n",
    "                'vitalhr', # 心率\n",
    "                'vitalrr', # 呼吸频率\n",
    "                'vitalnbps', # SBP\n",
    "                'vitalnbpd', # DBP\n",
    "                # 'vitalspo2' # 血氧饱和度\n",
    "\n",
    "                'crrt',\n",
    "                'ventilation',\n",
    "                'invasive_MV',\n",
    "                'non_invasive_ventilation',\n",
    "\n",
    "                'labrbc',  # RBC\n",
    "                'labwbc',  # WBC\n",
    "                'labhemoglobin',  # Hb\n",
    "                'labneutrophilcount',  # NE#\n",
    "                'lablymphocytes',  # LYN#\n",
    "                'labplateletcount',  # PLT\n",
    "                'labhematocrit',  # HCT\n",
    "\n",
    "                'labalt', \n",
    "                'labast', \n",
    "                'labbilirubintotal', # labbilirubintotal #! mg/dL\n",
    "                'labureanitrogen', # BUN, #! mg/dL\n",
    "                'labcreatinine', # Scr, #! mg/dL\n",
    "                # 'laba1c', # Hba1c\n",
    "                'labglucose', # Glu, #! mg/dL\n",
    "                'labsodium', # Na\n",
    "                'labpotassium', # K\n",
    "                # 'labcalciumtotal', # Ca\n",
    "                # 'labchloride', # Cl\n",
    "\n",
    "                'first_crp', # CRP\n",
    "\n",
    "                'labfibrinogen', # Fg\n",
    "                'labptt', # APTT\n",
    "                'labpt', # 凝血酶原时间\n",
    "                'labddimer', # D-二聚体\n",
    "\n",
    "                ]\n",
    "\n",
    "df_selected = df[SELECTED_VAR].copy()\n",
    "df_selected.to_excel(f'{DATA}/EXIT_SEP_selected.xlsx', index=False)"
   ]
  }
 ],
 "metadata": {
  "kernelspec": {
   "display_name": "base",
   "language": "python",
   "name": "python3"
  },
  "language_info": {
   "codemirror_mode": {
    "name": "ipython",
    "version": 3
   },
   "file_extension": ".py",
   "mimetype": "text/x-python",
   "name": "python",
   "nbconvert_exporter": "python",
   "pygments_lexer": "ipython3",
   "version": "3.11.4"
  }
 },
 "nbformat": 4,
 "nbformat_minor": 2
}
